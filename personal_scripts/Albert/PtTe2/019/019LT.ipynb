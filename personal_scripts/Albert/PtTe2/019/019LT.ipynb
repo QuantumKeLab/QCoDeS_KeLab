{
 "cells": [
  {
   "cell_type": "markdown",
   "id": "256e0f19",
   "metadata": {},
   "source": [
    "# Initialization"
   ]
  },
  {
   "cell_type": "markdown",
   "id": "9d160fe4",
   "metadata": {},
   "source": [
    "## Inport modules"
   ]
  },
  {
   "cell_type": "code",
   "execution_count": 1,
   "id": "88979d6d",
   "metadata": {},
   "outputs": [
    {
     "name": "stdout",
     "output_type": "stream",
     "text": [
      "Imported all modules, QCoDeS version: 0.38.1 initialized\n"
     ]
    }
   ],
   "source": [
    "%matplotlib ipympl\n",
    "import os, sys\n",
    "import time\n",
    "import pyvisa\n",
    "import warnings\n",
    "import numpy as np\n",
    "import qcodes as qc\n",
    "import plotly.graph_objects as go\n",
    "import matplotlib.pyplot as plt\n",
    "\n",
    "def find_qcodes_local_dir():\n",
    "    dirpath = os.getcwd()\n",
    "    while True:\n",
    "        dirpath, folder_name = os.path.split(dirpath)\n",
    "        if folder_name == 'QCoDeS_local':\n",
    "            return os.path.join(dirpath, folder_name)\n",
    "        if not folder_name:  # Reached the root directory\n",
    "            return None\n",
    "qcodes_local_dir = find_qcodes_local_dir()\n",
    "sys.path.append(f'{qcodes_local_dir}')\n",
    "\n",
    "from tqdm import tqdm\n",
    "from pprint import pprint\n",
    "from time import sleep, monotonic, time\n",
    "from IPython.display import clear_output\n",
    "from qcodes.dataset.measurements import Measurement\n",
    "from qcodes.utils.metadata import diff_param_values\n",
    "from qcodes.dataset.plotting import plot_dataset, plot_by_id\n",
    "from qcodes import Parameter, ManualParameter, ScaledParameter\n",
    "from qcodes.instrument.specialized_parameters import ElapsedTimeParameter\n",
    "from sweeps_v2 import do1d, do2d, time_sweep, measure_until, do1d_until\n",
    "\n",
    "print('Imported all modules, QCoDeS version:', qc.__version__, 'initialized')\n",
    "\n",
    "# warnings.filterwarnings('ignore')"
   ]
  },
  {
   "cell_type": "code",
   "execution_count": 2,
   "id": "399e7806",
   "metadata": {},
   "outputs": [
    {
     "data": {
      "text/plain": [
       "'c:\\\\Users\\\\admin\\\\Documents\\\\GitHub\\\\QCoDeS_local'"
      ]
     },
     "execution_count": 2,
     "metadata": {},
     "output_type": "execute_result"
    }
   ],
   "source": [
    "def find_qcodes_local_dir():\n",
    "    dirpath = os.getcwd()\n",
    "    while True:\n",
    "        dirpath, folder_name = os.path.split(dirpath)\n",
    "        if folder_name == 'QCoDeS_local':\n",
    "            return os.path.join(dirpath, folder_name)\n",
    "        if not folder_name:  # Reached the root directory\n",
    "            return None\n",
    "qcodes_local_dir = find_qcodes_local_dir()\n",
    "qcodes_local_dir"
   ]
  },
  {
   "cell_type": "code",
   "execution_count": 3,
   "id": "cc4a1c10",
   "metadata": {},
   "outputs": [
    {
     "data": {
      "text/plain": [
       "'c:\\\\Users\\\\admin\\\\Documents\\\\GitHub\\\\QCoDeS_local\\\\init_fridge_v2.py'"
      ]
     },
     "execution_count": 3,
     "metadata": {},
     "output_type": "execute_result"
    }
   ],
   "source": [
    "def find_init_fridge_v2_py():\n",
    "    for root, dirs, files in os.walk(qcodes_local_dir):\n",
    "        if 'init_fridge_v2.py' in files:\n",
    "            return os.path.join(root, 'init_fridge_v2.py')\n",
    "    return None\n",
    "\n",
    "init_fridge_v2_py_path = find_init_fridge_v2_py()\n",
    "init_fridge_v2_py_path"
   ]
  },
  {
   "cell_type": "code",
   "execution_count": 4,
   "id": "bb19a743",
   "metadata": {},
   "outputs": [
    {
     "name": "stdout",
     "output_type": "stream",
     "text": [
      "Found init_BF1_v2.py at: c:\\Users\\admin\\Documents\\GitHub\\QCoDeS_local\\fridge_specific\\init_BF1_v2.py\n",
      "Error connecting to TCPIP0::K-E5080B-02870::inst0::INSTR: VI_ERROR_RSRC_NFOUND (-1073807343): Insufficient location information or the requested device or resource is not present in the system.\n",
      "Error connecting to ASRL1::INSTR: VI_ERROR_TMO (-1073807339): Timeout expired before operation completed.\n",
      "Error connecting to ASRL3::INSTR: VI_ERROR_TMO (-1073807339): Timeout expired before operation completed.\n",
      "Device: GPIB0::5::INSTR\n",
      "IDN: Stanford_Research_Systems,SR860,004608,V1.51\n",
      "\n",
      "Connected to: Stanford_Research_Systems SR860 (serial:004608, firmware:V1.51) in 0.04s\n",
      "Added SR860_1 at GPIB0::5::INSTR to the station.\n",
      "Device: GPIB0::7::INSTR\n",
      "IDN: KEITHLEY INSTRUMENTS,MODEL DMM6500,04518181,1.7.7b\n",
      "\n",
      "Connected to: KEITHLEY INSTRUMENTS DMM6500 (serial:04518181, firmware:1.7.7b) in 0.02s\n",
      "Added Keithley DMM6500 at GPIB0::7::INSTR to the station.\n",
      "Device: GPIB0::23::INSTR\n",
      "IDN: KEITHLEY INSTRUMENTS INC.,MODEL 2000,0775539,A13  /A02  \n",
      "\n",
      "Connected to: KEITHLEY INSTRUMENTS INC. 2000 (serial:0775539, firmware:A13  /A02) in 0.06s\n"
     ]
    },
    {
     "name": "stderr",
     "output_type": "stream",
     "text": [
      "[K2000(Keithley2000)] Snapshot: Could not update parameter: trigger_count\n"
     ]
    },
    {
     "name": "stdout",
     "output_type": "stream",
     "text": [
      "Added Keithley 2000 at GPIB0::23::INSTR to the station.\n",
      "Initialized IVVI-rack in 0.01s\n",
      "Added IVVI at ASRL3::INSTR to the station.\n",
      "Connected to: AMERICAN MAGNETICS INC. 430 (serial:430-22-114, firmware:3.15) in 2.25s\n",
      "Connected to: AMERICAN MAGNETICS INC. 430 (serial:430-22-113, firmware:3.15) in 1.18s\n",
      "Connected to: AMERICAN MAGNETICS INC. 430 (serial:430-22-111, firmware:3.15) in 0.81s\n",
      "z, IP: 169.254.115.3, Port: 7180\n",
      "y, IP: 169.254.115.2, Port: 7180\n",
      "x, IP: 169.254.115.1, Port: 7180\n"
     ]
    },
    {
     "name": "stderr",
     "output_type": "stream",
     "text": [
      "C:\\Users\\admin\\AppData\\Roaming\\Python\\Python39\\site-packages\\qcodes\\instrument\\instrument_base.py:543: UserWarning: Changed AMI430-3D to AMI430_3D for instrument identifier\n",
      "  warnings.warn(f\"Changed {name} to {new_name} for instrument identifier\")\n"
     ]
    },
    {
     "name": "stdout",
     "output_type": "stream",
     "text": [
      "Added z to the station.\n",
      "Added y to the station.\n",
      "Added x to the station.\n",
      "Added AMI430_3D to the station.\n",
      "\n",
      "Station list:\n",
      "{'AMI430_3D': <AMI430_3D: AMI430_3D>,\n",
      " 'DMM6500': <Keithley_6500: DMM6500>,\n",
      " 'K2000': <Keithley2000: K2000>,\n",
      " 'SR860': <SR860: SR860>,\n",
      " 'ivvi': <IVVI: ivvi>,\n",
      " 'x': <AMI430: x>,\n",
      " 'y': <AMI430: y>,\n",
      " 'z': <AMI430: z>}\n"
     ]
    }
   ],
   "source": [
    "fridge_name = 'BF1'\n",
    "%run \"{init_fridge_v2_py_path}\" {fridge_name}"
   ]
  },
  {
   "cell_type": "code",
   "execution_count": null,
   "id": "c9e134aa",
   "metadata": {},
   "outputs": [],
   "source": [
    "snapshot_of_station = station.snapshot()\n",
    "pprint(snapshot_of_station)"
   ]
  },
  {
   "cell_type": "markdown",
   "id": "341cfc7b",
   "metadata": {},
   "source": [
    "## IVVI sensitive check"
   ]
  },
  {
   "cell_type": "code",
   "execution_count": 5,
   "id": "88e0cbe6",
   "metadata": {},
   "outputs": [],
   "source": [
    "ivvi.dac1.step = 100\n",
    "ivvi.dac1.inter_delay = 0.01\n",
    "ivvi.dac2.step = 100\n",
    "ivvi.dac2.inter_delay = 0.01\n",
    "ivvi.dac3.step = 5\n",
    "ivvi.dac3.inter_delay = 0.1"
   ]
  },
  {
   "cell_type": "code",
   "execution_count": 6,
   "id": "bc861d8b",
   "metadata": {},
   "outputs": [],
   "source": [
    "ivvi.dac5.step = 10\n",
    "ivvi.dac5.inter_delay = 0.1\n",
    "ivvi.dac1(0)\n",
    "ivvi.dac2(0)\n",
    "ivvi.dac3(0)\n",
    "ivvi.dac4(0)\n",
    "ivvi.dac5(0)"
   ]
  },
  {
   "cell_type": "markdown",
   "id": "c676ccb5",
   "metadata": {},
   "source": [
    "#  Database initialisation"
   ]
  },
  {
   "cell_type": "code",
   "execution_count": 7,
   "id": "e09e380a",
   "metadata": {},
   "outputs": [
    {
     "data": {
      "text/plain": [
       "'c:\\\\Users\\\\admin\\\\Documents\\\\GitHub\\\\QCoDeS_local\\\\init_database_v2.py'"
      ]
     },
     "execution_count": 7,
     "metadata": {},
     "output_type": "execute_result"
    }
   ],
   "source": [
    "def find_init_database_v2_py():\n",
    "    for root, dirs, files in os.walk(qcodes_local_dir):\n",
    "        if 'init_database_v2.py' in files:\n",
    "            return os.path.join(root, 'init_database_v2.py')\n",
    "    return None\n",
    "\n",
    "init_database_v2_py_path = find_init_database_v2_py()\n",
    "init_database_v2_py_path"
   ]
  },
  {
   "cell_type": "code",
   "execution_count": 8,
   "id": "7b665bc4",
   "metadata": {},
   "outputs": [
    {
     "name": "stdout",
     "output_type": "stream",
     "text": [
      "Using existing database file:\n",
      "c:\\Users\\admin\\Documents\\GitHub\\QCoDeS_local\\personal_scripts\\Albert\\PtTe2\\019\\019_2025-03-08_01.db\n"
     ]
    }
   ],
   "source": [
    "reuse = True\n",
    "%run \"{init_database_v2_py_path}\" {reuse}"
   ]
  },
  {
   "cell_type": "markdown",
   "id": "ea4ff57a",
   "metadata": {},
   "source": [
    "## Defining scaled parameters"
   ]
  },
  {
   "cell_type": "markdown",
   "id": "7b2a3aae",
   "metadata": {},
   "source": [
    "### IVVI version"
   ]
  },
  {
   "cell_type": "code",
   "execution_count": 9,
   "id": "c0af619e",
   "metadata": {},
   "outputs": [
    {
     "name": "stdout",
     "output_type": "stream",
     "text": [
      "\n",
      "Station list:\n",
      "{'AMI430_3D': <AMI430_3D: AMI430_3D>,\n",
      " 'DMM6500': <Keithley_6500: DMM6500>,\n",
      " 'Gain_K1': <qcodes.parameters.parameter.Parameter: Gain_K1 at 1521997651824>,\n",
      " 'Gain_K2': <qcodes.parameters.parameter.Parameter: Gain_K2 at 1521997842224>,\n",
      " 'Gain_L1': <qcodes.parameters.parameter.Parameter: Gain_L1 at 1521997843616>,\n",
      " 'Gain_L2': <qcodes.parameters.parameter.Parameter: Gain_L2 at 1521997843760>,\n",
      " 'Irange': <qcodes.parameters.parameter.Parameter: Irange at 1522007448496>,\n",
      " 'Irange_AC_division': <qcodes.parameters.parameter.Parameter: Irange_AC_division at 1521997743344>,\n",
      " 'Irange_division': <qcodes.parameters.parameter.Parameter: Irange_division at 1522007448880>,\n",
      " 'K2000': <Keithley2000: K2000>,\n",
      " 'SR860': <SR860: SR860>,\n",
      " 'TGrange': <qcodes.parameters.parameter.Parameter: TGrange at 1522007447776>,\n",
      " 'TGrange2': <qcodes.parameters.parameter.Parameter: TGrange2 at 1522007447920>,\n",
      " 'TGrange_division': <qcodes.parameters.parameter.Parameter: TGrange_division at 1521997735392>,\n",
      " 'TGrange_division2': <qcodes.parameters.parameter.Parameter: TGrange_division2 at 1521585334304>,\n",
      " 'Vrange': <qcodes.parameters.parameter.Parameter: Vrange at 1522007447056>,\n",
      " 'Vrange_AC_division': <qcodes.parameters.parameter.Parameter: Vrange_AC_division at 1521997743440>,\n",
      " 'Vrange_division': <qcodes.parameters.parameter.Parameter: Vrange_division at 1522007446624>,\n",
      " 'ivvi': <IVVI: ivvi>,\n",
      " 'x': <AMI430: x>,\n",
      " 'y': <AMI430: y>,\n",
      " 'z': <AMI430: z>}\n"
     ]
    }
   ],
   "source": [
    "Irange = Parameter('Irange', label='current range', unit='', set_cmd=None, get_cmd=None)\n",
    "Vrange = Parameter('Vrange', label='voltage range', unit='', set_cmd=None, get_cmd=None)\n",
    "TGrange = Parameter('TGrange', label='Top gate range', unit='', set_cmd=None, get_cmd=None)\n",
    "TGrange2 = Parameter('TGrange2', label='Top gate range2', unit='', set_cmd=None, get_cmd=None)\n",
    "\n",
    "#division paraemtrs required for simplier update: they used as an argument for scaled paraemtrs of sorce instruments\n",
    "\n",
    "Irange_division = Parameter('Irange_division', \n",
    "                            label='scaled current range', unit='', \n",
    "                            set_cmd=None, get_cmd=lambda : 1000 / Irange())\n",
    "\n",
    "Vrange_division = Parameter('Vrange_division', \n",
    "                            label='scaled voltage range', unit='', \n",
    "                            set_cmd=None, get_cmd=lambda : 1000 / Vrange())\n",
    "\n",
    "TGrange_division = Parameter('TGrange_division', \n",
    "                             label='scaled Top gate range', unit='', \n",
    "                             set_cmd=None, get_cmd=lambda : 1000 / TGrange())\n",
    "\n",
    "TGrange_division2 = Parameter('TGrange_division2', \n",
    "                             label='scaled Top gate range2', unit='', \n",
    "                             set_cmd=None, get_cmd=lambda : 1000 / TGrange2())\n",
    "\n",
    "Irange_AC_division = Parameter('Irange_AC_division', \n",
    "                               label='scaled current range for lockin', unit='', \n",
    "                               set_cmd=None, get_cmd=lambda : 100 / Irange())\n",
    "\n",
    "Vrange_AC_division = Parameter('Vrange_AC_division', \n",
    "                               label='scaled voltage range for lockin', unit='', \n",
    "                               set_cmd=None, get_cmd=lambda : 100 / Vrange())\n",
    "\n",
    "Gain_K1 = Parameter('Gain_K1', label='Gain K1', unit='', set_cmd=None, get_cmd=None)\n",
    "Gain_K2 = Parameter('Gain_K2', label='Gain K2', unit='', set_cmd=None, get_cmd=None)\n",
    "Gain_L1 = Parameter('Gain_L1', label='Gain L1', unit='', set_cmd=None, get_cmd=None)\n",
    "Gain_L2 = Parameter('Gain_L2', label='Gain L2', unit='', set_cmd=None, get_cmd=None)\n",
    "\n",
    "#Add components\n",
    "station.add_component(Irange)\n",
    "station.add_component(Vrange)\n",
    "station.add_component(TGrange)\n",
    "station.add_component(TGrange2)\n",
    "\n",
    "station.add_component(Irange_division)\n",
    "station.add_component(Vrange_division)\n",
    "station.add_component(TGrange_division)\n",
    "station.add_component(TGrange_division2)\n",
    "\n",
    "station.add_component(Irange_AC_division)\n",
    "station.add_component(Vrange_AC_division)\n",
    "                             \n",
    "station.add_component(Gain_K1)\n",
    "station.add_component(Gain_K2)\n",
    "station.add_component(Gain_L1)\n",
    "station.add_component(Gain_L2)\n",
    "print('\\nStation list:')\n",
    "pprint(station.components)"
   ]
  },
  {
   "cell_type": "markdown",
   "id": "6d7ecebe",
   "metadata": {},
   "source": [
    "## Parameters - update here during measuerements"
   ]
  },
  {
   "cell_type": "code",
   "execution_count": 10,
   "id": "65bfab6a",
   "metadata": {},
   "outputs": [],
   "source": [
    "Irange.set(1e-6) #Unit Amp V=IR, 1V= 1e-6 x 1MOhm=1e-7 x 10MOhm\n",
    "Vrange.set(1e-3)\n",
    "TGrange.set(15)\n",
    "TGrange2.set(15)\n",
    "Gain_K1.set(100)\n",
    "Gain_K2.set(100)\n",
    "# Gain_K3.set(1e2)\n",
    "Gain_L1.set(Gain_K1())\n",
    "Gain_L2.set(Gain_K2())"
   ]
  },
  {
   "cell_type": "markdown",
   "id": "cbe7bfa7",
   "metadata": {},
   "source": [
    "## DC parameters"
   ]
  },
  {
   "cell_type": "code",
   "execution_count": 11,
   "id": "6a8c7deb",
   "metadata": {},
   "outputs": [
    {
     "data": {
      "text/plain": [
       "'meas_current_K2'"
      ]
     },
     "execution_count": 11,
     "metadata": {},
     "output_type": "execute_result"
    }
   ],
   "source": [
    "appl_current = ScaledParameter(ivvi.dac1, division = Irange_division, name = 'appl_current', unit = 'A')\n",
    "appl_voltage = ScaledParameter(ivvi.dac2, division = Vrange_division, name = 'appl_voltage', unit = 'V')\n",
    "# appl_TG = ScaledParameter(ivvi.dac3, division = TGrange_division, name = 'appl_TG', unit = 'V')\n",
    "# appl_TG2 = ScaledParameter(ivvi.dac4, division = TGrange_division, name = 'appl_TG2', unit = 'V')\n",
    "# appl_TG7 = ScaledParameter(ivvi.dac7, division = TGrange_division2, name = 'appl_TG7', unit = 'V')\n",
    "# appl_TG9 = ScaledParameter(ivvi.dac9, division = TGrange_division2, name = 'appl_TG9', unit = 'V')\n",
    "# appl_TG11 = ScaledParameter(ivvi.dac11, division = TGrange_division2, name = 'appl_TG11', unit = 'V')\n",
    "\n",
    "# meas_voltage_K1 = ScaledParameter(DMM6500.amplitude, division = Gain_K1, name = 'meas_voltage_K1', unit = 'V')\n",
    "meas_voltage_K2 = ScaledParameter(DMM6500.amplitude, division = Gain_K2, name = 'meas_voltage_K2', unit = 'V')\n",
    "\n",
    "# meas_leakage = ScaledParameter(DMM6500.amplitude, division = Gain_K2, name = 'meas_leakage', unit = 'A')\n",
    "\n",
    "# meas_current_K1 = ScaledParameter(DMM6500.amplitude, division = Gain_K1, name = 'meas_current_K1', unit = 'A')\n",
    "meas_current_K2 = ScaledParameter(DMM6500.amplitude, division = Gain_K2, name = 'meas_current_K2', unit = 'A')\n",
    "\n",
    "station.add_component(appl_current)\n",
    "station.add_component(appl_voltage)\n",
    "# station.add_component(appl_TG)\n",
    "# station.add_component(appl_TG2)\n",
    "# station.add_component(appl_TG7)\n",
    "# station.add_component(appl_TG9)\n",
    "# station.add_component(appl_TG11)\n",
    "# station.add_component(meas_voltage_K1)\n",
    "station.add_component(meas_voltage_K2)\n",
    "# station.add_component(meas_leakage)\n",
    "# station.add_component(meas_current_K1)\n",
    "station.add_component(meas_current_K2)"
   ]
  },
  {
   "cell_type": "code",
   "execution_count": 75,
   "id": "1b684d29",
   "metadata": {},
   "outputs": [],
   "source": [
    "ivvi.dac1(1000)"
   ]
  },
  {
   "cell_type": "code",
   "execution_count": 33,
   "id": "da7d90c6",
   "metadata": {},
   "outputs": [],
   "source": [
    "appl_current(0)"
   ]
  },
  {
   "cell_type": "code",
   "execution_count": null,
   "id": "b601e2a8",
   "metadata": {},
   "outputs": [],
   "source": [
    "I=1e-6\n",
    "appl_current(I)\n",
    "sleep(1)\n",
    "V=meas_voltage_K2()\n",
    "R=V/I\n",
    "print(R)"
   ]
  },
  {
   "cell_type": "markdown",
   "id": "a23afd58",
   "metadata": {},
   "source": [
    "##  AC parameters"
   ]
  },
  {
   "cell_type": "code",
   "execution_count": null,
   "id": "769f6a51",
   "metadata": {},
   "outputs": [],
   "source": [
    "appl_current_AC = ScaledParameter(lockin_1.amplitude, division = Irange_AC_division, name = 'appl_current_AC', unit = 'A')\n",
    "appl_voltage_AC = ScaledParameter(lockin_1.amplitude, division = Vrange_AC_division, name = 'appl_voltage_AC', unit = 'V')\n",
    "\n",
    "station.add_component(appl_current_AC)\n",
    "station.add_component(appl_voltage_AC)\n",
    "\n",
    "meas_voltage_AC_L1 = ScaledParameter(lockin_1.X, division = Gain_L1, name = 'meas_voltage_Lockin1', unit = 'V')\n",
    "meas_current_AC_L1 = ScaledParameter(lockin_1.X, division = Gain_L1, name = 'meas_current_Lockin1', unit = 'A')\n",
    "meas_phase_AC_L1 = ScaledParameter(lockin_1.P, division = 1, name = 'meas_phase_Lockin1', unit = 'degree')\n",
    "\n",
    "\n",
    "# meas_voltage_AC_L2 = ScaledParameter(lockin_2.X, division = Gain_L2, name = 'meas_voltage_Lockin2', unit = 'V')\n",
    "# meas_current_AC_L2 = ScaledParameter(lockin_2.X, division = Gain_L2, name = 'meas_current_Lockin2', unit = 'A')\n",
    "# meas_phase_AC_L2 = ScaledParameter(lockin_2.P, division = 1, name = 'meas_phase_Lockin1', unit = 'degree')\n",
    "\n",
    "station.add_component(meas_voltage_AC_L1)\n",
    "station.add_component(meas_current_AC_L1)\n",
    "station.add_component(meas_phase_AC_L1)\n",
    "\n",
    "# station.add_component(meas_voltage_AC_L2)\n",
    "# station.add_component(meas_current_AC_L2)\n",
    "\n",
    "meas_voltage_AC_L1_R = ScaledParameter(lockin_1.R, division = Gain_L1, name = 'meas_voltage_R_Lockin1', unit = 'V')\n",
    "# meas_voltage_AC_L2_R = ScaledParameter(lockin_2.R, division = Gain_L2, name = 'meas_voltage_R_Lockin2', unit = 'V')\n",
    "\n",
    "station.add_component(meas_voltage_AC_L1_R)\n",
    "# station.add_component(meas_voltage_AC_L2_R)"
   ]
  },
  {
   "cell_type": "code",
   "execution_count": null,
   "id": "bcd10ed7",
   "metadata": {},
   "outputs": [],
   "source": [
    "meas_voltage_AC_L1_P = ScaledParameter(lockin_1.P, division = 1, name = 'meas_voltage_Lockin1_P', unit = 'degree')\n",
    "meas_current_AC_L1_P = ScaledParameter(lockin_1.P, division = 1, name = 'meas_current_Lockin1_P', unit = 'degree')\n",
    "\n",
    "# meas_voltage_AC_L2_P = ScaledParameter(lockin_2.P, division = 1, name = 'meas_voltage_Lockin2_P', unit = 'degree')\n",
    "# meas_current_AC_L2_P = ScaledParameter(lockin_2.P, division = 1, name = 'meas_current_Lockin2_P', unit = 'degree')\n",
    "\n",
    "station.add_component(meas_voltage_AC_L1_P)\n",
    "station.add_component(meas_current_AC_L1_P)\n",
    "\n",
    "# station.add_component(meas_voltage_AC_L2_P)\n",
    "# station.add_component(meas_current_AC_L2_P)"
   ]
  },
  {
   "cell_type": "markdown",
   "id": "8d9d6239",
   "metadata": {},
   "source": [
    "## Another useful example: magnet using dac (Janis)"
   ]
  },
  {
   "cell_type": "markdown",
   "id": "92e1f309",
   "metadata": {},
   "source": [
    ">2231.2 G per A => 0.22312 T per A<br>\n",
    "I source 10mA per V => 1e-5 A per 1mV<br>\n",
    "result: 0.22312 T/A * 1e-5 A/mV"
   ]
  },
  {
   "cell_type": "code",
   "execution_count": 12,
   "id": "6b2b657a",
   "metadata": {},
   "outputs": [],
   "source": [
    "# def get_R_from_IV(dataid):\n",
    "#     dataset = qc.load_by_id(dataid)\n",
    "#     voltage = dataset.get_parameter_data()['meas_voltage_K2']['meas_voltage_K2']\n",
    "#     current = dataset.get_parameter_data()['meas_voltage_K2']['appl_current']\n",
    "#     fit_values = np.polyfit(current,voltage,1)\n",
    "    \n",
    "#     return fit_values[0]\n",
    "\n",
    "dataset = qc.load_by_id(1)\n",
    "\n",
    "def get_R_from_IV_2(dataid):\n",
    "    dataset = qc.load_by_id(dataid)\n",
    "    voltage = dataset.get_parameter_data()['meas_voltage_K2']['meas_voltage_K2']\n",
    "    current = dataset.get_parameter_data()['meas_voltage_K2']['appl_current']\n",
    "    fit_values = np.polyfit(current,voltage,1)\n",
    "\n",
    "    return fit_values[0]\n",
    "\n",
    "def get_R_from_IV(dataid):\n",
    "    dataset = qc.load_by_id(dataid)\n",
    "    para_list = dataset.parameters.split(\",\")\n",
    "    voltage = dataset.get_parameter_data()[para_list[1]][para_list[1]]\n",
    "    current = dataset.get_parameter_data()[para_list[1]][para_list[0]]\n",
    "    fit_values = np.polyfit(current,voltage,1)\n",
    "    return fit_values[0]\n",
    "\n",
    "\n",
    "def get_R_from_IV_K2(dataid):\n",
    "    dataset = qc.load_by_id(dataid)\n",
    "    voltage = dataset.get_parameter_data()['meas_voltage_K2']['meas_voltage_K2']\n",
    "    current = dataset.get_parameter_data()['meas_voltage_K2']['appl_current']\n",
    "    fit_values = np.polyfit(current,voltage,1)\n",
    "    return fit_values[0]\n",
    "\n",
    "def autosave_plot_by_id(run_id, save_path):\n",
    "    fig, ax = plt.subplots()\n",
    "    plot_by_id(run_id, axes=ax)\n",
    "    plt.savefig(save_path)\n",
    "    plt.close()\n",
    "\n",
    "def get_detaset_info(dataset=dataset):\n",
    "    run_id = dataset.captured_run_id\n",
    "    exp_name = dataset.exp_name\n",
    "    sample_name = dataset.sample_name\n",
    "    name = dataset.name\n",
    "    description = dataset.description\n",
    "    sample_junction = extract_sample_junction(sample_name)\n",
    "    return run_id, exp_name, sample_name, sample_junction, name, description\n",
    "\n",
    "def extract_sample_junction(sample_name):\n",
    "    \"\"\"Extracts the complete sample junction from the provided sample name.\n",
    "\n",
    "    Args:\n",
    "      sample_name: The name of the sample containing the junction information.\n",
    "\n",
    "    Returns:\n",
    "      The extracted sample junction, or None if not found.\n",
    "    \"\"\"\n",
    "\n",
    "    delimiter = \"_J\"\n",
    "    if delimiter in sample_name:\n",
    "        # +3 to include \"_J\"\n",
    "        return sample_name[:sample_name.find(delimiter) + 3]\n",
    "    else:\n",
    "        return None\n",
    "\n",
    "def IV(run_id=1):\n",
    "    dataset = qc.load_by_id(run_id)\n",
    "    R = get_R_from_IV(run_id)\n",
    "    run_id, exp_name, sample_name, sample_junction, name, description = get_detaset_info(\n",
    "        dataset)\n",
    "    df = dataset.to_pandas_dataframe().reset_index()\n",
    "    para_list = dataset.parameters.split(\",\")\n",
    "\n",
    "    # Create a Plotly trace\n",
    "    trace = go.Scatter(x=df[para_list[0]], y=df[para_list[1]]*1e3, mode='lines', name='Voltage vs. Current')\n",
    "\n",
    "    # Create layout with micro-scale y-axis\n",
    "    layout = go.Layout(title=f'<b>#{run_id} {exp_name}</b> {sample_name}, R_fit={R:.4f} Ω', title_font=dict(size=28),\n",
    "                       xaxis=dict(title=para_list[0], tickfont=dict(size=16),title_font=dict(size=20)),\n",
    "                       yaxis=dict(title=f\"{para_list[1]} mV\", tickfont=dict(size=16),title_font=dict(size=20)), \n",
    "                       width=1080, height=960,\n",
    "                       margin=dict(l=10, r=10, t=50, b=10))\n",
    "\n",
    "    # Create the figure\n",
    "    fig = go.Figure(data=[trace], layout=layout)\n",
    "    \n",
    "    fig.show()\n",
    "\n",
    "def IV_diff(run_id=1):\n",
    "    import numpy as np\n",
    "    import plotly.graph_objs as go\n",
    "    from scipy.signal import find_peaks\n",
    "    dataset = qc.load_by_id(run_id)\n",
    "\n",
    "    df = dataset.to_pandas_dataframe().reset_index()\n",
    "    para_list = dataset.parameters.split(\",\")\n",
    "\n",
    "    current = df[para_list[0]].tolist()\n",
    "    voltage = df[para_list[1]].tolist()\n",
    "\n",
    "    # Compute differential of voltage with respect to current\n",
    "    differential_voltage = np.diff(voltage) / np.diff(current)\n",
    "\n",
    "    # Since the differential will have one less data point, adjust the current data\n",
    "    # to have the same length as the differential data\n",
    "    current = current[:-1]\n",
    "\n",
    "    # Find peaks in the differential signal\n",
    "    peaks, _ = find_peaks(differential_voltage)\n",
    "\n",
    "    # Extract peak current and peak differential voltage values\n",
    "    peak_current = [current[i] for i in peaks]\n",
    "    peak_voltage_diff = [differential_voltage[i] for i in peaks]\n",
    "\n",
    "    # Sort the peaks based on their values\n",
    "    sorted_peak_indices = np.argsort(peak_voltage_diff)[::-1]  # Sort in descending order\n",
    "    top_two_peak_indices = sorted_peak_indices[:2]  # Select the top two indices\n",
    "\n",
    "    # Extract the top two peaks\n",
    "    top_two_peak_current = [peak_current[i] for i in top_two_peak_indices]\n",
    "    top_two_peak_voltage_diff = [peak_voltage_diff[i] for i in top_two_peak_indices]\n",
    "\n",
    "    # Calculate the center points of the top two peaks\n",
    "    center_points = [(top_two_peak_current[i] + top_two_peak_current[i+1]) / 2 for i in range(len(top_two_peak_current) - 1)]\n",
    "\n",
    "    # Calculate the difference between the top two biggest peaks\n",
    "    peak_difference = abs(top_two_peak_current[0] - top_two_peak_current[1])\n",
    "\n",
    "    # Determine the appropriate unit for current\n",
    "    if peak_difference >= 1e-3:\n",
    "        unit = \"mA\"\n",
    "        conversion_factor = 1e3\n",
    "    elif peak_difference >= 1e-6:\n",
    "        unit = \"μA\"\n",
    "        conversion_factor = 1e6\n",
    "    else:\n",
    "        unit = \"nA\"\n",
    "        conversion_factor = 1e9\n",
    "\n",
    "    # Determine the appropriate unit for current\n",
    "    if peak_difference >= 1e-3:\n",
    "        unit = \"mA\"\n",
    "    elif peak_difference >= 1e-6:\n",
    "        unit = \"μA\"\n",
    "    elif peak_difference >= 1e-9:\n",
    "        unit = \"nA\"\n",
    "    else:\n",
    "        unit = \"pA\"\n",
    "\n",
    "    # Create a Plotly trace for the differential\n",
    "    trace_diff = go.Scatter(x=[c * conversion_factor for c in current], y=differential_voltage, mode='lines', name='d(Voltage)/d(Current)')\n",
    "    # Add markers for the top two peaks\n",
    "    trace_top_two_peaks = go.Scatter(x=[p * conversion_factor for p in top_two_peak_current], y=top_two_peak_voltage_diff, mode='markers', marker=dict(color='red'), name='Top Two Peaks')\n",
    "    # Add markers for the center points\n",
    "    trace_center_points = go.Scatter(x=center_points, y=[0]*len(center_points), mode='markers', marker=dict(color='blue', symbol='cross'), name='Center Points')\n",
    "\n",
    "    # Create layout\n",
    "    layout = go.Layout(title=f'Run #{id} I vs. dV/dI',\n",
    "                    xaxis=dict(title=f'Current ({unit})'),\n",
    "                    yaxis=dict(title='d(Voltage)/d(Current)'),\n",
    "                    legend=dict(orientation=\"h\", yanchor=\"top\", y=1.10, xanchor=\"center\", x=0.5),\n",
    "                    width=600, height=600  \n",
    "                    )\n",
    "\n",
    "    # Create the figure\n",
    "    fig = go.Figure(data=[trace_diff, trace_top_two_peaks, trace_center_points], layout=layout)\n",
    "\n",
    "    # Add annotation for the current value of center points\n",
    "    for i, center_point in enumerate(center_points):\n",
    "        fig.add_annotation(\n",
    "            x=center_point * conversion_factor,\n",
    "            y=0, #0.4 * max(differential_voltage),\n",
    "            text=f'Center Point: {center_point * conversion_factor:.3f}{unit} <br> Peak difference: {peak_difference*conversion_factor:.3f} {unit}',\n",
    "            showarrow=True,\n",
    "            arrowhead=2,\n",
    "            arrowsize=1,\n",
    "            arrowwidth=2,\n",
    "            arrowcolor='black',\n",
    "            ax=-100,\n",
    "            ay=-200 - 30 * i\n",
    "        )\n",
    "\n",
    "    # Plot the figure\n",
    "    fig.show()\n",
    "\n",
    "def get_Mag(show=True):\n",
    "    Mag_x = magnet_x.field()\n",
    "    Mag_y = magnet_y.field()\n",
    "    Mag_z = magnet_z.field()\n",
    "    if show:\n",
    "        print(f\"Mag_x: {Mag_x*1e3:.6f} mT\")\n",
    "        print(f\"Mag_y: {Mag_y*1e3:.6f} mT\")\n",
    "        print(f\"Mag_z: {Mag_z*1e3:.6f} mT\")\n",
    "    else: \n",
    "        return Mag_x, Mag_y, Mag_z"
   ]
  },
  {
   "cell_type": "code",
   "execution_count": null,
   "id": "934a7b70",
   "metadata": {},
   "outputs": [],
   "source": [
    "appl_current(0.5e-6)\n",
    "appl_current_AC(10e-9)"
   ]
  },
  {
   "cell_type": "code",
   "execution_count": null,
   "id": "e0040749",
   "metadata": {},
   "outputs": [],
   "source": [
    "df = dataset.to_pandas_dataframe().reset_index()\n",
    "df"
   ]
  },
  {
   "cell_type": "markdown",
   "id": "885e5c90",
   "metadata": {},
   "source": [
    "# Simple IVs"
   ]
  },
  {
   "cell_type": "markdown",
   "id": "cdb6884c",
   "metadata": {},
   "source": [
    "## IV"
   ]
  },
  {
   "cell_type": "code",
   "execution_count": 35,
   "id": "621491ac",
   "metadata": {},
   "outputs": [],
   "source": [
    "ivvi.dac1.step = 100\n",
    "ivvi.dac1.inter_delay = 0.1"
   ]
  },
  {
   "cell_type": "code",
   "execution_count": 13,
   "id": "99e1eeba",
   "metadata": {},
   "outputs": [],
   "source": [
    "Irange.set(100e-6) "
   ]
  },
  {
   "cell_type": "code",
   "execution_count": 82,
   "id": "6ec01335",
   "metadata": {},
   "outputs": [],
   "source": [
    "Irange.set(10e-9)"
   ]
  },
  {
   "cell_type": "code",
   "execution_count": 46,
   "id": "8150410a",
   "metadata": {},
   "outputs": [],
   "source": [
    "appl_current(0)"
   ]
  },
  {
   "cell_type": "code",
   "execution_count": null,
   "id": "8e209a34",
   "metadata": {},
   "outputs": [
    {
     "name": "stderr",
     "output_type": "stream",
     "text": [
      "There is (are) already experiment(s) with the name of IV and sample name of 019-11_48-47-01-02 in the database.\n"
     ]
    },
    {
     "name": "stdout",
     "output_type": "stream",
     "text": [
      "Starting experimental run with id: 50. \n"
     ]
    },
    {
     "name": "stderr",
     "output_type": "stream",
     "text": [
      "100%|██████████| 101/101 [00:05<00:00, 20.02it/s]\n"
     ]
    },
    {
     "name": "stdout",
     "output_type": "stream",
     "text": [
      "R = 496.98062625451365\n"
     ]
    },
    {
     "data": {
      "application/vnd.plotly.v1+json": {
       "config": {
        "plotlyServerURL": "https://plot.ly"
       },
       "data": [
        {
         "mode": "lines",
         "name": "Voltage vs. Current",
         "type": "scatter",
         "x": [
          -1e-8,
          -9.8e-9,
          -9.6e-9,
          -9.4e-9,
          -9.2e-9,
          -9e-9,
          -8.8e-9,
          -8.6e-9,
          -8.4e-9,
          -8.2e-9,
          -8e-9,
          -7.8e-9,
          -7.6e-9,
          -7.4e-9,
          -7.2e-9,
          -7e-9,
          -6.8e-9,
          -6.6e-9,
          -6.4e-9,
          -6.2e-9,
          -6e-9,
          -5.8e-9,
          -5.6e-9,
          -5.4e-9,
          -5.2e-9,
          -5e-9,
          -4.8e-9,
          -4.6e-9,
          -4.4e-9,
          -4.2e-9,
          -4e-9,
          -3.8e-9,
          -3.6e-9,
          -3.4e-9,
          -3.2e-9,
          -3e-9,
          -2.8e-9,
          -2.6e-9,
          -2.4e-9,
          -2.2e-9,
          -2e-9,
          -1.8e-9,
          -1.6e-9,
          -1.4e-9,
          -1.2e-9,
          -1e-9,
          -8.00000000000001e-10,
          -6e-10,
          -4e-10,
          -2e-10,
          0,
          2e-10,
          4e-10,
          6e-10,
          8.00000000000001e-10,
          1e-9,
          1.2e-9,
          1.4e-9,
          1.6e-9,
          1.8e-9,
          2e-9,
          2.2e-9,
          2.4e-9,
          2.6e-9,
          2.8e-9,
          3e-9,
          3.2e-9,
          3.4e-9,
          3.6e-9,
          3.8e-9,
          4e-9,
          4.2e-9,
          4.4e-9,
          4.6e-9,
          4.8e-9,
          5e-9,
          5.2e-9,
          5.4e-9,
          5.6e-9,
          5.8e-9,
          6e-9,
          6.2e-9,
          6.4e-9,
          6.6e-9,
          6.8e-9,
          7e-9,
          7.2e-9,
          7.4e-9,
          7.6e-9,
          7.8e-9,
          8e-9,
          8.2e-9,
          8.4e-9,
          8.6e-9,
          8.8e-9,
          9e-9,
          9.2e-9,
          9.4e-9,
          9.6e-9,
          9.8e-9,
          1e-8
         ],
         "y": [
          -0.0048990019999999995,
          -0.004793258,
          -0.0047282209999999995,
          -0.004626024,
          -0.00450255,
          -0.004381951,
          -0.004317614,
          -0.004214687,
          -0.004035309,
          -0.004006434,
          -0.003860625,
          -0.003751857,
          -0.003762704,
          -0.003584757,
          -0.003496118,
          -0.003465634,
          -0.003317828,
          -0.00329983,
          -0.003062313,
          -0.002944218,
          -0.002903124,
          -0.002801628,
          -0.002775985,
          -0.002621937,
          -0.0025357569999999996,
          -0.002465833,
          -0.002298777,
          -0.002178283,
          -0.0020858150000000004,
          -0.002027289,
          -0.002058027,
          -0.00182066,
          -0.0016729140000000002,
          -0.001641267,
          -0.001515826,
          -0.001472084,
          -0.001276406,
          -0.001196424,
          -0.0011262910000000002,
          -0.001010565,
          -0.0009407300000000001,
          -0.0008823082,
          -0.0006534783,
          -0.0006442405,
          -0.00047895789999999994,
          -0.00037649250000000003,
          -0.0003340581,
          -0.000262897,
          -0.0002013016,
          0.00002962921,
          0.00008641204,
          0.00016625960000000002,
          0.0002365565,
          0.000329799,
          0.0004662804,
          0.0006214311999999999,
          0.0006444662000000001,
          0.0007959814,
          0.0008563402,
          0.0009728560000000001,
          0.001077348,
          0.001228952,
          0.0013484929999999999,
          0.001331299,
          0.001493378,
          0.001664531,
          0.001697415,
          0.001832436,
          0.001881098,
          0.002022079,
          0.0021170950000000003,
          0.002129089,
          0.002266301,
          0.0024008750000000002,
          0.002459803,
          0.002506801,
          0.002630036,
          0.0027587099999999997,
          0.002865005,
          0.003022838,
          0.0030707399999999998,
          0.003143839,
          0.0032081759999999996,
          0.003345611,
          0.003437289,
          0.0035583190000000003,
          0.003608769,
          0.0036869190000000003,
          0.003899374,
          0.003945548,
          0.004046032,
          0.004154829,
          0.004175346,
          0.004327651,
          0.004468618,
          0.004501516,
          0.004646535,
          0.004635137,
          0.004901142000000001,
          0.004958669,
          0.004979559
         ]
        }
       ],
       "layout": {
        "height": 960,
        "margin": {
         "b": 10,
         "l": 10,
         "r": 10,
         "t": 50
        },
        "template": {
         "data": {
          "bar": [
           {
            "error_x": {
             "color": "#2a3f5f"
            },
            "error_y": {
             "color": "#2a3f5f"
            },
            "marker": {
             "line": {
              "color": "#E5ECF6",
              "width": 0.5
             },
             "pattern": {
              "fillmode": "overlay",
              "size": 10,
              "solidity": 0.2
             }
            },
            "type": "bar"
           }
          ],
          "barpolar": [
           {
            "marker": {
             "line": {
              "color": "#E5ECF6",
              "width": 0.5
             },
             "pattern": {
              "fillmode": "overlay",
              "size": 10,
              "solidity": 0.2
             }
            },
            "type": "barpolar"
           }
          ],
          "carpet": [
           {
            "aaxis": {
             "endlinecolor": "#2a3f5f",
             "gridcolor": "white",
             "linecolor": "white",
             "minorgridcolor": "white",
             "startlinecolor": "#2a3f5f"
            },
            "baxis": {
             "endlinecolor": "#2a3f5f",
             "gridcolor": "white",
             "linecolor": "white",
             "minorgridcolor": "white",
             "startlinecolor": "#2a3f5f"
            },
            "type": "carpet"
           }
          ],
          "choropleth": [
           {
            "colorbar": {
             "outlinewidth": 0,
             "ticks": ""
            },
            "type": "choropleth"
           }
          ],
          "contour": [
           {
            "colorbar": {
             "outlinewidth": 0,
             "ticks": ""
            },
            "colorscale": [
             [
              0,
              "#0d0887"
             ],
             [
              0.1111111111111111,
              "#46039f"
             ],
             [
              0.2222222222222222,
              "#7201a8"
             ],
             [
              0.3333333333333333,
              "#9c179e"
             ],
             [
              0.4444444444444444,
              "#bd3786"
             ],
             [
              0.5555555555555556,
              "#d8576b"
             ],
             [
              0.6666666666666666,
              "#ed7953"
             ],
             [
              0.7777777777777778,
              "#fb9f3a"
             ],
             [
              0.8888888888888888,
              "#fdca26"
             ],
             [
              1,
              "#f0f921"
             ]
            ],
            "type": "contour"
           }
          ],
          "contourcarpet": [
           {
            "colorbar": {
             "outlinewidth": 0,
             "ticks": ""
            },
            "type": "contourcarpet"
           }
          ],
          "heatmap": [
           {
            "colorbar": {
             "outlinewidth": 0,
             "ticks": ""
            },
            "colorscale": [
             [
              0,
              "#0d0887"
             ],
             [
              0.1111111111111111,
              "#46039f"
             ],
             [
              0.2222222222222222,
              "#7201a8"
             ],
             [
              0.3333333333333333,
              "#9c179e"
             ],
             [
              0.4444444444444444,
              "#bd3786"
             ],
             [
              0.5555555555555556,
              "#d8576b"
             ],
             [
              0.6666666666666666,
              "#ed7953"
             ],
             [
              0.7777777777777778,
              "#fb9f3a"
             ],
             [
              0.8888888888888888,
              "#fdca26"
             ],
             [
              1,
              "#f0f921"
             ]
            ],
            "type": "heatmap"
           }
          ],
          "heatmapgl": [
           {
            "colorbar": {
             "outlinewidth": 0,
             "ticks": ""
            },
            "colorscale": [
             [
              0,
              "#0d0887"
             ],
             [
              0.1111111111111111,
              "#46039f"
             ],
             [
              0.2222222222222222,
              "#7201a8"
             ],
             [
              0.3333333333333333,
              "#9c179e"
             ],
             [
              0.4444444444444444,
              "#bd3786"
             ],
             [
              0.5555555555555556,
              "#d8576b"
             ],
             [
              0.6666666666666666,
              "#ed7953"
             ],
             [
              0.7777777777777778,
              "#fb9f3a"
             ],
             [
              0.8888888888888888,
              "#fdca26"
             ],
             [
              1,
              "#f0f921"
             ]
            ],
            "type": "heatmapgl"
           }
          ],
          "histogram": [
           {
            "marker": {
             "pattern": {
              "fillmode": "overlay",
              "size": 10,
              "solidity": 0.2
             }
            },
            "type": "histogram"
           }
          ],
          "histogram2d": [
           {
            "colorbar": {
             "outlinewidth": 0,
             "ticks": ""
            },
            "colorscale": [
             [
              0,
              "#0d0887"
             ],
             [
              0.1111111111111111,
              "#46039f"
             ],
             [
              0.2222222222222222,
              "#7201a8"
             ],
             [
              0.3333333333333333,
              "#9c179e"
             ],
             [
              0.4444444444444444,
              "#bd3786"
             ],
             [
              0.5555555555555556,
              "#d8576b"
             ],
             [
              0.6666666666666666,
              "#ed7953"
             ],
             [
              0.7777777777777778,
              "#fb9f3a"
             ],
             [
              0.8888888888888888,
              "#fdca26"
             ],
             [
              1,
              "#f0f921"
             ]
            ],
            "type": "histogram2d"
           }
          ],
          "histogram2dcontour": [
           {
            "colorbar": {
             "outlinewidth": 0,
             "ticks": ""
            },
            "colorscale": [
             [
              0,
              "#0d0887"
             ],
             [
              0.1111111111111111,
              "#46039f"
             ],
             [
              0.2222222222222222,
              "#7201a8"
             ],
             [
              0.3333333333333333,
              "#9c179e"
             ],
             [
              0.4444444444444444,
              "#bd3786"
             ],
             [
              0.5555555555555556,
              "#d8576b"
             ],
             [
              0.6666666666666666,
              "#ed7953"
             ],
             [
              0.7777777777777778,
              "#fb9f3a"
             ],
             [
              0.8888888888888888,
              "#fdca26"
             ],
             [
              1,
              "#f0f921"
             ]
            ],
            "type": "histogram2dcontour"
           }
          ],
          "mesh3d": [
           {
            "colorbar": {
             "outlinewidth": 0,
             "ticks": ""
            },
            "type": "mesh3d"
           }
          ],
          "parcoords": [
           {
            "line": {
             "colorbar": {
              "outlinewidth": 0,
              "ticks": ""
             }
            },
            "type": "parcoords"
           }
          ],
          "pie": [
           {
            "automargin": true,
            "type": "pie"
           }
          ],
          "scatter": [
           {
            "fillpattern": {
             "fillmode": "overlay",
             "size": 10,
             "solidity": 0.2
            },
            "type": "scatter"
           }
          ],
          "scatter3d": [
           {
            "line": {
             "colorbar": {
              "outlinewidth": 0,
              "ticks": ""
             }
            },
            "marker": {
             "colorbar": {
              "outlinewidth": 0,
              "ticks": ""
             }
            },
            "type": "scatter3d"
           }
          ],
          "scattercarpet": [
           {
            "marker": {
             "colorbar": {
              "outlinewidth": 0,
              "ticks": ""
             }
            },
            "type": "scattercarpet"
           }
          ],
          "scattergeo": [
           {
            "marker": {
             "colorbar": {
              "outlinewidth": 0,
              "ticks": ""
             }
            },
            "type": "scattergeo"
           }
          ],
          "scattergl": [
           {
            "marker": {
             "colorbar": {
              "outlinewidth": 0,
              "ticks": ""
             }
            },
            "type": "scattergl"
           }
          ],
          "scattermapbox": [
           {
            "marker": {
             "colorbar": {
              "outlinewidth": 0,
              "ticks": ""
             }
            },
            "type": "scattermapbox"
           }
          ],
          "scatterpolar": [
           {
            "marker": {
             "colorbar": {
              "outlinewidth": 0,
              "ticks": ""
             }
            },
            "type": "scatterpolar"
           }
          ],
          "scatterpolargl": [
           {
            "marker": {
             "colorbar": {
              "outlinewidth": 0,
              "ticks": ""
             }
            },
            "type": "scatterpolargl"
           }
          ],
          "scatterternary": [
           {
            "marker": {
             "colorbar": {
              "outlinewidth": 0,
              "ticks": ""
             }
            },
            "type": "scatterternary"
           }
          ],
          "surface": [
           {
            "colorbar": {
             "outlinewidth": 0,
             "ticks": ""
            },
            "colorscale": [
             [
              0,
              "#0d0887"
             ],
             [
              0.1111111111111111,
              "#46039f"
             ],
             [
              0.2222222222222222,
              "#7201a8"
             ],
             [
              0.3333333333333333,
              "#9c179e"
             ],
             [
              0.4444444444444444,
              "#bd3786"
             ],
             [
              0.5555555555555556,
              "#d8576b"
             ],
             [
              0.6666666666666666,
              "#ed7953"
             ],
             [
              0.7777777777777778,
              "#fb9f3a"
             ],
             [
              0.8888888888888888,
              "#fdca26"
             ],
             [
              1,
              "#f0f921"
             ]
            ],
            "type": "surface"
           }
          ],
          "table": [
           {
            "cells": {
             "fill": {
              "color": "#EBF0F8"
             },
             "line": {
              "color": "white"
             }
            },
            "header": {
             "fill": {
              "color": "#C8D4E3"
             },
             "line": {
              "color": "white"
             }
            },
            "type": "table"
           }
          ]
         },
         "layout": {
          "annotationdefaults": {
           "arrowcolor": "#2a3f5f",
           "arrowhead": 0,
           "arrowwidth": 1
          },
          "autotypenumbers": "strict",
          "coloraxis": {
           "colorbar": {
            "outlinewidth": 0,
            "ticks": ""
           }
          },
          "colorscale": {
           "diverging": [
            [
             0,
             "#8e0152"
            ],
            [
             0.1,
             "#c51b7d"
            ],
            [
             0.2,
             "#de77ae"
            ],
            [
             0.3,
             "#f1b6da"
            ],
            [
             0.4,
             "#fde0ef"
            ],
            [
             0.5,
             "#f7f7f7"
            ],
            [
             0.6,
             "#e6f5d0"
            ],
            [
             0.7,
             "#b8e186"
            ],
            [
             0.8,
             "#7fbc41"
            ],
            [
             0.9,
             "#4d9221"
            ],
            [
             1,
             "#276419"
            ]
           ],
           "sequential": [
            [
             0,
             "#0d0887"
            ],
            [
             0.1111111111111111,
             "#46039f"
            ],
            [
             0.2222222222222222,
             "#7201a8"
            ],
            [
             0.3333333333333333,
             "#9c179e"
            ],
            [
             0.4444444444444444,
             "#bd3786"
            ],
            [
             0.5555555555555556,
             "#d8576b"
            ],
            [
             0.6666666666666666,
             "#ed7953"
            ],
            [
             0.7777777777777778,
             "#fb9f3a"
            ],
            [
             0.8888888888888888,
             "#fdca26"
            ],
            [
             1,
             "#f0f921"
            ]
           ],
           "sequentialminus": [
            [
             0,
             "#0d0887"
            ],
            [
             0.1111111111111111,
             "#46039f"
            ],
            [
             0.2222222222222222,
             "#7201a8"
            ],
            [
             0.3333333333333333,
             "#9c179e"
            ],
            [
             0.4444444444444444,
             "#bd3786"
            ],
            [
             0.5555555555555556,
             "#d8576b"
            ],
            [
             0.6666666666666666,
             "#ed7953"
            ],
            [
             0.7777777777777778,
             "#fb9f3a"
            ],
            [
             0.8888888888888888,
             "#fdca26"
            ],
            [
             1,
             "#f0f921"
            ]
           ]
          },
          "colorway": [
           "#636efa",
           "#EF553B",
           "#00cc96",
           "#ab63fa",
           "#FFA15A",
           "#19d3f3",
           "#FF6692",
           "#B6E880",
           "#FF97FF",
           "#FECB52"
          ],
          "font": {
           "color": "#2a3f5f"
          },
          "geo": {
           "bgcolor": "white",
           "lakecolor": "white",
           "landcolor": "#E5ECF6",
           "showlakes": true,
           "showland": true,
           "subunitcolor": "white"
          },
          "hoverlabel": {
           "align": "left"
          },
          "hovermode": "closest",
          "mapbox": {
           "style": "light"
          },
          "paper_bgcolor": "white",
          "plot_bgcolor": "#E5ECF6",
          "polar": {
           "angularaxis": {
            "gridcolor": "white",
            "linecolor": "white",
            "ticks": ""
           },
           "bgcolor": "#E5ECF6",
           "radialaxis": {
            "gridcolor": "white",
            "linecolor": "white",
            "ticks": ""
           }
          },
          "scene": {
           "xaxis": {
            "backgroundcolor": "#E5ECF6",
            "gridcolor": "white",
            "gridwidth": 2,
            "linecolor": "white",
            "showbackground": true,
            "ticks": "",
            "zerolinecolor": "white"
           },
           "yaxis": {
            "backgroundcolor": "#E5ECF6",
            "gridcolor": "white",
            "gridwidth": 2,
            "linecolor": "white",
            "showbackground": true,
            "ticks": "",
            "zerolinecolor": "white"
           },
           "zaxis": {
            "backgroundcolor": "#E5ECF6",
            "gridcolor": "white",
            "gridwidth": 2,
            "linecolor": "white",
            "showbackground": true,
            "ticks": "",
            "zerolinecolor": "white"
           }
          },
          "shapedefaults": {
           "line": {
            "color": "#2a3f5f"
           }
          },
          "ternary": {
           "aaxis": {
            "gridcolor": "white",
            "linecolor": "white",
            "ticks": ""
           },
           "baxis": {
            "gridcolor": "white",
            "linecolor": "white",
            "ticks": ""
           },
           "bgcolor": "#E5ECF6",
           "caxis": {
            "gridcolor": "white",
            "linecolor": "white",
            "ticks": ""
           }
          },
          "title": {
           "x": 0.05
          },
          "xaxis": {
           "automargin": true,
           "gridcolor": "white",
           "linecolor": "white",
           "ticks": "",
           "title": {
            "standoff": 15
           },
           "zerolinecolor": "white",
           "zerolinewidth": 2
          },
          "yaxis": {
           "automargin": true,
           "gridcolor": "white",
           "linecolor": "white",
           "ticks": "",
           "title": {
            "standoff": 15
           },
           "zerolinecolor": "white",
           "zerolinewidth": 2
          }
         }
        },
        "title": {
         "font": {
          "size": 28
         },
         "text": "<b>#50 IV</b> 019-11_48-47-01-02, R_fit=496.9806 Ω"
        },
        "width": 1080,
        "xaxis": {
         "tickfont": {
          "size": 16
         },
         "title": {
          "font": {
           "size": 20
          },
          "text": "appl_current"
         }
        },
        "yaxis": {
         "tickfont": {
          "size": 16
         },
         "title": {
          "font": {
           "size": 20
          },
          "text": "meas_voltage_K2 mV"
         }
        }
       }
      }
     },
     "metadata": {},
     "output_type": "display_data"
    },
    {
     "data": {
      "application/vnd.plotly.v1+json": {
       "config": {
        "plotlyServerURL": "https://plot.ly"
       },
       "data": [
        {
         "mode": "lines",
         "name": "d(Voltage)/d(Current)",
         "type": "scatter",
         "x": [
          -10,
          -9.8,
          -9.6,
          -9.4,
          -9.2,
          -9,
          -8.799999999999999,
          -8.6,
          -8.4,
          -8.200000000000001,
          -8,
          -7.800000000000001,
          -7.6000000000000005,
          -7.4,
          -7.2,
          -7,
          -6.8,
          -6.6000000000000005,
          -6.4,
          -6.2,
          -6,
          -5.8,
          -5.6,
          -5.4,
          -5.2,
          -5,
          -4.8,
          -4.6,
          -4.3999999999999995,
          -4.2,
          -4,
          -3.8000000000000003,
          -3.6,
          -3.4,
          -3.2,
          -3,
          -2.8,
          -2.6,
          -2.4,
          -2.1999999999999997,
          -2,
          -1.8,
          -1.6,
          -1.4,
          -1.2,
          -1,
          -0.8000000000000009,
          -0.6,
          -0.4,
          -0.2,
          0,
          0.2,
          0.4,
          0.6,
          0.8000000000000009,
          1,
          1.2,
          1.4,
          1.6,
          1.8,
          2,
          2.1999999999999997,
          2.4,
          2.6,
          2.8,
          3,
          3.2,
          3.4,
          3.6,
          3.8000000000000003,
          4,
          4.2,
          4.3999999999999995,
          4.6,
          4.8,
          5,
          5.2,
          5.4,
          5.6,
          5.8,
          6,
          6.2,
          6.4,
          6.6000000000000005,
          6.8,
          7,
          7.2,
          7.4,
          7.6000000000000005,
          7.800000000000001,
          8,
          8.200000000000001,
          8.4,
          8.6,
          8.799999999999999,
          9,
          9.2,
          9.4,
          9.6,
          9.8
         ],
         "y": [
          528.7199999999999,
          325.1849999999986,
          510.9849999999985,
          617.3700000000011,
          602.9949999999992,
          321.6849999999994,
          514.6349999999996,
          896.8900000000076,
          144.37499999999883,
          729.0449999999994,
          543.84,
          -54.23500000000098,
          889.7350000000007,
          443.1949999999992,
          152.41999999999962,
          739.0299999999987,
          89.99000000000045,
          1187.5849999999996,
          590.4749999999988,
          205.4700000000007,
          507.4800000000002,
          128.21499999999958,
          770.2400000000036,
          430.8999999999997,
          349.61999999999864,
          835.28,
          602.4699999999985,
          462.3399999999993,
          292.6300000000022,
          -153.6900000000008,
          1186.8350000000003,
          738.7299999999989,
          158.23500000000024,
          627.2050000000007,
          218.70999999999984,
          978.3899999999999,
          399.9100000000006,
          350.6649999999989,
          578.6300000000001,
          349.1750000000003,
          292.109,
          1144.1495000000002,
          46.18900000000028,
          826.4130000000004,
          512.3269999999998,
          212.17200000000102,
          355.80549999999846,
          307.977,
          1154.6540499999999,
          283.91415,
          399.2378,
          351.48449999999997,
          466.21249999999986,
          682.4069999999967,
          775.7540000000034,
          115.17500000000028,
          757.5759999999999,
          301.794,
          582.5790000000007,
          522.4599999999997,
          758.0200000000003,
          597.7049999999994,
          -85.96999999999922,
          810.3950000000009,
          855.764999999999,
          164.4200000000005,
          675.1050000000006,
          243.31000000000017,
          704.9050000000001,
          475.0799999999995,
          59.9699999999994,
          686.0600000000027,
          672.8699999999999,
          294.6399999999993,
          234.99000000000026,
          616.1749999999988,
          643.3699999999988,
          531.475000000003,
          789.1649999999987,
          239.5100000000001,
          365.49499999999955,
          321.6849999999994,
          687.1749999999998,
          458.39000000000226,
          605.1500000000004,
          252.24999999999812,
          390.750000000001,
          1062.2749999999987,
          230.8700000000009,
          502.41999999999814,
          543.9849999999988,
          102.58499999999938,
          761.5250000000086,
          704.8349999999982,
          164.48999999999822,
          725.0950000000026,
          -56.98999999999973,
          1330.0249999999992,
          287.6349999999976,
          104.45000000000111
         ]
        },
        {
         "marker": {
          "color": "red"
         },
         "mode": "markers",
         "name": "Top Two Peaks",
         "type": "scatter",
         "x": [
          9.4,
          -6.6000000000000005
         ],
         "y": [
          1330.0249999999992,
          1187.5849999999996
         ]
        },
        {
         "marker": {
          "color": "blue",
          "symbol": "cross"
         },
         "mode": "markers",
         "name": "Center Points",
         "type": "scatter",
         "x": [
          1.3999999999999997e-9
         ],
         "y": [
          0
         ]
        }
       ],
       "layout": {
        "annotations": [
         {
          "arrowcolor": "black",
          "arrowhead": 2,
          "arrowsize": 1,
          "arrowwidth": 2,
          "ax": -100,
          "ay": -200,
          "showarrow": true,
          "text": "Center Point: 1.400nA <br> Peak difference: 16.000 nA",
          "x": 1.3999999999999997,
          "y": 0
         }
        ],
        "height": 600,
        "legend": {
         "orientation": "h",
         "x": 0.5,
         "xanchor": "center",
         "y": 1.1,
         "yanchor": "top"
        },
        "template": {
         "data": {
          "bar": [
           {
            "error_x": {
             "color": "#2a3f5f"
            },
            "error_y": {
             "color": "#2a3f5f"
            },
            "marker": {
             "line": {
              "color": "#E5ECF6",
              "width": 0.5
             },
             "pattern": {
              "fillmode": "overlay",
              "size": 10,
              "solidity": 0.2
             }
            },
            "type": "bar"
           }
          ],
          "barpolar": [
           {
            "marker": {
             "line": {
              "color": "#E5ECF6",
              "width": 0.5
             },
             "pattern": {
              "fillmode": "overlay",
              "size": 10,
              "solidity": 0.2
             }
            },
            "type": "barpolar"
           }
          ],
          "carpet": [
           {
            "aaxis": {
             "endlinecolor": "#2a3f5f",
             "gridcolor": "white",
             "linecolor": "white",
             "minorgridcolor": "white",
             "startlinecolor": "#2a3f5f"
            },
            "baxis": {
             "endlinecolor": "#2a3f5f",
             "gridcolor": "white",
             "linecolor": "white",
             "minorgridcolor": "white",
             "startlinecolor": "#2a3f5f"
            },
            "type": "carpet"
           }
          ],
          "choropleth": [
           {
            "colorbar": {
             "outlinewidth": 0,
             "ticks": ""
            },
            "type": "choropleth"
           }
          ],
          "contour": [
           {
            "colorbar": {
             "outlinewidth": 0,
             "ticks": ""
            },
            "colorscale": [
             [
              0,
              "#0d0887"
             ],
             [
              0.1111111111111111,
              "#46039f"
             ],
             [
              0.2222222222222222,
              "#7201a8"
             ],
             [
              0.3333333333333333,
              "#9c179e"
             ],
             [
              0.4444444444444444,
              "#bd3786"
             ],
             [
              0.5555555555555556,
              "#d8576b"
             ],
             [
              0.6666666666666666,
              "#ed7953"
             ],
             [
              0.7777777777777778,
              "#fb9f3a"
             ],
             [
              0.8888888888888888,
              "#fdca26"
             ],
             [
              1,
              "#f0f921"
             ]
            ],
            "type": "contour"
           }
          ],
          "contourcarpet": [
           {
            "colorbar": {
             "outlinewidth": 0,
             "ticks": ""
            },
            "type": "contourcarpet"
           }
          ],
          "heatmap": [
           {
            "colorbar": {
             "outlinewidth": 0,
             "ticks": ""
            },
            "colorscale": [
             [
              0,
              "#0d0887"
             ],
             [
              0.1111111111111111,
              "#46039f"
             ],
             [
              0.2222222222222222,
              "#7201a8"
             ],
             [
              0.3333333333333333,
              "#9c179e"
             ],
             [
              0.4444444444444444,
              "#bd3786"
             ],
             [
              0.5555555555555556,
              "#d8576b"
             ],
             [
              0.6666666666666666,
              "#ed7953"
             ],
             [
              0.7777777777777778,
              "#fb9f3a"
             ],
             [
              0.8888888888888888,
              "#fdca26"
             ],
             [
              1,
              "#f0f921"
             ]
            ],
            "type": "heatmap"
           }
          ],
          "heatmapgl": [
           {
            "colorbar": {
             "outlinewidth": 0,
             "ticks": ""
            },
            "colorscale": [
             [
              0,
              "#0d0887"
             ],
             [
              0.1111111111111111,
              "#46039f"
             ],
             [
              0.2222222222222222,
              "#7201a8"
             ],
             [
              0.3333333333333333,
              "#9c179e"
             ],
             [
              0.4444444444444444,
              "#bd3786"
             ],
             [
              0.5555555555555556,
              "#d8576b"
             ],
             [
              0.6666666666666666,
              "#ed7953"
             ],
             [
              0.7777777777777778,
              "#fb9f3a"
             ],
             [
              0.8888888888888888,
              "#fdca26"
             ],
             [
              1,
              "#f0f921"
             ]
            ],
            "type": "heatmapgl"
           }
          ],
          "histogram": [
           {
            "marker": {
             "pattern": {
              "fillmode": "overlay",
              "size": 10,
              "solidity": 0.2
             }
            },
            "type": "histogram"
           }
          ],
          "histogram2d": [
           {
            "colorbar": {
             "outlinewidth": 0,
             "ticks": ""
            },
            "colorscale": [
             [
              0,
              "#0d0887"
             ],
             [
              0.1111111111111111,
              "#46039f"
             ],
             [
              0.2222222222222222,
              "#7201a8"
             ],
             [
              0.3333333333333333,
              "#9c179e"
             ],
             [
              0.4444444444444444,
              "#bd3786"
             ],
             [
              0.5555555555555556,
              "#d8576b"
             ],
             [
              0.6666666666666666,
              "#ed7953"
             ],
             [
              0.7777777777777778,
              "#fb9f3a"
             ],
             [
              0.8888888888888888,
              "#fdca26"
             ],
             [
              1,
              "#f0f921"
             ]
            ],
            "type": "histogram2d"
           }
          ],
          "histogram2dcontour": [
           {
            "colorbar": {
             "outlinewidth": 0,
             "ticks": ""
            },
            "colorscale": [
             [
              0,
              "#0d0887"
             ],
             [
              0.1111111111111111,
              "#46039f"
             ],
             [
              0.2222222222222222,
              "#7201a8"
             ],
             [
              0.3333333333333333,
              "#9c179e"
             ],
             [
              0.4444444444444444,
              "#bd3786"
             ],
             [
              0.5555555555555556,
              "#d8576b"
             ],
             [
              0.6666666666666666,
              "#ed7953"
             ],
             [
              0.7777777777777778,
              "#fb9f3a"
             ],
             [
              0.8888888888888888,
              "#fdca26"
             ],
             [
              1,
              "#f0f921"
             ]
            ],
            "type": "histogram2dcontour"
           }
          ],
          "mesh3d": [
           {
            "colorbar": {
             "outlinewidth": 0,
             "ticks": ""
            },
            "type": "mesh3d"
           }
          ],
          "parcoords": [
           {
            "line": {
             "colorbar": {
              "outlinewidth": 0,
              "ticks": ""
             }
            },
            "type": "parcoords"
           }
          ],
          "pie": [
           {
            "automargin": true,
            "type": "pie"
           }
          ],
          "scatter": [
           {
            "fillpattern": {
             "fillmode": "overlay",
             "size": 10,
             "solidity": 0.2
            },
            "type": "scatter"
           }
          ],
          "scatter3d": [
           {
            "line": {
             "colorbar": {
              "outlinewidth": 0,
              "ticks": ""
             }
            },
            "marker": {
             "colorbar": {
              "outlinewidth": 0,
              "ticks": ""
             }
            },
            "type": "scatter3d"
           }
          ],
          "scattercarpet": [
           {
            "marker": {
             "colorbar": {
              "outlinewidth": 0,
              "ticks": ""
             }
            },
            "type": "scattercarpet"
           }
          ],
          "scattergeo": [
           {
            "marker": {
             "colorbar": {
              "outlinewidth": 0,
              "ticks": ""
             }
            },
            "type": "scattergeo"
           }
          ],
          "scattergl": [
           {
            "marker": {
             "colorbar": {
              "outlinewidth": 0,
              "ticks": ""
             }
            },
            "type": "scattergl"
           }
          ],
          "scattermapbox": [
           {
            "marker": {
             "colorbar": {
              "outlinewidth": 0,
              "ticks": ""
             }
            },
            "type": "scattermapbox"
           }
          ],
          "scatterpolar": [
           {
            "marker": {
             "colorbar": {
              "outlinewidth": 0,
              "ticks": ""
             }
            },
            "type": "scatterpolar"
           }
          ],
          "scatterpolargl": [
           {
            "marker": {
             "colorbar": {
              "outlinewidth": 0,
              "ticks": ""
             }
            },
            "type": "scatterpolargl"
           }
          ],
          "scatterternary": [
           {
            "marker": {
             "colorbar": {
              "outlinewidth": 0,
              "ticks": ""
             }
            },
            "type": "scatterternary"
           }
          ],
          "surface": [
           {
            "colorbar": {
             "outlinewidth": 0,
             "ticks": ""
            },
            "colorscale": [
             [
              0,
              "#0d0887"
             ],
             [
              0.1111111111111111,
              "#46039f"
             ],
             [
              0.2222222222222222,
              "#7201a8"
             ],
             [
              0.3333333333333333,
              "#9c179e"
             ],
             [
              0.4444444444444444,
              "#bd3786"
             ],
             [
              0.5555555555555556,
              "#d8576b"
             ],
             [
              0.6666666666666666,
              "#ed7953"
             ],
             [
              0.7777777777777778,
              "#fb9f3a"
             ],
             [
              0.8888888888888888,
              "#fdca26"
             ],
             [
              1,
              "#f0f921"
             ]
            ],
            "type": "surface"
           }
          ],
          "table": [
           {
            "cells": {
             "fill": {
              "color": "#EBF0F8"
             },
             "line": {
              "color": "white"
             }
            },
            "header": {
             "fill": {
              "color": "#C8D4E3"
             },
             "line": {
              "color": "white"
             }
            },
            "type": "table"
           }
          ]
         },
         "layout": {
          "annotationdefaults": {
           "arrowcolor": "#2a3f5f",
           "arrowhead": 0,
           "arrowwidth": 1
          },
          "autotypenumbers": "strict",
          "coloraxis": {
           "colorbar": {
            "outlinewidth": 0,
            "ticks": ""
           }
          },
          "colorscale": {
           "diverging": [
            [
             0,
             "#8e0152"
            ],
            [
             0.1,
             "#c51b7d"
            ],
            [
             0.2,
             "#de77ae"
            ],
            [
             0.3,
             "#f1b6da"
            ],
            [
             0.4,
             "#fde0ef"
            ],
            [
             0.5,
             "#f7f7f7"
            ],
            [
             0.6,
             "#e6f5d0"
            ],
            [
             0.7,
             "#b8e186"
            ],
            [
             0.8,
             "#7fbc41"
            ],
            [
             0.9,
             "#4d9221"
            ],
            [
             1,
             "#276419"
            ]
           ],
           "sequential": [
            [
             0,
             "#0d0887"
            ],
            [
             0.1111111111111111,
             "#46039f"
            ],
            [
             0.2222222222222222,
             "#7201a8"
            ],
            [
             0.3333333333333333,
             "#9c179e"
            ],
            [
             0.4444444444444444,
             "#bd3786"
            ],
            [
             0.5555555555555556,
             "#d8576b"
            ],
            [
             0.6666666666666666,
             "#ed7953"
            ],
            [
             0.7777777777777778,
             "#fb9f3a"
            ],
            [
             0.8888888888888888,
             "#fdca26"
            ],
            [
             1,
             "#f0f921"
            ]
           ],
           "sequentialminus": [
            [
             0,
             "#0d0887"
            ],
            [
             0.1111111111111111,
             "#46039f"
            ],
            [
             0.2222222222222222,
             "#7201a8"
            ],
            [
             0.3333333333333333,
             "#9c179e"
            ],
            [
             0.4444444444444444,
             "#bd3786"
            ],
            [
             0.5555555555555556,
             "#d8576b"
            ],
            [
             0.6666666666666666,
             "#ed7953"
            ],
            [
             0.7777777777777778,
             "#fb9f3a"
            ],
            [
             0.8888888888888888,
             "#fdca26"
            ],
            [
             1,
             "#f0f921"
            ]
           ]
          },
          "colorway": [
           "#636efa",
           "#EF553B",
           "#00cc96",
           "#ab63fa",
           "#FFA15A",
           "#19d3f3",
           "#FF6692",
           "#B6E880",
           "#FF97FF",
           "#FECB52"
          ],
          "font": {
           "color": "#2a3f5f"
          },
          "geo": {
           "bgcolor": "white",
           "lakecolor": "white",
           "landcolor": "#E5ECF6",
           "showlakes": true,
           "showland": true,
           "subunitcolor": "white"
          },
          "hoverlabel": {
           "align": "left"
          },
          "hovermode": "closest",
          "mapbox": {
           "style": "light"
          },
          "paper_bgcolor": "white",
          "plot_bgcolor": "#E5ECF6",
          "polar": {
           "angularaxis": {
            "gridcolor": "white",
            "linecolor": "white",
            "ticks": ""
           },
           "bgcolor": "#E5ECF6",
           "radialaxis": {
            "gridcolor": "white",
            "linecolor": "white",
            "ticks": ""
           }
          },
          "scene": {
           "xaxis": {
            "backgroundcolor": "#E5ECF6",
            "gridcolor": "white",
            "gridwidth": 2,
            "linecolor": "white",
            "showbackground": true,
            "ticks": "",
            "zerolinecolor": "white"
           },
           "yaxis": {
            "backgroundcolor": "#E5ECF6",
            "gridcolor": "white",
            "gridwidth": 2,
            "linecolor": "white",
            "showbackground": true,
            "ticks": "",
            "zerolinecolor": "white"
           },
           "zaxis": {
            "backgroundcolor": "#E5ECF6",
            "gridcolor": "white",
            "gridwidth": 2,
            "linecolor": "white",
            "showbackground": true,
            "ticks": "",
            "zerolinecolor": "white"
           }
          },
          "shapedefaults": {
           "line": {
            "color": "#2a3f5f"
           }
          },
          "ternary": {
           "aaxis": {
            "gridcolor": "white",
            "linecolor": "white",
            "ticks": ""
           },
           "baxis": {
            "gridcolor": "white",
            "linecolor": "white",
            "ticks": ""
           },
           "bgcolor": "#E5ECF6",
           "caxis": {
            "gridcolor": "white",
            "linecolor": "white",
            "ticks": ""
           }
          },
          "title": {
           "x": 0.05
          },
          "xaxis": {
           "automargin": true,
           "gridcolor": "white",
           "linecolor": "white",
           "ticks": "",
           "title": {
            "standoff": 15
           },
           "zerolinecolor": "white",
           "zerolinewidth": 2
          },
          "yaxis": {
           "automargin": true,
           "gridcolor": "white",
           "linecolor": "white",
           "ticks": "",
           "title": {
            "standoff": 15
           },
           "zerolinecolor": "white",
           "zerolinewidth": 2
          }
         }
        },
        "title": {
         "text": "Run #<built-in function id> I vs. dV/dI"
        },
        "width": 600,
        "xaxis": {
         "title": {
          "text": "Current (nA)"
         }
        },
        "yaxis": {
         "title": {
          "text": "d(Voltage)/d(Current)"
         }
        }
       }
      }
     },
     "metadata": {},
     "output_type": "display_data"
    }
   ],
   "source": [
    "# I = 1e-6\n",
    "I = 10e-9\n",
    "appl_current(-I)\n",
    "sleep(1)\n",
    "\n",
    "# exp = qc.new_experiment('IV', sample_name='019_1kOhm')\n",
    "exp = qc.new_experiment('IV', sample_name='019-11_48-47-01-02')\n",
    "\n",
    "dataid = do1d(appl_current, -I ,I, 101, 0.01,meas_voltage_K2,)\n",
    "# dataid = do1d(appl_current, 6e-6 , -6e-6, 251, 0.01, meas_voltage_K1)\n",
    "# ivvi.set_dacs_zero()\n",
    "\n",
    "appl_current(0)\n",
    "# plot = plot_by_id(dataid)\n",
    "print(f\"R = {get_R_from_IV(dataid)}\")  \n",
    "IV(dataid)\n",
    "IV_diff(dataid)"
   ]
  },
  {
   "cell_type": "code",
   "execution_count": 27,
   "id": "7d9d30ae",
   "metadata": {},
   "outputs": [
    {
     "name": "stdout",
     "output_type": "stream",
     "text": [
      "Mag_x: 0.000848 mT\n",
      "Mag_y: -1.999998 mT\n",
      "Mag_z: 0.002624 mT\n"
     ]
    }
   ],
   "source": [
    "get_Mag()"
   ]
  },
  {
   "cell_type": "code",
   "execution_count": 56,
   "id": "eb787c42",
   "metadata": {},
   "outputs": [
    {
     "name": "stdout",
     "output_type": "stream",
     "text": [
      "Starting experimental run with id: 68. \n"
     ]
    },
    {
     "name": "stderr",
     "output_type": "stream",
     "text": [
      "100%|██████████| 101/101 [00:05<00:00, 19.82it/s]\n"
     ]
    },
    {
     "name": "stdout",
     "output_type": "stream",
     "text": [
      "R = 0.4335003876978119\n"
     ]
    },
    {
     "data": {
      "application/vnd.plotly.v1+json": {
       "config": {
        "plotlyServerURL": "https://plot.ly"
       },
       "data": [
        {
         "mode": "lines",
         "name": "Voltage vs. Current",
         "type": "scatter",
         "x": [
          -0.000035,
          -0.0000343,
          -0.0000336,
          -0.0000329,
          -0.0000322,
          -0.0000315,
          -0.0000308,
          -0.0000301,
          -0.0000294,
          -0.0000287,
          -0.000028,
          -0.0000273,
          -0.0000266,
          -0.0000259,
          -0.0000252,
          -0.0000245,
          -0.0000238,
          -0.0000231,
          -0.0000224,
          -0.0000217,
          -0.000021,
          -0.0000203,
          -0.0000196,
          -0.0000189,
          -0.0000182,
          -0.0000175,
          -0.0000168,
          -0.0000161,
          -0.0000154,
          -0.0000147,
          -0.000014,
          -0.0000133,
          -0.0000126,
          -0.0000119,
          -0.0000112,
          -0.0000105,
          -0.0000098,
          -0.0000091,
          -0.0000084,
          -0.0000077,
          -0.000007,
          -0.0000063,
          -0.0000056,
          -0.0000049,
          -0.0000042,
          -0.0000035,
          -0.0000028,
          -0.0000021,
          -0.0000014,
          -6.99999999999997e-7,
          0,
          7.00000000000004e-7,
          0.0000014,
          0.0000021,
          0.0000028,
          0.0000035,
          0.0000042,
          0.0000049,
          0.0000056,
          0.0000063,
          0.000007,
          0.0000077,
          0.0000084,
          0.0000091,
          0.0000098,
          0.0000105,
          0.0000112,
          0.0000119,
          0.0000126,
          0.0000133,
          0.000014,
          0.0000147,
          0.0000154,
          0.0000161,
          0.0000168,
          0.0000175,
          0.0000182,
          0.0000189,
          0.0000196,
          0.0000203,
          0.000021,
          0.0000217,
          0.0000224,
          0.0000231,
          0.0000238,
          0.0000245,
          0.0000252,
          0.0000259,
          0.0000266,
          0.0000273,
          0.000028,
          0.0000287,
          0.0000294,
          0.0000301,
          0.0000308,
          0.0000315,
          0.0000322,
          0.0000329,
          0.0000336,
          0.0000343,
          0.000035
         ],
         "y": [
          -0.024645900000000002,
          -0.024127739999999998,
          -0.02362796,
          -0.023125510000000002,
          -0.02262111,
          -0.02212443,
          -0.02160919,
          -0.021152980000000002,
          -0.02063092,
          -0.02010163,
          -0.01960932,
          -0.01907151,
          -0.01856982,
          -0.018107599999999998,
          -0.017625349999999998,
          -0.01715405,
          -0.01661479,
          -0.01615511,
          -0.01563506,
          -0.01508986,
          -0.01463505,
          -0.01413467,
          -0.013651660000000001,
          -0.0131208,
          -0.012617380000000001,
          -0.01212278,
          -0.01165478,
          -0.01115351,
          -0.01067104,
          -0.01020594,
          -0.009692306,
          -0.009216467,
          -0.008715358,
          -0.008240011,
          -0.007811554000000001,
          -0.007279257,
          -0.00680096,
          -0.0062883340000000005,
          -0.005835694,
          -0.005335479,
          -0.00484924,
          -0.004407329000000001,
          -0.0039367199999999995,
          -0.003490919,
          -0.003021934,
          -0.0025535600000000003,
          -0.002078243,
          -0.001521543,
          -0.0005838118,
          -0.0005563217,
          -0.0005683161,
          -0.0005686885,
          -0.0005483206,
          -0.0005390529,
          -0.0005389486,
          -0.0005119354,
          -0.0004917313,
          -0.00047066299999999996,
          -0.0004903605,
          -0.0004625874,
          -0.0004577896,
          -0.0004388371,
          -0.00046553750000000003,
          -0.0004518297,
          -0.00043332420000000003,
          -0.0004102445,
          -0.0004160256,
          -0.0004374813,
          -0.0004225666,
          -0.0003899659,
          -0.00039796710000000003,
          -0.0003699556,
          -0.0003399921,
          -0.0003849149,
          -0.00036168619999999997,
          -0.0003817145,
          -0.00035578890000000004,
          -0.0003510806,
          -0.0003324261,
          -0.0003454038,
          -0.0003189418,
          -0.0002935676,
          -0.000332888,
          -0.0003294164,
          -0.0002836294,
          -0.00027804200000000005,
          -0.000310002,
          -0.0002874289,
          -0.0002703388,
          -0.0002443537,
          -0.0002297817,
          -0.00022178050000000002,
          -0.0002242837,
          -0.00023842349999999998,
          -0.0002457989,
          -0.0002640213,
          0.02134404,
          0.021826989999999998,
          0.02230597,
          0.0228042,
          0.02330354
         ]
        }
       ],
       "layout": {
        "height": 960,
        "margin": {
         "b": 10,
         "l": 10,
         "r": 10,
         "t": 50
        },
        "template": {
         "data": {
          "bar": [
           {
            "error_x": {
             "color": "#2a3f5f"
            },
            "error_y": {
             "color": "#2a3f5f"
            },
            "marker": {
             "line": {
              "color": "#E5ECF6",
              "width": 0.5
             },
             "pattern": {
              "fillmode": "overlay",
              "size": 10,
              "solidity": 0.2
             }
            },
            "type": "bar"
           }
          ],
          "barpolar": [
           {
            "marker": {
             "line": {
              "color": "#E5ECF6",
              "width": 0.5
             },
             "pattern": {
              "fillmode": "overlay",
              "size": 10,
              "solidity": 0.2
             }
            },
            "type": "barpolar"
           }
          ],
          "carpet": [
           {
            "aaxis": {
             "endlinecolor": "#2a3f5f",
             "gridcolor": "white",
             "linecolor": "white",
             "minorgridcolor": "white",
             "startlinecolor": "#2a3f5f"
            },
            "baxis": {
             "endlinecolor": "#2a3f5f",
             "gridcolor": "white",
             "linecolor": "white",
             "minorgridcolor": "white",
             "startlinecolor": "#2a3f5f"
            },
            "type": "carpet"
           }
          ],
          "choropleth": [
           {
            "colorbar": {
             "outlinewidth": 0,
             "ticks": ""
            },
            "type": "choropleth"
           }
          ],
          "contour": [
           {
            "colorbar": {
             "outlinewidth": 0,
             "ticks": ""
            },
            "colorscale": [
             [
              0,
              "#0d0887"
             ],
             [
              0.1111111111111111,
              "#46039f"
             ],
             [
              0.2222222222222222,
              "#7201a8"
             ],
             [
              0.3333333333333333,
              "#9c179e"
             ],
             [
              0.4444444444444444,
              "#bd3786"
             ],
             [
              0.5555555555555556,
              "#d8576b"
             ],
             [
              0.6666666666666666,
              "#ed7953"
             ],
             [
              0.7777777777777778,
              "#fb9f3a"
             ],
             [
              0.8888888888888888,
              "#fdca26"
             ],
             [
              1,
              "#f0f921"
             ]
            ],
            "type": "contour"
           }
          ],
          "contourcarpet": [
           {
            "colorbar": {
             "outlinewidth": 0,
             "ticks": ""
            },
            "type": "contourcarpet"
           }
          ],
          "heatmap": [
           {
            "colorbar": {
             "outlinewidth": 0,
             "ticks": ""
            },
            "colorscale": [
             [
              0,
              "#0d0887"
             ],
             [
              0.1111111111111111,
              "#46039f"
             ],
             [
              0.2222222222222222,
              "#7201a8"
             ],
             [
              0.3333333333333333,
              "#9c179e"
             ],
             [
              0.4444444444444444,
              "#bd3786"
             ],
             [
              0.5555555555555556,
              "#d8576b"
             ],
             [
              0.6666666666666666,
              "#ed7953"
             ],
             [
              0.7777777777777778,
              "#fb9f3a"
             ],
             [
              0.8888888888888888,
              "#fdca26"
             ],
             [
              1,
              "#f0f921"
             ]
            ],
            "type": "heatmap"
           }
          ],
          "heatmapgl": [
           {
            "colorbar": {
             "outlinewidth": 0,
             "ticks": ""
            },
            "colorscale": [
             [
              0,
              "#0d0887"
             ],
             [
              0.1111111111111111,
              "#46039f"
             ],
             [
              0.2222222222222222,
              "#7201a8"
             ],
             [
              0.3333333333333333,
              "#9c179e"
             ],
             [
              0.4444444444444444,
              "#bd3786"
             ],
             [
              0.5555555555555556,
              "#d8576b"
             ],
             [
              0.6666666666666666,
              "#ed7953"
             ],
             [
              0.7777777777777778,
              "#fb9f3a"
             ],
             [
              0.8888888888888888,
              "#fdca26"
             ],
             [
              1,
              "#f0f921"
             ]
            ],
            "type": "heatmapgl"
           }
          ],
          "histogram": [
           {
            "marker": {
             "pattern": {
              "fillmode": "overlay",
              "size": 10,
              "solidity": 0.2
             }
            },
            "type": "histogram"
           }
          ],
          "histogram2d": [
           {
            "colorbar": {
             "outlinewidth": 0,
             "ticks": ""
            },
            "colorscale": [
             [
              0,
              "#0d0887"
             ],
             [
              0.1111111111111111,
              "#46039f"
             ],
             [
              0.2222222222222222,
              "#7201a8"
             ],
             [
              0.3333333333333333,
              "#9c179e"
             ],
             [
              0.4444444444444444,
              "#bd3786"
             ],
             [
              0.5555555555555556,
              "#d8576b"
             ],
             [
              0.6666666666666666,
              "#ed7953"
             ],
             [
              0.7777777777777778,
              "#fb9f3a"
             ],
             [
              0.8888888888888888,
              "#fdca26"
             ],
             [
              1,
              "#f0f921"
             ]
            ],
            "type": "histogram2d"
           }
          ],
          "histogram2dcontour": [
           {
            "colorbar": {
             "outlinewidth": 0,
             "ticks": ""
            },
            "colorscale": [
             [
              0,
              "#0d0887"
             ],
             [
              0.1111111111111111,
              "#46039f"
             ],
             [
              0.2222222222222222,
              "#7201a8"
             ],
             [
              0.3333333333333333,
              "#9c179e"
             ],
             [
              0.4444444444444444,
              "#bd3786"
             ],
             [
              0.5555555555555556,
              "#d8576b"
             ],
             [
              0.6666666666666666,
              "#ed7953"
             ],
             [
              0.7777777777777778,
              "#fb9f3a"
             ],
             [
              0.8888888888888888,
              "#fdca26"
             ],
             [
              1,
              "#f0f921"
             ]
            ],
            "type": "histogram2dcontour"
           }
          ],
          "mesh3d": [
           {
            "colorbar": {
             "outlinewidth": 0,
             "ticks": ""
            },
            "type": "mesh3d"
           }
          ],
          "parcoords": [
           {
            "line": {
             "colorbar": {
              "outlinewidth": 0,
              "ticks": ""
             }
            },
            "type": "parcoords"
           }
          ],
          "pie": [
           {
            "automargin": true,
            "type": "pie"
           }
          ],
          "scatter": [
           {
            "fillpattern": {
             "fillmode": "overlay",
             "size": 10,
             "solidity": 0.2
            },
            "type": "scatter"
           }
          ],
          "scatter3d": [
           {
            "line": {
             "colorbar": {
              "outlinewidth": 0,
              "ticks": ""
             }
            },
            "marker": {
             "colorbar": {
              "outlinewidth": 0,
              "ticks": ""
             }
            },
            "type": "scatter3d"
           }
          ],
          "scattercarpet": [
           {
            "marker": {
             "colorbar": {
              "outlinewidth": 0,
              "ticks": ""
             }
            },
            "type": "scattercarpet"
           }
          ],
          "scattergeo": [
           {
            "marker": {
             "colorbar": {
              "outlinewidth": 0,
              "ticks": ""
             }
            },
            "type": "scattergeo"
           }
          ],
          "scattergl": [
           {
            "marker": {
             "colorbar": {
              "outlinewidth": 0,
              "ticks": ""
             }
            },
            "type": "scattergl"
           }
          ],
          "scattermapbox": [
           {
            "marker": {
             "colorbar": {
              "outlinewidth": 0,
              "ticks": ""
             }
            },
            "type": "scattermapbox"
           }
          ],
          "scatterpolar": [
           {
            "marker": {
             "colorbar": {
              "outlinewidth": 0,
              "ticks": ""
             }
            },
            "type": "scatterpolar"
           }
          ],
          "scatterpolargl": [
           {
            "marker": {
             "colorbar": {
              "outlinewidth": 0,
              "ticks": ""
             }
            },
            "type": "scatterpolargl"
           }
          ],
          "scatterternary": [
           {
            "marker": {
             "colorbar": {
              "outlinewidth": 0,
              "ticks": ""
             }
            },
            "type": "scatterternary"
           }
          ],
          "surface": [
           {
            "colorbar": {
             "outlinewidth": 0,
             "ticks": ""
            },
            "colorscale": [
             [
              0,
              "#0d0887"
             ],
             [
              0.1111111111111111,
              "#46039f"
             ],
             [
              0.2222222222222222,
              "#7201a8"
             ],
             [
              0.3333333333333333,
              "#9c179e"
             ],
             [
              0.4444444444444444,
              "#bd3786"
             ],
             [
              0.5555555555555556,
              "#d8576b"
             ],
             [
              0.6666666666666666,
              "#ed7953"
             ],
             [
              0.7777777777777778,
              "#fb9f3a"
             ],
             [
              0.8888888888888888,
              "#fdca26"
             ],
             [
              1,
              "#f0f921"
             ]
            ],
            "type": "surface"
           }
          ],
          "table": [
           {
            "cells": {
             "fill": {
              "color": "#EBF0F8"
             },
             "line": {
              "color": "white"
             }
            },
            "header": {
             "fill": {
              "color": "#C8D4E3"
             },
             "line": {
              "color": "white"
             }
            },
            "type": "table"
           }
          ]
         },
         "layout": {
          "annotationdefaults": {
           "arrowcolor": "#2a3f5f",
           "arrowhead": 0,
           "arrowwidth": 1
          },
          "autotypenumbers": "strict",
          "coloraxis": {
           "colorbar": {
            "outlinewidth": 0,
            "ticks": ""
           }
          },
          "colorscale": {
           "diverging": [
            [
             0,
             "#8e0152"
            ],
            [
             0.1,
             "#c51b7d"
            ],
            [
             0.2,
             "#de77ae"
            ],
            [
             0.3,
             "#f1b6da"
            ],
            [
             0.4,
             "#fde0ef"
            ],
            [
             0.5,
             "#f7f7f7"
            ],
            [
             0.6,
             "#e6f5d0"
            ],
            [
             0.7,
             "#b8e186"
            ],
            [
             0.8,
             "#7fbc41"
            ],
            [
             0.9,
             "#4d9221"
            ],
            [
             1,
             "#276419"
            ]
           ],
           "sequential": [
            [
             0,
             "#0d0887"
            ],
            [
             0.1111111111111111,
             "#46039f"
            ],
            [
             0.2222222222222222,
             "#7201a8"
            ],
            [
             0.3333333333333333,
             "#9c179e"
            ],
            [
             0.4444444444444444,
             "#bd3786"
            ],
            [
             0.5555555555555556,
             "#d8576b"
            ],
            [
             0.6666666666666666,
             "#ed7953"
            ],
            [
             0.7777777777777778,
             "#fb9f3a"
            ],
            [
             0.8888888888888888,
             "#fdca26"
            ],
            [
             1,
             "#f0f921"
            ]
           ],
           "sequentialminus": [
            [
             0,
             "#0d0887"
            ],
            [
             0.1111111111111111,
             "#46039f"
            ],
            [
             0.2222222222222222,
             "#7201a8"
            ],
            [
             0.3333333333333333,
             "#9c179e"
            ],
            [
             0.4444444444444444,
             "#bd3786"
            ],
            [
             0.5555555555555556,
             "#d8576b"
            ],
            [
             0.6666666666666666,
             "#ed7953"
            ],
            [
             0.7777777777777778,
             "#fb9f3a"
            ],
            [
             0.8888888888888888,
             "#fdca26"
            ],
            [
             1,
             "#f0f921"
            ]
           ]
          },
          "colorway": [
           "#636efa",
           "#EF553B",
           "#00cc96",
           "#ab63fa",
           "#FFA15A",
           "#19d3f3",
           "#FF6692",
           "#B6E880",
           "#FF97FF",
           "#FECB52"
          ],
          "font": {
           "color": "#2a3f5f"
          },
          "geo": {
           "bgcolor": "white",
           "lakecolor": "white",
           "landcolor": "#E5ECF6",
           "showlakes": true,
           "showland": true,
           "subunitcolor": "white"
          },
          "hoverlabel": {
           "align": "left"
          },
          "hovermode": "closest",
          "mapbox": {
           "style": "light"
          },
          "paper_bgcolor": "white",
          "plot_bgcolor": "#E5ECF6",
          "polar": {
           "angularaxis": {
            "gridcolor": "white",
            "linecolor": "white",
            "ticks": ""
           },
           "bgcolor": "#E5ECF6",
           "radialaxis": {
            "gridcolor": "white",
            "linecolor": "white",
            "ticks": ""
           }
          },
          "scene": {
           "xaxis": {
            "backgroundcolor": "#E5ECF6",
            "gridcolor": "white",
            "gridwidth": 2,
            "linecolor": "white",
            "showbackground": true,
            "ticks": "",
            "zerolinecolor": "white"
           },
           "yaxis": {
            "backgroundcolor": "#E5ECF6",
            "gridcolor": "white",
            "gridwidth": 2,
            "linecolor": "white",
            "showbackground": true,
            "ticks": "",
            "zerolinecolor": "white"
           },
           "zaxis": {
            "backgroundcolor": "#E5ECF6",
            "gridcolor": "white",
            "gridwidth": 2,
            "linecolor": "white",
            "showbackground": true,
            "ticks": "",
            "zerolinecolor": "white"
           }
          },
          "shapedefaults": {
           "line": {
            "color": "#2a3f5f"
           }
          },
          "ternary": {
           "aaxis": {
            "gridcolor": "white",
            "linecolor": "white",
            "ticks": ""
           },
           "baxis": {
            "gridcolor": "white",
            "linecolor": "white",
            "ticks": ""
           },
           "bgcolor": "#E5ECF6",
           "caxis": {
            "gridcolor": "white",
            "linecolor": "white",
            "ticks": ""
           }
          },
          "title": {
           "x": 0.05
          },
          "xaxis": {
           "automargin": true,
           "gridcolor": "white",
           "linecolor": "white",
           "ticks": "",
           "title": {
            "standoff": 15
           },
           "zerolinecolor": "white",
           "zerolinewidth": 2
          },
          "yaxis": {
           "automargin": true,
           "gridcolor": "white",
           "linecolor": "white",
           "ticks": "",
           "title": {
            "standoff": 15
           },
           "zerolinecolor": "white",
           "zerolinewidth": 2
          }
         }
        },
        "title": {
         "font": {
          "size": 28
         },
         "text": "<b>#68 IV</b> 019-01_29-30-28-27@(-0.00,-0.02,-0.00)mT, R_fit=0.4335 Ω"
        },
        "width": 1080,
        "xaxis": {
         "tickfont": {
          "size": 16
         },
         "title": {
          "font": {
           "size": 20
          },
          "text": "appl_current"
         }
        },
        "yaxis": {
         "tickfont": {
          "size": 16
         },
         "title": {
          "font": {
           "size": 20
          },
          "text": "meas_voltage_K2 mV"
         }
        }
       }
      }
     },
     "metadata": {},
     "output_type": "display_data"
    },
    {
     "data": {
      "application/vnd.plotly.v1+json": {
       "config": {
        "plotlyServerURL": "https://plot.ly"
       },
       "data": [
        {
         "mode": "lines",
         "name": "d(Voltage)/d(Current)",
         "type": "scatter",
         "x": [
          -35,
          -34.3,
          -33.599999999999994,
          -32.9,
          -32.199999999999996,
          -31.5,
          -30.800000000000004,
          -30.1,
          -29.4,
          -28.7,
          -28,
          -27.3,
          -26.599999999999998,
          -25.9,
          -25.2,
          -24.5,
          -23.8,
          -23.099999999999998,
          -22.4,
          -21.7,
          -21,
          -20.299999999999997,
          -19.599999999999998,
          -18.9,
          -18.2,
          -17.5,
          -16.799999999999997,
          -16.099999999999998,
          -15.400000000000002,
          -14.7,
          -14,
          -13.299999999999999,
          -12.6,
          -11.9,
          -11.2,
          -10.5,
          -9.799999999999999,
          -9.1,
          -8.399999999999999,
          -7.700000000000001,
          -7,
          -6.3,
          -5.6,
          -4.8999999999999995,
          -4.199999999999999,
          -3.5,
          -2.8,
          -2.0999999999999996,
          -1.4,
          -0.699999999999997,
          0,
          0.700000000000004,
          1.4,
          2.0999999999999996,
          2.8,
          3.5,
          4.199999999999999,
          4.8999999999999995,
          5.6,
          6.3,
          7,
          7.700000000000001,
          8.399999999999999,
          9.1,
          9.799999999999999,
          10.5,
          11.2,
          11.9,
          12.6,
          13.299999999999999,
          14,
          14.7,
          15.400000000000002,
          16.099999999999998,
          16.799999999999997,
          17.5,
          18.2,
          18.9,
          19.599999999999998,
          20.299999999999997,
          21,
          21.7,
          22.4,
          23.099999999999998,
          23.8,
          24.5,
          25.2,
          25.9,
          26.599999999999998,
          27.3,
          28,
          28.7,
          29.4,
          30.1,
          30.800000000000004,
          31.5,
          32.199999999999996,
          32.9,
          33.599999999999994,
          34.3
         ],
         "y": [
          0.7402285714285776,
          0.7139714285714253,
          0.7177857142857137,
          0.7205714285714271,
          0.7095428571428607,
          0.7360571428571475,
          0.6517285714285656,
          0.7458000000000002,
          0.756128571428573,
          0.703299999999999,
          0.7683000000000012,
          0.7166999999999975,
          0.6603142857142883,
          0.6889285714285719,
          0.6732857142857143,
          0.7703714285714246,
          0.6566857142857147,
          0.742928571428574,
          0.778857142857142,
          0.6497285714285715,
          0.714828571428571,
          0.6900142857142846,
          0.7583714285714297,
          0.719171428571427,
          0.706571428571429,
          0.6685714285714304,
          0.716099999999999,
          0.689242857142861,
          0.6644285714285697,
          0.733762857142856,
          0.6797699999999995,
          0.7158700000000008,
          0.6790671428571412,
          0.6120814285714287,
          0.760424285714287,
          0.6832814285714277,
          0.7323228571428575,
          0.6466285714285713,
          0.7145928571428589,
          0.6946271428571416,
          0.6313014285714286,
          0.6722985714285723,
          0.6368585714285712,
          0.6699785714285712,
          0.6691057142857143,
          0.6790242857142859,
          0.795285714285714,
          1.3396160000000004,
          0.03927157142857116,
          -0.017134857142857163,
          -0.0005319999999999498,
          0.029097000000000123,
          0.013239571428571429,
          0.00014899999999990802,
          0.03859028571428577,
          0.028862999999999986,
          0.030097571428571487,
          -0.028139285714285686,
          0.03967585714285708,
          0.006854000000000004,
          0.027074999999999978,
          -0.03814342857142868,
          0.019582571428571418,
          0.02643642857142858,
          0.03297099999999998,
          -0.008258714285714222,
          -0.030650999999999998,
          0.021306714285714238,
          0.046572428571428584,
          -0.011430285714285757,
          0.04001642857142862,
          0.04280499999999986,
          -0.06417542857142887,
          0.033183857142857175,
          -0.028611857142857182,
          0.03703657142857142,
          0.006726142857142886,
          0.0266492857142857,
          -0.018539571428571384,
          0.037802857142857124,
          0.03624885714285715,
          -0.05617200000000004,
          0.004959428571428568,
          0.06541000000000001,
          0.007981999999999967,
          -0.04565714285714282,
          0.0322472857142857,
          0.024414428571428563,
          0.03712157142857142,
          0.020817142857142864,
          0.01143028571428572,
          -0.003575999999999986,
          -0.02019971428571426,
          -0.010536285714285729,
          -0.0260320000000001,
          30.868659000000143,
          0.6899285714285659,
          0.6842571428571489,
          0.7117571428571395,
          0.7133428571428603
         ]
        },
        {
         "marker": {
          "color": "red"
         },
         "mode": "markers",
         "name": "Top Two Peaks",
         "type": "scatter",
         "x": [
          31.5,
          -2.0999999999999996
         ],
         "y": [
          30.868659000000143,
          1.3396160000000004
         ]
        },
        {
         "marker": {
          "color": "blue",
          "symbol": "cross"
         },
         "mode": "markers",
         "name": "Center Points",
         "type": "scatter",
         "x": [
          0.0000147
         ],
         "y": [
          0
         ]
        }
       ],
       "layout": {
        "annotations": [
         {
          "arrowcolor": "black",
          "arrowhead": 2,
          "arrowsize": 1,
          "arrowwidth": 2,
          "ax": -100,
          "ay": -200,
          "showarrow": true,
          "text": "Center Point: 14.700μA <br> Peak difference: 33.600 μA",
          "x": 14.7,
          "y": 0
         }
        ],
        "height": 600,
        "legend": {
         "orientation": "h",
         "x": 0.5,
         "xanchor": "center",
         "y": 1.1,
         "yanchor": "top"
        },
        "template": {
         "data": {
          "bar": [
           {
            "error_x": {
             "color": "#2a3f5f"
            },
            "error_y": {
             "color": "#2a3f5f"
            },
            "marker": {
             "line": {
              "color": "#E5ECF6",
              "width": 0.5
             },
             "pattern": {
              "fillmode": "overlay",
              "size": 10,
              "solidity": 0.2
             }
            },
            "type": "bar"
           }
          ],
          "barpolar": [
           {
            "marker": {
             "line": {
              "color": "#E5ECF6",
              "width": 0.5
             },
             "pattern": {
              "fillmode": "overlay",
              "size": 10,
              "solidity": 0.2
             }
            },
            "type": "barpolar"
           }
          ],
          "carpet": [
           {
            "aaxis": {
             "endlinecolor": "#2a3f5f",
             "gridcolor": "white",
             "linecolor": "white",
             "minorgridcolor": "white",
             "startlinecolor": "#2a3f5f"
            },
            "baxis": {
             "endlinecolor": "#2a3f5f",
             "gridcolor": "white",
             "linecolor": "white",
             "minorgridcolor": "white",
             "startlinecolor": "#2a3f5f"
            },
            "type": "carpet"
           }
          ],
          "choropleth": [
           {
            "colorbar": {
             "outlinewidth": 0,
             "ticks": ""
            },
            "type": "choropleth"
           }
          ],
          "contour": [
           {
            "colorbar": {
             "outlinewidth": 0,
             "ticks": ""
            },
            "colorscale": [
             [
              0,
              "#0d0887"
             ],
             [
              0.1111111111111111,
              "#46039f"
             ],
             [
              0.2222222222222222,
              "#7201a8"
             ],
             [
              0.3333333333333333,
              "#9c179e"
             ],
             [
              0.4444444444444444,
              "#bd3786"
             ],
             [
              0.5555555555555556,
              "#d8576b"
             ],
             [
              0.6666666666666666,
              "#ed7953"
             ],
             [
              0.7777777777777778,
              "#fb9f3a"
             ],
             [
              0.8888888888888888,
              "#fdca26"
             ],
             [
              1,
              "#f0f921"
             ]
            ],
            "type": "contour"
           }
          ],
          "contourcarpet": [
           {
            "colorbar": {
             "outlinewidth": 0,
             "ticks": ""
            },
            "type": "contourcarpet"
           }
          ],
          "heatmap": [
           {
            "colorbar": {
             "outlinewidth": 0,
             "ticks": ""
            },
            "colorscale": [
             [
              0,
              "#0d0887"
             ],
             [
              0.1111111111111111,
              "#46039f"
             ],
             [
              0.2222222222222222,
              "#7201a8"
             ],
             [
              0.3333333333333333,
              "#9c179e"
             ],
             [
              0.4444444444444444,
              "#bd3786"
             ],
             [
              0.5555555555555556,
              "#d8576b"
             ],
             [
              0.6666666666666666,
              "#ed7953"
             ],
             [
              0.7777777777777778,
              "#fb9f3a"
             ],
             [
              0.8888888888888888,
              "#fdca26"
             ],
             [
              1,
              "#f0f921"
             ]
            ],
            "type": "heatmap"
           }
          ],
          "heatmapgl": [
           {
            "colorbar": {
             "outlinewidth": 0,
             "ticks": ""
            },
            "colorscale": [
             [
              0,
              "#0d0887"
             ],
             [
              0.1111111111111111,
              "#46039f"
             ],
             [
              0.2222222222222222,
              "#7201a8"
             ],
             [
              0.3333333333333333,
              "#9c179e"
             ],
             [
              0.4444444444444444,
              "#bd3786"
             ],
             [
              0.5555555555555556,
              "#d8576b"
             ],
             [
              0.6666666666666666,
              "#ed7953"
             ],
             [
              0.7777777777777778,
              "#fb9f3a"
             ],
             [
              0.8888888888888888,
              "#fdca26"
             ],
             [
              1,
              "#f0f921"
             ]
            ],
            "type": "heatmapgl"
           }
          ],
          "histogram": [
           {
            "marker": {
             "pattern": {
              "fillmode": "overlay",
              "size": 10,
              "solidity": 0.2
             }
            },
            "type": "histogram"
           }
          ],
          "histogram2d": [
           {
            "colorbar": {
             "outlinewidth": 0,
             "ticks": ""
            },
            "colorscale": [
             [
              0,
              "#0d0887"
             ],
             [
              0.1111111111111111,
              "#46039f"
             ],
             [
              0.2222222222222222,
              "#7201a8"
             ],
             [
              0.3333333333333333,
              "#9c179e"
             ],
             [
              0.4444444444444444,
              "#bd3786"
             ],
             [
              0.5555555555555556,
              "#d8576b"
             ],
             [
              0.6666666666666666,
              "#ed7953"
             ],
             [
              0.7777777777777778,
              "#fb9f3a"
             ],
             [
              0.8888888888888888,
              "#fdca26"
             ],
             [
              1,
              "#f0f921"
             ]
            ],
            "type": "histogram2d"
           }
          ],
          "histogram2dcontour": [
           {
            "colorbar": {
             "outlinewidth": 0,
             "ticks": ""
            },
            "colorscale": [
             [
              0,
              "#0d0887"
             ],
             [
              0.1111111111111111,
              "#46039f"
             ],
             [
              0.2222222222222222,
              "#7201a8"
             ],
             [
              0.3333333333333333,
              "#9c179e"
             ],
             [
              0.4444444444444444,
              "#bd3786"
             ],
             [
              0.5555555555555556,
              "#d8576b"
             ],
             [
              0.6666666666666666,
              "#ed7953"
             ],
             [
              0.7777777777777778,
              "#fb9f3a"
             ],
             [
              0.8888888888888888,
              "#fdca26"
             ],
             [
              1,
              "#f0f921"
             ]
            ],
            "type": "histogram2dcontour"
           }
          ],
          "mesh3d": [
           {
            "colorbar": {
             "outlinewidth": 0,
             "ticks": ""
            },
            "type": "mesh3d"
           }
          ],
          "parcoords": [
           {
            "line": {
             "colorbar": {
              "outlinewidth": 0,
              "ticks": ""
             }
            },
            "type": "parcoords"
           }
          ],
          "pie": [
           {
            "automargin": true,
            "type": "pie"
           }
          ],
          "scatter": [
           {
            "fillpattern": {
             "fillmode": "overlay",
             "size": 10,
             "solidity": 0.2
            },
            "type": "scatter"
           }
          ],
          "scatter3d": [
           {
            "line": {
             "colorbar": {
              "outlinewidth": 0,
              "ticks": ""
             }
            },
            "marker": {
             "colorbar": {
              "outlinewidth": 0,
              "ticks": ""
             }
            },
            "type": "scatter3d"
           }
          ],
          "scattercarpet": [
           {
            "marker": {
             "colorbar": {
              "outlinewidth": 0,
              "ticks": ""
             }
            },
            "type": "scattercarpet"
           }
          ],
          "scattergeo": [
           {
            "marker": {
             "colorbar": {
              "outlinewidth": 0,
              "ticks": ""
             }
            },
            "type": "scattergeo"
           }
          ],
          "scattergl": [
           {
            "marker": {
             "colorbar": {
              "outlinewidth": 0,
              "ticks": ""
             }
            },
            "type": "scattergl"
           }
          ],
          "scattermapbox": [
           {
            "marker": {
             "colorbar": {
              "outlinewidth": 0,
              "ticks": ""
             }
            },
            "type": "scattermapbox"
           }
          ],
          "scatterpolar": [
           {
            "marker": {
             "colorbar": {
              "outlinewidth": 0,
              "ticks": ""
             }
            },
            "type": "scatterpolar"
           }
          ],
          "scatterpolargl": [
           {
            "marker": {
             "colorbar": {
              "outlinewidth": 0,
              "ticks": ""
             }
            },
            "type": "scatterpolargl"
           }
          ],
          "scatterternary": [
           {
            "marker": {
             "colorbar": {
              "outlinewidth": 0,
              "ticks": ""
             }
            },
            "type": "scatterternary"
           }
          ],
          "surface": [
           {
            "colorbar": {
             "outlinewidth": 0,
             "ticks": ""
            },
            "colorscale": [
             [
              0,
              "#0d0887"
             ],
             [
              0.1111111111111111,
              "#46039f"
             ],
             [
              0.2222222222222222,
              "#7201a8"
             ],
             [
              0.3333333333333333,
              "#9c179e"
             ],
             [
              0.4444444444444444,
              "#bd3786"
             ],
             [
              0.5555555555555556,
              "#d8576b"
             ],
             [
              0.6666666666666666,
              "#ed7953"
             ],
             [
              0.7777777777777778,
              "#fb9f3a"
             ],
             [
              0.8888888888888888,
              "#fdca26"
             ],
             [
              1,
              "#f0f921"
             ]
            ],
            "type": "surface"
           }
          ],
          "table": [
           {
            "cells": {
             "fill": {
              "color": "#EBF0F8"
             },
             "line": {
              "color": "white"
             }
            },
            "header": {
             "fill": {
              "color": "#C8D4E3"
             },
             "line": {
              "color": "white"
             }
            },
            "type": "table"
           }
          ]
         },
         "layout": {
          "annotationdefaults": {
           "arrowcolor": "#2a3f5f",
           "arrowhead": 0,
           "arrowwidth": 1
          },
          "autotypenumbers": "strict",
          "coloraxis": {
           "colorbar": {
            "outlinewidth": 0,
            "ticks": ""
           }
          },
          "colorscale": {
           "diverging": [
            [
             0,
             "#8e0152"
            ],
            [
             0.1,
             "#c51b7d"
            ],
            [
             0.2,
             "#de77ae"
            ],
            [
             0.3,
             "#f1b6da"
            ],
            [
             0.4,
             "#fde0ef"
            ],
            [
             0.5,
             "#f7f7f7"
            ],
            [
             0.6,
             "#e6f5d0"
            ],
            [
             0.7,
             "#b8e186"
            ],
            [
             0.8,
             "#7fbc41"
            ],
            [
             0.9,
             "#4d9221"
            ],
            [
             1,
             "#276419"
            ]
           ],
           "sequential": [
            [
             0,
             "#0d0887"
            ],
            [
             0.1111111111111111,
             "#46039f"
            ],
            [
             0.2222222222222222,
             "#7201a8"
            ],
            [
             0.3333333333333333,
             "#9c179e"
            ],
            [
             0.4444444444444444,
             "#bd3786"
            ],
            [
             0.5555555555555556,
             "#d8576b"
            ],
            [
             0.6666666666666666,
             "#ed7953"
            ],
            [
             0.7777777777777778,
             "#fb9f3a"
            ],
            [
             0.8888888888888888,
             "#fdca26"
            ],
            [
             1,
             "#f0f921"
            ]
           ],
           "sequentialminus": [
            [
             0,
             "#0d0887"
            ],
            [
             0.1111111111111111,
             "#46039f"
            ],
            [
             0.2222222222222222,
             "#7201a8"
            ],
            [
             0.3333333333333333,
             "#9c179e"
            ],
            [
             0.4444444444444444,
             "#bd3786"
            ],
            [
             0.5555555555555556,
             "#d8576b"
            ],
            [
             0.6666666666666666,
             "#ed7953"
            ],
            [
             0.7777777777777778,
             "#fb9f3a"
            ],
            [
             0.8888888888888888,
             "#fdca26"
            ],
            [
             1,
             "#f0f921"
            ]
           ]
          },
          "colorway": [
           "#636efa",
           "#EF553B",
           "#00cc96",
           "#ab63fa",
           "#FFA15A",
           "#19d3f3",
           "#FF6692",
           "#B6E880",
           "#FF97FF",
           "#FECB52"
          ],
          "font": {
           "color": "#2a3f5f"
          },
          "geo": {
           "bgcolor": "white",
           "lakecolor": "white",
           "landcolor": "#E5ECF6",
           "showlakes": true,
           "showland": true,
           "subunitcolor": "white"
          },
          "hoverlabel": {
           "align": "left"
          },
          "hovermode": "closest",
          "mapbox": {
           "style": "light"
          },
          "paper_bgcolor": "white",
          "plot_bgcolor": "#E5ECF6",
          "polar": {
           "angularaxis": {
            "gridcolor": "white",
            "linecolor": "white",
            "ticks": ""
           },
           "bgcolor": "#E5ECF6",
           "radialaxis": {
            "gridcolor": "white",
            "linecolor": "white",
            "ticks": ""
           }
          },
          "scene": {
           "xaxis": {
            "backgroundcolor": "#E5ECF6",
            "gridcolor": "white",
            "gridwidth": 2,
            "linecolor": "white",
            "showbackground": true,
            "ticks": "",
            "zerolinecolor": "white"
           },
           "yaxis": {
            "backgroundcolor": "#E5ECF6",
            "gridcolor": "white",
            "gridwidth": 2,
            "linecolor": "white",
            "showbackground": true,
            "ticks": "",
            "zerolinecolor": "white"
           },
           "zaxis": {
            "backgroundcolor": "#E5ECF6",
            "gridcolor": "white",
            "gridwidth": 2,
            "linecolor": "white",
            "showbackground": true,
            "ticks": "",
            "zerolinecolor": "white"
           }
          },
          "shapedefaults": {
           "line": {
            "color": "#2a3f5f"
           }
          },
          "ternary": {
           "aaxis": {
            "gridcolor": "white",
            "linecolor": "white",
            "ticks": ""
           },
           "baxis": {
            "gridcolor": "white",
            "linecolor": "white",
            "ticks": ""
           },
           "bgcolor": "#E5ECF6",
           "caxis": {
            "gridcolor": "white",
            "linecolor": "white",
            "ticks": ""
           }
          },
          "title": {
           "x": 0.05
          },
          "xaxis": {
           "automargin": true,
           "gridcolor": "white",
           "linecolor": "white",
           "ticks": "",
           "title": {
            "standoff": 15
           },
           "zerolinecolor": "white",
           "zerolinewidth": 2
          },
          "yaxis": {
           "automargin": true,
           "gridcolor": "white",
           "linecolor": "white",
           "ticks": "",
           "title": {
            "standoff": 15
           },
           "zerolinecolor": "white",
           "zerolinewidth": 2
          }
         }
        },
        "title": {
         "text": "Run #<built-in function id> I vs. dV/dI"
        },
        "width": 600,
        "xaxis": {
         "title": {
          "text": "Current (μA)"
         }
        },
        "yaxis": {
         "title": {
          "text": "d(Voltage)/d(Current)"
         }
        }
       }
      }
     },
     "metadata": {},
     "output_type": "display_data"
    }
   ],
   "source": [
    "I = 35e-6\n",
    "# I = 10e-9\n",
    "appl_current(-I)\n",
    "sleep(1)\n",
    "Mag_x, Mag_y, Mag_z = get_Mag(False)\n",
    "# exp = qc.new_experiment('IV', sample_name='019_1kOhm')\n",
    "exp = qc.new_experiment('IV', sample_name=f'019-01_29-30-28-27@({Mag_x*1e3:.2f},{Mag_y*1e3:.2f},{Mag_z*1e3:.2f})mT')\n",
    "\n",
    "dataid = do1d(appl_current, -I ,I, 101, 0.01,meas_voltage_K2,)\n",
    "# dataid = do1d(appl_current, 6e-6 , -6e-6, 251, 0.01, meas_voltage_K1)\n",
    "# ivvi.set_dacs_zero()\n",
    "\n",
    "appl_current(0)\n",
    "# plot = plot_by_id(dataid)\n",
    "print(f\"R = {get_R_from_IV(dataid)}\")  \n",
    "IV(dataid)\n",
    "IV_diff(dataid)"
   ]
  },
  {
   "cell_type": "code",
   "execution_count": null,
   "id": "54e746cc",
   "metadata": {},
   "outputs": [],
   "source": [
    "import numpy as np\n",
    "import matplotlib.pyplot as plt\n",
    "from scipy.stats import linregress\n",
    "import matplotlib.font_manager as fm\n",
    "\n",
    "# 設置支持中文的字體\n",
    "plt.rcParams['font.sans-serif'] = ['simsun']  # 使用宋體字\n",
    "plt.rcParams['axes.unicode_minus'] = False  # 解決負號顯示問題\n",
    "\n",
    "# 確認字體是否已經加載\n",
    "print(fm.findSystemFonts(fontpaths=None, fontext='ttf'))\n",
    "\n",
    "# 電流與電壓數據\n",
    "dataset = qc.load_by_id(dataid)\n",
    "voltage = dataset.get_parameter_data()['meas_voltage_K2']['meas_voltage_K2']\n",
    "current = dataset.get_parameter_data()['meas_voltage_K2']['appl_current']\n",
    "\n",
    "# 計算電阻 (線性擬合)\n",
    "slope, intercept, r_value, p_value, std_err = linregress(current, voltage)\n",
    "resistance = slope  # 斜率即為電阻\n",
    "\n",
    "# 計算擬合值與殘差\n",
    "voltage_fit = slope * current + intercept\n",
    "residuals = voltage - voltage_fit\n",
    "\n",
    "# 計算信號與噪聲功率\n",
    "noise_std = np.var(residuals)\n",
    "\n",
    "# 計算 SNR\n",
    "snr_mean = np.mean(voltage_fit**2)/noise_std\n",
    "snr_mean_db = 10 * np.log10(snr_mean)\n",
    "snr_fit = voltage_fit**2/noise_std**2\n",
    "snr_fit_db = 10 * np.log10(snr_fit)\n",
    "\n",
    "\n",
    "\n",
    "# 計算信號功率\n",
    "P_signal = np.mean(signal) ** 2\n",
    "\n",
    "# 使用變異數計算 SNR\n",
    "P_noise_var = np.var(noise)\n",
    "SNR_var = 10 * np.log10(P_signal / P_noise_var)\n",
    "\n",
    "# 使用標準差計算 SNR\n",
    "P_noise_sd = np.std(noise) ** 2  # 注意標準差需平方\n",
    "SNR_sd = 10 * np.log10(P_signal / P_noise_sd)\n",
    "\n",
    "print(f\"SNR 使用變異數計算: {SNR_var:.2f} dB\")\n",
    "print(f\"SNR 使用標準差計算: {SNR_sd:.2f} dB\")"
   ]
  },
  {
   "cell_type": "code",
   "execution_count": null,
   "id": "23441187",
   "metadata": {},
   "outputs": [],
   "source": [
    "import numpy as np\n",
    "import matplotlib.pyplot as plt\n",
    "from scipy.stats import linregress\n",
    "import matplotlib.font_manager as fm\n",
    "\n",
    "# 設置支持中文的字體\n",
    "plt.rcParams['font.sans-serif'] = ['simsun']  # 使用宋體字\n",
    "plt.rcParams['axes.unicode_minus'] = False  # 解決負號顯示問題\n",
    "\n",
    "# 確認字體是否已經加載\n",
    "print(fm.findSystemFonts(fontpaths=None, fontext='ttf'))\n",
    "\n",
    "# 電流與電壓數據\n",
    "dataset = qc.load_by_id(dataid)\n",
    "voltage = dataset.get_parameter_data()['meas_voltage_K2']['meas_voltage_K2']\n",
    "current = dataset.get_parameter_data()['meas_voltage_K2']['appl_current']\n",
    "\n",
    "# 計算電阻 (線性擬合)\n",
    "slope, intercept, r_value, p_value, std_err = linregress(current, voltage)\n",
    "resistance = slope  # 斜率即為電阻\n",
    "\n",
    "# 計算擬合值與殘差\n",
    "voltage_fit = slope * current + intercept\n",
    "residuals = voltage - voltage_fit\n",
    "\n",
    "# 計算信號與噪聲功率\n",
    "signal_power = np.var(voltage_fit)\n",
    "noise_power = np.var(residuals)\n",
    "\n",
    "# 計算 SNR\n",
    "snr = 10 * np.log10(signal_power / noise_power)\n",
    "\n",
    "# 輸出結果\n",
    "print(f\"電阻 R: {resistance:.4f} Ohm\")\n",
    "print(f\"截距 Intercept: {intercept:.4e} V\")\n",
    "print(f\"相關係數 R-value: {r_value:.4f}\")\n",
    "print(f\"信噪比 SNR: {snr:.2f} dB\")\n",
    "\n",
    "# 計算微分電阻\n",
    "differential_voltage = np.diff(voltage) / np.diff(current)\n",
    "differential_current = (current[:-1] + current[1:]) / 2  # 使用中間點作為電流值\n",
    "\n",
    "# 計算微分電阻的信號與噪聲\n",
    "signal = np.mean(differential_voltage)\n",
    "noise_std = np.std(differential_voltage)\n",
    "snr = signal / noise_std\n",
    "snr_db = 20 * np.log10(snr)\n",
    "\n",
    "# 輸出微分電阻的 SNR 結果\n",
    "print(f\"微分電阻信號: {signal}\")\n",
    "print(f\"微分電阻噪聲標準差: {noise_std}\")\n",
    "print(f\"微分電阻 SNR: {snr}\")\n",
    "print(f\"微分電阻 SNR (dB): {snr_db}\")\n",
    "\n",
    "# 計算微分電阻擬合曲線\n",
    "diff_slope, diff_intercept, diff_r_value, diff_p_value, diff_std_err = linregress(differential_current, differential_voltage)\n",
    "differential_voltage_fit = diff_slope * differential_current + diff_intercept\n",
    "\n",
    "# 繪製 I-V 曲線及微分電阻曲線\n",
    "fig, ax1 = plt.subplots(figsize=(12, 8))\n",
    "\n",
    "# 繪製 I-V 曲線及擬合曲線\n",
    "ax1.plot(current, voltage, 'o', label='測量數據')\n",
    "ax1.plot(current, voltage_fit, '-', label=f'線性擬合\\n斜率: {slope:.4f} Ohm\\n截距: {intercept:.4e} V\\nR-value: {r_value:.4f}')\n",
    "ax1.set_xlabel('電流 (A)')\n",
    "ax1.set_ylabel('電壓 (V)')\n",
    "ax1.set_title('I-V 曲線及微分電阻曲線')\n",
    "ax1.legend(loc='upper left')\n",
    "ax1.grid(True)\n",
    "\n",
    "# 繪製微分電阻曲線及擬合曲線\n",
    "ax2 = ax1.twinx()\n",
    "ax2.plot(differential_current, differential_voltage, 'o', color='tab:orange', label='微分電阻')\n",
    "ax2.plot(differential_current, differential_voltage_fit, '-', color='tab:red', label=f'微分電阻擬合\\n斜率: {diff_slope:.4f} Ohm\\n截距: {diff_intercept:.4e} V\\nR-value: {diff_r_value:.4f}')\n",
    "ax2.set_ylabel('微分電壓 (V)')\n",
    "ax2.legend(loc='upper right')\n",
    "\n",
    "plt.show()\n",
    "\n",
    "import numpy as np\n",
    "\n",
    "# 假設的信號和雜訊\n",
    "signal = np.array([1.0, 1.1, 1.2, 0.9, 1.0])  # 信號值\n",
    "noise = np.array([0.05, -0.02, 0.03, -0.04, 0.01])  # 雜訊值\n",
    "\n",
    "# 計算信號功率\n",
    "P_signal = np.mean(signal) ** 2\n",
    "\n",
    "# 使用變異數計算 SNR\n",
    "P_noise_var = np.var(noise)\n",
    "SNR_var = 10 * np.log10(P_signal / P_noise_var)\n",
    "\n",
    "# 使用標準差計算 SNR\n",
    "P_noise_sd = np.std(noise) ** 2  # 注意標準差需平方\n",
    "SNR_sd = 10 * np.log10(P_signal / P_noise_sd)\n",
    "\n",
    "print(f\"SNR 使用變異數計算: {SNR_var:.2f} dB\")\n",
    "print(f\"SNR 使用標準差計算: {SNR_sd:.2f} dB\")"
   ]
  },
  {
   "cell_type": "code",
   "execution_count": null,
   "id": "be641b8d",
   "metadata": {},
   "outputs": [],
   "source": [
    "import plotly.graph_objects as go\n",
    "from plotly.subplots import make_subplots\n",
    "\n",
    "# 創建子圖，包含雙 Y 軸\n",
    "fig = make_subplots(specs=[[{\"secondary_y\": True}]])\n",
    "\n",
    "# 繪製 I-V 曲線及擬合曲線\n",
    "fig.add_trace(\n",
    "    go.Scatter(\n",
    "        x=current,\n",
    "        y=voltage,\n",
    "        mode='markers',\n",
    "        name='測量數據',\n",
    "        marker=dict(color='blue')\n",
    "    ),\n",
    "    secondary_y=False\n",
    ")\n",
    "\n",
    "fig.add_trace(\n",
    "    go.Scatter(\n",
    "        x=current,\n",
    "        y=voltage_fit,\n",
    "        mode='lines',\n",
    "        name=f'線性擬合<br>斜率: {slope:.4f} Ohm<br>截距: {intercept:.4e} V<br>R-value: {r_value:.4f}',\n",
    "        line=dict(color='blue', dash='dash')\n",
    "    ),\n",
    "    secondary_y=False\n",
    ")\n",
    "\n",
    "# 繪製微分電阻曲線及擬合曲線\n",
    "fig.add_trace(\n",
    "    go.Scatter(\n",
    "        x=differential_current,\n",
    "        y=differential_voltage,\n",
    "        mode='markers',\n",
    "        name='微分電阻',\n",
    "        marker=dict(color='orange')\n",
    "    ),\n",
    "    secondary_y=True\n",
    ")\n",
    "\n",
    "fig.add_trace(\n",
    "    go.Scatter(\n",
    "        x=differential_current,\n",
    "        y=differential_voltage_fit,\n",
    "        mode='lines',\n",
    "        name=f'微分電阻擬合<br>斜率: {diff_slope:.4f} Ohm<br>截距: {diff_intercept:.4e} V<br>R-value: {diff_r_value:.4f}',\n",
    "        line=dict(color='red', dash='dash')\n",
    "    ),\n",
    "    secondary_y=True\n",
    ")\n",
    "\n",
    "# 更新圖表的佈局\n",
    "fig.update_layout(\n",
    "    title='I-V 曲線及微分電阻曲線',\n",
    "    xaxis=dict(title='電流 (A)'),\n",
    "    yaxis=dict(title='電壓 (V)', titlefont=dict(color='blue')),\n",
    "    yaxis2=dict(title='微分電壓 (V)', titlefont=dict(color='orange')),\n",
    "    legend=dict(x=0.01, y=0.99, bgcolor='rgba(255,255,255,0.7)', bordercolor='black', borderwidth=1),\n",
    "    width=800,\n",
    "    height=600\n",
    ")\n",
    "\n",
    "# 顯示圖表\n",
    "fig.show()\n"
   ]
  },
  {
   "cell_type": "code",
   "execution_count": 18,
   "id": "f6c71fe1",
   "metadata": {},
   "outputs": [],
   "source": [
    "K2440.output(1)\n",
    "DMM6500.averaging_count(5)\n",
    "DMM6500.averaging_enabled(True)\n",
    "DMM6500.averaging_enabled(False)\n",
    "K2440.output(0)"
   ]
  },
  {
   "cell_type": "code",
   "execution_count": 19,
   "id": "88a5c92b",
   "metadata": {},
   "outputs": [],
   "source": [
    "# Set current to 0\n",
    "K2440.output(0)\n",
    "appl_current(0e-6)"
   ]
  },
  {
   "cell_type": "code",
   "execution_count": null,
   "id": "af7949e7",
   "metadata": {},
   "outputs": [],
   "source": [
    "IV(3)"
   ]
  },
  {
   "cell_type": "code",
   "execution_count": null,
   "id": "94d8b3fa",
   "metadata": {},
   "outputs": [],
   "source": [
    "I_range=1e-6\n",
    "K2440.output(1)\n",
    "appl_current(-I_range) #Limit:1e-5 Amp(1MOhms risistor),1e-6 Amp(10MOhms risistor)\n",
    "sleep(2)\n",
    "# station.snapshot(update=True);\n",
    "exp = qc.new_experiment('I-V', sample_name='009-1_05-04-45-44G')\n",
    "dataid = do1d(appl_current, -I_range ,I_range, 501, 0.03, meas_voltage_K1)\n",
    "appl_current(0)\n",
    "K2440.output(0)\n",
    "\n",
    "plot_by_id(dataid)\n",
    "#save_path = r\"C:\\qcodes\\personal_scripts\\Albert\\104\\Plot\\104_{}.png\".format(dataid)  # Path to save the plot image\n",
    "#autosave_plot_by_id(dataid, save_path)\n",
    "print(f\"R = {get_R_from_IV(dataid)}\")\n",
    "# dataset = qc.load_by_id(dataid)\n",
    "IV(dataid)\n",
    "IV_diff(dataid)"
   ]
  },
  {
   "cell_type": "code",
   "execution_count": null,
   "id": "2b1fcecf",
   "metadata": {},
   "outputs": [],
   "source": [
    "IV(4)"
   ]
  },
  {
   "cell_type": "code",
   "execution_count": null,
   "id": "ee32ef77",
   "metadata": {},
   "outputs": [],
   "source": [
    "get_R_from_IV(dataid)"
   ]
  },
  {
   "cell_type": "code",
   "execution_count": null,
   "id": "ae71124e",
   "metadata": {},
   "outputs": [],
   "source": [
    "dataset = qc.load_by_id(dataid)\n",
    "get_R_from_IV(dataid)\n",
    "IV(dataid)\n",
    "IV_diff(dataid)"
   ]
  },
  {
   "cell_type": "code",
   "execution_count": 32,
   "id": "795c08e0",
   "metadata": {},
   "outputs": [],
   "source": [
    "import plotly.graph_objs as go"
   ]
  },
  {
   "cell_type": "code",
   "execution_count": null,
   "id": "ea6a7850",
   "metadata": {},
   "outputs": [],
   "source": []
  },
  {
   "cell_type": "code",
   "execution_count": null,
   "id": "9ca53ea4",
   "metadata": {},
   "outputs": [],
   "source": [
    "for i in tqdm(range(1000)):\n",
    "    K2440.output(1)\n",
    "    I_range=1e-6\n",
    "    appl_current(-I_range) #Limit:1e-5 Amp(1MOhms risistor),1e-6 Amp(10MOhms risistor)\n",
    "    sleep(0.001)\n",
    "    # station.snapshot(update=True);\n",
    "    exp = qc.new_experiment('I-V', sample_name=f'103-03_J1_33-32-30-31_1M_F{i+1}')\n",
    "    dataid = do1d(appl_current, -I_range ,I_range, 101, 0.0001, meas_voltage_K2, meas_voltage_AC_L1,meas_voltage_AC_L1_P)\n",
    "    exp = qc.new_experiment('I-V', sample_name=f'103-03_J1_33-32-30-31_1M_B{i+1}')\n",
    "    dataid = do1d(appl_current, I_range ,-I_range, 101, 0.0001, meas_voltage_K2)\n",
    "    K2440.output(0)\n",
    "    clear_output(True)"
   ]
  },
  {
   "cell_type": "code",
   "execution_count": null,
   "id": "ffc1e4dd",
   "metadata": {},
   "outputs": [],
   "source": [
    "get_Mag()"
   ]
  },
  {
   "cell_type": "code",
   "execution_count": null,
   "id": "2908c940",
   "metadata": {},
   "outputs": [],
   "source": [
    "SGS.off()"
   ]
  },
  {
   "cell_type": "code",
   "execution_count": null,
   "id": "d82eb13a",
   "metadata": {},
   "outputs": [],
   "source": [
    "SGS.power(0)"
   ]
  },
  {
   "cell_type": "code",
   "execution_count": null,
   "id": "242d95fc",
   "metadata": {},
   "outputs": [],
   "source": [
    "DMM6500.averaging_count(5)\n",
    "DMM6500.averaging_enabled(True)"
   ]
  },
  {
   "cell_type": "code",
   "execution_count": null,
   "id": "e0c518ad",
   "metadata": {},
   "outputs": [],
   "source": [
    "for i in tqdm(range(21)):\n",
    "    I_range = round(round(0.55 + 5*i * 1e-4, 6)* 1e-6, 10)  # Round to 3 decimal places\n",
    "    print(I_range)\n"
   ]
  },
  {
   "cell_type": "code",
   "execution_count": null,
   "id": "78e3e90f",
   "metadata": {},
   "outputs": [],
   "source": []
  },
  {
   "cell_type": "code",
   "execution_count": null,
   "id": "0999a81b",
   "metadata": {},
   "outputs": [],
   "source": [
    "for i in tqdm(range(21)):\n",
    "    K2440.output(1)\n",
    "    I_range = round(round(0.55 + 5*i * 1e-4, 6)* 1e-6, 10) \n",
    "    appl_current(-I_range) #Limit:1e-5 Amp(1MOhms risistor),1e-6 Amp(10MOhms risistor)\n",
    "    sleep(2)\n",
    "    # station.snapshot(update=True);\n",
    "    exp = qc.new_experiment('I-V', sample_name=f'103-04_J1_24-25-05-04(06-07G)_1M_By@0mT_{-I_range}_201')\n",
    "    dataid = do1d(appl_current, -I_range ,I_range, 201, 0.00001, meas_voltage_K2)\n",
    "\n",
    "    appl_current(0)\n",
    "    K2440.output(0)\n",
    "\n",
    "\n",
    "    plot_by_id(dataid)\n",
    "    save_path = r\"D:\\data\\Albert\\103\\Plot\\104_{}.png\".format(dataid)  # Path to save the plot image\n",
    "    autosave_plot_by_id(dataid, save_path)\n",
    "    print(f\"ID:{dataid}\")\n",
    "    print(f\"R = {get_R_from_IV_2(dataid)}\")\n",
    "    dataset = qc.load_by_id(dataid)\n",
    "    IV(id=dataid)\n",
    "    IV_diff(id=dataid)"
   ]
  },
  {
   "cell_type": "code",
   "execution_count": null,
   "id": "e9ac98ca",
   "metadata": {},
   "outputs": [],
   "source": [
    "DMM6500.averaging_count(5)\n",
    "DMM6500.averaging_enabled(True)"
   ]
  },
  {
   "cell_type": "code",
   "execution_count": null,
   "id": "ad55deb3",
   "metadata": {},
   "outputs": [],
   "source": [
    "K2440.output(1)\n",
    "I_range = -6e-6\n",
    "appl_current(-I_range) #Limit:1e-5 Amp(1MOhms risistor),1e-6 Amp(10MOhms risistor)\n",
    "sleep(2)\n",
    "# station.snapshot(update=True);\n",
    "exp = qc.new_experiment('I-V', sample_name=f'103-03_J2_27-26-30-31M(32G-33G-28G-29G)_1M_By@0.1mT{-I_range}')\n",
    "dataid = do1d(appl_current, -I_range  ,I_range , 2601, 0.00001, meas_voltage_K2)\n",
    "appl_current(0)\n",
    "K2440.output(0)\n",
    "plot_by_id(dataid)\n",
    "save_path = r\"D:\\data\\Albert\\103\\Plot\\104_{}.png\".format(dataid)  # Path to save the plot image\n",
    "autosave_plot_by_id(dataid, save_path)\n",
    "print(f\"R = {get_R_from_IV_2(dataid)}\")\n",
    "dataset = qc.load_by_id(dataid)"
   ]
  },
  {
   "cell_type": "code",
   "execution_count": null,
   "id": "2b0e1832",
   "metadata": {},
   "outputs": [],
   "source": [
    "K2440.output(1)\n",
    "I_range = 6e-6\n",
    "appl_current(-I_range) #Limit:1e-5 Amp(1MOhms risistor),1e-6 Amp(10MOhms risistor)\n",
    "sleep(2)\n",
    "# station.snapshot(update=True);\n",
    "exp = qc.new_experiment('I-V', sample_name=f'103-03_J2_27-26-30-31M(32G-33G-28G-29G)_1M_By@0.1mT{-I_range}')\n",
    "dataid = do1d(appl_current, -I_range  ,I_range , 2601, 0.00001, meas_voltage_K2)\n",
    "appl_current(0)\n",
    "K2440.output(0)\n",
    "plot_by_id(dataid)\n",
    "save_path = r\"D:\\data\\Albert\\103\\Plot\\104_{}.png\".format(dataid)  # Path to save the plot image\n",
    "autosave_plot_by_id(dataid, save_path)\n",
    "print(f\"ID:{dataid}\")\n",
    "print(f\"R = {get_R_from_IV_2(dataid)}\")\n",
    "dataset = qc.load_by_id(dataid)\n",
    "# IV(id=dataid)\n",
    "# IV_diff(id=dataid)"
   ]
  },
  {
   "cell_type": "code",
   "execution_count": null,
   "id": "e90dc212",
   "metadata": {},
   "outputs": [],
   "source": [
    "25-05-06-07(04-24G)\n"
   ]
  },
  {
   "cell_type": "code",
   "execution_count": null,
   "id": "5c79e45a",
   "metadata": {},
   "outputs": [],
   "source": [
    "K2440.output(1)\n",
    "I_range=-7e-6\n",
    "appl_current(-I_range) #Limit:1e-5 Amp(1MOhms risistor),1e-6 Amp(10MOhms risistor)\n",
    "sleep(2)\n",
    "# station.snapshot(update=True);\n",
    "exp = qc.new_experiment('I-V', sample_name='103-03_J2_32-30-26-27_1M_By@0mT')\n",
    "dataid = do1d(appl_current, -I_range ,I_range, 1401, 0.0001, meas_voltage_K2)\n",
    "\n",
    "appl_current(0)\n",
    "K2440.output(0)\n",
    "\n",
    "\n",
    "plot_by_id(dataid)\n",
    "save_path = r\"D:\\data\\Albert\\103\\Plot\\104_{}.png\".format(dataid)  # Path to save the plot image\n",
    "autosave_plot_by_id(dataid, save_path)\n",
    "print(f\"ID:{dataid}\")\n",
    "print(f\"R = {get_R_from_IV_2(dataid)}\")\n",
    "dataset = qc.load_by_id(dataid)\n",
    "IV(id=dataid)\n",
    "IV_diff(id=dataid)"
   ]
  },
  {
   "cell_type": "code",
   "execution_count": null,
   "id": "8666f593",
   "metadata": {},
   "outputs": [],
   "source": [
    "K2440.output(1)\n",
    "I_range=7e-6\n",
    "appl_current(-I_range) #Limit:1e-5 Amp(1MOhms risistor),1e-6 Amp(10MOhms risistor)\n",
    "sleep(2)\n",
    "# station.snapshot(update=True);\n",
    "exp = qc.new_experiment('I-V', sample_name='103-03_J2_32-30-26-27_1M_By@0mT')\n",
    "dataid = do1d(appl_current, -I_range ,I_range, 1401, 0.0001, meas_voltage_K2)\n",
    "\n",
    "appl_current(0)\n",
    "K2440.output(0)\n",
    "\n",
    "\n",
    "plot_by_id(dataid)\n",
    "save_path = r\"D:\\data\\Albert\\103\\Plot\\104_{}.png\".format(dataid)  # Path to save the plot image\n",
    "autosave_plot_by_id(dataid, save_path)\n",
    "print(f\"ID:{dataid}\")\n",
    "print(f\"R = {get_R_from_IV_2(dataid)}\")\n",
    "dataset = qc.load_by_id(dataid)\n",
    "IV(id=dataid)\n",
    "IV_diff(id=dataid)"
   ]
  },
  {
   "cell_type": "code",
   "execution_count": null,
   "id": "4ce7045d",
   "metadata": {},
   "outputs": [],
   "source": [
    "# Set current to 0\n",
    "K2440.output(0)\n",
    "appl_current(0e-6)"
   ]
  },
  {
   "cell_type": "code",
   "execution_count": null,
   "id": "749b64e4",
   "metadata": {},
   "outputs": [],
   "source": [
    "K2440.output(1)\n",
    "appl_current(0.1e-7)"
   ]
  },
  {
   "cell_type": "code",
   "execution_count": null,
   "id": "9f4da299",
   "metadata": {
    "scrolled": true
   },
   "outputs": [],
   "source": [
    "runid=6\n",
    "print(get_R_from_IV_2(runid))"
   ]
  },
  {
   "cell_type": "markdown",
   "id": "3196b90e",
   "metadata": {},
   "source": [
    "## 加TG (1D)"
   ]
  },
  {
   "cell_type": "code",
   "execution_count": null,
   "id": "08a5e298",
   "metadata": {},
   "outputs": [],
   "source": [
    "K2440.output(1)\n",
    "appl_TG(0)"
   ]
  },
  {
   "cell_type": "code",
   "execution_count": null,
   "id": "a6f95af5",
   "metadata": {},
   "outputs": [],
   "source": [
    "K2440.output(1)\n",
    "K2440.output(1)\n",
    "appl_TG(-50)\n",
    "sleep(3)\n",
    "appl_current(-1.5e-8)\n",
    "sleep(1)\n",
    "\n",
    "# station.snapshot(update=True);\n",
    "exp = qc.new_experiment('IV', sample_name='TG21')\n",
    "\n",
    "#do1d(param_set, start, stop, num_points, delay, *param_meas)\n",
    "dataid = do1d(appl_current, -1.5e-8 ,1.5e-8, 101, 0.05, meas_voltage_K2)\n",
    "# dataid = do1d(appl_current, 6e-6 , -6e-6, 251, 0.01, meas_voltage_K1)\n",
    "# ivvi.set_dacs_zero()\n",
    "\n",
    "K2440.output(0)\n",
    "K2440.output(0)\n",
    "appl_current(0)\n",
    "plot_by_id(dataid)\n",
    "#print(get_R_from_IV(dataid))\n",
    "# print(get_R_from_IV_2(dataid))\n"
   ]
  },
  {
   "cell_type": "markdown",
   "id": "05b0d19b",
   "metadata": {},
   "source": [
    "## 歸零\n"
   ]
  },
  {
   "cell_type": "code",
   "execution_count": null,
   "id": "d8154670",
   "metadata": {},
   "outputs": [],
   "source": [
    "#K2440.output(1)\n",
    "K2440.output(1)\n",
    "\n",
    "appl_current(0)\n",
    "sleep(1)\n",
    "#appl_TG(0)\n",
    "sleep(5)\n",
    "\n",
    "#K2440.output(0)\n",
    "K2440.output(0)"
   ]
  },
  {
   "cell_type": "markdown",
   "id": "91795bf5",
   "metadata": {},
   "source": [
    "# Magnetic field"
   ]
  },
  {
   "cell_type": "markdown",
   "id": "c1b88abd",
   "metadata": {},
   "source": [
    "## IV vs Bx"
   ]
  },
  {
   "cell_type": "code",
   "execution_count": null,
   "id": "77c31bf1",
   "metadata": {},
   "outputs": [],
   "source": [
    "K2440.rangev()"
   ]
  },
  {
   "cell_type": "code",
   "execution_count": null,
   "id": "ea5d8a7d",
   "metadata": {},
   "outputs": [],
   "source": [
    "K2440.volt(0)\n",
    "K2440.output(1) #output off\n",
    "sleep(1)\n",
    "appl_current(1.5e-7)\n",
    "sleep(2)\n",
    "meas_voltage_K2()"
   ]
  },
  {
   "cell_type": "code",
   "execution_count": null,
   "id": "e083479a",
   "metadata": {},
   "outputs": [],
   "source": [
    "sleep(120)"
   ]
  },
  {
   "cell_type": "code",
   "execution_count": null,
   "id": "6c69dc40",
   "metadata": {},
   "outputs": [],
   "source": [
    "def get_Mag(show=True):\n",
    "    Mag_x = magnet_x.field()\n",
    "    Mag_y = magnet_y.field()\n",
    "    Mag_z = magnet_z.field()\n",
    "    if show:\n",
    "        print(f\"Mag_x: {Mag_x*1e3:.6f} mT\")\n",
    "        print(f\"Mag_y: {Mag_y*1e3:.6f} mT\")\n",
    "        print(f\"Mag_z: {Mag_z*1e3:.6f} mT\")\n",
    "    else: \n",
    "        return Mag_x, Mag_y, Mag_z\n",
    "get_Mag()"
   ]
  },
  {
   "cell_type": "code",
   "execution_count": null,
   "id": "582ee743",
   "metadata": {},
   "outputs": [],
   "source": [
    "get_Mag()"
   ]
  },
  {
   "cell_type": "code",
   "execution_count": null,
   "id": "9634bb97",
   "metadata": {},
   "outputs": [],
   "source": [
    "magnet_y.field()"
   ]
  },
  {
   "cell_type": "code",
   "execution_count": null,
   "id": "add54ae7",
   "metadata": {},
   "outputs": [],
   "source": [
    "for i in tqdm(range(23), desc=\"First loop\"):\n",
    "    value = (25 - i) * 1e-3 \n",
    "    value = float(f\"{value:.10f}\")\n",
    "    print(value)"
   ]
  },
  {
   "cell_type": "code",
   "execution_count": null,
   "id": "04c8a1e5",
   "metadata": {},
   "outputs": [],
   "source": [
    "from tqdm import tqdm\n",
    "import time\n",
    "\n",
    "from IPython.display import clear_output\n",
    "# First loop\n",
    "for i in tqdm(range(6), desc=\"First loop\"):\n",
    "    Mag_x = magnet_x.field()\n",
    "    value = (15 + i) * 1e-3\n",
    "    value = float(f\"{value:.10f}\")\n",
    "    magnet_x.field(value)\n",
    "    print(f\"magnet_x is {Mag_x:.8f} T\")\n",
    "    time.sleep(15)\n",
    "    clear_output(True)\n",
    "\n",
    "# Pause for 30 seconds\n",
    "time.sleep(60)\n",
    "\n",
    "# Second loop\n",
    "for i in tqdm(range(23), desc=\"First loop\"):\n",
    "    Mag_x = magnet_x.field()\n",
    "    value = (25 - i) * 1e-3 \n",
    "    value = float(f\"{value:.10f}\")\n",
    "    magnet_x.field(value)\n",
    "    print(f\"magnet_x is {Mag_x:.8f} T\")\n",
    "    time.sleep(15)\n",
    "    clear_output(True)\n",
    "\n",
    "# Pause for 180 seconds\n",
    "time.sleep(300)"
   ]
  },
  {
   "cell_type": "code",
   "execution_count": null,
   "id": "fc3e418b",
   "metadata": {},
   "outputs": [],
   "source": [
    "magnet_x.field(-20)"
   ]
  },
  {
   "cell_type": "code",
   "execution_count": null,
   "id": "07666294",
   "metadata": {},
   "outputs": [],
   "source": [
    "Mag = -20e-3\n",
    "I_range=2.5e-6\n",
    "K2440.output(1)\n",
    "sleep(2)\n",
    "magnet_x.field(Mag)\n",
    "sleep(10)\n",
    "appl_current(-I_range)\n",
    "sleep(3)\n",
    "direction = 'backward' if Mag > 0 else 'forward'\n",
    "\n",
    "\n",
    "# station.snapshot(update=True);\n",
    "exp = qc.new_experiment('IV vs Bx', sample_name=f'103-06_J2_12-13-18-19_1M_Bx_{direction}_By@0mT')\n",
    "\n",
    "dataid = do2d(magnet_x.field, Mag, -Mag, 76 , 0.7, appl_current, -I_range ,I_range, 101, 0.01, meas_voltage_K2)\n",
    "\n",
    "appl_current(0)\n",
    "K2440.output(0)\n",
    "# magnet_y.field(0)\n",
    "\n",
    "plot_by_id(dataid)\n",
    "autosave_plot_by_id(dataid, save_path)"
   ]
  },
  {
   "cell_type": "code",
   "execution_count": null,
   "id": "5f475874",
   "metadata": {},
   "outputs": [],
   "source": [
    "K2440.output(1)\n",
    "sleep(2)\n",
    "Mag = 10e-3\n",
    "I_range=2.5e-5\n",
    "\n",
    "magnet_x.field(Mag)\n",
    "sleep(30)\n",
    "appl_current(-I_range)\n",
    "sleep(3)\n",
    "direction = 'backward' if Mag > 0 else 'forward'\n",
    "\n",
    "\n",
    "# station.snapshot(update=True);\n",
    "\n",
    "exp = qc.new_experiment('IV vs Bx', sample_name=f'094-20IV_Bx_16-17-19-18_10M_{direction}')\n",
    "\n",
    "dataid = do2d(magnet_x.field, Mag, -Mag, 101 , 1.5, appl_current, -I_range ,I_range, 101, 0.05, meas_voltage_K2)#M:I Delay time 10:1\n",
    "\n",
    "\n",
    "appl_current(0)\n",
    "K2440.output(0)\n",
    "# magnet_x.field(0)\n",
    "\n",
    "plot_by_id(dataid)\n",
    "autosave_plot_by_id(dataid, save_path)"
   ]
  },
  {
   "cell_type": "code",
   "execution_count": null,
   "id": "bfdd8a07",
   "metadata": {},
   "outputs": [],
   "source": [
    "set_magnetic_field_stepwise(magnet=magnet_x, current_field=-40e-3, target_field=-18e-3, step_size=1e-3, delay=2.5)"
   ]
  },
  {
   "cell_type": "code",
   "execution_count": null,
   "id": "5eef089c",
   "metadata": {},
   "outputs": [],
   "source": [
    "def set_magnetic_field_stepwise(magnet=magnet_x, current_field=0, target_field=-10e-3, step_size=1e-3, delay=2.5):\n",
    "    \n",
    "    \"\"\"Set the magnetic field with anti-hysteresis mechanism witch will go to target magnetic field +/- 5mT, \n",
    "    if the target magnetic field is greater/less than the current magnetic field, \n",
    "    then slowly ramp back the magnetic field to the target magnetic field\n",
    "\n",
    "    Args:\n",
    "        magnet (_type_, optional): magnet_x,magnet_y,magnet_z. Defaults to magnet_x.\n",
    "        current_field (int, optional): _description_. Defaults to 0 T.\n",
    "        target_field (_type_, optional): _description_. Defaults to -10e-3 T.\n",
    "        step_size (_type_, optional): _description_. Defaults to 1e-3 T.\n",
    "        delay (float, optional): _description_. Defaults to 2 sec.\n",
    "    \n",
    "    \"\"\"\n",
    "    \n",
    "    from tqdm.notebook import tqdm\n",
    "    import math\n",
    "    # Calculate total steps for tqdm progress bar\n",
    "    total_steps = math.ceil(abs((target_field - current_field) / step_size)) * 2\n",
    "    progress_bar = tqdm(total=total_steps)\n",
    "\n",
    "    # Determine the intermediate target field\n",
    "    intermediate_target_field = target_field + 5e-3 if target_field > current_field else target_field - 5e-3\n",
    "    # Slowly ramp the magnetic field to the intermediate target field\n",
    "    while abs(intermediate_target_field - current_field) > step_size:\n",
    "        if intermediate_target_field > current_field:\n",
    "            current_field += step_size\n",
    "            magnet.field(current_field)\n",
    "        else:\n",
    "            current_field -= step_size\n",
    "            magnet.field(current_field)\n",
    "        time.sleep(delay)\n",
    "        progress_bar.update(1)  # Update progress bar\n",
    "    # Slowly ramp back the magnetic field to the target_field\n",
    "    while abs(target_field - current_field) > step_size:\n",
    "        if target_field > current_field:\n",
    "            current_field += step_size\n",
    "            magnet.field(current_field)\n",
    "        else:\n",
    "            current_field -= step_size\n",
    "            magnet.field(current_field)\n",
    "        time.sleep(delay)\n",
    "        progress_bar.update(1)  # Update progress bar\n",
    "    magnet.field(target_field)\n",
    "    progress_bar.n = total_steps  # Set progress bar to 100%\n",
    "    progress_bar.refresh()  # Refresh the progress bar to show the update\n",
    "    progress_bar.close()  # Close progress bar when done"
   ]
  },
  {
   "cell_type": "code",
   "execution_count": null,
   "id": "6d385381",
   "metadata": {},
   "outputs": [],
   "source": [
    "for i in range(6):\n",
    "    magnet_x.field((-10-i)*1e-3)\n",
    "    sleep(4)\n",
    "sleep(10)\n",
    "\n",
    "for i in range(16):\n",
    "    magnet_x.field((15+i)*1e-3)\n",
    "    sleep(4)\n",
    "sleep(10)"
   ]
  },
  {
   "cell_type": "code",
   "execution_count": null,
   "id": "83205742",
   "metadata": {},
   "outputs": [],
   "source": [
    "for i in range(25):\n",
    "    print(-24+i)"
   ]
  },
  {
   "cell_type": "code",
   "execution_count": null,
   "id": "fef193a7",
   "metadata": {},
   "outputs": [],
   "source": [
    "magnet_x.field(-19e-3)\n",
    "sleep(10)\n",
    "#magnet_x.field(e-3)\n",
    "#sleep(10)\n",
    "#magnet_x.field(12.8e-3)\n",
    "#sleep(10)"
   ]
  },
  {
   "cell_type": "markdown",
   "id": "6a6f3c0d",
   "metadata": {},
   "source": [
    "## IV vs By"
   ]
  },
  {
   "cell_type": "code",
   "execution_count": null,
   "id": "b823efb8",
   "metadata": {},
   "outputs": [],
   "source": [
    "get_Mag()"
   ]
  },
  {
   "cell_type": "code",
   "execution_count": null,
   "id": "9e236537",
   "metadata": {},
   "outputs": [],
   "source": [
    "magnet_y.field(0e-3)"
   ]
  },
  {
   "cell_type": "code",
   "execution_count": null,
   "id": "b4e8ec13",
   "metadata": {},
   "outputs": [],
   "source": [
    "for i in tqdm(range(21), desc=\"2nd loop\"):\n",
    "    \n",
    "    value = (-10 + i*0.5) * 1e-3 \n",
    "    value = float(f\"{value:.10f}\")\n",
    "    magnet_y.field(value)\n",
    "    get_Mag()\n",
    "    time.sleep(15)\n",
    "    clear_output(True)"
   ]
  },
  {
   "cell_type": "code",
   "execution_count": null,
   "id": "5dce7f89",
   "metadata": {},
   "outputs": [],
   "source": [
    "\n",
    "# First loop\n",
    "for i in tqdm(range(11), desc=\"First loop\"):\n",
    "    \n",
    "    value = (5 +i) * 1e-3\n",
    "    value = float(f\"{value:.10f}\")\n",
    "    magnet_y.field(value)\n",
    "    get_Mag()\n",
    "    time.sleep(15)\n",
    "    clear_output(True)\n",
    "\n",
    "# Pause for 30 seconds\n",
    "time.sleep(60)\n",
    "\n",
    "# Second loop\n",
    "for i in tqdm(range(11), desc=\"2nd loop\"):\n",
    "    \n",
    "    value = (-10 + i) * 1e-3 \n",
    "    value = float(f\"{value:.10f}\")\n",
    "    magnet_y.field(value)\n",
    "    get_Mag()\n",
    "    time.sleep(15)\n",
    "    clear_output(True)\n",
    "# Pause for 180 seconds\n",
    "time.sleep(300)"
   ]
  },
  {
   "cell_type": "code",
   "execution_count": 58,
   "id": "46dc421a",
   "metadata": {},
   "outputs": [
    {
     "data": {
      "text/plain": [
       "2.5059e-05"
      ]
     },
     "execution_count": 58,
     "metadata": {},
     "output_type": "execute_result"
    }
   ],
   "source": [
    "magnet_y.field()"
   ]
  },
  {
   "cell_type": "code",
   "execution_count": 57,
   "id": "3a7fb763",
   "metadata": {},
   "outputs": [
    {
     "name": "stdout",
     "output_type": "stream",
     "text": [
      "Starting experimental run with id: 69. \n"
     ]
    },
    {
     "name": "stderr",
     "output_type": "stream",
     "text": [
      "first parameter: 100%|██████████| 101/101 [20:26<00:00, 12.15s/it]\n",
      "Trying to mark a run completed that was already completed.\n",
      "Trying to mark a run completed that was already completed.\n"
     ]
    },
    {
     "data": {
      "application/vnd.jupyter.widget-view+json": {
       "model_id": "552316d4652b4e94b4f443334252f623",
       "version_major": 2,
       "version_minor": 0
      },
      "image/png": "[encoded data removed]",
      "text/html": [
       "\n",
       "            <div style=\"display: inline-block;\">\n",
       "                <div class=\"jupyter-widgets widget-label\" style=\"text-align: center;\">\n",
       "                    Figure\n",
       "                </div>\n",
       "                <img src='data:image/png;base64,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' width=640.0/>\n",
       "            </div>\n",
       "        "
      ],
      "text/plain": [
       "Canvas(toolbar=Toolbar(toolitems=[('Home', 'Reset original view', 'home', 'home'), ('Back', 'Back to previous …"
      ]
     },
     "metadata": {},
     "output_type": "display_data"
    }
   ],
   "source": [
    "Mag =-0.025e-3\n",
    "I_range=50e-6\n",
    "sleep(10)\n",
    "appl_current(-I_range)\n",
    "sleep(3)\n",
    "\n",
    "Mag_x, Mag_y, Mag_z = get_Mag(False)\n",
    "# station.snapshot(update=True);\n",
    "exp = qc.new_experiment('IVBy', sample_name=f'019-01_29-30-28-27@({Mag_x*1e3:.2f},{Mag_y*1e3:.2f},{Mag_z*1e3:.2f})mT')\n",
    "\n",
    "dataid = do2d(magnet_y.field, Mag, -Mag, 101 , 0.1, appl_current, -I_range ,I_range,  201, 0.01, meas_voltage_K2)\n",
    "\n",
    "appl_current(0)\n",
    "\n",
    "plot_by_id(dataid)\n",
    "save_path = r\"C:\\Users\\admin\\Documents\\GitHub\\QCoDeS_local\\personal_scripts\\Albert\\PtTe2\\019\\LTPlot\\{}.png\".format(dataid)  # Path to save the plot image\n",
    "autosave_plot_by_id(dataid, save_path)"
   ]
  },
  {
   "cell_type": "code",
   "execution_count": 50,
   "id": "d68e8d23",
   "metadata": {},
   "outputs": [],
   "source": [
    "magnet_y.field(0.5e-3)"
   ]
  },
  {
   "cell_type": "code",
   "execution_count": 51,
   "id": "1db781d5",
   "metadata": {},
   "outputs": [
    {
     "name": "stdout",
     "output_type": "stream",
     "text": [
      "Starting experimental run with id: 65. \n"
     ]
    },
    {
     "name": "stderr",
     "output_type": "stream",
     "text": [
      "first parameter: 100%|██████████| 101/101 [11:21<00:00,  6.74s/it]\n",
      "Trying to mark a run completed that was already completed.\n",
      "Trying to mark a run completed that was already completed.\n"
     ]
    },
    {
     "data": {
      "application/vnd.jupyter.widget-view+json": {
       "model_id": "68d514c3c23e4032b2a0420fb7c25adf",
       "version_major": 2,
       "version_minor": 0
      },
      "image/png": "[encoded data removed]",
      "text/html": [
       "\n",
       "            <div style=\"display: inline-block;\">\n",
       "                <div class=\"jupyter-widgets widget-label\" style=\"text-align: center;\">\n",
       "                    Figure\n",
       "                </div>\n",
       "                <img src='data:image/png;base64,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' width=640.0/>\n",
       "            </div>\n",
       "        "
      ],
      "text/plain": [
       "Canvas(toolbar=Toolbar(toolitems=[('Home', 'Reset original view', 'home', 'home'), ('Back', 'Back to previous …"
      ]
     },
     "metadata": {},
     "output_type": "display_data"
    }
   ],
   "source": [
    "Mag =0.5e-3\n",
    "I_range=25e-6\n",
    "sleep(10)\n",
    "appl_current(-I_range)\n",
    "sleep(3)\n",
    "\n",
    "Mag_x, Mag_y, Mag_z = get_Mag(False)\n",
    "# station.snapshot(update=True);\n",
    "exp = qc.new_experiment('IVBy', sample_name=f'019-12_44-43-45-46@({Mag_x*1e3:.2f},{Mag_y*1e3:.2f},{Mag_z*1e3:.2f})mT')\n",
    "\n",
    "dataid = do2d(magnet_y.field, Mag, -Mag, 101 , 0.1, appl_current, -I_range ,I_range,  101, 0.01, meas_voltage_K2)\n",
    "\n",
    "appl_current(0)\n",
    "\n",
    "plot_by_id(dataid)\n",
    "save_path = r\"C:\\Users\\admin\\Documents\\GitHub\\QCoDeS_local\\personal_scripts\\Albert\\PtTe2\\019\\LTPlot\\{}.png\".format(dataid)  # Path to save the plot image\n",
    "autosave_plot_by_id(dataid, save_path)"
   ]
  },
  {
   "cell_type": "code",
   "execution_count": 41,
   "id": "8d8bcc92",
   "metadata": {},
   "outputs": [
    {
     "data": {
      "text/plain": [
       "0.000749954"
      ]
     },
     "execution_count": 41,
     "metadata": {},
     "output_type": "execute_result"
    }
   ],
   "source": [
    "magnet_y.field()"
   ]
  },
  {
   "cell_type": "code",
   "execution_count": 34,
   "id": "6a7a04b5",
   "metadata": {},
   "outputs": [
    {
     "name": "stdout",
     "output_type": "stream",
     "text": [
      "Starting experimental run with id: 57. \n"
     ]
    },
    {
     "name": "stderr",
     "output_type": "stream",
     "text": [
      "first parameter: 100%|██████████| 151/151 [15:31<00:00,  6.17s/it]\n",
      "Trying to mark a run completed that was already completed.\n",
      "Trying to mark a run completed that was already completed.\n"
     ]
    },
    {
     "data": {
      "application/vnd.jupyter.widget-view+json": {
       "model_id": "4836f51243fa436d9783fb3bac95473c",
       "version_major": 2,
       "version_minor": 0
      },
      "image/png": "[encoded data removed]",
      "text/html": [
       "\n",
       "            <div style=\"display: inline-block;\">\n",
       "                <div class=\"jupyter-widgets widget-label\" style=\"text-align: center;\">\n",
       "                    Figure\n",
       "                </div>\n",
       "                <img src='data:image/png;base64,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' width=640.0/>\n",
       "            </div>\n",
       "        "
      ],
      "text/plain": [
       "Canvas(toolbar=Toolbar(toolitems=[('Home', 'Reset original view', 'home', 'home'), ('Back', 'Back to previous …"
      ]
     },
     "metadata": {},
     "output_type": "display_data"
    }
   ],
   "source": [
    "Mag =1.5e-3\n",
    "I_range=20e-6\n",
    "sleep(10)\n",
    "appl_current(-I_range)\n",
    "sleep(3)\n",
    "\n",
    "Mag_x, Mag_y, Mag_z = get_Mag(False)\n",
    "# station.snapshot(update=True);\n",
    "exp = qc.new_experiment('IVBy', sample_name=f'019-03_31-32-26-25@({Mag_x*1e3:.2f},{Mag_y*1e3:.2f},{Mag_z*1e3:.2f})mT')\n",
    "\n",
    "dataid = do2d(magnet_y.field, Mag, -Mag, 151 , 0.1, appl_current, -I_range ,I_range,  101, 0.01, meas_voltage_K2)\n",
    "\n",
    "appl_current(0)\n",
    "\n",
    "plot_by_id(dataid)\n",
    "save_path = r\"C:\\Users\\admin\\Documents\\GitHub\\QCoDeS_local\\personal_scripts\\Albert\\PtTe2\\019\\LTPlot\\{}.png\".format(dataid)  # Path to save the plot image\n",
    "autosave_plot_by_id(dataid, save_path)"
   ]
  },
  {
   "cell_type": "markdown",
   "id": "7dce8613",
   "metadata": {},
   "source": [
    "## IV vs Bz"
   ]
  },
  {
   "cell_type": "code",
   "execution_count": null,
   "id": "a4e6e5f7",
   "metadata": {
    "scrolled": true
   },
   "outputs": [],
   "source": [
    "K2440.output(1)\n",
    "sleep(2)\n",
    "magnet_z.field(-80e-3)\n",
    "sleep(60)\n",
    "appl_current(-2e-7)\n",
    "sleep(5)\n",
    "\n",
    "# station.snapshot(update=True);\n",
    "\n",
    "exp = qc.new_experiment('IV vs Bz', sample_name='IV_Bz_33_32_30_31_10M_forward')\n",
    "\n",
    "dataid = do2d(magnet_z.field,-80e-3,80e-3, 71 , 20, appl_current, -2e-7 ,2e-7, 101, 0.05, meas_voltage_K2)\n",
    "\n",
    "appl_current(0)\n",
    "\n",
    "K2440.output(0)\n",
    "# magnet_y.field(0)\n",
    "\n",
    "plot_by_id(dataid)"
   ]
  },
  {
   "cell_type": "code",
   "execution_count": null,
   "id": "e68136d1",
   "metadata": {},
   "outputs": [],
   "source": [
    "#magnet_z.field(20e-3)\n",
    "#sleep(5)\n",
    "magnet_z.field(-6.1e-3)\n",
    "sleep(5)"
   ]
  },
  {
   "cell_type": "code",
   "execution_count": null,
   "id": "571645ac",
   "metadata": {},
   "outputs": [],
   "source": []
  },
  {
   "cell_type": "markdown",
   "id": "02c81568",
   "metadata": {},
   "source": [
    "## IV w/ Bx"
   ]
  },
  {
   "cell_type": "code",
   "execution_count": null,
   "id": "b5229271",
   "metadata": {},
   "outputs": [],
   "source": [
    "K2440.output(1)\n",
    "sleep(2)\n",
    "magnet_x.field(0.23e-3)\n",
    "appl_current(-0.5e-6)\n",
    "sleep(10)\n",
    "\n",
    "# station.snapshot(update=True);\n",
    "exp = qc.new_experiment('I vs V', sample_name='IV_w/_Bx')\n",
    "\n",
    "#do1d(param_set, start, stop, num_points, delay, *param_meas)\n",
    "dataid = do1d(appl_current, -0.5e-6 ,0.5e-6, 101, 0.05, meas_voltage_K2)\n",
    "# dataid = do1d(appl_current, 6e-6 , -6e-6, 251, 0.01, meas_voltage_K1)\n",
    "# ivvi.set_dacs_zero()\n",
    "\n",
    "appl_current(0)\n",
    "plot_by_id(dataid)\n",
    "# print(get_R_from_IV(dataid))\n",
    "#print(get_R_from_IV_2(dataid))\n",
    "\n",
    "K2440.output(0)"
   ]
  },
  {
   "cell_type": "markdown",
   "id": "27ac85cd",
   "metadata": {},
   "source": [
    "## IV w/ By"
   ]
  },
  {
   "cell_type": "code",
   "execution_count": null,
   "id": "b7c3a84d",
   "metadata": {},
   "outputs": [],
   "source": [
    "K2440.output(1)\n",
    "DMM6500.averaging_count(30)\n",
    "#DMM6500.averaging_enabled(False)\n",
    "\n",
    "sleep(2)\n",
    "magnet_y.field(0e-3)\n",
    "appl_current(-2e-7)\n",
    "sleep(20)\n",
    "\n",
    "# station.snapshot(update=True);\n",
    "exp = qc.new_experiment('I vs V', sample_name='IV_w/_By@0mT_forward_Avg30')\n",
    "\n",
    "#do1d(param_set, start, stop, num_points, delay, *param_meas)\n",
    "dataid = do1d(appl_current, -2e-7 ,2e-7, 201, 0.05, meas_voltage_K2)\n",
    "# dataid = do1d(appl_current, 6e-6 , -6e-6, 251, 0.01, meas_voltage_K1)\n",
    "# ivvi.set_dacs_zero()\n",
    "\n",
    "appl_current(0)\n",
    "plot_by_id(dataid)\n",
    "# print(get_R_from_IV(dataid))\n",
    "#print(get_R_from_IV_2(dataid))\n",
    "\n",
    "K2440.output(0)"
   ]
  },
  {
   "cell_type": "markdown",
   "id": "1e7ed93d",
   "metadata": {},
   "source": [
    "## MR"
   ]
  },
  {
   "cell_type": "code",
   "execution_count": null,
   "id": "9db581e2",
   "metadata": {},
   "outputs": [],
   "source": [
    "K2440.output(1)\n",
    "sleep(2)\n",
    "magnet_y.field(-0.1)\n",
    "sleep(5)\n",
    "#K2440.output(1)\n",
    "appl_current(1e-7)\n",
    "sleep(5)\n",
    "\n",
    "# station.snapshot(update=True);\n",
    "\n",
    "exp = qc.new_experiment('I vs By_MR', sample_name='072_14IVf_25_24_29_29_By_+-0.1T_MR_for')\n",
    "\n",
    "dataid = do1d(magnet_y.field, -0.1, 0.1, 71 , 1, meas_voltage_K2)\n",
    "\n",
    "appl_current(0)\n",
    "K2440.output(0)\n",
    "#K2440.output(0)\n",
    "magnet_y.field(0)\n",
    "\n",
    "plot_by_id(dataid)"
   ]
  },
  {
   "cell_type": "markdown",
   "id": "55fd3a3b",
   "metadata": {},
   "source": [
    "## IV w/Bz"
   ]
  },
  {
   "cell_type": "code",
   "execution_count": null,
   "id": "e76653c7",
   "metadata": {},
   "outputs": [],
   "source": [
    "K2440.output(1)\n",
    "DMM6500.averaging_count(10)\n",
    "#DMM6500.averaging_enabled(False)\n",
    "\n",
    "sleep(2)\n",
    "magnet_z.field(0e-3)\n",
    "appl_current(-2e-7)\n",
    "sleep(30)\n",
    "\n",
    "# station.snapshot(update=True);\n",
    "exp = qc.new_experiment('I vs V', sample_name='IV_w/_f_Bz@0mT_forward_Avg10')\n",
    "\n",
    "#do1d(param_set, start, stop, num_points, delay, *param_meas)\n",
    "dataid = do1d(appl_current, -2e-7 ,2e-7, 201, 0.05, meas_voltage_K2)\n",
    "# dataid = do1d(appl_current, 6e-6 , -6e-6, 251, 0.01, meas_voltage_K1)\n",
    "# ivvi.set_dacs_zero()\n",
    "\n",
    "appl_current(0)\n",
    "plot_by_id(dataid)\n",
    "# print(get_R_from_IV(dataid))\n",
    "#print(get_R_from_IV_2(dataid))\n",
    "\n",
    "K2440.output(0)"
   ]
  },
  {
   "cell_type": "markdown",
   "id": "d0274abc",
   "metadata": {},
   "source": [
    "# Zero everything"
   ]
  },
  {
   "cell_type": "code",
   "execution_count": null,
   "id": "a0cc99f2",
   "metadata": {},
   "outputs": [],
   "source": [
    "appl_current(0)\n",
    "appl_TG(0)\n",
    "magnet_y.field(0)\n",
    "sleep(5)\n",
    "magnet_x.field(0)\n",
    "sleep(5)\n",
    "magnet_z.field(0)\n",
    "sleep(5)\n",
    "#appl_voltage_AC(0.004)\n",
    "#SGS.off()\n",
    "K2440.output(0)"
   ]
  },
  {
   "cell_type": "code",
   "execution_count": null,
   "id": "cb8bf175",
   "metadata": {},
   "outputs": [],
   "source": [
    "appl_current(0)"
   ]
  },
  {
   "cell_type": "markdown",
   "id": "6610bce1",
   "metadata": {},
   "source": [
    "# Gate simple sweeps"
   ]
  },
  {
   "cell_type": "markdown",
   "id": "c010fbad",
   "metadata": {},
   "source": [
    "## 加TG (2D)"
   ]
  },
  {
   "cell_type": "code",
   "execution_count": null,
   "id": "6d7e9bf6",
   "metadata": {},
   "outputs": [],
   "source": [
    "appl_current(0)\n",
    "sleep(1)\n",
    "appl_TG(0)\n",
    "sleep(5)"
   ]
  },
  {
   "cell_type": "code",
   "execution_count": null,
   "id": "be01663b",
   "metadata": {},
   "outputs": [],
   "source": [
    "magnet_x.field(-0.044e-3)\n",
    "sleep(10)\n",
    "magnet_y.field(-6.016e-3)\n",
    "sleep(10)"
   ]
  },
  {
   "cell_type": "code",
   "execution_count": null,
   "id": "5397630e",
   "metadata": {},
   "outputs": [],
   "source": [
    "K2440.output(1)\n",
    "K2440.output(1)\n",
    "appl_TG(-30)\n",
    "sleep(5)\n",
    "appl_current(-1.5e-8)\n",
    "sleep(1)\n",
    "\n",
    "exp = qc.new_experiment('I_vs_Vgate_up', sample_name='33_32_30_31_1M_TG21')\n",
    "dataid = do2d(appl_TG, -30, 30, 301, 0.5, appl_current, -1.5e-8, 1.5e-8, 101, 0.1, meas_voltage_K2)\n",
    "\n",
    "appl_TG(0)\n",
    "sleep(5)\n",
    "appl_current(0e-7)\n",
    "sleep(5)\n",
    "\n",
    "K2440.output(0)\n",
    "K2440.output(0)\n",
    "\n",
    "plot_by_id(dataid)"
   ]
  },
  {
   "cell_type": "markdown",
   "id": "5375fb6f",
   "metadata": {},
   "source": [
    "# RF"
   ]
  },
  {
   "cell_type": "markdown",
   "id": "596beaf8",
   "metadata": {},
   "source": [
    "## I vs RF_f"
   ]
  },
  {
   "cell_type": "markdown",
   "id": "a6df9a13",
   "metadata": {},
   "source": [
    "### sensitive check"
   ]
  },
  {
   "cell_type": "code",
   "execution_count": null,
   "id": "017ed644",
   "metadata": {},
   "outputs": [],
   "source": [
    "SGS.power()\n",
    "SGS.frequency()"
   ]
  },
  {
   "cell_type": "code",
   "execution_count": null,
   "id": "e0b8db4e",
   "metadata": {},
   "outputs": [],
   "source": [
    "SGS.on()"
   ]
  },
  {
   "cell_type": "code",
   "execution_count": null,
   "id": "cc145b47",
   "metadata": {},
   "outputs": [],
   "source": [
    "SGS.off()"
   ]
  },
  {
   "cell_type": "code",
   "execution_count": null,
   "id": "6141349d",
   "metadata": {},
   "outputs": [],
   "source": [
    "magnet_x.field(0.4e-3)\n",
    "sleep(10)\n",
    "magnet_y.field(2.53e-3)\n",
    "sleep(10)"
   ]
  },
  {
   "cell_type": "code",
   "execution_count": null,
   "id": "2fd35fd0",
   "metadata": {},
   "outputs": [],
   "source": [
    "DMM6500.averaging_count(5)\n",
    "DMM6500.averaging_enabled(False)"
   ]
  },
  {
   "cell_type": "markdown",
   "id": "2d27c6f3",
   "metadata": {},
   "source": [
    "### I vs RF_f (1D)"
   ]
  },
  {
   "cell_type": "code",
   "execution_count": null,
   "id": "c3ec00d7",
   "metadata": {
    "scrolled": false
   },
   "outputs": [],
   "source": [
    "SGS.off()\n",
    "exp = qc.new_experiment('I-RF_f', sample_name='103-06_J2_12-13-14-15_1M_@0mT')\n",
    "SGS.power(0)\n",
    "SGS.frequency(0.1e9)\n",
    "SGS.on()\n",
    "sleep(1)\n",
    "DMM6500.averaging_count(5)\n",
    "DMM6500.averaging_enabled(False)\n",
    "K2440.output(1)\n",
    "\n",
    "appl_current(0.4e-6)\n",
    "#appl_TG(10)\n",
    "# magnet_x.field(0.4e-3)\n",
    "# magnet_y.field(2.53e-3)\n",
    "\n",
    "dataid = do1d(SGS.frequency, 11.4e9, 12.2e9, 201, 0.1, meas_voltage_K2)\n",
    "appl_current(0)\n",
    "SGS.off()\n",
    "K2440.output(0)\n",
    "plot_by_id(dataid)\n"
   ]
  },
  {
   "cell_type": "markdown",
   "id": "3e250e53",
   "metadata": {},
   "source": [
    "### I vs RF_f (2D)"
   ]
  },
  {
   "cell_type": "code",
   "execution_count": null,
   "id": "3734095d",
   "metadata": {},
   "outputs": [],
   "source": [
    "SGS.off()"
   ]
  },
  {
   "cell_type": "code",
   "execution_count": null,
   "id": "ccc9ea2f",
   "metadata": {},
   "outputs": [],
   "source": [
    "SGS.off()\n",
    "SGS.power(0)\n",
    "SGS.frequency(0.1e9)\n",
    "SGS.on()\n",
    "DMM6500.averaging_count(1)\n",
    "DMM6500.averaging_enabled(False)\n",
    "K2440.output(1)\n",
    "\n",
    "I_range = 8e-6\n",
    "appl_current(-I_range)\n",
    "#appl_TG(-10)\n",
    "# magnet_x.field(0.4e-3)\n",
    "# magnet_y.field(2.53e-3)\n",
    "# sleep(1)\n",
    "\n",
    "# station.snapshot(update=True);\n",
    "exp = qc.new_experiment('IV-RF_f', sample_name=f'103-03_J2_27-26-30-31M(32G-33G-28G-29G)_1M_RF@0dBm_By@0.1mT')\n",
    "\n",
    "#do1d(param_set, start, stop, num_points, delay, *param_meas)\n",
    "dataid = do2d(SGS.frequency, 1e9, 20e9, 191, 0.0001, appl_current,-I_range ,I_range, 201, 0.0001, meas_voltage_K2)\n",
    "# dataid = do1d(appl_current, 6e-6 , -6e-6, 251, 0.01, meas_voltage_K1)\n",
    "# ivvi.set_dacs_zero()\n",
    "K2440.output(0)\n",
    "SGS.off()\n",
    "appl_current(0)\n",
    "plot_by_id(dataid)\n",
    "save_path = r\"D:\\data\\Albert\\103\\Plot\\104_{}.png\".format(dataid)  # Path to save the plot image\n",
    "autosave_plot_by_id(dataid, save_path)"
   ]
  },
  {
   "cell_type": "code",
   "execution_count": null,
   "id": "3426a3bd",
   "metadata": {},
   "outputs": [],
   "source": [
    "SGS.off()\n",
    "SGS.power(20)\n",
    "SGS.frequency(0.1e9)\n",
    "SGS.on()\n",
    "DMM6500.averaging_count(1)\n",
    "DMM6500.averaging_enabled(False)\n",
    "K2440.output(1)\n",
    "\n",
    "I_range = 6e-6\n",
    "appl_current(-I_range)\n",
    "#appl_TG(-10)\n",
    "# magnet_x.field(0.4e-3)\n",
    "# magnet_y.field(2.53e-3)\n",
    "# sleep(1)\n",
    "\n",
    "# station.snapshot(update=True);\n",
    "exp = qc.new_experiment('IV-RF_f', sample_name=f'103-03_J2_27-26-30-31M(32G-33G-28G-29G)_1M_RF@-10dBm_By@0.1mT')\n",
    "\n",
    "#do1d(param_set, start, stop, num_points, delay, *param_meas)\n",
    "dataid = do2d(SGS.frequency, 1e9, 20e9, 191, 0.0001, appl_current,-I_range ,I_range, 201, 0.0001, meas_voltage_K2)\n",
    "# dataid = do1d(appl_current, 6e-6 , -6e-6, 251, 0.01, meas_voltage_K1)\n",
    "# ivvi.set_dacs_zero()\n",
    "K2440.output(0)\n",
    "SGS.off()\n",
    "appl_current(0)\n",
    "plot_by_id(dataid)\n",
    "save_path = r\"D:\\data\\Albert\\103\\Plot\\104_{}.png\".format(dataid)  # Path to save the plot image\n",
    "autosave_plot_by_id(dataid, save_path)"
   ]
  },
  {
   "cell_type": "code",
   "execution_count": null,
   "id": "9f9dbd53",
   "metadata": {},
   "outputs": [],
   "source": [
    "SGS.off()\n",
    "SGS.power(20)\n",
    "SGS.frequency(5.9e9)\n",
    "SGS.on()\n",
    "DMM6500.averaging_count(1)\n",
    "DMM6500.averaging_enabled(False)\n",
    "K2440.output(1)\n",
    "\n",
    "I_range = 6e-6\n",
    "appl_current(-I_range)\n",
    "#appl_TG(-10)\n",
    "# magnet_x.field(0.4e-3)\n",
    "# magnet_y.field(2.53e-3)\n",
    "# sleep(1)\n",
    "\n",
    "# station.snapshot(update=True);\n",
    "exp = qc.new_experiment('IV-RF_f', sample_name=f'103-03_J2_27-26-30-31M(32G-33G-28G-29G)_1M_RF@20dBm_By@0.1mT')\n",
    "\n",
    "#do1d(param_set, start, stop, num_points, delay, *param_meas)\n",
    "dataid = do2d(SGS.frequency, 5.9e9, 6.0e9, 251, 0.0001, appl_current,-I_range ,I_range, 501, 0.0001, meas_voltage_K2)\n",
    "# dataid = do1d(appl_current, 6e-6 , -6e-6, 251, 0.01, meas_voltage_K1)\n",
    "# ivvi.set_dacs_zero()\n",
    "K2440.output(0)\n",
    "SGS.off()\n",
    "appl_current(0)\n",
    "plot_by_id(dataid)\n",
    "save_path = r\"D:\\data\\Albert\\103\\Plot\\104_{}.png\".format(dataid)  # Path to save the plot image\n",
    "autosave_plot_by_id(dataid, save_path)\n"
   ]
  },
  {
   "cell_type": "code",
   "execution_count": null,
   "id": "862b770b",
   "metadata": {},
   "outputs": [],
   "source": [
    "SGS.off()\n",
    "SGS.power(20)\n",
    "SGS.frequency(5.535e9)\n",
    "SGS.on()\n",
    "DMM6500.averaging_count(1)\n",
    "DMM6500.averaging_enabled(False)\n",
    "K2440.output(1)\n",
    "\n",
    "I_range = 6e-6\n",
    "appl_current(-I_range)\n",
    "#appl_TG(-10)\n",
    "# magnet_x.field(0.4e-3)\n",
    "# magnet_y.field(2.53e-3)\n",
    "# sleep(1)\n",
    "\n",
    "# station.snapshot(update=True);\n",
    "exp = qc.new_experiment('IV-RF_f', sample_name=f'103-03_J2_27-26-30-31M(32G-33G-28G-29G)_1M_RF@20dBm_By@0.1mT')\n",
    "\n",
    "#do1d(param_set, start, stop, num_points, delay, *param_meas)\n",
    "dataid = do2d(SGS.frequency, 5.535e9, 5.585e9, 251, 0.0001, appl_current,-I_range ,I_range, 501, 0.0001, meas_voltage_K2)\n",
    "# dataid = do1d(appl_current, 6e-6 , -6e-6, 251, 0.01, meas_voltage_K1)\n",
    "# ivvi.set_dacs_zero()\n",
    "K2440.output(0)\n",
    "SGS.off()\n",
    "appl_current(0)\n",
    "plot_by_id(dataid)\n",
    "save_path = r\"D:\\data\\Albert\\103\\Plot\\104_{}.png\".format(dataid)  # Path to save the plot image\n",
    "autosave_plot_by_id(dataid, save_path)\n"
   ]
  },
  {
   "cell_type": "code",
   "execution_count": null,
   "id": "d76f7ea2",
   "metadata": {},
   "outputs": [],
   "source": [
    "SGS.off()\n",
    "SGS.power(20)\n",
    "SGS.frequency(0.1e9)\n",
    "SGS.on()\n",
    "DMM6500.averaging_count(1)\n",
    "DMM6500.averaging_enabled(False)\n",
    "K2440.output(1)\n",
    "\n",
    "I_range = 6e-6\n",
    "appl_current(-I_range)\n",
    "SGS_power = SGS.power()\n",
    "#appl_TG(-10)\n",
    "# magnet_x.field(0.4e-3)\n",
    "# magnet_y.field(2.53e-3)\n",
    "# sleep(1)\n",
    "\n",
    "# station.snapshot(update=True);\n",
    "exp = qc.new_experiment('IV-RF_f', sample_name=f'103-03_J2_27-26-30-31M(32G-33G-28G-29G)_1M_RF@{SGS_power}dBm_By@0.1mT')\n",
    "\n",
    "#do1d(param_set, start, stop, num_points, delay, *param_meas)\n",
    "dataid = do2d(SGS.frequency, 3.9e9, 6.9e9, 301, 0.0001, appl_current,-I_range ,I_range, 251, 0.0001, meas_voltage_K2)\n",
    "# dataid = do1d(appl_current, 6e-6 , -6e-6, 251, 0.01, meas_voltage_K1)\n",
    "# ivvi.set_dacs_zero()\n",
    "K2440.output(0)\n",
    "SGS.off()\n",
    "appl_current(0)\n",
    "plot_by_id(dataid)\n",
    "save_path = r\"D:\\data\\Albert\\103\\Plot\\104_{}.png\".format(dataid)  # Path to save the plot image\n",
    "autosave_plot_by_id(dataid, save_path)"
   ]
  },
  {
   "cell_type": "code",
   "execution_count": null,
   "id": "28992f6f",
   "metadata": {},
   "outputs": [],
   "source": [
    "appl_current(0)\n",
    "#appl_TG(0)\n",
    "magnet_y.field(0)\n",
    "sleep(2)\n",
    "magnet_x.field(0)\n",
    "sleep(2)\n",
    "#appl_voltage_AC(0.004)\n",
    "SGS.off()"
   ]
  },
  {
   "cell_type": "markdown",
   "id": "65c9a40a",
   "metadata": {},
   "source": [
    "## IV vs RF_f"
   ]
  },
  {
   "cell_type": "markdown",
   "id": "b285efb3",
   "metadata": {},
   "source": [
    "### Shapiro steps "
   ]
  },
  {
   "cell_type": "code",
   "execution_count": null,
   "id": "3a180ee1",
   "metadata": {
    "scrolled": true
   },
   "outputs": [],
   "source": [
    "SGS.off()\n",
    "SGS.power(-10)\n",
    "SGS.frequency(11.725e9)\n",
    "SGS.on()\n",
    "DMM6500.averaging_count(5)\n",
    "DMM6500.averaging_enabled(False)\n",
    "K2440.output(1)\n",
    "\n",
    "appl_current(-2e-7)\n",
    "#appl_TG(-10)\n",
    "#magnet_x.field(0.23e-3)\n",
    "#magnet_y.field(1.41e-3)\n",
    "# sleep(1)\n",
    "\n",
    "# station.snapshot(update=True);\n",
    "exp = qc.new_experiment('IV-RF_f', sample_name=f'103-03_J2_27-26-30-31M(32G-33G-28G-29G)_1M_By@0.1mT{-I_range}')\n",
    "\n",
    "#do1d(param_set, start, stop, num_points, delay, *param_meas)\"\"\n",
    "dataid = do1d(appl_current,-2e-7 ,2e-7, 101, 0.05,  meas_voltage_K2)\n",
    "# dataid = do1d(appl_current, 6e-6 , -6e-6, 251, 0.01, meas_voltage_K1)\n",
    "# ivvi.set_dacs_zero()\n",
    "K2440.output(0)\n",
    "SGS.off()\n",
    "appl_current(0)\n",
    "plot_by_id(dataid)\n",
    "# print(get_R_from_IV(dataid))\n",
    "#print(get_R_from_IV_2(dataid))"
   ]
  },
  {
   "cell_type": "code",
   "execution_count": null,
   "id": "51fe069b",
   "metadata": {},
   "outputs": [],
   "source": [
    "SGS.off()\n",
    "SGS.power(0)\n",
    "SGS.frequency(3.87e9)\n",
    "SGS.on()\n",
    "DMM6500.averaging_count(5)\n",
    "DMM6500.averaging_enabled(False)\n",
    "K2440.output(1)\n",
    "\n",
    "appl_current(-1.2e-6)\n",
    "#appl_TG(-10)\n",
    "magnet_y.field(-10e-3)\n",
    "\n",
    "#magnet_y.field(1.41e-3)\n",
    "# sleep(1)\n",
    "\n",
    "# station.snapshot(update=True);\n",
    "exp = qc.new_experiment('Bx vs RF_f', sample_name='By vs RF_f_J2_3.87_-10dB')\n",
    "\n",
    "#do1d(param_set, start, stop, num_points, delay, *param_meas)\"\"\n",
    "dataid = do2d(magnet_y.field, -10e-3, 10e-3,701, 1, appl_current,-1.2e-6 ,1.2e-6, 101, 0.05,  meas_voltage_K2)\n",
    "# dataid = do1d(appl_current, 6e-6 , -6e-6, 251, 0.01, meas_voltage_K1)\n",
    "# ivvi.set_dacs_zero()\n",
    "K2440.output(0)\n",
    "SGS.off()\n",
    "appl_current(0)\n",
    "plot_by_id(dataid)\n",
    "# print(get_R_from_IV(dataid))\n",
    "#print(get_R_from_IV_2(dataid))"
   ]
  },
  {
   "cell_type": "code",
   "execution_count": null,
   "id": "5488e4c5",
   "metadata": {},
   "outputs": [],
   "source": [
    "appl_current(0)\n",
    "#appl_TG(0)\n",
    "magnet_y.field(0)\n",
    "sleep(10)\n",
    "magnet_x.field(0)\n",
    "sleep(10)\n",
    "#appl_voltage_AC(0.004)\n",
    "SGS.off()"
   ]
  },
  {
   "cell_type": "markdown",
   "id": "04e50dcd",
   "metadata": {},
   "source": [
    "## IV vs Power Dependence"
   ]
  },
  {
   "cell_type": "code",
   "execution_count": null,
   "id": "0368ef58",
   "metadata": {},
   "outputs": [],
   "source": [
    "SGS.off()"
   ]
  },
  {
   "cell_type": "code",
   "execution_count": null,
   "id": "3d6eab35",
   "metadata": {},
   "outputs": [],
   "source": [
    "SGS.power(-40)"
   ]
  },
  {
   "cell_type": "code",
   "execution_count": null,
   "id": "d760383a",
   "metadata": {},
   "outputs": [],
   "source": [
    "SGS.off()"
   ]
  },
  {
   "cell_type": "code",
   "execution_count": null,
   "id": "f0984a37",
   "metadata": {
    "scrolled": true
   },
   "outputs": [],
   "source": [
    "SGS.off()\n",
    "SGS.power(-20)\n",
    "SGS.frequency(5.9534e9)\n",
    "SGS_frequency = SGS.frequency()\n",
    "SGS.on()\n",
    "DMM6500.averaging_count(3)\n",
    "DMM6500.averaging_enabled(False)\n",
    "K2440.output(1)\n",
    "\n",
    "#magnet_x.field(15e-3)\n",
    "#sleep(5)\n",
    "I_range = 6e-6\n",
    "appl_current(-I_range)\n",
    "#appl_TG(-30)\n",
    "sleep(2)\n",
    "\n",
    "# station.snapshot(update=True);\n",
    "exp = qc.new_experiment('IV-RF_p', sample_name=f'103-03_J2_27-26-30-31M(32G-33G-28G-29G)_1M_RF@{SGS_frequency*1e-9:.4f}GHz_By@0.1mT')\n",
    "\n",
    "#do1d(param_set, start, stop, num_points, delay, *param_meas)\n",
    "\n",
    "dataid = do2d(SGS.power,10, 15, 51, 0.1, appl_current,-I_range ,I_range, 301, 0.00001, meas_voltage_K2)\n",
    "# dataid = do1d(appl_current, 6e-6 , -6e-6, 251, 0.01, meas_voltage_K1)\n",
    "# ivvi.set_dacs_zero()\n",
    "\n",
    "SGS.off()\n",
    "appl_current(0)\n",
    "K2440.output()\n",
    "plot_by_id(dataid)\n",
    "\n",
    "# print(get_R_from_IV(dataid))\n",
    "print(get_R_from_IV_2(dataid))"
   ]
  },
  {
   "cell_type": "code",
   "execution_count": null,
   "id": "de3fc621",
   "metadata": {},
   "outputs": [],
   "source": [
    "SGS.off()\n",
    "SGS.power(-25)\n",
    "SGS.frequency(5.226e9)\n",
    "SGS.on()\n",
    "DMM6500.averaging_count(5)\n",
    "DMM6500.averaging_enabled(True)\n",
    "K2440.output(1)\n",
    "\n",
    "magnet_y.field(-8e-3)\n",
    "sleep(60)\n",
    "appl_current(-2e-7)\n",
    "#appl_TG(-30)\n",
    "sleep(2)\n",
    "\n",
    "# station.snapshot(update=True);\n",
    "exp = qc.new_experiment('IV vs power dependence', sample_name='IV vs PD_5.226_By:-8mT')\n",
    "\n",
    "#do1d(param_set, start, stop, num_points, delay, *param_meas)\n",
    "\n",
    "dataid = do2d(SGS.power,-25, 10, 101, 20, appl_current,-2e-7 ,2e-7, 101, 0.05, meas_voltage_K2)\n",
    "# dataid = do1d(appl_current, 6e-6 , -6e-6, 251, 0.01, meas_voltage_K1)\n",
    "# ivvi.set_dacs_zero()\n",
    "\n",
    "SGS.off()\n",
    "appl_current(0)\n",
    "K2440.output()\n",
    "plot_by_id(dataid)\n",
    "\n",
    "# print(get_R_from_IV(dataid))\n",
    "print(get_R_from_IV_2(dataid))"
   ]
  },
  {
   "cell_type": "markdown",
   "id": "13e12840",
   "metadata": {},
   "source": [
    "### PD vs frequency_IV loop (not yet)"
   ]
  },
  {
   "cell_type": "code",
   "execution_count": null,
   "id": "8659ae09",
   "metadata": {
    "code_folding": []
   },
   "outputs": [],
   "source": [
    "frequencies = [3.248, 3.387, 5.677]\n",
    "power_levels = [-20, 0, 25]\n",
    "     \n",
    "SGS.off()\n",
    "SGS.power(-20)\n",
    "SGS.frequency(3.387e9)\n",
    "SGS.on()\n",
    "DMM6500.averaging_count(5)\n",
    "DMM6500.averaging_enabled(True)\n",
    "K2440.output(1)\n",
    "\n",
    "appl_current(-2e-6)\n",
    "#appl_TG(-10)\n",
    "sleep(1)\n",
    "\n",
    "for freq in frequencies:\n",
    "    SGS.frequency(freq)\n",
    "    for power_level in power_levels:\n",
    "        SGS.power(power_level)\n",
    "\n",
    "# station.snapshot(update=True);\n",
    "exp = qc.new_experiment('IV vs power dependence', sample_name='IV vs PD_J2_3.387_m20')\n",
    "dataid = do2d(SGS.power, 4, 8, 100, 2, appl_current, -1e-6, 1e-6, 101, 0.05, meas_voltage_K2)\n",
    "\n",
    " # 關閉設備，並在需要時列印或繪製結果\n",
    "SGS.off()\n",
    "appl_current(0)\n",
    "K2440.output()\n",
    "plot_by_id(dataid)\n",
    "    \n",
    "print(f\"頻率：{freq} Hz，功率水平：{power_level} dB\")\n",
    "print(get_R_from_IV_2(dataid))\n"
   ]
  },
  {
   "cell_type": "markdown",
   "id": "5c2101a5",
   "metadata": {},
   "source": [
    "## IV vs Vgate"
   ]
  },
  {
   "cell_type": "code",
   "execution_count": null,
   "id": "48eb3a89",
   "metadata": {},
   "outputs": [],
   "source": [
    "appl_current(0)\n",
    "appl_TG(0)\n",
    "magnet_y.field(0)\n",
    "sleep(10)\n",
    "magnet_x.field(0)\n",
    "sleep(10)\n",
    "appl_voltage_AC(0.004)\n",
    "SGS.off()"
   ]
  },
  {
   "cell_type": "code",
   "execution_count": null,
   "id": "5deaef19",
   "metadata": {},
   "outputs": [],
   "source": [
    "SGS.off()\n",
    "SGS.power(25)\n",
    "SGS.frequency(4.83e9)\n",
    "SGS.on()\n",
    "DMM6500.averaging_count(5)\n",
    "DMM6500.averaging_enabled(True)\n",
    "appl_current(-0.4e-7)\n",
    "appl_current_AC(0.1e-10)\n",
    "\n",
    "appl_TG(-10)\n",
    "sleep(1)\n",
    "\n",
    "# station.snapshot(update=True);\n",
    "exp = qc.new_experiment('IV vs Vgate', sample_name='IV vs Vg')\n",
    "\n",
    "dataid = do2d(appl_TG, -10, 10, 751, 0.5, appl_current, -0.4e-7, 0.4e-7, 101, 0.01, meas_voltage_AC_L1, meas_voltage_AC_L1_P, meas_voltage_K2)\n",
    "# dataid = do1d(appl_current, 6e-6 , -6e-6, 251, 0.01, meas_voltage_K1)\n",
    "# ivvi.set_dacs_zero()\n",
    "SGS.off()\n",
    "appl_current(0)\n",
    "plot_by_id(dataid)\n",
    "# print(get_R_from_IV(dataid))\n",
    "#print(get_R_from_IV_2(dataid))"
   ]
  },
  {
   "cell_type": "code",
   "execution_count": null,
   "id": "6bbd39fb",
   "metadata": {},
   "outputs": [],
   "source": [
    "appl_current(0)\n",
    "appl_TG(0)\n",
    "magnet_y.field(0)\n",
    "sleep(10)\n",
    "magnet_x.field(0)\n",
    "sleep(10)\n",
    "appl_voltage_AC(0.004)\n",
    "SGS.off()"
   ]
  },
  {
   "cell_type": "code",
   "execution_count": null,
   "id": "00d4b770",
   "metadata": {},
   "outputs": [],
   "source": [
    "import matplotlib.pyplot as plt\n",
    "import numpy as np\n",
    "\n",
    "# Constants\n",
    "k = 8.617333262145e-5  # Boltzmann constant in eV/K\n",
    "E_a = 0.5  # Example value for the activation energy in eV\n",
    "p_0 = 1.0  # Example value for p0\n",
    "\n",
    "# Create an array of temperatures from 100 to 1000 K\n",
    "temperatures = np.linspace(100, 1000, 50)\n",
    "\n",
    "# Calculate 1/T\n",
    "inverse_temperatures = 1 / temperatures\n",
    "\n",
    "# Calculate ln(p)\n",
    "ln_p = np.log(p_0) - (E_a / k) * inverse_temperatures\n",
    "\n",
    "# Plotting\n",
    "plt.figure(figsize=(8, 6))\n",
    "plt.plot(inverse_temperatures, ln_p, marker='o', linestyle='-')\n",
    "plt.xlabel('1/T (1/K)')\n",
    "plt.ylabel('ln(p)')\n",
    "plt.title('ln(p) vs 1/T for Hole Concentration')\n",
    "plt.grid(True)\n",
    "plt.show()\n"
   ]
  },
  {
   "cell_type": "code",
   "execution_count": null,
   "id": "f610e7bc",
   "metadata": {},
   "outputs": [],
   "source": []
  }
 ],
 "metadata": {
  "kernelspec": {
   "display_name": "qcodes",
   "language": "python",
   "name": "python3"
  },
  "language_info": {
   "codemirror_mode": {
    "name": "ipython",
    "version": 3
   },
   "file_extension": ".py",
   "mimetype": "text/x-python",
   "name": "python",
   "nbconvert_exporter": "python",
   "pygments_lexer": "ipython3",
   "version": "3.9.13"
  },
  "toc": {
   "base_numbering": 1,
   "nav_menu": {},
   "number_sections": true,
   "sideBar": false,
   "skip_h1_title": false,
   "title_cell": "Table of Contents",
   "title_sidebar": "Contents",
   "toc_cell": false,
   "toc_position": {
    "height": "783px",
    "left": "260px",
    "top": "67.125px",
    "width": "182px"
   },
   "toc_section_display": true,
   "toc_window_display": true
  }
 },
 "nbformat": 4,
 "nbformat_minor": 5
}
