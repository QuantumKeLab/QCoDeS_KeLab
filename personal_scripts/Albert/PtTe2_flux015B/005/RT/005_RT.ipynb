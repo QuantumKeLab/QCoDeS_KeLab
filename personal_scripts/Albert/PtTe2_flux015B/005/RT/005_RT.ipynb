{
 "cells": [
  {
   "cell_type": "markdown",
   "id": "256e0f19",
   "metadata": {},
   "source": [
    "# Initialization"
   ]
  },
  {
   "cell_type": "markdown",
   "id": "9d160fe4",
   "metadata": {},
   "source": [
    "## Inport modules"
   ]
  },
  {
   "cell_type": "code",
   "execution_count": 1,
   "id": "88979d6d",
   "metadata": {},
   "outputs": [
    {
     "name": "stdout",
     "output_type": "stream",
     "text": [
      "Imported all modules, QCoDeS version: 0.52.0 initialized\n"
     ]
    }
   ],
   "source": [
    "%matplotlib ipympl\n",
    "import os, sys\n",
    "import time\n",
    "import pyvisa\n",
    "import warnings\n",
    "import numpy as np\n",
    "import qcodes as qc\n",
    "import plotly.graph_objects as go\n",
    "import matplotlib.pyplot as plt\n",
    "\n",
    "def find_qcodes_local_dir():\n",
    "    dirpath = os.getcwd()\n",
    "    while True:\n",
    "        dirpath, folder_name = os.path.split(dirpath)\n",
    "        if folder_name == 'QCoDeS_local':\n",
    "            return os.path.join(dirpath, folder_name)\n",
    "        if not folder_name:  # Reached the root directory\n",
    "            return None\n",
    "qcodes_local_dir = find_qcodes_local_dir()\n",
    "sys.path.append(f'{qcodes_local_dir}')\n",
    "\n",
    "from tqdm import tqdm\n",
    "from pprint import pprint\n",
    "from time import sleep, monotonic, time\n",
    "from IPython.display import clear_output\n",
    "from qcodes.dataset.measurements import Measurement\n",
    "from qcodes.utils.metadata import diff_param_values\n",
    "from qcodes.dataset.plotting import plot_dataset, plot_by_id\n",
    "from qcodes import Parameter, ManualParameter, ScaledParameter\n",
    "from qcodes.instrument.specialized_parameters import ElapsedTimeParameter\n",
    "from sweeps_v2 import do1d, do2d, time_sweep, measure_until, do1d_until\n",
    "\n",
    "print('Imported all modules, QCoDeS version:', qc.__version__, 'initialized')\n",
    "\n",
    "# warnings.filterwarnings('ignore')"
   ]
  },
  {
   "cell_type": "code",
   "execution_count": 2,
   "id": "399e7806",
   "metadata": {},
   "outputs": [
    {
     "data": {
      "text/plain": [
       "'c:\\\\Users\\\\quant\\\\OneDrive\\\\Documents\\\\GitHub\\\\QCoDeS_local'"
      ]
     },
     "execution_count": 2,
     "metadata": {},
     "output_type": "execute_result"
    }
   ],
   "source": [
    "def find_qcodes_local_dir():\n",
    "    dirpath = os.getcwd()\n",
    "    while True:\n",
    "        dirpath, folder_name = os.path.split(dirpath)\n",
    "        if folder_name == 'QCoDeS_local':\n",
    "            return os.path.join(dirpath, folder_name)\n",
    "        if not folder_name:  # Reached the root directory\n",
    "            return None\n",
    "qcodes_local_dir = find_qcodes_local_dir()\n",
    "qcodes_local_dir"
   ]
  },
  {
   "cell_type": "code",
   "execution_count": 3,
   "id": "cc4a1c10",
   "metadata": {},
   "outputs": [
    {
     "data": {
      "text/plain": [
       "'c:\\\\Users\\\\quant\\\\OneDrive\\\\Documents\\\\GitHub\\\\QCoDeS_local\\\\init_fridge_v3.py'"
      ]
     },
     "execution_count": 3,
     "metadata": {},
     "output_type": "execute_result"
    }
   ],
   "source": [
    "def find_init_fridge_v3_py():\n",
    "    for root, dirs, files in os.walk(qcodes_local_dir):\n",
    "        if 'init_fridge_v2.py' in files:\n",
    "            return os.path.join(root, 'init_fridge_v3.py')\n",
    "    return None\n",
    "\n",
    "init_fridge_v3_py_path = find_init_fridge_v3_py()\n",
    "init_fridge_v3_py_path"
   ]
  },
  {
   "cell_type": "code",
   "execution_count": 4,
   "id": "bb19a743",
   "metadata": {},
   "outputs": [
    {
     "name": "stdout",
     "output_type": "stream",
     "text": [
      "Found init_BF1_v3.py at: c:\\Users\\quant\\OneDrive\\Documents\\GitHub\\QCoDeS_local\\fridge_specific\\init_BF1_v3.py\n",
      "Error connecting to TCPIP0::192.168.1.42::inst0::INSTR: VI_ERROR_RSRC_NFOUND (-1073807343): Insufficient location information or the requested device or resource is not present in the system.\n",
      "Error connecting to TCPIP0::192.168.1.42::inst1::INSTR: VI_ERROR_RSRC_NFOUND (-1073807343): Insufficient location information or the requested device or resource is not present in the system.\n",
      "Error connecting to TCPIP0::192.168.1.6::inst0::INSTR: VI_ERROR_RSRC_NFOUND (-1073807343): Insufficient location information or the requested device or resource is not present in the system.\n",
      "Error connecting to TCPIP0::192.168.1.7::inst0::INSTR: VI_ERROR_RSRC_NFOUND (-1073807343): Insufficient location information or the requested device or resource is not present in the system.\n",
      "Error connecting to TCPIP0::ZNB20-64-101393::inst0::INSTR: VI_ERROR_RSRC_NFOUND (-1073807343): Insufficient location information or the requested device or resource is not present in the system.\n",
      "Device: TCPIP0::K-E5080B-02870.local::hislip0::INSTR\n",
      "IDN: Keysight Technologies,E5080B,MY59202870,A.15.10.08\n",
      "\n",
      "Device: TCPIP0::K-E5080B-02870.local::inst0::INSTR\n",
      "IDN: Keysight Technologies,E5080B,MY59202870,A.15.10.08\n",
      "\n",
      "Error connecting to ASRL1::INSTR: VI_ERROR_TMO (-1073807339): Timeout expired before operation completed.\n",
      "Error connecting to ASRL2::INSTR: VI_ERROR_TMO (-1073807339): Timeout expired before operation completed.\n",
      "Error connecting to ASRL10::INSTR: VI_ERROR_TMO (-1073807339): Timeout expired before operation completed.\n",
      "Device: GPIB0::6::INSTR\n",
      "IDN: KEITHLEY INSTRUMENTS,MODEL DMM6500,04518052,1.7.7b\n",
      "\n",
      "Connected to: KEITHLEY INSTRUMENTS DMM6500 (serial:04518052, firmware:1.7.7b) in 0.03s\n",
      "Added Keithley DMM6500 at GPIB0::6::INSTR to the station.\n",
      "Device: GPIB0::22::INSTR\n",
      "IDN: KEITHLEY INSTRUMENTS INC.,MODEL 2440,1225508,C30   Mar 17 2006 09:29:29/A02  /B/A\n",
      "\n",
      "Connected to: KEITHLEY INSTRUMENTS INC. 2440 (serial:1225508, firmware:C30   Mar 17 2006 09:29:29/A02  /B/A) in 0.03s\n"
     ]
    },
    {
     "name": "stderr",
     "output_type": "stream",
     "text": [
      "[K2440(Keithley2400)] Snapshot: Could not update parameter: volt\n",
      "[K2440(Keithley2400)] Snapshot: Could not update parameter: curr\n",
      "[K2440(Keithley2400)] Snapshot: Could not update parameter: resistance\n"
     ]
    },
    {
     "name": "stdout",
     "output_type": "stream",
     "text": [
      "\n",
      "Station list:\n",
      "{'DMM6500': <Keithley_6500: DMM6500>, 'K2440': <Keithley2400: K2440>}\n"
     ]
    }
   ],
   "source": [
    "fridge_name = 'BF1'\n",
    "%run \"{init_fridge_v3_py_path}\" {fridge_name}"
   ]
  },
  {
   "cell_type": "code",
   "execution_count": 5,
   "id": "c9e134aa",
   "metadata": {},
   "outputs": [
    {
     "name": "stdout",
     "output_type": "stream",
     "text": [
      "{'components': {},\n",
      " 'config': None,\n",
      " 'instruments': {'DMM6500': {'__class__': 'qcodes.instrument_drivers.tektronix.Keithley_6500.Keithley_6500',\n",
      "                             'address': 'GPIB0::6::INSTR',\n",
      "                             'functions': {},\n",
      "                             'label': 'DMM6500',\n",
      "                             'name': 'DMM6500',\n",
      "                             'parameters': {'IDN': {'__class__': 'qcodes.parameters.parameter.Parameter',\n",
      "                                                    'full_name': 'DMM6500_IDN',\n",
      "                                                    'instrument': 'qcodes.instrument_drivers.tektronix.Keithley_6500.Keithley_6500',\n",
      "                                                    'instrument_name': 'DMM6500',\n",
      "                                                    'inter_delay': 0,\n",
      "                                                    'label': 'IDN',\n",
      "                                                    'name': 'IDN',\n",
      "                                                    'post_delay': 0,\n",
      "                                                    'raw_value': {'firmware': '1.7.7b',\n",
      "                                                                  'model': 'DMM6500',\n",
      "                                                                  'serial': '04518052',\n",
      "                                                                  'vendor': 'KEITHLEY '\n",
      "                                                                            'INSTRUMENTS'},\n",
      "                                                    'ts': '2025-05-05 16:01:33',\n",
      "                                                    'unit': '',\n",
      "                                                    'validators': ['<Anything>'],\n",
      "                                                    'vals': '<Anything>',\n",
      "                                                    'value': {'firmware': '1.7.7b',\n",
      "                                                              'model': 'DMM6500',\n",
      "                                                              'serial': '04518052',\n",
      "                                                              'vendor': 'KEITHLEY '\n",
      "                                                                        'INSTRUMENTS'}},\n",
      "                                            'amplitude': {'__class__': 'qcodes.parameters.parameter.Parameter',\n",
      "                                                          'full_name': 'DMM6500_amplitude',\n",
      "                                                          'instrument': 'qcodes.instrument_drivers.tektronix.Keithley_6500.Keithley_6500',\n",
      "                                                          'instrument_name': 'DMM6500',\n",
      "                                                          'inter_delay': 0,\n",
      "                                                          'label': 'amplitude',\n",
      "                                                          'name': 'amplitude',\n",
      "                                                          'post_delay': 0,\n",
      "                                                          'raw_value': -0.00027643,\n",
      "                                                          'ts': '2025-05-05 '\n",
      "                                                                '16:01:33',\n",
      "                                                          'unit': 'a.u.',\n",
      "                                                          'validators': [],\n",
      "                                                          'value': -0.00027643},\n",
      "                                            'auto_range_enabled': {'__class__': 'qcodes.parameters.parameter.Parameter',\n",
      "                                                                   'full_name': 'DMM6500_auto_range_enabled',\n",
      "                                                                   'instrument': 'qcodes.instrument_drivers.tektronix.Keithley_6500.Keithley_6500',\n",
      "                                                                   'instrument_name': 'DMM6500',\n",
      "                                                                   'inter_delay': 0,\n",
      "                                                                   'label': 'auto_range_enabled',\n",
      "                                                                   'name': 'auto_range_enabled',\n",
      "                                                                   'post_delay': 0,\n",
      "                                                                   'raw_value': True,\n",
      "                                                                   'ts': '2025-05-05 '\n",
      "                                                                         '16:01:33',\n",
      "                                                                   'unit': '',\n",
      "                                                                   'validators': ['<Boolean>'],\n",
      "                                                                   'vals': '<Boolean>',\n",
      "                                                                   'value': True},\n",
      "                                            'averaging_count': {'__class__': 'qcodes.parameters.parameter.Parameter',\n",
      "                                                                'full_name': 'DMM6500_averaging_count',\n",
      "                                                                'instrument': 'qcodes.instrument_drivers.tektronix.Keithley_6500.Keithley_6500',\n",
      "                                                                'instrument_name': 'DMM6500',\n",
      "                                                                'inter_delay': 0,\n",
      "                                                                'label': 'averaging_count',\n",
      "                                                                'name': 'averaging_count',\n",
      "                                                                'post_delay': 0,\n",
      "                                                                'raw_value': 10,\n",
      "                                                                'ts': '2025-05-05 '\n",
      "                                                                      '16:01:33',\n",
      "                                                                'unit': '',\n",
      "                                                                'validators': ['<Ints '\n",
      "                                                                               '1<=v<=100>'],\n",
      "                                                                'vals': '<Ints '\n",
      "                                                                        '1<=v<=100>',\n",
      "                                                                'value': 10},\n",
      "                                            'averaging_enabled': {'__class__': 'qcodes.parameters.parameter.Parameter',\n",
      "                                                                  'full_name': 'DMM6500_averaging_enabled',\n",
      "                                                                  'instrument': 'qcodes.instrument_drivers.tektronix.Keithley_6500.Keithley_6500',\n",
      "                                                                  'instrument_name': 'DMM6500',\n",
      "                                                                  'inter_delay': 0,\n",
      "                                                                  'label': 'averaging_enabled',\n",
      "                                                                  'name': 'averaging_enabled',\n",
      "                                                                  'post_delay': 0,\n",
      "                                                                  'raw_value': True,\n",
      "                                                                  'ts': '2025-05-05 '\n",
      "                                                                        '16:01:33',\n",
      "                                                                  'unit': '',\n",
      "                                                                  'validators': ['<Boolean>'],\n",
      "                                                                  'vals': '<Boolean>',\n",
      "                                                                  'value': True},\n",
      "                                            'averaging_type': {'__class__': 'qcodes.parameters.parameter.Parameter',\n",
      "                                                               'full_name': 'DMM6500_averaging_type',\n",
      "                                                               'instrument': 'qcodes.instrument_drivers.tektronix.Keithley_6500.Keithley_6500',\n",
      "                                                               'instrument_name': 'DMM6500',\n",
      "                                                               'inter_delay': 0,\n",
      "                                                               'label': 'averaging_type',\n",
      "                                                               'name': 'averaging_type',\n",
      "                                                               'post_delay': 0,\n",
      "                                                               'raw_value': 'repeat',\n",
      "                                                               'ts': '2025-05-05 '\n",
      "                                                                     '16:01:33',\n",
      "                                                               'unit': '',\n",
      "                                                               'validators': ['<Enum: '\n",
      "                                                                              \"{'repeat', \"\n",
      "                                                                              \"'moving'}>\"],\n",
      "                                                               'vals': '<Enum: '\n",
      "                                                                       \"{'repeat', \"\n",
      "                                                                       \"'moving'}>\",\n",
      "                                                               'value': 'repeat'},\n",
      "                                            'digits': {'__class__': 'qcodes.parameters.parameter.Parameter',\n",
      "                                                       'full_name': 'DMM6500_digits',\n",
      "                                                       'instrument': 'qcodes.instrument_drivers.tektronix.Keithley_6500.Keithley_6500',\n",
      "                                                       'instrument_name': 'DMM6500',\n",
      "                                                       'inter_delay': 0,\n",
      "                                                       'label': 'digits',\n",
      "                                                       'name': 'digits',\n",
      "                                                       'post_delay': 0,\n",
      "                                                       'raw_value': '6',\n",
      "                                                       'ts': '2025-05-05 '\n",
      "                                                             '16:01:33',\n",
      "                                                       'unit': '',\n",
      "                                                       'validators': ['<Ints '\n",
      "                                                                      '4<=v<=7>'],\n",
      "                                                       'vals': '<Ints 4<=v<=7>',\n",
      "                                                       'value': 6},\n",
      "                                            'display_backlight': {'__class__': 'qcodes.parameters.parameter.Parameter',\n",
      "                                                                  'full_name': 'DMM6500_display_backlight',\n",
      "                                                                  'instrument': 'qcodes.instrument_drivers.tektronix.Keithley_6500.Keithley_6500',\n",
      "                                                                  'instrument_name': 'DMM6500',\n",
      "                                                                  'inter_delay': 0,\n",
      "                                                                  'label': 'display_backlight',\n",
      "                                                                  'name': 'display_backlight',\n",
      "                                                                  'post_delay': 0,\n",
      "                                                                  'raw_value': 'ON50',\n",
      "                                                                  'ts': '2025-05-05 '\n",
      "                                                                        '16:01:33',\n",
      "                                                                  'unit': '',\n",
      "                                                                  'val_mapping': {'Blackout': 'BLACkout',\n",
      "                                                                                  'Off': 'OFF',\n",
      "                                                                                  'On 100': 'ON100',\n",
      "                                                                                  'On 25': 'ON25',\n",
      "                                                                                  'On 50': 'ON50',\n",
      "                                                                                  'On 75': 'ON75'},\n",
      "                                                                  'validators': ['<Enum: '\n",
      "                                                                                 \"{'On \"\n",
      "                                                                                 \"50', \"\n",
      "                                                                                 \"'On \"\n",
      "                                                                                 \"100', \"\n",
      "                                                                                 \"'Blackout', \"\n",
      "                                                                                 \"'Off', \"\n",
      "                                                                                 \"'On \"\n",
      "                                                                                 \"25', \"\n",
      "                                                                                 \"'On \"\n",
      "                                                                                 \"75'}>\"],\n",
      "                                                                  'vals': '<Enum: '\n",
      "                                                                          \"{'On \"\n",
      "                                                                          \"50', \"\n",
      "                                                                          \"'On \"\n",
      "                                                                          \"100', \"\n",
      "                                                                          \"'Blackout', \"\n",
      "                                                                          \"'Off', \"\n",
      "                                                                          \"'On \"\n",
      "                                                                          \"25', \"\n",
      "                                                                          \"'On \"\n",
      "                                                                          \"75'}>\",\n",
      "                                                                  'value': 'On '\n",
      "                                                                           '50'},\n",
      "                                            'mode': {'__class__': 'qcodes.parameters.parameter.Parameter',\n",
      "                                                     'full_name': 'DMM6500_mode',\n",
      "                                                     'instrument': 'qcodes.instrument_drivers.tektronix.Keithley_6500.Keithley_6500',\n",
      "                                                     'instrument_name': 'DMM6500',\n",
      "                                                     'inter_delay': 0,\n",
      "                                                     'label': 'mode',\n",
      "                                                     'name': 'mode',\n",
      "                                                     'post_delay': 0,\n",
      "                                                     'raw_value': 'VOLT:DC',\n",
      "                                                     'ts': '2025-05-05 '\n",
      "                                                           '16:01:33',\n",
      "                                                     'unit': '',\n",
      "                                                     'val_mapping': {'2w resistance': 'RES',\n",
      "                                                                     '4w resistance': 'FRES',\n",
      "                                                                     'ac current': 'CURR:AC',\n",
      "                                                                     'ac voltage': 'VOLT:AC',\n",
      "                                                                     'dc current': 'CURR:DC',\n",
      "                                                                     'dc voltage': 'VOLT:DC',\n",
      "                                                                     'frequency': 'FREQ',\n",
      "                                                                     'temperature': 'TEMP'},\n",
      "                                                     'validators': ['<Enum: '\n",
      "                                                                    \"{'temperature', \"\n",
      "                                                                    \"'dc \"\n",
      "                                                                    \"current', \"\n",
      "                                                                    \"'dc \"\n",
      "                                                                    \"voltage', \"\n",
      "                                                                    \"'2w \"\n",
      "                                                                    \"resistance', \"\n",
      "                                                                    \"'ac \"\n",
      "                                                                    \"voltage', \"\n",
      "                                                                    \"'ac \"\n",
      "                                                                    \"current', \"\n",
      "                                                                    \"'frequency', \"\n",
      "                                                                    \"'4w \"\n",
      "                                                                    \"resistance'}>\"],\n",
      "                                                     'vals': '<Enum: '\n",
      "                                                             \"{'temperature', \"\n",
      "                                                             \"'dc current', \"\n",
      "                                                             \"'dc voltage', \"\n",
      "                                                             \"'2w resistance', \"\n",
      "                                                             \"'ac voltage', \"\n",
      "                                                             \"'ac current', \"\n",
      "                                                             \"'frequency', '4w \"\n",
      "                                                             \"resistance'}>\",\n",
      "                                                     'value': 'dc voltage'},\n",
      "                                            'nplc': {'__class__': 'qcodes.parameters.parameter.Parameter',\n",
      "                                                     'full_name': 'DMM6500_nplc',\n",
      "                                                     'instrument': 'qcodes.instrument_drivers.tektronix.Keithley_6500.Keithley_6500',\n",
      "                                                     'instrument_name': 'DMM6500',\n",
      "                                                     'inter_delay': 0,\n",
      "                                                     'label': 'nplc',\n",
      "                                                     'name': 'nplc',\n",
      "                                                     'post_delay': 0,\n",
      "                                                     'raw_value': 1.0,\n",
      "                                                     'ts': '2025-05-05 '\n",
      "                                                           '16:01:33',\n",
      "                                                     'unit': '',\n",
      "                                                     'validators': ['<Numbers '\n",
      "                                                                    '0.01<=v<=10>'],\n",
      "                                                     'vals': '<Numbers '\n",
      "                                                             '0.01<=v<=10>',\n",
      "                                                     'value': 1.0},\n",
      "                                            'range': {'__class__': 'qcodes.parameters.parameter.Parameter',\n",
      "                                                      'full_name': 'DMM6500_range',\n",
      "                                                      'instrument': 'qcodes.instrument_drivers.tektronix.Keithley_6500.Keithley_6500',\n",
      "                                                      'instrument_name': 'DMM6500',\n",
      "                                                      'inter_delay': 0,\n",
      "                                                      'label': 'range',\n",
      "                                                      'name': 'range',\n",
      "                                                      'post_delay': 0,\n",
      "                                                      'raw_value': 0.1,\n",
      "                                                      'ts': '2025-05-05 '\n",
      "                                                            '16:01:33',\n",
      "                                                      'unit': '',\n",
      "                                                      'validators': ['<Numbers>'],\n",
      "                                                      'vals': '<Numbers>',\n",
      "                                                      'value': 0.1},\n",
      "                                            'timeout': {'__class__': 'qcodes.parameters.parameter.Parameter',\n",
      "                                                        'full_name': 'DMM6500_timeout',\n",
      "                                                        'instrument': 'qcodes.instrument_drivers.tektronix.Keithley_6500.Keithley_6500',\n",
      "                                                        'instrument_name': 'DMM6500',\n",
      "                                                        'inter_delay': 0,\n",
      "                                                        'label': 'timeout',\n",
      "                                                        'name': 'timeout',\n",
      "                                                        'post_delay': 0,\n",
      "                                                        'raw_value': 10.0,\n",
      "                                                        'ts': '2025-05-05 '\n",
      "                                                              '16:01:33',\n",
      "                                                        'unit': 's',\n",
      "                                                        'validators': ['<MultiType: '\n",
      "                                                                       'Numbers '\n",
      "                                                                       'v>=0, '\n",
      "                                                                       'Enum: '\n",
      "                                                                       '{None}>'],\n",
      "                                                        'vals': '<MultiType: '\n",
      "                                                                'Numbers v>=0, '\n",
      "                                                                'Enum: {None}>',\n",
      "                                                        'value': 10.0},\n",
      "                                            'trigger1_delay': {'__class__': 'qcodes.parameters.parameter.Parameter',\n",
      "                                                               'full_name': 'DMM6500_trigger1_delay',\n",
      "                                                               'instrument': 'qcodes.instrument_drivers.tektronix.Keithley_6500.Keithley_6500',\n",
      "                                                               'instrument_name': 'DMM6500',\n",
      "                                                               'inter_delay': 0,\n",
      "                                                               'label': 'trigger1_delay',\n",
      "                                                               'name': 'trigger1_delay',\n",
      "                                                               'post_delay': 0,\n",
      "                                                               'raw_value': '1E-05',\n",
      "                                                               'ts': '2025-05-05 '\n",
      "                                                                     '16:01:33',\n",
      "                                                               'unit': 's',\n",
      "                                                               'validators': ['<Numbers '\n",
      "                                                                              '0<=v<=999999.999>'],\n",
      "                                                               'vals': '<Numbers '\n",
      "                                                                       '0<=v<=999999.999>',\n",
      "                                                               'value': 1e-05},\n",
      "                                            'trigger1_source': {'__class__': 'qcodes.parameters.parameter.Parameter',\n",
      "                                                                'full_name': 'DMM6500_trigger1_source',\n",
      "                                                                'instrument': 'qcodes.instrument_drivers.tektronix.Keithley_6500.Keithley_6500',\n",
      "                                                                'instrument_name': 'DMM6500',\n",
      "                                                                'inter_delay': 0,\n",
      "                                                                'label': 'trigger1_source',\n",
      "                                                                'name': 'trigger1_source',\n",
      "                                                                'post_delay': 0,\n",
      "                                                                'raw_value': 'NONE',\n",
      "                                                                'ts': '2025-05-05 '\n",
      "                                                                      '16:01:33',\n",
      "                                                                'unit': '',\n",
      "                                                                'val_mapping': {'bus': 'COMM',\n",
      "                                                                                'external': 'EXT',\n",
      "                                                                                'front-panel': 'DISP',\n",
      "                                                                                'immediate': 'NONE',\n",
      "                                                                                'notify1': 'NOT1',\n",
      "                                                                                'notify2': 'NOT2',\n",
      "                                                                                'notify3': 'NOT3',\n",
      "                                                                                'timer1': 'TIM1',\n",
      "                                                                                'timer2': 'TIM2',\n",
      "                                                                                'timer3': 'TIM3',\n",
      "                                                                                'timer4': 'TIM4'},\n",
      "                                                                'validators': ['<Enum: '\n",
      "                                                                               \"{'notify3', \"\n",
      "                                                                               \"'timer2', \"\n",
      "                                                                               \"'timer4', \"\n",
      "                                                                               \"'notify1', \"\n",
      "                                                                               \"'bus', \"\n",
      "                                                                               \"'front-panel', \"\n",
      "                                                                               \"'external', \"\n",
      "                                                                               \"'immediate', \"\n",
      "                                                                               \"'notify2', \"\n",
      "                                                                               \"'timer1', \"\n",
      "                                                                               \"'timer3'}>\"],\n",
      "                                                                'vals': '<Enum: '\n",
      "                                                                        \"{'notify3', \"\n",
      "                                                                        \"'timer2', \"\n",
      "                                                                        \"'timer4', \"\n",
      "                                                                        \"'notify1', \"\n",
      "                                                                        \"'bus', \"\n",
      "                                                                        \"'front-panel', \"\n",
      "                                                                        \"'external', \"\n",
      "                                                                        \"'immediate', \"\n",
      "                                                                        \"'notify2', \"\n",
      "                                                                        \"'timer1', \"\n",
      "                                                                        \"'timer3'}>\",\n",
      "                                                                'value': 'immediate'},\n",
      "                                            'trigger2_delay': {'__class__': 'qcodes.parameters.parameter.Parameter',\n",
      "                                                               'full_name': 'DMM6500_trigger2_delay',\n",
      "                                                               'instrument': 'qcodes.instrument_drivers.tektronix.Keithley_6500.Keithley_6500',\n",
      "                                                               'instrument_name': 'DMM6500',\n",
      "                                                               'inter_delay': 0,\n",
      "                                                               'label': 'trigger2_delay',\n",
      "                                                               'name': 'trigger2_delay',\n",
      "                                                               'post_delay': 0,\n",
      "                                                               'raw_value': '1E-05',\n",
      "                                                               'ts': '2025-05-05 '\n",
      "                                                                     '16:01:33',\n",
      "                                                               'unit': 's',\n",
      "                                                               'validators': ['<Numbers '\n",
      "                                                                              '0<=v<=999999.999>'],\n",
      "                                                               'vals': '<Numbers '\n",
      "                                                                       '0<=v<=999999.999>',\n",
      "                                                               'value': 1e-05},\n",
      "                                            'trigger2_source': {'__class__': 'qcodes.parameters.parameter.Parameter',\n",
      "                                                                'full_name': 'DMM6500_trigger2_source',\n",
      "                                                                'instrument': 'qcodes.instrument_drivers.tektronix.Keithley_6500.Keithley_6500',\n",
      "                                                                'instrument_name': 'DMM6500',\n",
      "                                                                'inter_delay': 0,\n",
      "                                                                'label': 'trigger2_source',\n",
      "                                                                'name': 'trigger2_source',\n",
      "                                                                'post_delay': 0,\n",
      "                                                                'raw_value': 'NONE',\n",
      "                                                                'ts': '2025-05-05 '\n",
      "                                                                      '16:01:33',\n",
      "                                                                'unit': '',\n",
      "                                                                'val_mapping': {'bus': 'COMM',\n",
      "                                                                                'external': 'EXT',\n",
      "                                                                                'front-panel': 'DISP',\n",
      "                                                                                'immediate': 'NONE',\n",
      "                                                                                'notify1': 'NOT1',\n",
      "                                                                                'notify2': 'NOT2',\n",
      "                                                                                'notify3': 'NOT3',\n",
      "                                                                                'timer1': 'TIM1',\n",
      "                                                                                'timer2': 'TIM2',\n",
      "                                                                                'timer3': 'TIM3',\n",
      "                                                                                'timer4': 'TIM4'},\n",
      "                                                                'validators': ['<Enum: '\n",
      "                                                                               \"{'notify3', \"\n",
      "                                                                               \"'timer2', \"\n",
      "                                                                               \"'timer4', \"\n",
      "                                                                               \"'notify1', \"\n",
      "                                                                               \"'bus', \"\n",
      "                                                                               \"'front-panel', \"\n",
      "                                                                               \"'external', \"\n",
      "                                                                               \"'immediate', \"\n",
      "                                                                               \"'notify2', \"\n",
      "                                                                               \"'timer1', \"\n",
      "                                                                               \"'timer3'}>\"],\n",
      "                                                                'vals': '<Enum: '\n",
      "                                                                        \"{'notify3', \"\n",
      "                                                                        \"'timer2', \"\n",
      "                                                                        \"'timer4', \"\n",
      "                                                                        \"'notify1', \"\n",
      "                                                                        \"'bus', \"\n",
      "                                                                        \"'front-panel', \"\n",
      "                                                                        \"'external', \"\n",
      "                                                                        \"'immediate', \"\n",
      "                                                                        \"'notify2', \"\n",
      "                                                                        \"'timer1', \"\n",
      "                                                                        \"'timer3'}>\",\n",
      "                                                                'value': 'immediate'},\n",
      "                                            'trigger3_delay': {'__class__': 'qcodes.parameters.parameter.Parameter',\n",
      "                                                               'full_name': 'DMM6500_trigger3_delay',\n",
      "                                                               'instrument': 'qcodes.instrument_drivers.tektronix.Keithley_6500.Keithley_6500',\n",
      "                                                               'instrument_name': 'DMM6500',\n",
      "                                                               'inter_delay': 0,\n",
      "                                                               'label': 'trigger3_delay',\n",
      "                                                               'name': 'trigger3_delay',\n",
      "                                                               'post_delay': 0,\n",
      "                                                               'raw_value': '1E-05',\n",
      "                                                               'ts': '2025-05-05 '\n",
      "                                                                     '16:01:33',\n",
      "                                                               'unit': 's',\n",
      "                                                               'validators': ['<Numbers '\n",
      "                                                                              '0<=v<=999999.999>'],\n",
      "                                                               'vals': '<Numbers '\n",
      "                                                                       '0<=v<=999999.999>',\n",
      "                                                               'value': 1e-05},\n",
      "                                            'trigger3_source': {'__class__': 'qcodes.parameters.parameter.Parameter',\n",
      "                                                                'full_name': 'DMM6500_trigger3_source',\n",
      "                                                                'instrument': 'qcodes.instrument_drivers.tektronix.Keithley_6500.Keithley_6500',\n",
      "                                                                'instrument_name': 'DMM6500',\n",
      "                                                                'inter_delay': 0,\n",
      "                                                                'label': 'trigger3_source',\n",
      "                                                                'name': 'trigger3_source',\n",
      "                                                                'post_delay': 0,\n",
      "                                                                'raw_value': 'NONE',\n",
      "                                                                'ts': '2025-05-05 '\n",
      "                                                                      '16:01:33',\n",
      "                                                                'unit': '',\n",
      "                                                                'val_mapping': {'bus': 'COMM',\n",
      "                                                                                'external': 'EXT',\n",
      "                                                                                'front-panel': 'DISP',\n",
      "                                                                                'immediate': 'NONE',\n",
      "                                                                                'notify1': 'NOT1',\n",
      "                                                                                'notify2': 'NOT2',\n",
      "                                                                                'notify3': 'NOT3',\n",
      "                                                                                'timer1': 'TIM1',\n",
      "                                                                                'timer2': 'TIM2',\n",
      "                                                                                'timer3': 'TIM3',\n",
      "                                                                                'timer4': 'TIM4'},\n",
      "                                                                'validators': ['<Enum: '\n",
      "                                                                               \"{'notify3', \"\n",
      "                                                                               \"'timer2', \"\n",
      "                                                                               \"'timer4', \"\n",
      "                                                                               \"'notify1', \"\n",
      "                                                                               \"'bus', \"\n",
      "                                                                               \"'front-panel', \"\n",
      "                                                                               \"'external', \"\n",
      "                                                                               \"'immediate', \"\n",
      "                                                                               \"'notify2', \"\n",
      "                                                                               \"'timer1', \"\n",
      "                                                                               \"'timer3'}>\"],\n",
      "                                                                'vals': '<Enum: '\n",
      "                                                                        \"{'notify3', \"\n",
      "                                                                        \"'timer2', \"\n",
      "                                                                        \"'timer4', \"\n",
      "                                                                        \"'notify1', \"\n",
      "                                                                        \"'bus', \"\n",
      "                                                                        \"'front-panel', \"\n",
      "                                                                        \"'external', \"\n",
      "                                                                        \"'immediate', \"\n",
      "                                                                        \"'notify2', \"\n",
      "                                                                        \"'timer1', \"\n",
      "                                                                        \"'timer3'}>\",\n",
      "                                                                'value': 'immediate'},\n",
      "                                            'trigger4_delay': {'__class__': 'qcodes.parameters.parameter.Parameter',\n",
      "                                                               'full_name': 'DMM6500_trigger4_delay',\n",
      "                                                               'instrument': 'qcodes.instrument_drivers.tektronix.Keithley_6500.Keithley_6500',\n",
      "                                                               'instrument_name': 'DMM6500',\n",
      "                                                               'inter_delay': 0,\n",
      "                                                               'label': 'trigger4_delay',\n",
      "                                                               'name': 'trigger4_delay',\n",
      "                                                               'post_delay': 0,\n",
      "                                                               'raw_value': '1E-05',\n",
      "                                                               'ts': '2025-05-05 '\n",
      "                                                                     '16:01:33',\n",
      "                                                               'unit': 's',\n",
      "                                                               'validators': ['<Numbers '\n",
      "                                                                              '0<=v<=999999.999>'],\n",
      "                                                               'vals': '<Numbers '\n",
      "                                                                       '0<=v<=999999.999>',\n",
      "                                                               'value': 1e-05},\n",
      "                                            'trigger4_source': {'__class__': 'qcodes.parameters.parameter.Parameter',\n",
      "                                                                'full_name': 'DMM6500_trigger4_source',\n",
      "                                                                'instrument': 'qcodes.instrument_drivers.tektronix.Keithley_6500.Keithley_6500',\n",
      "                                                                'instrument_name': 'DMM6500',\n",
      "                                                                'inter_delay': 0,\n",
      "                                                                'label': 'trigger4_source',\n",
      "                                                                'name': 'trigger4_source',\n",
      "                                                                'post_delay': 0,\n",
      "                                                                'raw_value': 'NONE',\n",
      "                                                                'ts': '2025-05-05 '\n",
      "                                                                      '16:01:33',\n",
      "                                                                'unit': '',\n",
      "                                                                'val_mapping': {'bus': 'COMM',\n",
      "                                                                                'external': 'EXT',\n",
      "                                                                                'front-panel': 'DISP',\n",
      "                                                                                'immediate': 'NONE',\n",
      "                                                                                'notify1': 'NOT1',\n",
      "                                                                                'notify2': 'NOT2',\n",
      "                                                                                'notify3': 'NOT3',\n",
      "                                                                                'timer1': 'TIM1',\n",
      "                                                                                'timer2': 'TIM2',\n",
      "                                                                                'timer3': 'TIM3',\n",
      "                                                                                'timer4': 'TIM4'},\n",
      "                                                                'validators': ['<Enum: '\n",
      "                                                                               \"{'notify3', \"\n",
      "                                                                               \"'timer2', \"\n",
      "                                                                               \"'timer4', \"\n",
      "                                                                               \"'notify1', \"\n",
      "                                                                               \"'bus', \"\n",
      "                                                                               \"'front-panel', \"\n",
      "                                                                               \"'external', \"\n",
      "                                                                               \"'immediate', \"\n",
      "                                                                               \"'notify2', \"\n",
      "                                                                               \"'timer1', \"\n",
      "                                                                               \"'timer3'}>\"],\n",
      "                                                                'vals': '<Enum: '\n",
      "                                                                        \"{'notify3', \"\n",
      "                                                                        \"'timer2', \"\n",
      "                                                                        \"'timer4', \"\n",
      "                                                                        \"'notify1', \"\n",
      "                                                                        \"'bus', \"\n",
      "                                                                        \"'front-panel', \"\n",
      "                                                                        \"'external', \"\n",
      "                                                                        \"'immediate', \"\n",
      "                                                                        \"'notify2', \"\n",
      "                                                                        \"'timer1', \"\n",
      "                                                                        \"'timer3'}>\",\n",
      "                                                                'value': 'immediate'},\n",
      "                                            'trigger_count': {'__class__': 'qcodes.parameters.parameter.Parameter',\n",
      "                                                              'full_name': 'DMM6500_trigger_count',\n",
      "                                                              'instrument': 'qcodes.instrument_drivers.tektronix.Keithley_6500.Keithley_6500',\n",
      "                                                              'instrument_name': 'DMM6500',\n",
      "                                                              'inter_delay': 0,\n",
      "                                                              'label': 'trigger_count',\n",
      "                                                              'name': 'trigger_count',\n",
      "                                                              'post_delay': 0,\n",
      "                                                              'raw_value': '1',\n",
      "                                                              'ts': '2025-05-05 '\n",
      "                                                                    '16:01:33',\n",
      "                                                              'unit': '',\n",
      "                                                              'validators': ['<MultiType: '\n",
      "                                                                             'Ints '\n",
      "                                                                             '1<=v<=9999, '\n",
      "                                                                             'Enum: '\n",
      "                                                                             \"{'maximum', \"\n",
      "                                                                             \"'inf', \"\n",
      "                                                                             \"'default', \"\n",
      "                                                                             \"'minimum'}>\"],\n",
      "                                                              'vals': '<MultiType: '\n",
      "                                                                      'Ints '\n",
      "                                                                      '1<=v<=9999, '\n",
      "                                                                      'Enum: '\n",
      "                                                                      \"{'maximum', \"\n",
      "                                                                      \"'inf', \"\n",
      "                                                                      \"'default', \"\n",
      "                                                                      \"'minimum'}>\",\n",
      "                                                              'value': 1},\n",
      "                                            'trigger_timer': {'__class__': 'qcodes.parameters.parameter.Parameter',\n",
      "                                                              'full_name': 'DMM6500_trigger_timer',\n",
      "                                                              'instrument': 'qcodes.instrument_drivers.tektronix.Keithley_6500.Keithley_6500',\n",
      "                                                              'instrument_name': 'DMM6500',\n",
      "                                                              'inter_delay': 0,\n",
      "                                                              'label': 'trigger_timer',\n",
      "                                                              'name': 'trigger_timer',\n",
      "                                                              'post_delay': 0,\n",
      "                                                              'raw_value': '0',\n",
      "                                                              'ts': '2025-05-05 '\n",
      "                                                                    '16:01:33',\n",
      "                                                              'unit': 's',\n",
      "                                                              'validators': ['<Numbers '\n",
      "                                                                             '0<=v<=999999.999>'],\n",
      "                                                              'vals': '<Numbers '\n",
      "                                                                      '0<=v<=999999.999>',\n",
      "                                                              'value': 0.0}},\n",
      "                             'read_terminator': '\\n',\n",
      "                             'submodules': {},\n",
      "                             'terminator': '\\n',\n",
      "                             'timeout': 10.0,\n",
      "                             'write_terminator': '\\n'},\n",
      "                 'K2440': {'__class__': 'qcodes.instrument_drivers.Keithley.Keithley_2400.Keithley2400',\n",
      "                           'address': 'GPIB0::22::INSTR',\n",
      "                           'functions': {},\n",
      "                           'label': 'K2440',\n",
      "                           'name': 'K2440',\n",
      "                           'parameters': {'IDN': {'__class__': 'qcodes.parameters.parameter.Parameter',\n",
      "                                                  'full_name': 'K2440_IDN',\n",
      "                                                  'instrument': 'qcodes.instrument_drivers.Keithley.Keithley_2400.Keithley2400',\n",
      "                                                  'instrument_name': 'K2440',\n",
      "                                                  'inter_delay': 0,\n",
      "                                                  'label': 'IDN',\n",
      "                                                  'name': 'IDN',\n",
      "                                                  'post_delay': 0,\n",
      "                                                  'raw_value': {'firmware': 'C30   '\n",
      "                                                                            'Mar '\n",
      "                                                                            '17 '\n",
      "                                                                            '2006 '\n",
      "                                                                            '09:29:29/A02  '\n",
      "                                                                            '/B/A',\n",
      "                                                                'model': '2440',\n",
      "                                                                'serial': '1225508',\n",
      "                                                                'vendor': 'KEITHLEY '\n",
      "                                                                          'INSTRUMENTS '\n",
      "                                                                          'INC.'},\n",
      "                                                  'ts': '2025-05-05 16:01:33',\n",
      "                                                  'unit': '',\n",
      "                                                  'validators': ['<Anything>'],\n",
      "                                                  'vals': '<Anything>',\n",
      "                                                  'value': {'firmware': 'C30   '\n",
      "                                                                        'Mar '\n",
      "                                                                        '17 '\n",
      "                                                                        '2006 '\n",
      "                                                                        '09:29:29/A02  '\n",
      "                                                                        '/B/A',\n",
      "                                                            'model': '2440',\n",
      "                                                            'serial': '1225508',\n",
      "                                                            'vendor': 'KEITHLEY '\n",
      "                                                                      'INSTRUMENTS '\n",
      "                                                                      'INC.'}},\n",
      "                                          'compliancei': {'__class__': 'qcodes.parameters.parameter.Parameter',\n",
      "                                                          'full_name': 'K2440_compliancei',\n",
      "                                                          'instrument': 'qcodes.instrument_drivers.Keithley.Keithley_2400.Keithley2400',\n",
      "                                                          'instrument_name': 'K2440',\n",
      "                                                          'inter_delay': 0,\n",
      "                                                          'label': 'Current '\n",
      "                                                                   'Compliance',\n",
      "                                                          'name': 'compliancei',\n",
      "                                                          'post_delay': 0,\n",
      "                                                          'raw_value': '1.050000E-04',\n",
      "                                                          'ts': '2025-05-05 '\n",
      "                                                                '16:01:33',\n",
      "                                                          'unit': '',\n",
      "                                                          'validators': [],\n",
      "                                                          'value': 0.000105},\n",
      "                                          'compliancev': {'__class__': 'qcodes.parameters.parameter.Parameter',\n",
      "                                                          'full_name': 'K2440_compliancev',\n",
      "                                                          'instrument': 'qcodes.instrument_drivers.Keithley.Keithley_2400.Keithley2400',\n",
      "                                                          'instrument_name': 'K2440',\n",
      "                                                          'inter_delay': 0,\n",
      "                                                          'label': 'Voltage '\n",
      "                                                                   'Compliance',\n",
      "                                                          'name': 'compliancev',\n",
      "                                                          'post_delay': 0,\n",
      "                                                          'raw_value': '1.050000E+01',\n",
      "                                                          'ts': '2025-05-05 '\n",
      "                                                                '16:01:33',\n",
      "                                                          'unit': '',\n",
      "                                                          'validators': [],\n",
      "                                                          'value': 10.5},\n",
      "                                          'curr': {'__class__': 'qcodes.parameters.parameter.Parameter',\n",
      "                                                   'full_name': 'K2440_curr',\n",
      "                                                   'instrument': 'qcodes.instrument_drivers.Keithley.Keithley_2400.Keithley2400',\n",
      "                                                   'instrument_name': 'K2440',\n",
      "                                                   'inter_delay': 0,\n",
      "                                                   'label': 'Current',\n",
      "                                                   'name': 'curr',\n",
      "                                                   'post_delay': 0,\n",
      "                                                   'raw_value': None,\n",
      "                                                   'ts': None,\n",
      "                                                   'unit': 'A',\n",
      "                                                   'validators': [],\n",
      "                                                   'value': None},\n",
      "                                          'mode': {'__class__': 'qcodes.parameters.parameter.Parameter',\n",
      "                                                   'full_name': 'K2440_mode',\n",
      "                                                   'instrument': 'qcodes.instrument_drivers.Keithley.Keithley_2400.Keithley2400',\n",
      "                                                   'instrument_name': 'K2440',\n",
      "                                                   'inter_delay': 0,\n",
      "                                                   'label': 'Mode',\n",
      "                                                   'name': 'mode',\n",
      "                                                   'post_delay': 0,\n",
      "                                                   'raw_value': 'VOLT',\n",
      "                                                   'ts': '2025-05-05 16:01:33',\n",
      "                                                   'unit': '',\n",
      "                                                   'validators': ['<Enum: '\n",
      "                                                                  \"{'CURR', \"\n",
      "                                                                  \"'VOLT'}>\"],\n",
      "                                                   'vals': \"<Enum: {'CURR', \"\n",
      "                                                           \"'VOLT'}>\",\n",
      "                                                   'value': 'VOLT'},\n",
      "                                          'nplci': {'__class__': 'qcodes.parameters.parameter.Parameter',\n",
      "                                                    'full_name': 'K2440_nplci',\n",
      "                                                    'instrument': 'qcodes.instrument_drivers.Keithley.Keithley_2400.Keithley2400',\n",
      "                                                    'instrument_name': 'K2440',\n",
      "                                                    'inter_delay': 0,\n",
      "                                                    'label': 'Current '\n",
      "                                                             'integration time',\n",
      "                                                    'name': 'nplci',\n",
      "                                                    'post_delay': 0,\n",
      "                                                    'raw_value': '1.00',\n",
      "                                                    'ts': '2025-05-05 16:01:33',\n",
      "                                                    'unit': '',\n",
      "                                                    'validators': [],\n",
      "                                                    'value': 1.0},\n",
      "                                          'nplcv': {'__class__': 'qcodes.parameters.parameter.Parameter',\n",
      "                                                    'full_name': 'K2440_nplcv',\n",
      "                                                    'instrument': 'qcodes.instrument_drivers.Keithley.Keithley_2400.Keithley2400',\n",
      "                                                    'instrument_name': 'K2440',\n",
      "                                                    'inter_delay': 0,\n",
      "                                                    'label': 'Voltage '\n",
      "                                                             'integration time',\n",
      "                                                    'name': 'nplcv',\n",
      "                                                    'post_delay': 0,\n",
      "                                                    'raw_value': '1.00',\n",
      "                                                    'ts': '2025-05-05 16:01:33',\n",
      "                                                    'unit': '',\n",
      "                                                    'validators': [],\n",
      "                                                    'value': 1.0},\n",
      "                                          'output': {'__class__': 'qcodes.parameters.parameter.Parameter',\n",
      "                                                     'full_name': 'K2440_output',\n",
      "                                                     'instrument': 'qcodes.instrument_drivers.Keithley.Keithley_2400.Keithley2400',\n",
      "                                                     'instrument_name': 'K2440',\n",
      "                                                     'inter_delay': 0,\n",
      "                                                     'label': 'output',\n",
      "                                                     'name': 'output',\n",
      "                                                     'post_delay': 0,\n",
      "                                                     'raw_value': '0',\n",
      "                                                     'ts': '2025-05-05 '\n",
      "                                                           '16:01:33',\n",
      "                                                     'unit': '',\n",
      "                                                     'val_mapping': OrderedDict([('On',\n",
      "                                                                                  '1'),\n",
      "                                                                                 ('ON',\n",
      "                                                                                  '1'),\n",
      "                                                                                 ('on',\n",
      "                                                                                  '1'),\n",
      "                                                                                 ('1',\n",
      "                                                                                  '1'),\n",
      "                                                                                 (True,\n",
      "                                                                                  '1'),\n",
      "                                                                                 ('Off',\n",
      "                                                                                  '0'),\n",
      "                                                                                 ('OFF',\n",
      "                                                                                  '0'),\n",
      "                                                                                 ('off',\n",
      "                                                                                  '0'),\n",
      "                                                                                 ('0',\n",
      "                                                                                  '0'),\n",
      "                                                                                 (False,\n",
      "                                                                                  '0')]),\n",
      "                                                     'validators': ['<Enum: '\n",
      "                                                                    '{False, '\n",
      "                                                                    'True, '\n",
      "                                                                    \"'ON', \"\n",
      "                                                                    \"'1', \"\n",
      "                                                                    \"'OFF', \"\n",
      "                                                                    \"'off', \"\n",
      "                                                                    \"'Off', \"\n",
      "                                                                    \"'On', \"\n",
      "                                                                    \"'0', \"\n",
      "                                                                    \"'on'}>\"],\n",
      "                                                     'vals': '<Enum: {False, '\n",
      "                                                             \"True, 'ON', '1', \"\n",
      "                                                             \"'OFF', 'off', \"\n",
      "                                                             \"'Off', 'On', \"\n",
      "                                                             \"'0', 'on'}>\",\n",
      "                                                     'value': False},\n",
      "                                          'rangei': {'__class__': 'qcodes.parameters.parameter.Parameter',\n",
      "                                                     'full_name': 'K2440_rangei',\n",
      "                                                     'instrument': 'qcodes.instrument_drivers.Keithley.Keithley_2400.Keithley2400',\n",
      "                                                     'instrument_name': 'K2440',\n",
      "                                                     'inter_delay': 0,\n",
      "                                                     'label': 'Current range',\n",
      "                                                     'name': 'rangei',\n",
      "                                                     'post_delay': 0,\n",
      "                                                     'raw_value': '1.050000E-05',\n",
      "                                                     'ts': '2025-05-05 '\n",
      "                                                           '16:01:33',\n",
      "                                                     'unit': '',\n",
      "                                                     'validators': [],\n",
      "                                                     'value': 1.05e-05},\n",
      "                                          'rangev': {'__class__': 'qcodes.parameters.parameter.Parameter',\n",
      "                                                     'full_name': 'K2440_rangev',\n",
      "                                                     'instrument': 'qcodes.instrument_drivers.Keithley.Keithley_2400.Keithley2400',\n",
      "                                                     'instrument_name': 'K2440',\n",
      "                                                     'inter_delay': 0,\n",
      "                                                     'label': 'Voltage range',\n",
      "                                                     'name': 'rangev',\n",
      "                                                     'post_delay': 0,\n",
      "                                                     'raw_value': '10.50',\n",
      "                                                     'ts': '2025-05-05 '\n",
      "                                                           '16:01:33',\n",
      "                                                     'unit': '',\n",
      "                                                     'validators': [],\n",
      "                                                     'value': 10.5},\n",
      "                                          'resistance': {'__class__': 'qcodes.parameters.parameter.Parameter',\n",
      "                                                         'full_name': 'K2440_resistance',\n",
      "                                                         'instrument': 'qcodes.instrument_drivers.Keithley.Keithley_2400.Keithley2400',\n",
      "                                                         'instrument_name': 'K2440',\n",
      "                                                         'inter_delay': 0,\n",
      "                                                         'label': 'Resistance',\n",
      "                                                         'name': 'resistance',\n",
      "                                                         'post_delay': 0,\n",
      "                                                         'raw_value': None,\n",
      "                                                         'ts': None,\n",
      "                                                         'unit': 'Ohm',\n",
      "                                                         'validators': [],\n",
      "                                                         'value': None},\n",
      "                                          'sense': {'__class__': 'qcodes.parameters.parameter.Parameter',\n",
      "                                                    'full_name': 'K2440_sense',\n",
      "                                                    'instrument': 'qcodes.instrument_drivers.Keithley.Keithley_2400.Keithley2400',\n",
      "                                                    'instrument_name': 'K2440',\n",
      "                                                    'inter_delay': 0,\n",
      "                                                    'label': 'Sense mode',\n",
      "                                                    'name': 'sense',\n",
      "                                                    'post_delay': 0,\n",
      "                                                    'raw_value': '\"CURR:DC\"',\n",
      "                                                    'ts': '2025-05-05 16:01:33',\n",
      "                                                    'unit': '',\n",
      "                                                    'validators': ['<Strings>'],\n",
      "                                                    'vals': '<Strings>',\n",
      "                                                    'value': '\"CURR:DC\"'},\n",
      "                                          'timeout': {'__class__': 'qcodes.parameters.parameter.Parameter',\n",
      "                                                      'full_name': 'K2440_timeout',\n",
      "                                                      'instrument': 'qcodes.instrument_drivers.Keithley.Keithley_2400.Keithley2400',\n",
      "                                                      'instrument_name': 'K2440',\n",
      "                                                      'inter_delay': 0,\n",
      "                                                      'label': 'timeout',\n",
      "                                                      'name': 'timeout',\n",
      "                                                      'post_delay': 0,\n",
      "                                                      'raw_value': 10.0,\n",
      "                                                      'ts': '2025-05-05 '\n",
      "                                                            '16:01:33',\n",
      "                                                      'unit': 's',\n",
      "                                                      'validators': ['<MultiType: '\n",
      "                                                                     'Numbers '\n",
      "                                                                     'v>=0, '\n",
      "                                                                     'Enum: '\n",
      "                                                                     '{None}>'],\n",
      "                                                      'vals': '<MultiType: '\n",
      "                                                              'Numbers v>=0, '\n",
      "                                                              'Enum: {None}>',\n",
      "                                                      'value': 10.0},\n",
      "                                          'volt': {'__class__': 'qcodes.parameters.parameter.Parameter',\n",
      "                                                   'full_name': 'K2440_volt',\n",
      "                                                   'instrument': 'qcodes.instrument_drivers.Keithley.Keithley_2400.Keithley2400',\n",
      "                                                   'instrument_name': 'K2440',\n",
      "                                                   'inter_delay': 0,\n",
      "                                                   'label': 'Voltage',\n",
      "                                                   'name': 'volt',\n",
      "                                                   'post_delay': 0,\n",
      "                                                   'raw_value': None,\n",
      "                                                   'ts': None,\n",
      "                                                   'unit': 'V',\n",
      "                                                   'validators': [],\n",
      "                                                   'value': None}},\n",
      "                           'read_terminator': '\\n',\n",
      "                           'submodules': {},\n",
      "                           'terminator': '\\n',\n",
      "                           'timeout': 10.0,\n",
      "                           'write_terminator': '\\n'}},\n",
      " 'parameters': {}}\n"
     ]
    }
   ],
   "source": [
    "snapshot_of_station = station.snapshot()\n",
    "pprint(snapshot_of_station)"
   ]
  },
  {
   "cell_type": "markdown",
   "id": "4757b159",
   "metadata": {},
   "source": [
    "## Keithley 2440"
   ]
  },
  {
   "cell_type": "markdown",
   "id": "797b994c",
   "metadata": {},
   "source": [
    "### sensitive check"
   ]
  },
  {
   "cell_type": "code",
   "execution_count": 6,
   "id": "f387f69b",
   "metadata": {},
   "outputs": [
    {
     "data": {
      "text/plain": [
       "'VOLT'"
      ]
     },
     "execution_count": 6,
     "metadata": {},
     "output_type": "execute_result"
    }
   ],
   "source": [
    "K2440.mode('VOLT')\n",
    "\n",
    "K2440.mode()"
   ]
  },
  {
   "cell_type": "code",
   "execution_count": 7,
   "id": "09a8a36e",
   "metadata": {},
   "outputs": [
    {
     "name": "stdout",
     "output_type": "stream",
     "text": [
      "-0.0002574591\n"
     ]
    }
   ],
   "source": [
    "K2440.output(1) # output on\n",
    "K2440.rangev(10)\n",
    "K2440.volt(0)\n",
    "K2440.compliancei(100e-3)\n",
    "sleep(1)\n",
    "v_read=DMM6500.amplitude()\n",
    "K2440.output(0) #output off\n",
    "print(v_read)"
   ]
  },
  {
   "cell_type": "markdown",
   "id": "105706bc",
   "metadata": {},
   "source": [
    "## TG 2400"
   ]
  },
  {
   "cell_type": "code",
   "execution_count": null,
   "id": "cdc19f1b",
   "metadata": {},
   "outputs": [],
   "source": [
    "K2440.output(1) # output on\n",
    "K2440.rangev(22)\n",
    "K2440.volt(0)\n",
    "K2440.compliancei(100e-3)\n",
    "# K2440.output(0) #output off\n",
    "sleep(1)\n",
    "v_read=DMM6500.amplitude()\n",
    "print(v_read)"
   ]
  },
  {
   "cell_type": "code",
   "execution_count": null,
   "id": "e971a620",
   "metadata": {},
   "outputs": [],
   "source": [
    "# K2440.volt(1)\n",
    "K2440.output(0) #output off"
   ]
  },
  {
   "cell_type": "code",
   "execution_count": null,
   "id": "e284050c",
   "metadata": {},
   "outputs": [],
   "source": [
    "K2440.rangev(1)\n",
    "K2440.rangev()"
   ]
  },
  {
   "cell_type": "markdown",
   "id": "c676ccb5",
   "metadata": {},
   "source": [
    "#  Database initialisation"
   ]
  },
  {
   "cell_type": "code",
   "execution_count": 8,
   "id": "e09e380a",
   "metadata": {},
   "outputs": [
    {
     "data": {
      "text/plain": [
       "'c:\\\\Users\\\\quant\\\\OneDrive\\\\Documents\\\\GitHub\\\\QCoDeS_local\\\\init_database_v2.py'"
      ]
     },
     "execution_count": 8,
     "metadata": {},
     "output_type": "execute_result"
    }
   ],
   "source": [
    "def find_init_database_v2_py():\n",
    "    for root, dirs, files in os.walk(qcodes_local_dir):\n",
    "        if 'init_database_v2.py' in files:\n",
    "            return os.path.join(root, 'init_database_v2.py')\n",
    "    return None\n",
    "\n",
    "init_database_v2_py_path = find_init_database_v2_py()\n",
    "init_database_v2_py_path"
   ]
  },
  {
   "cell_type": "code",
   "execution_count": 9,
   "id": "7b665bc4",
   "metadata": {},
   "outputs": [
    {
     "name": "stdout",
     "output_type": "stream",
     "text": [
      "Creating a new database file:\n",
      "c:\\Users\\quant\\OneDrive\\Documents\\GitHub\\QCoDeS_local\\personal_scripts\\Albert\\PtTe2_flux015B\\005\\RT\\RT_2025-05-05_02.db\n"
     ]
    }
   ],
   "source": [
    "reuse = False\n",
    "%run \"{init_database_v2_py_path}\" {reuse}"
   ]
  },
  {
   "cell_type": "markdown",
   "id": "6a8a2beb",
   "metadata": {},
   "source": [
    "\n",
    "# Scaled parameters"
   ]
  },
  {
   "cell_type": "code",
   "execution_count": null,
   "id": "e3b44b31",
   "metadata": {},
   "outputs": [],
   "source": []
  },
  {
   "cell_type": "markdown",
   "id": "ea4ff57a",
   "metadata": {},
   "source": [
    "## Defining scaled parameters"
   ]
  },
  {
   "cell_type": "code",
   "execution_count": 10,
   "id": "c8ca5b97",
   "metadata": {},
   "outputs": [
    {
     "data": {
      "text/plain": [
       "'Gain_L2'"
      ]
     },
     "execution_count": 10,
     "metadata": {},
     "output_type": "execute_result"
    }
   ],
   "source": [
    "Irange = Parameter('Irange', label='current range', unit='', set_cmd=None, get_cmd=None)\n",
    "Vrange = Parameter('Vrange', label='voltage range', unit='', set_cmd=None, get_cmd=None)\n",
    "TGrange = Parameter('TGrange', label='Top gate range', unit='', set_cmd=None, get_cmd=None)\n",
    "\n",
    "#division paraemtrs required for simplier update: they used as an argument for scaled paraemtrs of sorce instruments\n",
    "\n",
    "\n",
    "Irange_division = Parameter('Irange_division', \n",
    "                            label='scaled current range', unit='', \n",
    "                            set_cmd=None, get_cmd=lambda : 1 / Irange())\n",
    "\n",
    "Vrange_division = Parameter('Vrange_division', \n",
    "                            label='scaled voltage range', unit='', \n",
    "                            set_cmd=None, get_cmd=lambda : 1 / Vrange())\n",
    "\n",
    "TGrange_division = Parameter('TGrange_division', \n",
    "                             label='scaled Top gate range', unit='', \n",
    "                             set_cmd=None, get_cmd=lambda : 1 / TGrange())\n",
    "\n",
    "Irange_AC_division = Parameter('Irange_AC_division', \n",
    "                               label='scaled current range for lockin', unit='', \n",
    "                               set_cmd=None, get_cmd=lambda : 1 / Irange())\n",
    "\n",
    "Vrange_AC_division = Parameter('Vrange_AC_division', \n",
    "                               label='scaled voltage range for lockin', unit='', \n",
    "                               set_cmd=None, get_cmd=lambda : 1 / Vrange())\n",
    "\n",
    "Gain_K1 = Parameter('Gain_K1', label='Gain K1', unit='', set_cmd=None, get_cmd=None)\n",
    "Gain_K2 = Parameter('Gain_K2', label='Gain K2', unit='', set_cmd=None, get_cmd=None)\n",
    "Gain_L1 = Parameter('Gain_L1', label='Gain L1', unit='', set_cmd=None, get_cmd=None)\n",
    "Gain_L2 = Parameter('Gain_L2', label='Gain L2', unit='', set_cmd=None, get_cmd=None)\n",
    "\n",
    "#Add components\n",
    "station.add_component(Irange)\n",
    "station.add_component(Vrange)\n",
    "station.add_component(TGrange)\n",
    "\n",
    "station.add_component(Irange_division)\n",
    "station.add_component(Vrange_division)\n",
    "station.add_component(TGrange_division)\n",
    "\n",
    "station.add_component(Irange_AC_division)\n",
    "station.add_component(Vrange_AC_division)\n",
    "                             \n",
    "station.add_component(Gain_K1)\n",
    "station.add_component(Gain_K2)\n",
    "station.add_component(Gain_L1)\n",
    "station.add_component(Gain_L2)"
   ]
  },
  {
   "cell_type": "markdown",
   "id": "6d7ecebe",
   "metadata": {},
   "source": [
    "## Parameters - update here during measuerements"
   ]
  },
  {
   "cell_type": "code",
   "execution_count": 22,
   "id": "b0b09fcc",
   "metadata": {},
   "outputs": [],
   "source": [
    "Irange.set(1e-6) #Unit Amp V=IR, 1V= 1e-6 x 1MOhm=1e-7 x 10MOhm\n",
    "Vrange.set(10) ## need to be sync with K213 range #Unit Volt\n",
    "TGrange.set(1) #Unit Volt\n",
    "Gain_K1.set(100)\n",
    "Gain_K2.set(100)\n",
    "# Gain_K3.set(1e2)\n",
    "Gain_L1.set(Gain_K1())\n",
    "Gain_L2.set(Gain_K2())\n",
    "#division parameters are updated automatically"
   ]
  },
  {
   "cell_type": "code",
   "execution_count": null,
   "id": "4b1231bb",
   "metadata": {},
   "outputs": [],
   "source": [
    "lockin_1.sine_outdc"
   ]
  },
  {
   "cell_type": "markdown",
   "id": "cbe7bfa7",
   "metadata": {},
   "source": [
    "## DC parameters"
   ]
  },
  {
   "cell_type": "code",
   "execution_count": 12,
   "id": "6a8c7deb",
   "metadata": {},
   "outputs": [
    {
     "data": {
      "text/plain": [
       "'meas_current_K1'"
      ]
     },
     "execution_count": 12,
     "metadata": {},
     "output_type": "execute_result"
    }
   ],
   "source": [
    "# appl_current = ScaledParameter(lockin_1.sine_outdc, division = Irange_division, name = 'appl_current', unit = 'A')\n",
    "appl_current = ScaledParameter(K2440.volt, division = Irange_division, name = 'appl_current', unit = 'A')\n",
    "\n",
    "#appl_TG = ScaledParameter(K2440.volt, division = TGrange_division, name = 'appl_TG', unit = 'V')\n",
    "\n",
    "meas_voltage_K1 = ScaledParameter(DMM6500.amplitude, division = Gain_K1, name = 'meas_voltage_K1', unit = 'V')\n",
    "# meas_voltage_K2 = ScaledParameter(DMM6500.amplitude, division = Gain_K2, name = 'meas_voltage_K2', unit = 'V')\n",
    "\n",
    "# meas_leakage = ScaledParameter(DMM6500.amplitude, division = Gain_K2, name = 'meas_leakage', unit = 'A')\n",
    "\n",
    "meas_current_K1 = ScaledParameter(DMM6500.amplitude, division = Gain_K1, name = 'meas_current_K1', unit = 'A')\n",
    "# meas_current_K2 = ScaledParameter(DMM6500.amplitude, division = Gain_K2, name = 'meas_current_K2', unit = 'A')\n",
    "\n",
    "station.add_component(appl_current)\n",
    "# station.add_component(appl_voltage)\n",
    "#station.add_component(appl_TG)\n",
    "\n",
    "station.add_component(meas_voltage_K1)\n",
    "# station.add_component(meas_voltage_K2)\n",
    "\n",
    "# station.add_component(meas_leakage)\n",
    "\n",
    "station.add_component(meas_current_K1)\n",
    "# station.add_component(meas_current_K2)"
   ]
  },
  {
   "cell_type": "code",
   "execution_count": 13,
   "id": "3851dc82",
   "metadata": {},
   "outputs": [],
   "source": [
    "K2440.output(0)\n",
    "appl_current(0)\n",
    "sleep(1)\n",
    "# meas_voltage_K2()"
   ]
  },
  {
   "cell_type": "markdown",
   "id": "8d9d6239",
   "metadata": {},
   "source": [
    "## Another useful example: magnet using dac (Janis)"
   ]
  },
  {
   "cell_type": "markdown",
   "id": "92e1f309",
   "metadata": {},
   "source": [
    ">2231.2 G per A => 0.22312 T per A<br>\n",
    "I source 10mA per V => 1e-5 A per 1mV<br>\n",
    "result: 0.22312 T/A * 1e-5 A/mV"
   ]
  },
  {
   "cell_type": "code",
   "execution_count": 17,
   "id": "6b2b657a",
   "metadata": {},
   "outputs": [],
   "source": [
    "# def get_R_from_IV(dataid):\n",
    "#     dataset = qc.load_by_id(dataid)\n",
    "#     voltage = dataset.get_parameter_data()['meas_voltage_K2']['meas_voltage_K2']\n",
    "#     current = dataset.get_parameter_data()['meas_voltage_K2']['appl_current']\n",
    "#     fit_values = np.polyfit(current,voltage,1)\n",
    "    \n",
    "#     return fit_values[0]\n",
    "\n",
    "dataset = qc.load_by_id(1)\n",
    "\n",
    "def get_R_from_IV_2(dataid):\n",
    "    dataset = qc.load_by_id(dataid)\n",
    "    voltage = dataset.get_parameter_data()['meas_voltage_K2']['meas_voltage_K2']\n",
    "    current = dataset.get_parameter_data()['meas_voltage_K2']['appl_current']\n",
    "    fit_values = np.polyfit(current,voltage,1)\n",
    "\n",
    "    return fit_values[0]\n",
    "\n",
    "def get_R_from_IV(dataid):\n",
    "    dataset = qc.load_by_id(dataid)\n",
    "    para_list = dataset.parameters.split(\",\")\n",
    "    voltage = dataset.get_parameter_data()[para_list[1]][para_list[1]]\n",
    "    current = dataset.get_parameter_data()[para_list[1]][para_list[0]]\n",
    "    fit_values = np.polyfit(current,voltage,1)\n",
    "    return fit_values[0]\n",
    "\n",
    "\n",
    "def get_R_from_IV_K2(dataid):\n",
    "    dataset = qc.load_by_id(dataid)\n",
    "    voltage = dataset.get_parameter_data()['meas_voltage_K2']['meas_voltage_K2']\n",
    "    current = dataset.get_parameter_data()['meas_voltage_K2']['appl_current']\n",
    "    fit_values = np.polyfit(current,voltage,1)\n",
    "    return fit_values[0]\n",
    "\n",
    "def autosave_plot_by_id(run_id, save_path):\n",
    "    fig, ax = plt.subplots()\n",
    "    plot_by_id(run_id, axes=ax)\n",
    "    plt.savefig(save_path)\n",
    "    plt.close()\n",
    "\n",
    "def get_detaset_info(dataset=dataset):\n",
    "    run_id = dataset.captured_run_id\n",
    "    exp_name = dataset.exp_name\n",
    "    sample_name = dataset.sample_name\n",
    "    name = dataset.name\n",
    "    description = dataset.description\n",
    "    sample_junction = extract_sample_junction(sample_name)\n",
    "    return run_id, exp_name, sample_name, sample_junction, name, description\n",
    "\n",
    "def extract_sample_junction(sample_name):\n",
    "    \"\"\"Extracts the complete sample junction from the provided sample name.\n",
    "\n",
    "    Args:\n",
    "      sample_name: The name of the sample containing the junction information.\n",
    "\n",
    "    Returns:\n",
    "      The extracted sample junction, or None if not found.\n",
    "    \"\"\"\n",
    "\n",
    "    delimiter = \"_J\"\n",
    "    if delimiter in sample_name:\n",
    "        # +3 to include \"_J\"\n",
    "        return sample_name[:sample_name.find(delimiter) + 3]\n",
    "    else:\n",
    "        return None\n",
    "\n",
    "def IV(run_id=1):\n",
    "    dataset = qc.load_by_id(run_id)\n",
    "    R = get_R_from_IV(run_id)\n",
    "    run_id, exp_name, sample_name, sample_junction, name, description = get_detaset_info(\n",
    "        dataset)\n",
    "    df = dataset.to_pandas_dataframe().reset_index()\n",
    "    para_list = dataset.parameters.split(\",\")\n",
    "\n",
    "    # Create a Plotly trace\n",
    "    trace = go.Scatter(x=df[para_list[0]], y=df[para_list[1]]*1e3, mode='lines', name='Voltage vs. Current')\n",
    "\n",
    "    # Create layout with micro-scale y-axis\n",
    "    layout = go.Layout(title=f'<b>#{run_id} {exp_name}</b> {sample_name}, R_fit={R:.4f} Ω', title_font=dict(size=28),\n",
    "                       xaxis=dict(title=para_list[0], tickfont=dict(size=16),title_font=dict(size=20)),\n",
    "                       yaxis=dict(title=f\"{para_list[1]} mV\", tickfont=dict(size=16),title_font=dict(size=20)), \n",
    "                       width=1080, height=960,\n",
    "                       margin=dict(l=10, r=10, t=50, b=10))\n",
    "\n",
    "    # Create the figure\n",
    "    fig = go.Figure(data=[trace], layout=layout)\n",
    "    \n",
    "    fig.show()\n",
    "\n",
    "def IV_diff(run_id=1):\n",
    "    import numpy as np\n",
    "    import plotly.graph_objs as go\n",
    "    from scipy.signal import find_peaks\n",
    "    dataset = qc.load_by_id(run_id)\n",
    "\n",
    "    df = dataset.to_pandas_dataframe().reset_index()\n",
    "    para_list = dataset.parameters.split(\",\")\n",
    "\n",
    "    current = df[para_list[0]].tolist()\n",
    "    voltage = df[para_list[1]].tolist()\n",
    "\n",
    "    # Compute differential of voltage with respect to current\n",
    "    differential_voltage = np.diff(voltage) / np.diff(current)\n",
    "\n",
    "    # Since the differential will have one less data point, adjust the current data\n",
    "    # to have the same length as the differential data\n",
    "    current = current[:-1]\n",
    "\n",
    "    # Find peaks in the differential signal\n",
    "    peaks, _ = find_peaks(differential_voltage)\n",
    "\n",
    "    # Extract peak current and peak differential voltage values\n",
    "    peak_current = [current[i] for i in peaks]\n",
    "    peak_voltage_diff = [differential_voltage[i] for i in peaks]\n",
    "\n",
    "    # Sort the peaks based on their values\n",
    "    sorted_peak_indices = np.argsort(peak_voltage_diff)[::-1]  # Sort in descending order\n",
    "    top_two_peak_indices = sorted_peak_indices[:2]  # Select the top two indices\n",
    "\n",
    "    # Extract the top two peaks\n",
    "    top_two_peak_current = [peak_current[i] for i in top_two_peak_indices]\n",
    "    top_two_peak_voltage_diff = [peak_voltage_diff[i] for i in top_two_peak_indices]\n",
    "\n",
    "    # Calculate the center points of the top two peaks\n",
    "    center_points = [(top_two_peak_current[i] + top_two_peak_current[i+1]) / 2 for i in range(len(top_two_peak_current) - 1)]\n",
    "\n",
    "    # Calculate the difference between the top two biggest peaks\n",
    "    peak_difference = abs(top_two_peak_current[0] - top_two_peak_current[1])\n",
    "\n",
    "    # Determine the appropriate unit for current\n",
    "    if peak_difference >= 1e-3:\n",
    "        unit = \"mA\"\n",
    "        conversion_factor = 1e3\n",
    "    elif peak_difference >= 1e-6:\n",
    "        unit = \"μA\"\n",
    "        conversion_factor = 1e6\n",
    "    else:\n",
    "        unit = \"nA\"\n",
    "        conversion_factor = 1e9\n",
    "\n",
    "    # Determine the appropriate unit for current\n",
    "    if peak_difference >= 1e-3:\n",
    "        unit = \"mA\"\n",
    "    elif peak_difference >= 1e-6:\n",
    "        unit = \"μA\"\n",
    "    elif peak_difference >= 1e-9:\n",
    "        unit = \"nA\"\n",
    "    else:\n",
    "        unit = \"pA\"\n",
    "\n",
    "    # Create a Plotly trace for the differential\n",
    "    trace_diff = go.Scatter(x=[c * conversion_factor for c in current], y=differential_voltage, mode='lines', name='d(Voltage)/d(Current)')\n",
    "    # Add markers for the top two peaks\n",
    "    trace_top_two_peaks = go.Scatter(x=[p * conversion_factor for p in top_two_peak_current], y=top_two_peak_voltage_diff, mode='markers', marker=dict(color='red'), name='Top Two Peaks')\n",
    "    # Add markers for the center points\n",
    "    trace_center_points = go.Scatter(x=center_points, y=[0]*len(center_points), mode='markers', marker=dict(color='blue', symbol='cross'), name='Center Points')\n",
    "\n",
    "    # Create layout\n",
    "    layout = go.Layout(title=f'Run #{id} I vs. dV/dI',\n",
    "                    xaxis=dict(title=f'Current ({unit})'),\n",
    "                    yaxis=dict(title='d(Voltage)/d(Current)'),\n",
    "                    legend=dict(orientation=\"h\", yanchor=\"top\", y=1.10, xanchor=\"center\", x=0.5),\n",
    "                    width=600, height=600  \n",
    "                    )\n",
    "\n",
    "    # Create the figure\n",
    "    fig = go.Figure(data=[trace_diff, trace_top_two_peaks, trace_center_points], layout=layout)\n",
    "\n",
    "    # Add annotation for the current value of center points\n",
    "    for i, center_point in enumerate(center_points):\n",
    "        fig.add_annotation(\n",
    "            x=center_point * conversion_factor,\n",
    "            y=0, #0.4 * max(differential_voltage),\n",
    "            text=f'Center Point: {center_point * conversion_factor:.3f}{unit} <br> Peak difference: {peak_difference*conversion_factor:.3f} {unit}',\n",
    "            showarrow=True,\n",
    "            arrowhead=2,\n",
    "            arrowsize=1,\n",
    "            arrowwidth=2,\n",
    "            arrowcolor='black',\n",
    "            ax=-100,\n",
    "            ay=-200 - 30 * i\n",
    "        )\n",
    "\n",
    "    # Plot the figure\n",
    "    fig.show()\n",
    "\n",
    "def get_Mag(show=True):\n",
    "    Mag_x = magnet_x.field()\n",
    "    Mag_y = magnet_y.field()\n",
    "    Mag_z = magnet_z.field()\n",
    "    if show:\n",
    "        print(f\"Mag_x: {Mag_x*1e3:.6f} mT\")\n",
    "        print(f\"Mag_y: {Mag_y*1e3:.6f} mT\")\n",
    "        print(f\"Mag_z: {Mag_z*1e3:.6f} mT\")\n",
    "    else: \n",
    "        return Mag_x, Mag_y, Mag_z"
   ]
  },
  {
   "cell_type": "code",
   "execution_count": null,
   "id": "934a7b70",
   "metadata": {},
   "outputs": [],
   "source": [
    "appl_current(0.5e-6)\n",
    "appl_current_AC(10e-9)"
   ]
  },
  {
   "cell_type": "code",
   "execution_count": null,
   "id": "e0040749",
   "metadata": {},
   "outputs": [],
   "source": [
    "df = dataset.to_pandas_dataframe().reset_index()\n",
    "df"
   ]
  },
  {
   "cell_type": "code",
   "execution_count": 15,
   "id": "51169690",
   "metadata": {},
   "outputs": [
    {
     "name": "stdout",
     "output_type": "stream",
     "text": [
      "Imported all modules, QCoDeS version: 0.52.0 initialized\n",
      "找到 2 個 .db 文件:\n",
      "1. c:\\Users\\quant\\OneDrive\\Documents\\GitHub\\QCoDeS_local\\personal_scripts\\Albert\\PtTe2_flux015B\\005\\RT\\RT_2025-05-05_01.db\n",
      "2. c:\\Users\\quant\\OneDrive\\Documents\\GitHub\\QCoDeS_local\\personal_scripts\\Albert\\PtTe2_flux015B\\005\\RT\\RT_2025-05-05_02.db\n",
      "初始化數據庫: c:\\Users\\quant\\OneDrive\\Documents\\GitHub\\QCoDeS_local\\personal_scripts\\Albert\\PtTe2_flux015B\\005\\RT\\RT_2025-05-05_02.db\n"
     ]
    }
   ],
   "source": [
    "from Init3 import *"
   ]
  },
  {
   "cell_type": "markdown",
   "id": "885e5c90",
   "metadata": {},
   "source": [
    "# Simple IVs"
   ]
  },
  {
   "cell_type": "markdown",
   "id": "cdb6884c",
   "metadata": {},
   "source": [
    "## IV"
   ]
  },
  {
   "cell_type": "code",
   "execution_count": null,
   "id": "f6c71fe1",
   "metadata": {},
   "outputs": [],
   "source": [
    "K2440.output(1)\n",
    "DMM6500.averaging_count(5)\n",
    "DMM6500.averaging_enabled(True)\n",
    "DMM6500.averaging_enabled(False)\n",
    "K2440.output(0)"
   ]
  },
  {
   "cell_type": "code",
   "execution_count": null,
   "id": "88a5c92b",
   "metadata": {},
   "outputs": [],
   "source": [
    "# Set current to 0\n",
    "K2440.output(0)\n",
    "appl_current(0e-6)"
   ]
  },
  {
   "cell_type": "code",
   "execution_count": null,
   "id": "af7949e7",
   "metadata": {},
   "outputs": [],
   "source": [
    "IV(3)"
   ]
  },
  {
   "cell_type": "code",
   "execution_count": 28,
   "id": "38e281a9",
   "metadata": {},
   "outputs": [
    {
     "name": "stdout",
     "output_type": "stream",
     "text": [
      "R = 493.7549\n"
     ]
    },
    {
     "data": {
      "application/vnd.plotly.v1+json": {
       "config": {
        "plotlyServerURL": "https://plot.ly"
       },
       "data": [
        {
         "line": {
          "width": 2
         },
         "marker": {
          "size": 5
         },
         "mode": "lines+markers",
         "name": "I-V",
         "type": "scatter",
         "x": {
          "bdata": "je21oPfGoL5cKy1lEXGgvitppCkrG6C+9U033ImKn76TySVlvd6evjFFFO7wMp6+0MACdySHnb5uPPH/V9ucvgy434iLL5y+qjPOEb+Dm75Ir7ya8teavucqqyMmLJq+haaZrFmAmb4jIog1jdSYvsGddr7AKJi+XxllR/R8l779lFPQJ9GWvpwQQllbJZa+Ooww4o55lb7YBx9rws2UvnaDDfT1IZS+FP/7fCl2k76zeuoFXcqSvlH22I6QHpK+73HHF8Rykb6N7bWg98aQvitppCkrG5C+k8klZb3ejr7QwAJ3JIeNvgy434iLL4y+SK+8mvLXir6FppmsWYCJvsGddr7AKIi+/ZRT0CfRhr46jDDijnmFvnaDDfT1IYS+s3rqBV3Kgr7vcccXxHKBvitppCkrG4C+0MACdySHfb5Ir7ya8td6vsGddr7AKHi+Ooww4o55db6zeuoFXcpyvitppCkrG3C+Oa+8mvLXar46jDDijnllvitppCkrG2C+HIww4o55Vb46jDDijnlFvgAAAAAAAAAAOoww4o55RT46jDDijnlVPitppCkrG2A+Ooww4o55ZT5Xr7ya8tdqPjNppCkrG3A+unrqBV3Kcj5BjDDijnl1PsGddr7AKHg+SK+8mvLXej7QwAJ3JId9PitppCkrG4A+73HHF8RygT6zeuoFXcqCPnaDDfT1IYQ+Ooww4o55hT79lFPQJ9GGPsGddr7AKIg+haaZrFmAiT5Ir7ya8teKPgy434iLL4w+0MACdySHjT6TySVlvd6OPitppCkrG5A+je21oPfGkD7vcccXxHKRPlH22I6QHpI+s3rqBV3Kkj4U//t8KXaTPnaDDfT1IZQ+2Acfa8LNlD46jDDijnmVPpwQQllbJZY+/ZRT0CfRlj5fGWVH9HyXPsGddr7AKJg+IyKINY3UmD6FppmsWYCZPucqqyMmLJo+SK+8mvLXmj6qM84Rv4ObPgy434iLL5w+bjzx/1fbnD7QwAJ3JIedPjFFFO7wMp4+k8klZb3enj71TTfciYqfPitppCkrG6A+XCstZRFxoD6N7bWg98agPg==",
          "dtype": "f8"
         },
         "y": {
          "bdata": "5tSdiVoqML/eExdDmrEvv8O5om5JCS+/PJj37WlkLr8QdRrHGr4tv+xeN/yYFS2/R2/YeKB1LL9OJKko/c0rv3/Dt/0hJyu/IYA3COqAKr+hJNwgpd0pv1qPnsHvNim/LmzBmqCQKL/Gxz63Peknv0JhG2viSCe/vc4PpXKhJr9wauw+w/wlv7AbpJMtWiW/kfR7r5m0JL98YFd04w0kvzubSlEyaiO/Q/Wu+IjDIr+zkYs0aB0iv2I0zERhdCG/UerO+J7PIL8vKPS/eiogv2i71BS5Ch+/gAPsQU7BHb9wBQ4MC3Mcv4QD/kmsJxu/1i7RcX/gGb8TwQoLUJgYv4AXPw9qTRe/t1ve8GcAFr+Cu6izKLEUv62FxC8FcBO/du9vlS8iEr/B7XOBQdgQv/1xXH3lFw+/H9mi5TV4DL+HVm7dB+kJv3mOYshxVge/6YR1ysu3BL8RMMrgcSMCvx8lT2saBv++pktMXEzj+b6zZYLYhK70vr/xRoEdOu++BIOF9vy85L6GwHKJ/tHUviHQVBZTBXm+fxSWaUHG1T7+6js9ryDlPs4wnbhZne8+v1Dgiw749D52tMkrYxD6PtHz9RxbRv8+5WacwvxCAj/c8maJ0c0EP79i+5Kpcgc/Ud6UPyQBCj9IEC4lUqgMP1drsWTOLA8/1pxW5rrkED979HNSlDASP7iSWeQ6fBM/6VDdcMrHFD9hm79EExAWP2gtxE2kXhc/b5OLQzSeGD+LqDWePeoZP2Xcc6mhNxs/xBk0FoN+HD8NyDuXy8UdPy4ZVM7oHR8/hIPEjCUyID9pNVpOxtggP4dcgjJafiE/1G8aM20lIj+4w8a/RsciP7QaCaoKcSM/e1gMPI4WJD+Ak900zLwkP4/wUZFXXyU/lQK4PEIEJj+D4NEEmqgmP8aSZxeCTic/SJNW9sDyJz9bguc5fZgoPynETrpuPyk/ERotPv/hKT/lm9oKe4kqPygGeyUmLis/O6SAA0bWKz/BhxcvUnssP+jIlz7eJS0/gtWy6GbOLT/Ghv3FRG8uP/xbaEBbFC8/ywRPY3O8Lz9RqTIFFC4wPw==",
          "dtype": "f8"
         }
        },
        {
         "line": {
          "width": 2
         },
         "marker": {
          "size": 5
         },
         "mode": "lines+markers",
         "name": "dV/dI",
         "type": "scatter",
         "x": {
          "bdata": "je21oPfGoL5cKy1lEXGgvitppCkrG6C+9U033ImKn76TySVlvd6evjFFFO7wMp6+0MACdySHnb5uPPH/V9ucvgy434iLL5y+qjPOEb+Dm75Ir7ya8teavucqqyMmLJq+haaZrFmAmb4jIog1jdSYvsGddr7AKJi+XxllR/R8l779lFPQJ9GWvpwQQllbJZa+Ooww4o55lb7YBx9rws2UvnaDDfT1IZS+FP/7fCl2k76zeuoFXcqSvlH22I6QHpK+73HHF8Rykb6N7bWg98aQvitppCkrG5C+k8klZb3ejr7QwAJ3JIeNvgy434iLL4y+SK+8mvLXir6FppmsWYCJvsGddr7AKIi+/ZRT0CfRhr46jDDijnmFvnaDDfT1IYS+s3rqBV3Kgr7vcccXxHKBvitppCkrG4C+0MACdySHfb5Ir7ya8td6vsGddr7AKHi+Ooww4o55db6zeuoFXcpyvitppCkrG3C+Oa+8mvLXar46jDDijnllvitppCkrG2C+HIww4o55Vb46jDDijnlFvgAAAAAAAAAAOoww4o55RT46jDDijnlVPitppCkrG2A+Ooww4o55ZT5Xr7ya8tdqPjNppCkrG3A+unrqBV3Kcj5BjDDijnl1PsGddr7AKHg+SK+8mvLXej7QwAJ3JId9PitppCkrG4A+73HHF8RygT6zeuoFXcqCPnaDDfT1IYQ+Ooww4o55hT79lFPQJ9GGPsGddr7AKIg+haaZrFmAiT5Ir7ya8teKPgy434iLL4w+0MACdySHjT6TySVlvd6OPitppCkrG5A+je21oPfGkD7vcccXxHKRPlH22I6QHpI+s3rqBV3Kkj4U//t8KXaTPnaDDfT1IZQ+2Acfa8LNlD46jDDijnmVPpwQQllbJZY+/ZRT0CfRlj5fGWVH9HyXPsGddr7AKJg+IyKINY3UmD6FppmsWYCZPucqqyMmLJo+SK+8mvLXmj6qM84Rv4ObPgy434iLL5w+bjzx/1fbnD7QwAJ3JIedPjFFFO7wMp4+k8klZb3enj71TTfciYqfPitppCkrG6A+XCstZRFxoD6N7bWg98agPg==",
          "dtype": "f8"
         },
         "y": {
          "bdata": "TArXo3BhfkAg4XoUrt1+QKBwPQrXB39AIAAAAADYfkCAPQrXoy5/QCBSuB6Fl35A4MzMzMyCfkAAXI/C9SZ/QIDrUbgeBX9AoJmZmZmvfkAAexSuR7t+QCApXI/CA39AQLgehesTf0Dg/////4V+QCAzMzMzh35AYGZmZmbufkAghetRuHp+QCAAAAAAkH5AcGZmZmbyfkAgCtejcMV+QADXo3A9xH5AwB6F61H+fkBAhetRuDZ/QKBH4XoUFn9AMArXo3C5fkAAAAAAAMJ+QEDhehSut35AUOF6FK7nfkAwXI/C9f5+QLDz/dR4qn5AMN0kBoGEfkDwzvdT47B+QKDx0k1i6n5AQGIQWDkef0CIPzVeupB+QNjO91Pjf35AuJvEILDofkBoaJHtfNZ+QODQItv5HH9A2Pl+arzkfkAwsp3vp5Z+QGTl0CLb8n5ATDeJQWD9fkCsne+nxgd/QAAzMzMz9n5AKNv5fmrSfkCmPzVeup5+QNkIih/ju35ABaOSOgEFf0BweeblcJx+QPYGX5hMvH9ADrdDwyLGf0DbzvdT4+J+QHZoke18An9AgBxaZDuRfkAOtMh2vrZ+QEC28/3UK39AbDvfT43LfkD09Shcj+l+QCCq8dJN/35ASGIQWDkNf0Awsp3vp9F+QFi4HoXrkn5AMArXo3AFf0Cwxks3ieV+QGi8dJMY4n5AkBbZzve5fkDIzMzMzN1+QOD7qfHSdX5AoGzn+6lXfkCgl24Sg/x+QDBeukkMv35AENejcD12fkBQ4XoUrkN/QCBcj8L1OH9A8FG4HoW3fkBgZmZmZvB+QNCjcD0K+35AUI/C9SiifkDAHoXrUeJ+QFDhehSuOX9AUOF6FK7lfkBgFK5H4Z5+QOB6FK5Hf35AcI/C9SiqfkAAKVyPwsF+QEAK16Nwv35AgML1KFy7fkBA4XoUrvt+QKBH4XoUsH5AQFyPwvW8fkCA61G4Hu9+QEBmZmZm/n5AQArXo3AHf0BgMzMzM0F/QMAehetRlH9A4FG4HoWtfkCAwvUoXFt+QGDhehSuB39AgML1KFyHfkBZwvUoXL99QA==",
          "dtype": "f8"
         },
         "yaxis": "y2"
        }
       ],
       "layout": {
        "annotations": [
         {
          "font": {
           "size": 10
          },
          "showarrow": false,
          "text": "2025-05-05 17:04 | Duration: 3 sec",
          "x": 0,
          "xanchor": "left",
          "xref": "paper",
          "y": 1,
          "yanchor": "bottom",
          "yref": "paper"
         },
         {
          "font": {
           "size": 10
          },
          "showarrow": false,
          "text": "101 pts           <br>step=1.00e-08",
          "x": 1,
          "xanchor": "right",
          "xref": "paper",
          "y": -0.03,
          "yanchor": "top",
          "yref": "paper"
         }
        ],
        "height": 800,
        "legend": {
         "orientation": "h",
         "x": 0.5,
         "xanchor": "center",
         "xref": "paper",
         "y": 1,
         "yanchor": "bottom",
         "yref": "paper"
        },
        "template": {
         "data": {
          "bar": [
           {
            "error_x": {
             "color": "#2a3f5f"
            },
            "error_y": {
             "color": "#2a3f5f"
            },
            "marker": {
             "line": {
              "color": "white",
              "width": 0.5
             },
             "pattern": {
              "fillmode": "overlay",
              "size": 10,
              "solidity": 0.2
             }
            },
            "type": "bar"
           }
          ],
          "barpolar": [
           {
            "marker": {
             "line": {
              "color": "white",
              "width": 0.5
             },
             "pattern": {
              "fillmode": "overlay",
              "size": 10,
              "solidity": 0.2
             }
            },
            "type": "barpolar"
           }
          ],
          "carpet": [
           {
            "aaxis": {
             "endlinecolor": "#2a3f5f",
             "gridcolor": "#C8D4E3",
             "linecolor": "#C8D4E3",
             "minorgridcolor": "#C8D4E3",
             "startlinecolor": "#2a3f5f"
            },
            "baxis": {
             "endlinecolor": "#2a3f5f",
             "gridcolor": "#C8D4E3",
             "linecolor": "#C8D4E3",
             "minorgridcolor": "#C8D4E3",
             "startlinecolor": "#2a3f5f"
            },
            "type": "carpet"
           }
          ],
          "choropleth": [
           {
            "colorbar": {
             "outlinewidth": 0,
             "ticks": ""
            },
            "type": "choropleth"
           }
          ],
          "contour": [
           {
            "colorbar": {
             "outlinewidth": 0,
             "ticks": ""
            },
            "colorscale": [
             [
              0,
              "#0d0887"
             ],
             [
              0.1111111111111111,
              "#46039f"
             ],
             [
              0.2222222222222222,
              "#7201a8"
             ],
             [
              0.3333333333333333,
              "#9c179e"
             ],
             [
              0.4444444444444444,
              "#bd3786"
             ],
             [
              0.5555555555555556,
              "#d8576b"
             ],
             [
              0.6666666666666666,
              "#ed7953"
             ],
             [
              0.7777777777777778,
              "#fb9f3a"
             ],
             [
              0.8888888888888888,
              "#fdca26"
             ],
             [
              1,
              "#f0f921"
             ]
            ],
            "type": "contour"
           }
          ],
          "contourcarpet": [
           {
            "colorbar": {
             "outlinewidth": 0,
             "ticks": ""
            },
            "type": "contourcarpet"
           }
          ],
          "heatmap": [
           {
            "colorbar": {
             "outlinewidth": 0,
             "ticks": ""
            },
            "colorscale": [
             [
              0,
              "#0d0887"
             ],
             [
              0.1111111111111111,
              "#46039f"
             ],
             [
              0.2222222222222222,
              "#7201a8"
             ],
             [
              0.3333333333333333,
              "#9c179e"
             ],
             [
              0.4444444444444444,
              "#bd3786"
             ],
             [
              0.5555555555555556,
              "#d8576b"
             ],
             [
              0.6666666666666666,
              "#ed7953"
             ],
             [
              0.7777777777777778,
              "#fb9f3a"
             ],
             [
              0.8888888888888888,
              "#fdca26"
             ],
             [
              1,
              "#f0f921"
             ]
            ],
            "type": "heatmap"
           }
          ],
          "histogram": [
           {
            "marker": {
             "pattern": {
              "fillmode": "overlay",
              "size": 10,
              "solidity": 0.2
             }
            },
            "type": "histogram"
           }
          ],
          "histogram2d": [
           {
            "colorbar": {
             "outlinewidth": 0,
             "ticks": ""
            },
            "colorscale": [
             [
              0,
              "#0d0887"
             ],
             [
              0.1111111111111111,
              "#46039f"
             ],
             [
              0.2222222222222222,
              "#7201a8"
             ],
             [
              0.3333333333333333,
              "#9c179e"
             ],
             [
              0.4444444444444444,
              "#bd3786"
             ],
             [
              0.5555555555555556,
              "#d8576b"
             ],
             [
              0.6666666666666666,
              "#ed7953"
             ],
             [
              0.7777777777777778,
              "#fb9f3a"
             ],
             [
              0.8888888888888888,
              "#fdca26"
             ],
             [
              1,
              "#f0f921"
             ]
            ],
            "type": "histogram2d"
           }
          ],
          "histogram2dcontour": [
           {
            "colorbar": {
             "outlinewidth": 0,
             "ticks": ""
            },
            "colorscale": [
             [
              0,
              "#0d0887"
             ],
             [
              0.1111111111111111,
              "#46039f"
             ],
             [
              0.2222222222222222,
              "#7201a8"
             ],
             [
              0.3333333333333333,
              "#9c179e"
             ],
             [
              0.4444444444444444,
              "#bd3786"
             ],
             [
              0.5555555555555556,
              "#d8576b"
             ],
             [
              0.6666666666666666,
              "#ed7953"
             ],
             [
              0.7777777777777778,
              "#fb9f3a"
             ],
             [
              0.8888888888888888,
              "#fdca26"
             ],
             [
              1,
              "#f0f921"
             ]
            ],
            "type": "histogram2dcontour"
           }
          ],
          "mesh3d": [
           {
            "colorbar": {
             "outlinewidth": 0,
             "ticks": ""
            },
            "type": "mesh3d"
           }
          ],
          "parcoords": [
           {
            "line": {
             "colorbar": {
              "outlinewidth": 0,
              "ticks": ""
             }
            },
            "type": "parcoords"
           }
          ],
          "pie": [
           {
            "automargin": true,
            "type": "pie"
           }
          ],
          "scatter": [
           {
            "fillpattern": {
             "fillmode": "overlay",
             "size": 10,
             "solidity": 0.2
            },
            "type": "scatter"
           }
          ],
          "scatter3d": [
           {
            "line": {
             "colorbar": {
              "outlinewidth": 0,
              "ticks": ""
             }
            },
            "marker": {
             "colorbar": {
              "outlinewidth": 0,
              "ticks": ""
             }
            },
            "type": "scatter3d"
           }
          ],
          "scattercarpet": [
           {
            "marker": {
             "colorbar": {
              "outlinewidth": 0,
              "ticks": ""
             }
            },
            "type": "scattercarpet"
           }
          ],
          "scattergeo": [
           {
            "marker": {
             "colorbar": {
              "outlinewidth": 0,
              "ticks": ""
             }
            },
            "type": "scattergeo"
           }
          ],
          "scattergl": [
           {
            "marker": {
             "colorbar": {
              "outlinewidth": 0,
              "ticks": ""
             }
            },
            "type": "scattergl"
           }
          ],
          "scattermap": [
           {
            "marker": {
             "colorbar": {
              "outlinewidth": 0,
              "ticks": ""
             }
            },
            "type": "scattermap"
           }
          ],
          "scattermapbox": [
           {
            "marker": {
             "colorbar": {
              "outlinewidth": 0,
              "ticks": ""
             }
            },
            "type": "scattermapbox"
           }
          ],
          "scatterpolar": [
           {
            "marker": {
             "colorbar": {
              "outlinewidth": 0,
              "ticks": ""
             }
            },
            "type": "scatterpolar"
           }
          ],
          "scatterpolargl": [
           {
            "marker": {
             "colorbar": {
              "outlinewidth": 0,
              "ticks": ""
             }
            },
            "type": "scatterpolargl"
           }
          ],
          "scatterternary": [
           {
            "marker": {
             "colorbar": {
              "outlinewidth": 0,
              "ticks": ""
             }
            },
            "type": "scatterternary"
           }
          ],
          "surface": [
           {
            "colorbar": {
             "outlinewidth": 0,
             "ticks": ""
            },
            "colorscale": [
             [
              0,
              "#0d0887"
             ],
             [
              0.1111111111111111,
              "#46039f"
             ],
             [
              0.2222222222222222,
              "#7201a8"
             ],
             [
              0.3333333333333333,
              "#9c179e"
             ],
             [
              0.4444444444444444,
              "#bd3786"
             ],
             [
              0.5555555555555556,
              "#d8576b"
             ],
             [
              0.6666666666666666,
              "#ed7953"
             ],
             [
              0.7777777777777778,
              "#fb9f3a"
             ],
             [
              0.8888888888888888,
              "#fdca26"
             ],
             [
              1,
              "#f0f921"
             ]
            ],
            "type": "surface"
           }
          ],
          "table": [
           {
            "cells": {
             "fill": {
              "color": "#EBF0F8"
             },
             "line": {
              "color": "white"
             }
            },
            "header": {
             "fill": {
              "color": "#C8D4E3"
             },
             "line": {
              "color": "white"
             }
            },
            "type": "table"
           }
          ]
         },
         "layout": {
          "annotationdefaults": {
           "arrowcolor": "#2a3f5f",
           "arrowhead": 0,
           "arrowwidth": 1
          },
          "autotypenumbers": "strict",
          "coloraxis": {
           "colorbar": {
            "outlinewidth": 0,
            "ticks": ""
           }
          },
          "colorscale": {
           "diverging": [
            [
             0,
             "#8e0152"
            ],
            [
             0.1,
             "#c51b7d"
            ],
            [
             0.2,
             "#de77ae"
            ],
            [
             0.3,
             "#f1b6da"
            ],
            [
             0.4,
             "#fde0ef"
            ],
            [
             0.5,
             "#f7f7f7"
            ],
            [
             0.6,
             "#e6f5d0"
            ],
            [
             0.7,
             "#b8e186"
            ],
            [
             0.8,
             "#7fbc41"
            ],
            [
             0.9,
             "#4d9221"
            ],
            [
             1,
             "#276419"
            ]
           ],
           "sequential": [
            [
             0,
             "#0d0887"
            ],
            [
             0.1111111111111111,
             "#46039f"
            ],
            [
             0.2222222222222222,
             "#7201a8"
            ],
            [
             0.3333333333333333,
             "#9c179e"
            ],
            [
             0.4444444444444444,
             "#bd3786"
            ],
            [
             0.5555555555555556,
             "#d8576b"
            ],
            [
             0.6666666666666666,
             "#ed7953"
            ],
            [
             0.7777777777777778,
             "#fb9f3a"
            ],
            [
             0.8888888888888888,
             "#fdca26"
            ],
            [
             1,
             "#f0f921"
            ]
           ],
           "sequentialminus": [
            [
             0,
             "#0d0887"
            ],
            [
             0.1111111111111111,
             "#46039f"
            ],
            [
             0.2222222222222222,
             "#7201a8"
            ],
            [
             0.3333333333333333,
             "#9c179e"
            ],
            [
             0.4444444444444444,
             "#bd3786"
            ],
            [
             0.5555555555555556,
             "#d8576b"
            ],
            [
             0.6666666666666666,
             "#ed7953"
            ],
            [
             0.7777777777777778,
             "#fb9f3a"
            ],
            [
             0.8888888888888888,
             "#fdca26"
            ],
            [
             1,
             "#f0f921"
            ]
           ]
          },
          "colorway": [
           "#636efa",
           "#EF553B",
           "#00cc96",
           "#ab63fa",
           "#FFA15A",
           "#19d3f3",
           "#FF6692",
           "#B6E880",
           "#FF97FF",
           "#FECB52"
          ],
          "font": {
           "color": "#2a3f5f"
          },
          "geo": {
           "bgcolor": "white",
           "lakecolor": "white",
           "landcolor": "white",
           "showlakes": true,
           "showland": true,
           "subunitcolor": "#C8D4E3"
          },
          "hoverlabel": {
           "align": "left"
          },
          "hovermode": "closest",
          "mapbox": {
           "style": "light"
          },
          "paper_bgcolor": "white",
          "plot_bgcolor": "white",
          "polar": {
           "angularaxis": {
            "gridcolor": "#EBF0F8",
            "linecolor": "#EBF0F8",
            "ticks": ""
           },
           "bgcolor": "white",
           "radialaxis": {
            "gridcolor": "#EBF0F8",
            "linecolor": "#EBF0F8",
            "ticks": ""
           }
          },
          "scene": {
           "xaxis": {
            "backgroundcolor": "white",
            "gridcolor": "#DFE8F3",
            "gridwidth": 2,
            "linecolor": "#EBF0F8",
            "showbackground": true,
            "ticks": "",
            "zerolinecolor": "#EBF0F8"
           },
           "yaxis": {
            "backgroundcolor": "white",
            "gridcolor": "#DFE8F3",
            "gridwidth": 2,
            "linecolor": "#EBF0F8",
            "showbackground": true,
            "ticks": "",
            "zerolinecolor": "#EBF0F8"
           },
           "zaxis": {
            "backgroundcolor": "white",
            "gridcolor": "#DFE8F3",
            "gridwidth": 2,
            "linecolor": "#EBF0F8",
            "showbackground": true,
            "ticks": "",
            "zerolinecolor": "#EBF0F8"
           }
          },
          "shapedefaults": {
           "line": {
            "color": "#2a3f5f"
           }
          },
          "ternary": {
           "aaxis": {
            "gridcolor": "#DFE8F3",
            "linecolor": "#A2B1C6",
            "ticks": ""
           },
           "baxis": {
            "gridcolor": "#DFE8F3",
            "linecolor": "#A2B1C6",
            "ticks": ""
           },
           "bgcolor": "white",
           "caxis": {
            "gridcolor": "#DFE8F3",
            "linecolor": "#A2B1C6",
            "ticks": ""
           }
          },
          "title": {
           "x": 0.05
          },
          "xaxis": {
           "automargin": true,
           "gridcolor": "#EBF0F8",
           "linecolor": "#EBF0F8",
           "ticks": "",
           "title": {
            "standoff": 15
           },
           "zerolinecolor": "#EBF0F8",
           "zerolinewidth": 2
          },
          "yaxis": {
           "automargin": true,
           "gridcolor": "#EBF0F8",
           "linecolor": "#EBF0F8",
           "ticks": "",
           "title": {
            "standoff": 15
           },
           "zerolinecolor": "#EBF0F8",
           "zerolinewidth": 2
          }
         }
        },
        "title": {
         "text": "<b>#8|IV|</b>005-03_20-19-22-21|R<sub>fit</sub>: 493.7549 Ω"
        },
        "width": 800,
        "xaxis": {
         "title": {
          "text": "appl_current (A)"
         }
        },
        "yaxis": {
         "title": {
          "text": "meas_voltage_K1 (V)"
         }
        },
        "yaxis2": {
         "overlaying": "y",
         "side": "right",
         "title": {
          "text": "dV_dI (Ω)"
         }
        }
       }
      }
     },
     "metadata": {},
     "output_type": "display_data"
    },
    {
     "data": {
      "application/vnd.jupyter.widget-view+json": {
       "model_id": "6238f690f5ba4f67b6b1c6f34d673a9c",
       "version_major": 2,
       "version_minor": 0
      },
      "image/png": "[encoded data removed]",
      "text/html": [
       "\n",
       "            <div style=\"display: inline-block;\">\n",
       "                <div class=\"jupyter-widgets widget-label\" style=\"text-align: center;\">\n",
       "                    Figure\n",
       "                </div>\n",
       "                <img src='data:image/png;base64,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' width=640.0/>\n",
       "            </div>\n",
       "        "
      ],
      "text/plain": [
       "Canvas(toolbar=Toolbar(toolitems=[('Home', 'Reset original view', 'home', 'home'), ('Back', 'Back to previous …"
      ]
     },
     "metadata": {},
     "output_type": "display_data"
    }
   ],
   "source": [
    "I = 0.5e-6\n",
    "# I = 10e-9\n",
    "appl_current(-I)\n",
    "K2440.output(1)\n",
    "sleep(1)\n",
    "\n",
    "exp = qc.new_experiment('IV', sample_name='005-03_20-19-22-21')\n",
    "# exp = qc.new_experiment('IV', sample_name=f'002-01_20-21-31-32@({Mag_x*1e3:.2f},{Mag_y*1e3:.2f},{Mag_z*1e3:.2f})mT')\n",
    "\n",
    "dataid = do1d(appl_current, -I, I, 101, 0.01, meas_voltage_K1,)\n",
    "# dataid = do1d(appl_current, 6e-6 , -6e-6, 251, 0.01, meas_voltage_K1)\n",
    "\n",
    "appl_current(0)\n",
    "K2440.output(0)\n",
    "plot_by_id(dataid)\n",
    "fig = plot_combined_iv_dvdi(dataid)\n",
    "clear_output(wait=True)\n",
    "print(f\"R = {get_R_from_IV(dataid):.4f}\")\n",
    "fig"
   ]
  },
  {
   "cell_type": "code",
   "execution_count": 27,
   "id": "c37fecc6",
   "metadata": {},
   "outputs": [
    {
     "name": "stdout",
     "output_type": "stream",
     "text": [
      "Number of points for each parameter in dataset 6:\n",
      "- meas_voltage_K1 (dependent): 101 points\n",
      "- appl_current     (setpoint): 101 unique points, from -5.00e-07 to 5.00e-07, step size: 1.00e-08\n",
      "計算微分電阻 dV/dI，使用電壓: meas_voltage_K1 和電流: appl_current\n",
      "已添加dV_dI列到數據框\n",
      "<class 'pandas.core.frame.DataFrame'>\n",
      "RangeIndex: 101 entries, 0 to 100\n",
      "Data columns (total 3 columns):\n",
      " #   Column           Non-Null Count  Dtype  \n",
      "---  ------           --------------  -----  \n",
      " 0   appl_current     101 non-null    float64\n",
      " 1   meas_voltage_K1  101 non-null    float64\n",
      " 2   dV_dI            101 non-null    float64\n",
      "dtypes: float64(3)\n",
      "memory usage: 2.5 KB\n",
      "None\n",
      "       appl_current  meas_voltage_K1       dV_dI\n",
      "count  1.010000e+02     1.010000e+02  101.000000\n",
      "mean  -3.144924e-24    -2.350654e-07  567.756733\n",
      "std    2.930017e-07     1.664048e-04    5.140094\n",
      "min   -5.000000e-07    -2.841568e-04  554.250000\n",
      "25%   -2.500000e-07    -1.421532e-04  564.415000\n",
      "50%    0.000000e+00    -5.274858e-07  567.987500\n",
      "75%    2.500000e-07     1.419392e-04  569.965000\n",
      "max    5.000000e-07     2.836208e-04  588.101290\n",
      "appl_current       0\n",
      "meas_voltage_K1    0\n",
      "dV_dI              0\n",
      "dtype: int64\n",
      "ID               : 6\n",
      "Type             : IV\n",
      "Sample           : 005-02_32-31-34-33\n",
      "Run time         : 4 sec\n",
      "Parameter unit: \n",
      "- meas_voltage_K1: V\n",
      "- appl_current   : A\n",
      "\n"
     ]
    },
    {
     "data": {
      "application/vnd.plotly.v1+json": {
       "config": {
        "plotlyServerURL": "https://plot.ly"
       },
       "data": [
        {
         "line": {
          "width": 2
         },
         "marker": {
          "size": 5
         },
         "mode": "lines+markers",
         "name": "I-V",
         "type": "scatter",
         "x": {
          "bdata": "je21oPfGoL5cKy1lEXGgvitppCkrG6C+9U033ImKn76TySVlvd6evjFFFO7wMp6+0MACdySHnb5uPPH/V9ucvgy434iLL5y+qjPOEb+Dm75Ir7ya8teavucqqyMmLJq+haaZrFmAmb4jIog1jdSYvsGddr7AKJi+XxllR/R8l779lFPQJ9GWvpwQQllbJZa+Ooww4o55lb7YBx9rws2UvnaDDfT1IZS+FP/7fCl2k76zeuoFXcqSvlH22I6QHpK+73HHF8Rykb6N7bWg98aQvitppCkrG5C+k8klZb3ejr7QwAJ3JIeNvgy434iLL4y+SK+8mvLXir6FppmsWYCJvsGddr7AKIi+/ZRT0CfRhr46jDDijnmFvnaDDfT1IYS+s3rqBV3Kgr7vcccXxHKBvitppCkrG4C+0MACdySHfb5Ir7ya8td6vsGddr7AKHi+Ooww4o55db6zeuoFXcpyvitppCkrG3C+Oa+8mvLXar46jDDijnllvitppCkrG2C+HIww4o55Vb46jDDijnlFvgAAAAAAAAAAOoww4o55RT46jDDijnlVPitppCkrG2A+Ooww4o55ZT5Xr7ya8tdqPjNppCkrG3A+unrqBV3Kcj5BjDDijnl1PsGddr7AKHg+SK+8mvLXej7QwAJ3JId9PitppCkrG4A+73HHF8RygT6zeuoFXcqCPnaDDfT1IYQ+Ooww4o55hT79lFPQJ9GGPsGddr7AKIg+haaZrFmAiT5Ir7ya8teKPgy434iLL4w+0MACdySHjT6TySVlvd6OPitppCkrG5A+je21oPfGkD7vcccXxHKRPlH22I6QHpI+s3rqBV3Kkj4U//t8KXaTPnaDDfT1IZQ+2Acfa8LNlD46jDDijnmVPpwQQllbJZY+/ZRT0CfRlj5fGWVH9HyXPsGddr7AKJg+IyKINY3UmD6FppmsWYCZPucqqyMmLJo+SK+8mvLXmj6qM84Rv4ObPgy434iLL5w+bjzx/1fbnD7QwAJ3JIedPjFFFO7wMp4+k8klZb3enj71TTfciYqfPitppCkrG6A+XCstZRFxoD6N7bWg98agPg==",
          "dtype": "f8"
         },
         "y": {
          "bdata": "riy2KVyfMr80Ew9Wij4yvzkyGKUA3zG/AOXW+JGBMb+iPinZgSExvzTjIvOXwTC/0Oge+9hiML8qsp/LMAMwv5r6i6QORy+/DrkqLFeILr8SR+FtM8stv0q5WCDcDi2/UjNNHOVOLL8SCvn3jJErvxe3OeRS1Cq/Gnfx4OEUKr9tE9TTs1cpv8YOh735mii/vt6cEe7cJ79+50moSB0nv0mPDYKhXia/NBt5m52eJb8ur6yRdeEkv48I5TwlICS/vCM7pAxkI7/BsKaw3qEiv/H2mVzQ5yG/yR2fmTMlIb83S2xvVWggv2DSAREuWR+/Up3K/SDfHb+BoUOv6mQcvy2BzoM/7Bq/hasSHwFqGb8qVi7mUu8Xv50ZUs+SdBa/fNE14abyFL80WHfKO3oTv4A9G4/n+BG/kaSWw0B8EL/qK3gNgPYNvy199hPJ9wq/pF4d69UMCL/RoiTxygQFv4qcMUXX/wG/NoVqSCYd/r5/WVMuwDP4vuQYSMqlRPK+L2c4Gk696L44eDmukgHavuJXiooRs6G+L68fmhoo1z6dW5trf4/nPqXYPko8u/E+QyJ7dB619z6Wl3I5e7L9PkrW7Rki0AE/Nw/J8S3PBD+zfLSVUMgHP3t7raSkxAo//dwRLZ7IDT8Ws+YwUmcQP/Omr/lk3xE/PO5sVR1aEz8LLYA3lNUUPwgT8BGmSBY/slw0T0nLFz9AkmYw5UMZP6GGcIYCwRo/uH9hyJUyHD9Y7/eZKLodP6rRWHAAMx8/d5SypNZWID91wYOXfhghP2igyazE1iE/hqiscbCaIj/vXVWGCVQjP/pIx2aZFiQ/z7N6TMLTJD9oa4e6JJIlP+tqcO+aTyY/NfXGAR4OJz8hbKaykM8nP2DmhTyFiig/wQgrqABFKT83kmjnywIqPzOUnJVpwio/PJsb9CF/Kz9YdxY/+TssP4z4vbLz+yw/JJFAdmy6LT8klaYbwXouPxV+zdNwOi8/iHXuKwv1Lz/R0d+IRFowP9a306OXuzA/M8Rn6nIcMT9jvLlC13oxP2CeSW+82jE/Iz1INGE5Mj9aqHoPXpYyPw==",
          "dtype": "f8"
         }
        },
        {
         "line": {
          "width": 2
         },
         "marker": {
          "size": 5
         },
         "mode": "lines+markers",
         "name": "dV/dI",
         "type": "scatter",
         "x": {
          "bdata": "je21oPfGoL5cKy1lEXGgvitppCkrG6C+9U033ImKn76TySVlvd6evjFFFO7wMp6+0MACdySHnb5uPPH/V9ucvgy434iLL5y+qjPOEb+Dm75Ir7ya8teavucqqyMmLJq+haaZrFmAmb4jIog1jdSYvsGddr7AKJi+XxllR/R8l779lFPQJ9GWvpwQQllbJZa+Ooww4o55lb7YBx9rws2UvnaDDfT1IZS+FP/7fCl2k76zeuoFXcqSvlH22I6QHpK+73HHF8Rykb6N7bWg98aQvitppCkrG5C+k8klZb3ejr7QwAJ3JIeNvgy434iLL4y+SK+8mvLXir6FppmsWYCJvsGddr7AKIi+/ZRT0CfRhr46jDDijnmFvnaDDfT1IYS+s3rqBV3Kgr7vcccXxHKBvitppCkrG4C+0MACdySHfb5Ir7ya8td6vsGddr7AKHi+Ooww4o55db6zeuoFXcpyvitppCkrG3C+Oa+8mvLXar46jDDijnllvitppCkrG2C+HIww4o55Vb46jDDijnlFvgAAAAAAAAAAOoww4o55RT46jDDijnlVPitppCkrG2A+Ooww4o55ZT5Xr7ya8tdqPjNppCkrG3A+unrqBV3Kcj5BjDDijnl1PsGddr7AKHg+SK+8mvLXej7QwAJ3JId9PitppCkrG4A+73HHF8RygT6zeuoFXcqCPnaDDfT1IYQ+Ooww4o55hT79lFPQJ9GGPsGddr7AKIg+haaZrFmAiT5Ir7ya8teKPgy434iLL4w+0MACdySHjT6TySVlvd6OPitppCkrG5A+je21oPfGkD7vcccXxHKRPlH22I6QHpI+s3rqBV3Kkj4U//t8KXaTPnaDDfT1IZQ+2Acfa8LNlD46jDDijnmVPpwQQllbJZY+/ZRT0CfRlj5fGWVH9HyXPsGddr7AKJg+IyKINY3UmD6FppmsWYCZPucqqyMmLJo+SK+8mvLXmj6qM84Rv4ObPgy434iLL5w+bjzx/1fbnD7QwAJ3JIedPjFFFO7wMp4+k8klZb3enj71TTfciYqfPitppCkrG6A+XCstZRFxoD6N7bWg98agPg==",
          "dtype": "f8"
         },
         "y": {
          "bdata": "BIXrUbgIgkBAj8L1KOqBQIBmZmZmmYFAYLgeheulgUCgR+F6FOGBQEDhehSuwYFAwPUoXI+7gUBgZmZmZtGBQOB6FK5HyoFAANejcD2wgUBguB6F65OBQJCZmZmZtYFAwPUoXI/BgUBQuB6F66CBQFC4HoXruYFAkML1KFy5gUAAAAAAAJmBQMAehetRo4FAcOtRuB7GgUCQwvUoXM2BQPAoXI/C0YFAULgeheu/gUBwZmZmZs+BQPAoXI/CwoFAqEfhehTNgUD4KFyPwrSBQFC4HoXruYFASArXo3DbgUDI9Shcj4mBQDgK16Nwi4FAQOF6FK6bgUA4CtejcJOBQGBkO99Pw4FAAKrx0k3PgUBwPQrXo6KBQMzMzMzMzYFAdGZmZua/gUDkfD81XryBQJiZmZmZ1YFANLKd76fTgUAUWDm0yOOBQFSNl24Sn4FAHlpkO9+6gUC2nxovXQiCQCaLbOd7xIFAOF66SQyUgUD6ehSux6aBQHntfD+1oYFA0BlR2puIgUCed7mIr5uBQOB6FK6HUIJASqshcc9ggkAtZRnimMuBQEw3iUHgxYFAId9PjZfUgUDc0k1ikMKBQPzUeOmmw4FAdJMYBFbKgUD0+X5qPMKBQOyjcD2K4oFAEC2ynW//gUDcTWIQWMSBQFS4HoXrkoFADIPAyiGngUB86SYxiHmBQDg1XrpJpIFACKrx0k3FgUCo8dJNYqSBQCBcj8J1eoFA2MzMzMy4gUCI61G4HuSBQADXo3A9l4FAcD0K16PVgUDQzMzMzOCBQNjMzMzM+4FAqEfhehTBgUBwFK5H4bCBQLgehetR3oFAAFK4HoWsgUCI61G4HrCBQHA9CtejsYFAUI/C9SjhgUDwKFyPwraBQDCF61G4Y4FA0PUoXI+FgUDgKFyPwsKBQCBcj8L1tYFAgBSuR+GUgUAghetRuLuBQGCPwvUoz4FAkML1KFzTgUCgcD0K1+GBQMD1KFyPnYFAANejcD2bgUBgj8L1KPuBQIA9CtejFYJAEIXrUbjPgUDAzMzMzLiBQODMzMzMvoFAEK5H4Xp5gUDy/////1GBQA==",
          "dtype": "f8"
         },
         "yaxis": "y2"
        }
       ],
       "layout": {
        "annotations": [
         {
          "font": {
           "size": 10
          },
          "showarrow": false,
          "text": "2025-05-05 16:47 | Duration: 4 sec",
          "x": 0,
          "xanchor": "left",
          "xref": "paper",
          "y": 1,
          "yanchor": "bottom",
          "yref": "paper"
         },
         {
          "font": {
           "size": 10
          },
          "showarrow": false,
          "text": "101 pts           <br>step=1.00e-08",
          "x": 1,
          "xanchor": "right",
          "xref": "paper",
          "y": -0.03,
          "yanchor": "top",
          "yref": "paper"
         }
        ],
        "height": 800,
        "legend": {
         "orientation": "h",
         "x": 0.5,
         "xanchor": "center",
         "xref": "paper",
         "y": 1,
         "yanchor": "bottom",
         "yref": "paper"
        },
        "template": {
         "data": {
          "bar": [
           {
            "error_x": {
             "color": "#2a3f5f"
            },
            "error_y": {
             "color": "#2a3f5f"
            },
            "marker": {
             "line": {
              "color": "white",
              "width": 0.5
             },
             "pattern": {
              "fillmode": "overlay",
              "size": 10,
              "solidity": 0.2
             }
            },
            "type": "bar"
           }
          ],
          "barpolar": [
           {
            "marker": {
             "line": {
              "color": "white",
              "width": 0.5
             },
             "pattern": {
              "fillmode": "overlay",
              "size": 10,
              "solidity": 0.2
             }
            },
            "type": "barpolar"
           }
          ],
          "carpet": [
           {
            "aaxis": {
             "endlinecolor": "#2a3f5f",
             "gridcolor": "#C8D4E3",
             "linecolor": "#C8D4E3",
             "minorgridcolor": "#C8D4E3",
             "startlinecolor": "#2a3f5f"
            },
            "baxis": {
             "endlinecolor": "#2a3f5f",
             "gridcolor": "#C8D4E3",
             "linecolor": "#C8D4E3",
             "minorgridcolor": "#C8D4E3",
             "startlinecolor": "#2a3f5f"
            },
            "type": "carpet"
           }
          ],
          "choropleth": [
           {
            "colorbar": {
             "outlinewidth": 0,
             "ticks": ""
            },
            "type": "choropleth"
           }
          ],
          "contour": [
           {
            "colorbar": {
             "outlinewidth": 0,
             "ticks": ""
            },
            "colorscale": [
             [
              0,
              "#0d0887"
             ],
             [
              0.1111111111111111,
              "#46039f"
             ],
             [
              0.2222222222222222,
              "#7201a8"
             ],
             [
              0.3333333333333333,
              "#9c179e"
             ],
             [
              0.4444444444444444,
              "#bd3786"
             ],
             [
              0.5555555555555556,
              "#d8576b"
             ],
             [
              0.6666666666666666,
              "#ed7953"
             ],
             [
              0.7777777777777778,
              "#fb9f3a"
             ],
             [
              0.8888888888888888,
              "#fdca26"
             ],
             [
              1,
              "#f0f921"
             ]
            ],
            "type": "contour"
           }
          ],
          "contourcarpet": [
           {
            "colorbar": {
             "outlinewidth": 0,
             "ticks": ""
            },
            "type": "contourcarpet"
           }
          ],
          "heatmap": [
           {
            "colorbar": {
             "outlinewidth": 0,
             "ticks": ""
            },
            "colorscale": [
             [
              0,
              "#0d0887"
             ],
             [
              0.1111111111111111,
              "#46039f"
             ],
             [
              0.2222222222222222,
              "#7201a8"
             ],
             [
              0.3333333333333333,
              "#9c179e"
             ],
             [
              0.4444444444444444,
              "#bd3786"
             ],
             [
              0.5555555555555556,
              "#d8576b"
             ],
             [
              0.6666666666666666,
              "#ed7953"
             ],
             [
              0.7777777777777778,
              "#fb9f3a"
             ],
             [
              0.8888888888888888,
              "#fdca26"
             ],
             [
              1,
              "#f0f921"
             ]
            ],
            "type": "heatmap"
           }
          ],
          "histogram": [
           {
            "marker": {
             "pattern": {
              "fillmode": "overlay",
              "size": 10,
              "solidity": 0.2
             }
            },
            "type": "histogram"
           }
          ],
          "histogram2d": [
           {
            "colorbar": {
             "outlinewidth": 0,
             "ticks": ""
            },
            "colorscale": [
             [
              0,
              "#0d0887"
             ],
             [
              0.1111111111111111,
              "#46039f"
             ],
             [
              0.2222222222222222,
              "#7201a8"
             ],
             [
              0.3333333333333333,
              "#9c179e"
             ],
             [
              0.4444444444444444,
              "#bd3786"
             ],
             [
              0.5555555555555556,
              "#d8576b"
             ],
             [
              0.6666666666666666,
              "#ed7953"
             ],
             [
              0.7777777777777778,
              "#fb9f3a"
             ],
             [
              0.8888888888888888,
              "#fdca26"
             ],
             [
              1,
              "#f0f921"
             ]
            ],
            "type": "histogram2d"
           }
          ],
          "histogram2dcontour": [
           {
            "colorbar": {
             "outlinewidth": 0,
             "ticks": ""
            },
            "colorscale": [
             [
              0,
              "#0d0887"
             ],
             [
              0.1111111111111111,
              "#46039f"
             ],
             [
              0.2222222222222222,
              "#7201a8"
             ],
             [
              0.3333333333333333,
              "#9c179e"
             ],
             [
              0.4444444444444444,
              "#bd3786"
             ],
             [
              0.5555555555555556,
              "#d8576b"
             ],
             [
              0.6666666666666666,
              "#ed7953"
             ],
             [
              0.7777777777777778,
              "#fb9f3a"
             ],
             [
              0.8888888888888888,
              "#fdca26"
             ],
             [
              1,
              "#f0f921"
             ]
            ],
            "type": "histogram2dcontour"
           }
          ],
          "mesh3d": [
           {
            "colorbar": {
             "outlinewidth": 0,
             "ticks": ""
            },
            "type": "mesh3d"
           }
          ],
          "parcoords": [
           {
            "line": {
             "colorbar": {
              "outlinewidth": 0,
              "ticks": ""
             }
            },
            "type": "parcoords"
           }
          ],
          "pie": [
           {
            "automargin": true,
            "type": "pie"
           }
          ],
          "scatter": [
           {
            "fillpattern": {
             "fillmode": "overlay",
             "size": 10,
             "solidity": 0.2
            },
            "type": "scatter"
           }
          ],
          "scatter3d": [
           {
            "line": {
             "colorbar": {
              "outlinewidth": 0,
              "ticks": ""
             }
            },
            "marker": {
             "colorbar": {
              "outlinewidth": 0,
              "ticks": ""
             }
            },
            "type": "scatter3d"
           }
          ],
          "scattercarpet": [
           {
            "marker": {
             "colorbar": {
              "outlinewidth": 0,
              "ticks": ""
             }
            },
            "type": "scattercarpet"
           }
          ],
          "scattergeo": [
           {
            "marker": {
             "colorbar": {
              "outlinewidth": 0,
              "ticks": ""
             }
            },
            "type": "scattergeo"
           }
          ],
          "scattergl": [
           {
            "marker": {
             "colorbar": {
              "outlinewidth": 0,
              "ticks": ""
             }
            },
            "type": "scattergl"
           }
          ],
          "scattermap": [
           {
            "marker": {
             "colorbar": {
              "outlinewidth": 0,
              "ticks": ""
             }
            },
            "type": "scattermap"
           }
          ],
          "scattermapbox": [
           {
            "marker": {
             "colorbar": {
              "outlinewidth": 0,
              "ticks": ""
             }
            },
            "type": "scattermapbox"
           }
          ],
          "scatterpolar": [
           {
            "marker": {
             "colorbar": {
              "outlinewidth": 0,
              "ticks": ""
             }
            },
            "type": "scatterpolar"
           }
          ],
          "scatterpolargl": [
           {
            "marker": {
             "colorbar": {
              "outlinewidth": 0,
              "ticks": ""
             }
            },
            "type": "scatterpolargl"
           }
          ],
          "scatterternary": [
           {
            "marker": {
             "colorbar": {
              "outlinewidth": 0,
              "ticks": ""
             }
            },
            "type": "scatterternary"
           }
          ],
          "surface": [
           {
            "colorbar": {
             "outlinewidth": 0,
             "ticks": ""
            },
            "colorscale": [
             [
              0,
              "#0d0887"
             ],
             [
              0.1111111111111111,
              "#46039f"
             ],
             [
              0.2222222222222222,
              "#7201a8"
             ],
             [
              0.3333333333333333,
              "#9c179e"
             ],
             [
              0.4444444444444444,
              "#bd3786"
             ],
             [
              0.5555555555555556,
              "#d8576b"
             ],
             [
              0.6666666666666666,
              "#ed7953"
             ],
             [
              0.7777777777777778,
              "#fb9f3a"
             ],
             [
              0.8888888888888888,
              "#fdca26"
             ],
             [
              1,
              "#f0f921"
             ]
            ],
            "type": "surface"
           }
          ],
          "table": [
           {
            "cells": {
             "fill": {
              "color": "#EBF0F8"
             },
             "line": {
              "color": "white"
             }
            },
            "header": {
             "fill": {
              "color": "#C8D4E3"
             },
             "line": {
              "color": "white"
             }
            },
            "type": "table"
           }
          ]
         },
         "layout": {
          "annotationdefaults": {
           "arrowcolor": "#2a3f5f",
           "arrowhead": 0,
           "arrowwidth": 1
          },
          "autotypenumbers": "strict",
          "coloraxis": {
           "colorbar": {
            "outlinewidth": 0,
            "ticks": ""
           }
          },
          "colorscale": {
           "diverging": [
            [
             0,
             "#8e0152"
            ],
            [
             0.1,
             "#c51b7d"
            ],
            [
             0.2,
             "#de77ae"
            ],
            [
             0.3,
             "#f1b6da"
            ],
            [
             0.4,
             "#fde0ef"
            ],
            [
             0.5,
             "#f7f7f7"
            ],
            [
             0.6,
             "#e6f5d0"
            ],
            [
             0.7,
             "#b8e186"
            ],
            [
             0.8,
             "#7fbc41"
            ],
            [
             0.9,
             "#4d9221"
            ],
            [
             1,
             "#276419"
            ]
           ],
           "sequential": [
            [
             0,
             "#0d0887"
            ],
            [
             0.1111111111111111,
             "#46039f"
            ],
            [
             0.2222222222222222,
             "#7201a8"
            ],
            [
             0.3333333333333333,
             "#9c179e"
            ],
            [
             0.4444444444444444,
             "#bd3786"
            ],
            [
             0.5555555555555556,
             "#d8576b"
            ],
            [
             0.6666666666666666,
             "#ed7953"
            ],
            [
             0.7777777777777778,
             "#fb9f3a"
            ],
            [
             0.8888888888888888,
             "#fdca26"
            ],
            [
             1,
             "#f0f921"
            ]
           ],
           "sequentialminus": [
            [
             0,
             "#0d0887"
            ],
            [
             0.1111111111111111,
             "#46039f"
            ],
            [
             0.2222222222222222,
             "#7201a8"
            ],
            [
             0.3333333333333333,
             "#9c179e"
            ],
            [
             0.4444444444444444,
             "#bd3786"
            ],
            [
             0.5555555555555556,
             "#d8576b"
            ],
            [
             0.6666666666666666,
             "#ed7953"
            ],
            [
             0.7777777777777778,
             "#fb9f3a"
            ],
            [
             0.8888888888888888,
             "#fdca26"
            ],
            [
             1,
             "#f0f921"
            ]
           ]
          },
          "colorway": [
           "#636efa",
           "#EF553B",
           "#00cc96",
           "#ab63fa",
           "#FFA15A",
           "#19d3f3",
           "#FF6692",
           "#B6E880",
           "#FF97FF",
           "#FECB52"
          ],
          "font": {
           "color": "#2a3f5f"
          },
          "geo": {
           "bgcolor": "white",
           "lakecolor": "white",
           "landcolor": "white",
           "showlakes": true,
           "showland": true,
           "subunitcolor": "#C8D4E3"
          },
          "hoverlabel": {
           "align": "left"
          },
          "hovermode": "closest",
          "mapbox": {
           "style": "light"
          },
          "paper_bgcolor": "white",
          "plot_bgcolor": "white",
          "polar": {
           "angularaxis": {
            "gridcolor": "#EBF0F8",
            "linecolor": "#EBF0F8",
            "ticks": ""
           },
           "bgcolor": "white",
           "radialaxis": {
            "gridcolor": "#EBF0F8",
            "linecolor": "#EBF0F8",
            "ticks": ""
           }
          },
          "scene": {
           "xaxis": {
            "backgroundcolor": "white",
            "gridcolor": "#DFE8F3",
            "gridwidth": 2,
            "linecolor": "#EBF0F8",
            "showbackground": true,
            "ticks": "",
            "zerolinecolor": "#EBF0F8"
           },
           "yaxis": {
            "backgroundcolor": "white",
            "gridcolor": "#DFE8F3",
            "gridwidth": 2,
            "linecolor": "#EBF0F8",
            "showbackground": true,
            "ticks": "",
            "zerolinecolor": "#EBF0F8"
           },
           "zaxis": {
            "backgroundcolor": "white",
            "gridcolor": "#DFE8F3",
            "gridwidth": 2,
            "linecolor": "#EBF0F8",
            "showbackground": true,
            "ticks": "",
            "zerolinecolor": "#EBF0F8"
           }
          },
          "shapedefaults": {
           "line": {
            "color": "#2a3f5f"
           }
          },
          "ternary": {
           "aaxis": {
            "gridcolor": "#DFE8F3",
            "linecolor": "#A2B1C6",
            "ticks": ""
           },
           "baxis": {
            "gridcolor": "#DFE8F3",
            "linecolor": "#A2B1C6",
            "ticks": ""
           },
           "bgcolor": "white",
           "caxis": {
            "gridcolor": "#DFE8F3",
            "linecolor": "#A2B1C6",
            "ticks": ""
           }
          },
          "title": {
           "x": 0.05
          },
          "xaxis": {
           "automargin": true,
           "gridcolor": "#EBF0F8",
           "linecolor": "#EBF0F8",
           "ticks": "",
           "title": {
            "standoff": 15
           },
           "zerolinecolor": "#EBF0F8",
           "zerolinewidth": 2
          },
          "yaxis": {
           "automargin": true,
           "gridcolor": "#EBF0F8",
           "linecolor": "#EBF0F8",
           "ticks": "",
           "title": {
            "standoff": 15
           },
           "zerolinecolor": "#EBF0F8",
           "zerolinewidth": 2
          }
         }
        },
        "title": {
         "text": "<b>#6|IV|</b>005-02_32-31-34-33|R<sub>fit</sub>: 567.9310 Ω"
        },
        "width": 800,
        "xaxis": {
         "title": {
          "text": "appl_current (A)"
         }
        },
        "yaxis": {
         "title": {
          "text": "meas_voltage_K1 (V)"
         }
        },
        "yaxis2": {
         "overlaying": "y",
         "side": "right",
         "title": {
          "text": "dV_dI (Ω)"
         }
        }
       }
      }
     },
     "metadata": {},
     "output_type": "display_data"
    },
    {
     "data": {
      "application/vnd.plotly.v1+json": {
       "config": {
        "plotlyServerURL": "https://plot.ly"
       },
       "data": [
        {
         "line": {
          "width": 2
         },
         "marker": {
          "size": 5
         },
         "mode": "lines+markers",
         "name": "I-V",
         "type": "scatter",
         "x": {
          "bdata": "je21oPfGoL5cKy1lEXGgvitppCkrG6C+9U033ImKn76TySVlvd6evjFFFO7wMp6+0MACdySHnb5uPPH/V9ucvgy434iLL5y+qjPOEb+Dm75Ir7ya8teavucqqyMmLJq+haaZrFmAmb4jIog1jdSYvsGddr7AKJi+XxllR/R8l779lFPQJ9GWvpwQQllbJZa+Ooww4o55lb7YBx9rws2UvnaDDfT1IZS+FP/7fCl2k76zeuoFXcqSvlH22I6QHpK+73HHF8Rykb6N7bWg98aQvitppCkrG5C+k8klZb3ejr7QwAJ3JIeNvgy434iLL4y+SK+8mvLXir6FppmsWYCJvsGddr7AKIi+/ZRT0CfRhr46jDDijnmFvnaDDfT1IYS+s3rqBV3Kgr7vcccXxHKBvitppCkrG4C+0MACdySHfb5Ir7ya8td6vsGddr7AKHi+Ooww4o55db6zeuoFXcpyvitppCkrG3C+Oa+8mvLXar46jDDijnllvitppCkrG2C+HIww4o55Vb46jDDijnlFvgAAAAAAAAAAOoww4o55RT46jDDijnlVPitppCkrG2A+Ooww4o55ZT5Xr7ya8tdqPjNppCkrG3A+unrqBV3Kcj5BjDDijnl1PsGddr7AKHg+SK+8mvLXej7QwAJ3JId9PitppCkrG4A+73HHF8RygT6zeuoFXcqCPnaDDfT1IYQ+Ooww4o55hT79lFPQJ9GGPsGddr7AKIg+haaZrFmAiT5Ir7ya8teKPgy434iLL4w+0MACdySHjT6TySVlvd6OPitppCkrG5A+je21oPfGkD7vcccXxHKRPlH22I6QHpI+s3rqBV3Kkj4U//t8KXaTPnaDDfT1IZQ+2Acfa8LNlD46jDDijnmVPpwQQllbJZY+/ZRT0CfRlj5fGWVH9HyXPsGddr7AKJg+IyKINY3UmD6FppmsWYCZPucqqyMmLJo+SK+8mvLXmj6qM84Rv4ObPgy434iLL5w+bjzx/1fbnD7QwAJ3JIedPjFFFO7wMp4+k8klZb3enj71TTfciYqfPitppCkrG6A+XCstZRFxoD6N7bWg98agPg==",
          "dtype": "f8"
         },
         "y": {
          "bdata": "riy2KVyfMr80Ew9Wij4yvzkyGKUA3zG/AOXW+JGBMb+iPinZgSExvzTjIvOXwTC/0Oge+9hiML8qsp/LMAMwv5r6i6QORy+/DrkqLFeILr8SR+FtM8stv0q5WCDcDi2/UjNNHOVOLL8SCvn3jJErvxe3OeRS1Cq/Gnfx4OEUKr9tE9TTs1cpv8YOh735mii/vt6cEe7cJ79+50moSB0nv0mPDYKhXia/NBt5m52eJb8ur6yRdeEkv48I5TwlICS/vCM7pAxkI7/BsKaw3qEiv/H2mVzQ5yG/yR2fmTMlIb83S2xvVWggv2DSAREuWR+/Up3K/SDfHb+BoUOv6mQcvy2BzoM/7Bq/hasSHwFqGb8qVi7mUu8Xv50ZUs+SdBa/fNE14abyFL80WHfKO3oTv4A9G4/n+BG/kaSWw0B8EL/qK3gNgPYNvy199hPJ9wq/pF4d69UMCL/RoiTxygQFv4qcMUXX/wG/NoVqSCYd/r5/WVMuwDP4vuQYSMqlRPK+L2c4Gk696L44eDmukgHavuJXiooRs6G+L68fmhoo1z6dW5trf4/nPqXYPko8u/E+QyJ7dB619z6Wl3I5e7L9PkrW7Rki0AE/Nw/J8S3PBD+zfLSVUMgHP3t7raSkxAo//dwRLZ7IDT8Ws+YwUmcQP/Omr/lk3xE/PO5sVR1aEz8LLYA3lNUUPwgT8BGmSBY/slw0T0nLFz9AkmYw5UMZP6GGcIYCwRo/uH9hyJUyHD9Y7/eZKLodP6rRWHAAMx8/d5SypNZWID91wYOXfhghP2igyazE1iE/hqiscbCaIj/vXVWGCVQjP/pIx2aZFiQ/z7N6TMLTJD9oa4e6JJIlP+tqcO+aTyY/NfXGAR4OJz8hbKaykM8nP2DmhTyFiig/wQgrqABFKT83kmjnywIqPzOUnJVpwio/PJsb9CF/Kz9YdxY/+TssP4z4vbLz+yw/JJFAdmy6LT8klaYbwXouPxV+zdNwOi8/iHXuKwv1Lz/R0d+IRFowP9a306OXuzA/M8Rn6nIcMT9jvLlC13oxP2CeSW+82jE/Iz1INGE5Mj9aqHoPXpYyPw==",
          "dtype": "f8"
         }
        },
        {
         "line": {
          "width": 2
         },
         "marker": {
          "size": 5
         },
         "mode": "lines+markers",
         "name": "dV/dI",
         "type": "scatter",
         "x": {
          "bdata": "je21oPfGoL5cKy1lEXGgvitppCkrG6C+9U033ImKn76TySVlvd6evjFFFO7wMp6+0MACdySHnb5uPPH/V9ucvgy434iLL5y+qjPOEb+Dm75Ir7ya8teavucqqyMmLJq+haaZrFmAmb4jIog1jdSYvsGddr7AKJi+XxllR/R8l779lFPQJ9GWvpwQQllbJZa+Ooww4o55lb7YBx9rws2UvnaDDfT1IZS+FP/7fCl2k76zeuoFXcqSvlH22I6QHpK+73HHF8Rykb6N7bWg98aQvitppCkrG5C+k8klZb3ejr7QwAJ3JIeNvgy434iLL4y+SK+8mvLXir6FppmsWYCJvsGddr7AKIi+/ZRT0CfRhr46jDDijnmFvnaDDfT1IYS+s3rqBV3Kgr7vcccXxHKBvitppCkrG4C+0MACdySHfb5Ir7ya8td6vsGddr7AKHi+Ooww4o55db6zeuoFXcpyvitppCkrG3C+Oa+8mvLXar46jDDijnllvitppCkrG2C+HIww4o55Vb46jDDijnlFvgAAAAAAAAAAOoww4o55RT46jDDijnlVPitppCkrG2A+Ooww4o55ZT5Xr7ya8tdqPjNppCkrG3A+unrqBV3Kcj5BjDDijnl1PsGddr7AKHg+SK+8mvLXej7QwAJ3JId9PitppCkrG4A+73HHF8RygT6zeuoFXcqCPnaDDfT1IYQ+Ooww4o55hT79lFPQJ9GGPsGddr7AKIg+haaZrFmAiT5Ir7ya8teKPgy434iLL4w+0MACdySHjT6TySVlvd6OPitppCkrG5A+je21oPfGkD7vcccXxHKRPlH22I6QHpI+s3rqBV3Kkj4U//t8KXaTPnaDDfT1IZQ+2Acfa8LNlD46jDDijnmVPpwQQllbJZY+/ZRT0CfRlj5fGWVH9HyXPsGddr7AKJg+IyKINY3UmD6FppmsWYCZPucqqyMmLJo+SK+8mvLXmj6qM84Rv4ObPgy434iLL5w+bjzx/1fbnD7QwAJ3JIedPjFFFO7wMp4+k8klZb3enj71TTfciYqfPitppCkrG6A+XCstZRFxoD6N7bWg98agPg==",
          "dtype": "f8"
         },
         "y": {
          "bdata": "BIXrUbgIgkBAj8L1KOqBQIBmZmZmmYFAYLgeheulgUCgR+F6FOGBQEDhehSuwYFAwPUoXI+7gUBgZmZmZtGBQOB6FK5HyoFAANejcD2wgUBguB6F65OBQJCZmZmZtYFAwPUoXI/BgUBQuB6F66CBQFC4HoXruYFAkML1KFy5gUAAAAAAAJmBQMAehetRo4FAcOtRuB7GgUCQwvUoXM2BQPAoXI/C0YFAULgeheu/gUBwZmZmZs+BQPAoXI/CwoFAqEfhehTNgUD4KFyPwrSBQFC4HoXruYFASArXo3DbgUDI9Shcj4mBQDgK16Nwi4FAQOF6FK6bgUA4CtejcJOBQGBkO99Pw4FAAKrx0k3PgUBwPQrXo6KBQMzMzMzMzYFAdGZmZua/gUDkfD81XryBQJiZmZmZ1YFANLKd76fTgUAUWDm0yOOBQFSNl24Sn4FAHlpkO9+6gUC2nxovXQiCQCaLbOd7xIFAOF66SQyUgUD6ehSux6aBQHntfD+1oYFA0BlR2puIgUCed7mIr5uBQOB6FK6HUIJASqshcc9ggkAtZRnimMuBQEw3iUHgxYFAId9PjZfUgUDc0k1ikMKBQPzUeOmmw4FAdJMYBFbKgUD0+X5qPMKBQOyjcD2K4oFAEC2ynW//gUDcTWIQWMSBQFS4HoXrkoFADIPAyiGngUB86SYxiHmBQDg1XrpJpIFACKrx0k3FgUCo8dJNYqSBQCBcj8J1eoFA2MzMzMy4gUCI61G4HuSBQADXo3A9l4FAcD0K16PVgUDQzMzMzOCBQNjMzMzM+4FAqEfhehTBgUBwFK5H4bCBQLgehetR3oFAAFK4HoWsgUCI61G4HrCBQHA9CtejsYFAUI/C9SjhgUDwKFyPwraBQDCF61G4Y4FA0PUoXI+FgUDgKFyPwsKBQCBcj8L1tYFAgBSuR+GUgUAghetRuLuBQGCPwvUoz4FAkML1KFzTgUCgcD0K1+GBQMD1KFyPnYFAANejcD2bgUBgj8L1KPuBQIA9CtejFYJAEIXrUbjPgUDAzMzMzLiBQODMzMzMvoFAEK5H4Xp5gUDy/////1GBQA==",
          "dtype": "f8"
         },
         "yaxis": "y2"
        }
       ],
       "layout": {
        "annotations": [
         {
          "font": {
           "size": 10
          },
          "showarrow": false,
          "text": "2025-05-05 16:47 | Duration: 4 sec",
          "x": 0,
          "xanchor": "left",
          "xref": "paper",
          "y": 1,
          "yanchor": "bottom",
          "yref": "paper"
         },
         {
          "font": {
           "size": 10
          },
          "showarrow": false,
          "text": "101 pts           <br>step=1.00e-08",
          "x": 1,
          "xanchor": "right",
          "xref": "paper",
          "y": -0.03,
          "yanchor": "top",
          "yref": "paper"
         }
        ],
        "height": 800,
        "legend": {
         "orientation": "h",
         "x": 0.5,
         "xanchor": "center",
         "xref": "paper",
         "y": 1,
         "yanchor": "bottom",
         "yref": "paper"
        },
        "template": {
         "data": {
          "bar": [
           {
            "error_x": {
             "color": "#2a3f5f"
            },
            "error_y": {
             "color": "#2a3f5f"
            },
            "marker": {
             "line": {
              "color": "white",
              "width": 0.5
             },
             "pattern": {
              "fillmode": "overlay",
              "size": 10,
              "solidity": 0.2
             }
            },
            "type": "bar"
           }
          ],
          "barpolar": [
           {
            "marker": {
             "line": {
              "color": "white",
              "width": 0.5
             },
             "pattern": {
              "fillmode": "overlay",
              "size": 10,
              "solidity": 0.2
             }
            },
            "type": "barpolar"
           }
          ],
          "carpet": [
           {
            "aaxis": {
             "endlinecolor": "#2a3f5f",
             "gridcolor": "#C8D4E3",
             "linecolor": "#C8D4E3",
             "minorgridcolor": "#C8D4E3",
             "startlinecolor": "#2a3f5f"
            },
            "baxis": {
             "endlinecolor": "#2a3f5f",
             "gridcolor": "#C8D4E3",
             "linecolor": "#C8D4E3",
             "minorgridcolor": "#C8D4E3",
             "startlinecolor": "#2a3f5f"
            },
            "type": "carpet"
           }
          ],
          "choropleth": [
           {
            "colorbar": {
             "outlinewidth": 0,
             "ticks": ""
            },
            "type": "choropleth"
           }
          ],
          "contour": [
           {
            "colorbar": {
             "outlinewidth": 0,
             "ticks": ""
            },
            "colorscale": [
             [
              0,
              "#0d0887"
             ],
             [
              0.1111111111111111,
              "#46039f"
             ],
             [
              0.2222222222222222,
              "#7201a8"
             ],
             [
              0.3333333333333333,
              "#9c179e"
             ],
             [
              0.4444444444444444,
              "#bd3786"
             ],
             [
              0.5555555555555556,
              "#d8576b"
             ],
             [
              0.6666666666666666,
              "#ed7953"
             ],
             [
              0.7777777777777778,
              "#fb9f3a"
             ],
             [
              0.8888888888888888,
              "#fdca26"
             ],
             [
              1,
              "#f0f921"
             ]
            ],
            "type": "contour"
           }
          ],
          "contourcarpet": [
           {
            "colorbar": {
             "outlinewidth": 0,
             "ticks": ""
            },
            "type": "contourcarpet"
           }
          ],
          "heatmap": [
           {
            "colorbar": {
             "outlinewidth": 0,
             "ticks": ""
            },
            "colorscale": [
             [
              0,
              "#0d0887"
             ],
             [
              0.1111111111111111,
              "#46039f"
             ],
             [
              0.2222222222222222,
              "#7201a8"
             ],
             [
              0.3333333333333333,
              "#9c179e"
             ],
             [
              0.4444444444444444,
              "#bd3786"
             ],
             [
              0.5555555555555556,
              "#d8576b"
             ],
             [
              0.6666666666666666,
              "#ed7953"
             ],
             [
              0.7777777777777778,
              "#fb9f3a"
             ],
             [
              0.8888888888888888,
              "#fdca26"
             ],
             [
              1,
              "#f0f921"
             ]
            ],
            "type": "heatmap"
           }
          ],
          "histogram": [
           {
            "marker": {
             "pattern": {
              "fillmode": "overlay",
              "size": 10,
              "solidity": 0.2
             }
            },
            "type": "histogram"
           }
          ],
          "histogram2d": [
           {
            "colorbar": {
             "outlinewidth": 0,
             "ticks": ""
            },
            "colorscale": [
             [
              0,
              "#0d0887"
             ],
             [
              0.1111111111111111,
              "#46039f"
             ],
             [
              0.2222222222222222,
              "#7201a8"
             ],
             [
              0.3333333333333333,
              "#9c179e"
             ],
             [
              0.4444444444444444,
              "#bd3786"
             ],
             [
              0.5555555555555556,
              "#d8576b"
             ],
             [
              0.6666666666666666,
              "#ed7953"
             ],
             [
              0.7777777777777778,
              "#fb9f3a"
             ],
             [
              0.8888888888888888,
              "#fdca26"
             ],
             [
              1,
              "#f0f921"
             ]
            ],
            "type": "histogram2d"
           }
          ],
          "histogram2dcontour": [
           {
            "colorbar": {
             "outlinewidth": 0,
             "ticks": ""
            },
            "colorscale": [
             [
              0,
              "#0d0887"
             ],
             [
              0.1111111111111111,
              "#46039f"
             ],
             [
              0.2222222222222222,
              "#7201a8"
             ],
             [
              0.3333333333333333,
              "#9c179e"
             ],
             [
              0.4444444444444444,
              "#bd3786"
             ],
             [
              0.5555555555555556,
              "#d8576b"
             ],
             [
              0.6666666666666666,
              "#ed7953"
             ],
             [
              0.7777777777777778,
              "#fb9f3a"
             ],
             [
              0.8888888888888888,
              "#fdca26"
             ],
             [
              1,
              "#f0f921"
             ]
            ],
            "type": "histogram2dcontour"
           }
          ],
          "mesh3d": [
           {
            "colorbar": {
             "outlinewidth": 0,
             "ticks": ""
            },
            "type": "mesh3d"
           }
          ],
          "parcoords": [
           {
            "line": {
             "colorbar": {
              "outlinewidth": 0,
              "ticks": ""
             }
            },
            "type": "parcoords"
           }
          ],
          "pie": [
           {
            "automargin": true,
            "type": "pie"
           }
          ],
          "scatter": [
           {
            "fillpattern": {
             "fillmode": "overlay",
             "size": 10,
             "solidity": 0.2
            },
            "type": "scatter"
           }
          ],
          "scatter3d": [
           {
            "line": {
             "colorbar": {
              "outlinewidth": 0,
              "ticks": ""
             }
            },
            "marker": {
             "colorbar": {
              "outlinewidth": 0,
              "ticks": ""
             }
            },
            "type": "scatter3d"
           }
          ],
          "scattercarpet": [
           {
            "marker": {
             "colorbar": {
              "outlinewidth": 0,
              "ticks": ""
             }
            },
            "type": "scattercarpet"
           }
          ],
          "scattergeo": [
           {
            "marker": {
             "colorbar": {
              "outlinewidth": 0,
              "ticks": ""
             }
            },
            "type": "scattergeo"
           }
          ],
          "scattergl": [
           {
            "marker": {
             "colorbar": {
              "outlinewidth": 0,
              "ticks": ""
             }
            },
            "type": "scattergl"
           }
          ],
          "scattermap": [
           {
            "marker": {
             "colorbar": {
              "outlinewidth": 0,
              "ticks": ""
             }
            },
            "type": "scattermap"
           }
          ],
          "scattermapbox": [
           {
            "marker": {
             "colorbar": {
              "outlinewidth": 0,
              "ticks": ""
             }
            },
            "type": "scattermapbox"
           }
          ],
          "scatterpolar": [
           {
            "marker": {
             "colorbar": {
              "outlinewidth": 0,
              "ticks": ""
             }
            },
            "type": "scatterpolar"
           }
          ],
          "scatterpolargl": [
           {
            "marker": {
             "colorbar": {
              "outlinewidth": 0,
              "ticks": ""
             }
            },
            "type": "scatterpolargl"
           }
          ],
          "scatterternary": [
           {
            "marker": {
             "colorbar": {
              "outlinewidth": 0,
              "ticks": ""
             }
            },
            "type": "scatterternary"
           }
          ],
          "surface": [
           {
            "colorbar": {
             "outlinewidth": 0,
             "ticks": ""
            },
            "colorscale": [
             [
              0,
              "#0d0887"
             ],
             [
              0.1111111111111111,
              "#46039f"
             ],
             [
              0.2222222222222222,
              "#7201a8"
             ],
             [
              0.3333333333333333,
              "#9c179e"
             ],
             [
              0.4444444444444444,
              "#bd3786"
             ],
             [
              0.5555555555555556,
              "#d8576b"
             ],
             [
              0.6666666666666666,
              "#ed7953"
             ],
             [
              0.7777777777777778,
              "#fb9f3a"
             ],
             [
              0.8888888888888888,
              "#fdca26"
             ],
             [
              1,
              "#f0f921"
             ]
            ],
            "type": "surface"
           }
          ],
          "table": [
           {
            "cells": {
             "fill": {
              "color": "#EBF0F8"
             },
             "line": {
              "color": "white"
             }
            },
            "header": {
             "fill": {
              "color": "#C8D4E3"
             },
             "line": {
              "color": "white"
             }
            },
            "type": "table"
           }
          ]
         },
         "layout": {
          "annotationdefaults": {
           "arrowcolor": "#2a3f5f",
           "arrowhead": 0,
           "arrowwidth": 1
          },
          "autotypenumbers": "strict",
          "coloraxis": {
           "colorbar": {
            "outlinewidth": 0,
            "ticks": ""
           }
          },
          "colorscale": {
           "diverging": [
            [
             0,
             "#8e0152"
            ],
            [
             0.1,
             "#c51b7d"
            ],
            [
             0.2,
             "#de77ae"
            ],
            [
             0.3,
             "#f1b6da"
            ],
            [
             0.4,
             "#fde0ef"
            ],
            [
             0.5,
             "#f7f7f7"
            ],
            [
             0.6,
             "#e6f5d0"
            ],
            [
             0.7,
             "#b8e186"
            ],
            [
             0.8,
             "#7fbc41"
            ],
            [
             0.9,
             "#4d9221"
            ],
            [
             1,
             "#276419"
            ]
           ],
           "sequential": [
            [
             0,
             "#0d0887"
            ],
            [
             0.1111111111111111,
             "#46039f"
            ],
            [
             0.2222222222222222,
             "#7201a8"
            ],
            [
             0.3333333333333333,
             "#9c179e"
            ],
            [
             0.4444444444444444,
             "#bd3786"
            ],
            [
             0.5555555555555556,
             "#d8576b"
            ],
            [
             0.6666666666666666,
             "#ed7953"
            ],
            [
             0.7777777777777778,
             "#fb9f3a"
            ],
            [
             0.8888888888888888,
             "#fdca26"
            ],
            [
             1,
             "#f0f921"
            ]
           ],
           "sequentialminus": [
            [
             0,
             "#0d0887"
            ],
            [
             0.1111111111111111,
             "#46039f"
            ],
            [
             0.2222222222222222,
             "#7201a8"
            ],
            [
             0.3333333333333333,
             "#9c179e"
            ],
            [
             0.4444444444444444,
             "#bd3786"
            ],
            [
             0.5555555555555556,
             "#d8576b"
            ],
            [
             0.6666666666666666,
             "#ed7953"
            ],
            [
             0.7777777777777778,
             "#fb9f3a"
            ],
            [
             0.8888888888888888,
             "#fdca26"
            ],
            [
             1,
             "#f0f921"
            ]
           ]
          },
          "colorway": [
           "#636efa",
           "#EF553B",
           "#00cc96",
           "#ab63fa",
           "#FFA15A",
           "#19d3f3",
           "#FF6692",
           "#B6E880",
           "#FF97FF",
           "#FECB52"
          ],
          "font": {
           "color": "#2a3f5f"
          },
          "geo": {
           "bgcolor": "white",
           "lakecolor": "white",
           "landcolor": "white",
           "showlakes": true,
           "showland": true,
           "subunitcolor": "#C8D4E3"
          },
          "hoverlabel": {
           "align": "left"
          },
          "hovermode": "closest",
          "mapbox": {
           "style": "light"
          },
          "paper_bgcolor": "white",
          "plot_bgcolor": "white",
          "polar": {
           "angularaxis": {
            "gridcolor": "#EBF0F8",
            "linecolor": "#EBF0F8",
            "ticks": ""
           },
           "bgcolor": "white",
           "radialaxis": {
            "gridcolor": "#EBF0F8",
            "linecolor": "#EBF0F8",
            "ticks": ""
           }
          },
          "scene": {
           "xaxis": {
            "backgroundcolor": "white",
            "gridcolor": "#DFE8F3",
            "gridwidth": 2,
            "linecolor": "#EBF0F8",
            "showbackground": true,
            "ticks": "",
            "zerolinecolor": "#EBF0F8"
           },
           "yaxis": {
            "backgroundcolor": "white",
            "gridcolor": "#DFE8F3",
            "gridwidth": 2,
            "linecolor": "#EBF0F8",
            "showbackground": true,
            "ticks": "",
            "zerolinecolor": "#EBF0F8"
           },
           "zaxis": {
            "backgroundcolor": "white",
            "gridcolor": "#DFE8F3",
            "gridwidth": 2,
            "linecolor": "#EBF0F8",
            "showbackground": true,
            "ticks": "",
            "zerolinecolor": "#EBF0F8"
           }
          },
          "shapedefaults": {
           "line": {
            "color": "#2a3f5f"
           }
          },
          "ternary": {
           "aaxis": {
            "gridcolor": "#DFE8F3",
            "linecolor": "#A2B1C6",
            "ticks": ""
           },
           "baxis": {
            "gridcolor": "#DFE8F3",
            "linecolor": "#A2B1C6",
            "ticks": ""
           },
           "bgcolor": "white",
           "caxis": {
            "gridcolor": "#DFE8F3",
            "linecolor": "#A2B1C6",
            "ticks": ""
           }
          },
          "title": {
           "x": 0.05
          },
          "xaxis": {
           "automargin": true,
           "gridcolor": "#EBF0F8",
           "linecolor": "#EBF0F8",
           "ticks": "",
           "title": {
            "standoff": 15
           },
           "zerolinecolor": "#EBF0F8",
           "zerolinewidth": 2
          },
          "yaxis": {
           "automargin": true,
           "gridcolor": "#EBF0F8",
           "linecolor": "#EBF0F8",
           "ticks": "",
           "title": {
            "standoff": 15
           },
           "zerolinecolor": "#EBF0F8",
           "zerolinewidth": 2
          }
         }
        },
        "title": {
         "text": "<b>#6|IV|</b>005-02_32-31-34-33|R<sub>fit</sub>: 567.9310 Ω"
        },
        "width": 800,
        "xaxis": {
         "title": {
          "text": "appl_current (A)"
         }
        },
        "yaxis": {
         "title": {
          "text": "meas_voltage_K1 (V)"
         }
        },
        "yaxis2": {
         "overlaying": "y",
         "side": "right",
         "title": {
          "text": "dV_dI (Ω)"
         }
        }
       }
      }
     },
     "metadata": {},
     "output_type": "display_data"
    }
   ],
   "source": [
    "plot_combined_iv_dvdi(6)"
   ]
  },
  {
   "cell_type": "code",
   "execution_count": null,
   "id": "d5cc1a43",
   "metadata": {},
   "outputs": [],
   "source": [
    "print(f\"R = {get_R_from_IV(dataid):.4f}\")"
   ]
  },
  {
   "cell_type": "code",
   "execution_count": null,
   "id": "94d8b3fa",
   "metadata": {},
   "outputs": [],
   "source": [
    "I_range=0.1e-6\n",
    "K2440.output(1)\n",
    "appl_current(-I_range) #Limit:1e-5 Amp(1MOhms risistor),1e-6 Amp(10MOhms risistor)\n",
    "sleep(2)\n",
    "# station.snapshot(update=True);\n",
    "exp = qc.new_experiment('I-V', sample_name='003-02_09-10-14-13')\n",
    "dataid = do1d(appl_current, -I_range ,I_range, 101, 0.03, meas_voltage_K1)\n",
    "appl_current(0)\n",
    "K2440.output(0)\n",
    "print(f\"R = {get_R_from_IV(dataid)}\")\n",
    "IV(dataid)\n",
    "IV_diff(dataid)"
   ]
  },
  {
   "cell_type": "code",
   "execution_count": null,
   "id": "2b1fcecf",
   "metadata": {},
   "outputs": [],
   "source": [
    "IV(4)"
   ]
  },
  {
   "cell_type": "code",
   "execution_count": null,
   "id": "ee32ef77",
   "metadata": {},
   "outputs": [],
   "source": [
    "get_R_from_IV(dataid)"
   ]
  },
  {
   "cell_type": "code",
   "execution_count": null,
   "id": "ae71124e",
   "metadata": {},
   "outputs": [],
   "source": [
    "dataset = qc.load_by_id(dataid)\n",
    "get_R_from_IV(dataid)\n",
    "IV(dataid)\n",
    "IV_diff(dataid)"
   ]
  },
  {
   "cell_type": "code",
   "execution_count": null,
   "id": "795c08e0",
   "metadata": {},
   "outputs": [],
   "source": [
    "import plotly.graph_objs as go"
   ]
  },
  {
   "cell_type": "code",
   "execution_count": null,
   "id": "ea6a7850",
   "metadata": {},
   "outputs": [],
   "source": []
  },
  {
   "cell_type": "code",
   "execution_count": null,
   "id": "9ca53ea4",
   "metadata": {},
   "outputs": [],
   "source": [
    "for i in tqdm(range(1000)):\n",
    "    K2440.output(1)\n",
    "    I_range=1e-6\n",
    "    appl_current(-I_range) #Limit:1e-5 Amp(1MOhms risistor),1e-6 Amp(10MOhms risistor)\n",
    "    sleep(0.001)\n",
    "    # station.snapshot(update=True);\n",
    "    exp = qc.new_experiment('I-V', sample_name=f'103-03_J1_33-32-30-31_1M_F{i+1}')\n",
    "    dataid = do1d(appl_current, -I_range ,I_range, 101, 0.0001, meas_voltage_K2, meas_voltage_AC_L1,meas_voltage_AC_L1_P)\n",
    "    exp = qc.new_experiment('I-V', sample_name=f'103-03_J1_33-32-30-31_1M_B{i+1}')\n",
    "    dataid = do1d(appl_current, I_range ,-I_range, 101, 0.0001, meas_voltage_K2)\n",
    "    K2440.output(0)\n",
    "    clear_output(True)"
   ]
  },
  {
   "cell_type": "code",
   "execution_count": null,
   "id": "ffc1e4dd",
   "metadata": {},
   "outputs": [],
   "source": [
    "get_Mag()"
   ]
  },
  {
   "cell_type": "code",
   "execution_count": null,
   "id": "2908c940",
   "metadata": {},
   "outputs": [],
   "source": [
    "SGS.off()"
   ]
  },
  {
   "cell_type": "code",
   "execution_count": null,
   "id": "d82eb13a",
   "metadata": {},
   "outputs": [],
   "source": [
    "SGS.power(0)"
   ]
  },
  {
   "cell_type": "code",
   "execution_count": null,
   "id": "242d95fc",
   "metadata": {},
   "outputs": [],
   "source": [
    "DMM6500.averaging_count(5)\n",
    "DMM6500.averaging_enabled(True)"
   ]
  },
  {
   "cell_type": "code",
   "execution_count": null,
   "id": "e0c518ad",
   "metadata": {},
   "outputs": [],
   "source": [
    "for i in tqdm(range(21)):\n",
    "    I_range = round(round(0.55 + 5*i * 1e-4, 6)* 1e-6, 10)  # Round to 3 decimal places\n",
    "    print(I_range)\n"
   ]
  },
  {
   "cell_type": "code",
   "execution_count": null,
   "id": "78e3e90f",
   "metadata": {},
   "outputs": [],
   "source": []
  },
  {
   "cell_type": "code",
   "execution_count": null,
   "id": "0999a81b",
   "metadata": {},
   "outputs": [],
   "source": [
    "for i in tqdm(range(21)):\n",
    "    K2440.output(1)\n",
    "    I_range = round(round(0.55 + 5*i * 1e-4, 6)* 1e-6, 10) \n",
    "    appl_current(-I_range) #Limit:1e-5 Amp(1MOhms risistor),1e-6 Amp(10MOhms risistor)\n",
    "    sleep(2)\n",
    "    # station.snapshot(update=True);\n",
    "    exp = qc.new_experiment('I-V', sample_name=f'103-04_J1_24-25-05-04(06-07G)_1M_By@0mT_{-I_range}_201')\n",
    "    dataid = do1d(appl_current, -I_range ,I_range, 201, 0.00001, meas_voltage_K2)\n",
    "\n",
    "    appl_current(0)\n",
    "    K2440.output(0)\n",
    "\n",
    "\n",
    "    plot_by_id(dataid)\n",
    "    save_path = r\"D:\\data\\Albert\\103\\Plot\\104_{}.png\".format(dataid)  # Path to save the plot image\n",
    "    autosave_plot_by_id(dataid, save_path)\n",
    "    print(f\"ID:{dataid}\")\n",
    "    print(f\"R = {get_R_from_IV_2(dataid)}\")\n",
    "    dataset = qc.load_by_id(dataid)\n",
    "    IV(id=dataid)\n",
    "    IV_diff(id=dataid)"
   ]
  },
  {
   "cell_type": "code",
   "execution_count": null,
   "id": "e9ac98ca",
   "metadata": {},
   "outputs": [],
   "source": [
    "DMM6500.averaging_count(5)\n",
    "DMM6500.averaging_enabled(True)"
   ]
  },
  {
   "cell_type": "code",
   "execution_count": null,
   "id": "ad55deb3",
   "metadata": {},
   "outputs": [],
   "source": [
    "K2440.output(1)\n",
    "I_range = -6e-6\n",
    "appl_current(-I_range) #Limit:1e-5 Amp(1MOhms risistor),1e-6 Amp(10MOhms risistor)\n",
    "sleep(2)\n",
    "# station.snapshot(update=True);\n",
    "exp = qc.new_experiment('I-V', sample_name=f'103-03_J2_27-26-30-31M(32G-33G-28G-29G)_1M_By@0.1mT{-I_range}')\n",
    "dataid = do1d(appl_current, -I_range  ,I_range , 2601, 0.00001, meas_voltage_K2)\n",
    "appl_current(0)\n",
    "K2440.output(0)\n",
    "plot_by_id(dataid)\n",
    "save_path = r\"D:\\data\\Albert\\103\\Plot\\104_{}.png\".format(dataid)  # Path to save the plot image\n",
    "autosave_plot_by_id(dataid, save_path)\n",
    "print(f\"R = {get_R_from_IV_2(dataid)}\")\n",
    "dataset = qc.load_by_id(dataid)"
   ]
  },
  {
   "cell_type": "code",
   "execution_count": null,
   "id": "2b0e1832",
   "metadata": {},
   "outputs": [],
   "source": [
    "K2440.output(1)\n",
    "I_range = 6e-6\n",
    "appl_current(-I_range) #Limit:1e-5 Amp(1MOhms risistor),1e-6 Amp(10MOhms risistor)\n",
    "sleep(2)\n",
    "# station.snapshot(update=True);\n",
    "exp = qc.new_experiment('I-V', sample_name=f'103-03_J2_27-26-30-31M(32G-33G-28G-29G)_1M_By@0.1mT{-I_range}')\n",
    "dataid = do1d(appl_current, -I_range  ,I_range , 2601, 0.00001, meas_voltage_K2)\n",
    "appl_current(0)\n",
    "K2440.output(0)\n",
    "plot_by_id(dataid)\n",
    "save_path = r\"D:\\data\\Albert\\103\\Plot\\104_{}.png\".format(dataid)  # Path to save the plot image\n",
    "autosave_plot_by_id(dataid, save_path)\n",
    "print(f\"ID:{dataid}\")\n",
    "print(f\"R = {get_R_from_IV_2(dataid)}\")\n",
    "dataset = qc.load_by_id(dataid)\n",
    "# IV(id=dataid)\n",
    "# IV_diff(id=dataid)"
   ]
  },
  {
   "cell_type": "code",
   "execution_count": null,
   "id": "e90dc212",
   "metadata": {},
   "outputs": [],
   "source": [
    "25-05-06-07(04-24G)\n"
   ]
  },
  {
   "cell_type": "code",
   "execution_count": null,
   "id": "5c79e45a",
   "metadata": {},
   "outputs": [],
   "source": [
    "K2440.output(1)\n",
    "I_range=-7e-6\n",
    "appl_current(-I_range) #Limit:1e-5 Amp(1MOhms risistor),1e-6 Amp(10MOhms risistor)\n",
    "sleep(2)\n",
    "# station.snapshot(update=True);\n",
    "exp = qc.new_experiment('I-V', sample_name='103-03_J2_32-30-26-27_1M_By@0mT')\n",
    "dataid = do1d(appl_current, -I_range ,I_range, 1401, 0.0001, meas_voltage_K2)\n",
    "\n",
    "appl_current(0)\n",
    "K2440.output(0)\n",
    "\n",
    "\n",
    "plot_by_id(dataid)\n",
    "save_path = r\"D:\\data\\Albert\\103\\Plot\\104_{}.png\".format(dataid)  # Path to save the plot image\n",
    "autosave_plot_by_id(dataid, save_path)\n",
    "print(f\"ID:{dataid}\")\n",
    "print(f\"R = {get_R_from_IV_2(dataid)}\")\n",
    "dataset = qc.load_by_id(dataid)\n",
    "IV(id=dataid)\n",
    "IV_diff(id=dataid)"
   ]
  },
  {
   "cell_type": "code",
   "execution_count": null,
   "id": "8666f593",
   "metadata": {},
   "outputs": [],
   "source": [
    "K2440.output(1)\n",
    "I_range=7e-6\n",
    "appl_current(-I_range) #Limit:1e-5 Amp(1MOhms risistor),1e-6 Amp(10MOhms risistor)\n",
    "sleep(2)\n",
    "# station.snapshot(update=True);\n",
    "exp = qc.new_experiment('I-V', sample_name='103-03_J2_32-30-26-27_1M_By@0mT')\n",
    "dataid = do1d(appl_current, -I_range ,I_range, 1401, 0.0001, meas_voltage_K2)\n",
    "\n",
    "appl_current(0)\n",
    "K2440.output(0)\n",
    "\n",
    "\n",
    "plot_by_id(dataid)\n",
    "save_path = r\"D:\\data\\Albert\\103\\Plot\\104_{}.png\".format(dataid)  # Path to save the plot image\n",
    "autosave_plot_by_id(dataid, save_path)\n",
    "print(f\"ID:{dataid}\")\n",
    "print(f\"R = {get_R_from_IV_2(dataid)}\")\n",
    "dataset = qc.load_by_id(dataid)\n",
    "IV(id=dataid)\n",
    "IV_diff(id=dataid)"
   ]
  },
  {
   "cell_type": "code",
   "execution_count": null,
   "id": "4ce7045d",
   "metadata": {},
   "outputs": [],
   "source": [
    "# Set current to 0\n",
    "K2440.output(0)\n",
    "appl_current(0e-6)"
   ]
  },
  {
   "cell_type": "code",
   "execution_count": null,
   "id": "749b64e4",
   "metadata": {},
   "outputs": [],
   "source": [
    "K2440.output(1)\n",
    "appl_current(0.1e-7)"
   ]
  },
  {
   "cell_type": "code",
   "execution_count": null,
   "id": "9f4da299",
   "metadata": {
    "scrolled": true
   },
   "outputs": [],
   "source": [
    "runid=6\n",
    "print(get_R_from_IV_2(runid))"
   ]
  },
  {
   "cell_type": "markdown",
   "id": "3196b90e",
   "metadata": {},
   "source": [
    "## 加TG (1D)"
   ]
  },
  {
   "cell_type": "code",
   "execution_count": null,
   "id": "08a5e298",
   "metadata": {},
   "outputs": [],
   "source": [
    "K2440.output(1)\n",
    "appl_TG(0)"
   ]
  },
  {
   "cell_type": "code",
   "execution_count": null,
   "id": "a6f95af5",
   "metadata": {},
   "outputs": [],
   "source": [
    "K2440.output(1)\n",
    "K2440.output(1)\n",
    "appl_TG(-50)\n",
    "sleep(3)\n",
    "appl_current(-1.5e-8)\n",
    "sleep(1)\n",
    "\n",
    "# station.snapshot(update=True);\n",
    "exp = qc.new_experiment('IV', sample_name='TG21')\n",
    "\n",
    "#do1d(param_set, start, stop, num_points, delay, *param_meas)\n",
    "dataid = do1d(appl_current, -1.5e-8 ,1.5e-8, 101, 0.05, meas_voltage_K2)\n",
    "# dataid = do1d(appl_current, 6e-6 , -6e-6, 251, 0.01, meas_voltage_K1)\n",
    "# ivvi.set_dacs_zero()\n",
    "\n",
    "K2440.output(0)\n",
    "K2440.output(0)\n",
    "appl_current(0)\n",
    "plot_by_id(dataid)\n",
    "#print(get_R_from_IV(dataid))\n",
    "# print(get_R_from_IV_2(dataid))\n"
   ]
  },
  {
   "cell_type": "markdown",
   "id": "05b0d19b",
   "metadata": {},
   "source": [
    "## 歸零\n"
   ]
  },
  {
   "cell_type": "code",
   "execution_count": null,
   "id": "d8154670",
   "metadata": {},
   "outputs": [],
   "source": [
    "#K2440.output(1)\n",
    "K2440.output(1)\n",
    "\n",
    "appl_current(0)\n",
    "sleep(1)\n",
    "#appl_TG(0)\n",
    "sleep(5)\n",
    "\n",
    "#K2440.output(0)\n",
    "K2440.output(0)"
   ]
  },
  {
   "cell_type": "markdown",
   "id": "91795bf5",
   "metadata": {},
   "source": [
    "# Magnetic field"
   ]
  },
  {
   "cell_type": "markdown",
   "id": "c1b88abd",
   "metadata": {},
   "source": [
    "## IV vs Bx"
   ]
  },
  {
   "cell_type": "code",
   "execution_count": null,
   "id": "77c31bf1",
   "metadata": {},
   "outputs": [],
   "source": [
    "K2440.rangev()"
   ]
  },
  {
   "cell_type": "code",
   "execution_count": null,
   "id": "ea5d8a7d",
   "metadata": {},
   "outputs": [],
   "source": [
    "K2440.volt(0)\n",
    "K2440.output(1) #output off\n",
    "sleep(1)\n",
    "appl_current(1.5e-7)\n",
    "sleep(2)\n",
    "meas_voltage_K2()"
   ]
  },
  {
   "cell_type": "code",
   "execution_count": null,
   "id": "e083479a",
   "metadata": {},
   "outputs": [],
   "source": [
    "sleep(120)"
   ]
  },
  {
   "cell_type": "code",
   "execution_count": null,
   "id": "6c69dc40",
   "metadata": {},
   "outputs": [],
   "source": [
    "def get_Mag(show=True):\n",
    "    Mag_x = magnet_x.field()\n",
    "    Mag_y = magnet_y.field()\n",
    "    Mag_z = magnet_z.field()\n",
    "    if show:\n",
    "        print(f\"Mag_x: {Mag_x*1e3:.6f} mT\")\n",
    "        print(f\"Mag_y: {Mag_y*1e3:.6f} mT\")\n",
    "        print(f\"Mag_z: {Mag_z*1e3:.6f} mT\")\n",
    "    else: \n",
    "        return Mag_x, Mag_y, Mag_z\n",
    "get_Mag()"
   ]
  },
  {
   "cell_type": "code",
   "execution_count": null,
   "id": "582ee743",
   "metadata": {},
   "outputs": [],
   "source": [
    "get_Mag()"
   ]
  },
  {
   "cell_type": "code",
   "execution_count": null,
   "id": "9634bb97",
   "metadata": {},
   "outputs": [],
   "source": [
    "magnet_y.field()"
   ]
  },
  {
   "cell_type": "code",
   "execution_count": null,
   "id": "add54ae7",
   "metadata": {},
   "outputs": [],
   "source": [
    "for i in tqdm(range(23), desc=\"First loop\"):\n",
    "    value = (25 - i) * 1e-3 \n",
    "    value = float(f\"{value:.10f}\")\n",
    "    print(value)"
   ]
  },
  {
   "cell_type": "code",
   "execution_count": null,
   "id": "04c8a1e5",
   "metadata": {},
   "outputs": [],
   "source": [
    "from tqdm import tqdm\n",
    "import time\n",
    "\n",
    "from IPython.display import clear_output\n",
    "# First loop\n",
    "for i in tqdm(range(6), desc=\"First loop\"):\n",
    "    Mag_x = magnet_x.field()\n",
    "    value = (15 + i) * 1e-3\n",
    "    value = float(f\"{value:.10f}\")\n",
    "    magnet_x.field(value)\n",
    "    print(f\"magnet_x is {Mag_x:.8f} T\")\n",
    "    time.sleep(15)\n",
    "    clear_output(True)\n",
    "\n",
    "# Pause for 30 seconds\n",
    "time.sleep(60)\n",
    "\n",
    "# Second loop\n",
    "for i in tqdm(range(23), desc=\"First loop\"):\n",
    "    Mag_x = magnet_x.field()\n",
    "    value = (25 - i) * 1e-3 \n",
    "    value = float(f\"{value:.10f}\")\n",
    "    magnet_x.field(value)\n",
    "    print(f\"magnet_x is {Mag_x:.8f} T\")\n",
    "    time.sleep(15)\n",
    "    clear_output(True)\n",
    "\n",
    "# Pause for 180 seconds\n",
    "time.sleep(300)"
   ]
  },
  {
   "cell_type": "code",
   "execution_count": null,
   "id": "fc3e418b",
   "metadata": {},
   "outputs": [],
   "source": [
    "magnet_x.field(-20)"
   ]
  },
  {
   "cell_type": "code",
   "execution_count": null,
   "id": "07666294",
   "metadata": {},
   "outputs": [],
   "source": [
    "Mag = -20e-3\n",
    "I_range=2.5e-6\n",
    "K2440.output(1)\n",
    "sleep(2)\n",
    "magnet_x.field(Mag)\n",
    "sleep(10)\n",
    "appl_current(-I_range)\n",
    "sleep(3)\n",
    "direction = 'backward' if Mag > 0 else 'forward'\n",
    "\n",
    "\n",
    "# station.snapshot(update=True);\n",
    "exp = qc.new_experiment('IV vs Bx', sample_name=f'103-06_J2_12-13-18-19_1M_Bx_{direction}_By@0mT')\n",
    "\n",
    "dataid = do2d(magnet_x.field, Mag, -Mag, 76 , 0.7, appl_current, -I_range ,I_range, 101, 0.01, meas_voltage_K2)\n",
    "\n",
    "appl_current(0)\n",
    "K2440.output(0)\n",
    "# magnet_y.field(0)\n",
    "\n",
    "plot_by_id(dataid)\n",
    "autosave_plot_by_id(dataid, save_path)"
   ]
  },
  {
   "cell_type": "code",
   "execution_count": null,
   "id": "5f475874",
   "metadata": {},
   "outputs": [],
   "source": [
    "K2440.output(1)\n",
    "sleep(2)\n",
    "Mag = 10e-3\n",
    "I_range=2.5e-5\n",
    "\n",
    "magnet_x.field(Mag)\n",
    "sleep(30)\n",
    "appl_current(-I_range)\n",
    "sleep(3)\n",
    "direction = 'backward' if Mag > 0 else 'forward'\n",
    "\n",
    "\n",
    "# station.snapshot(update=True);\n",
    "\n",
    "exp = qc.new_experiment('IV vs Bx', sample_name=f'094-20IV_Bx_16-17-19-18_10M_{direction}')\n",
    "\n",
    "dataid = do2d(magnet_x.field, Mag, -Mag, 101 , 1.5, appl_current, -I_range ,I_range, 101, 0.05, meas_voltage_K2)#M:I Delay time 10:1\n",
    "\n",
    "\n",
    "appl_current(0)\n",
    "K2440.output(0)\n",
    "# magnet_x.field(0)\n",
    "\n",
    "plot_by_id(dataid)\n",
    "autosave_plot_by_id(dataid, save_path)"
   ]
  },
  {
   "cell_type": "code",
   "execution_count": null,
   "id": "bfdd8a07",
   "metadata": {},
   "outputs": [],
   "source": [
    "set_magnetic_field_stepwise(magnet=magnet_x, current_field=-40e-3, target_field=-18e-3, step_size=1e-3, delay=2.5)"
   ]
  },
  {
   "cell_type": "code",
   "execution_count": null,
   "id": "5eef089c",
   "metadata": {},
   "outputs": [],
   "source": [
    "def set_magnetic_field_stepwise(magnet=magnet_x, current_field=0, target_field=-10e-3, step_size=1e-3, delay=2.5):\n",
    "    \n",
    "    \"\"\"Set the magnetic field with anti-hysteresis mechanism witch will go to target magnetic field +/- 5mT, \n",
    "    if the target magnetic field is greater/less than the current magnetic field, \n",
    "    then slowly ramp back the magnetic field to the target magnetic field\n",
    "\n",
    "    Args:\n",
    "        magnet (_type_, optional): magnet_x,magnet_y,magnet_z. Defaults to magnet_x.\n",
    "        current_field (int, optional): _description_. Defaults to 0 T.\n",
    "        target_field (_type_, optional): _description_. Defaults to -10e-3 T.\n",
    "        step_size (_type_, optional): _description_. Defaults to 1e-3 T.\n",
    "        delay (float, optional): _description_. Defaults to 2 sec.\n",
    "    \n",
    "    \"\"\"\n",
    "    \n",
    "    from tqdm.notebook import tqdm\n",
    "    import math\n",
    "    # Calculate total steps for tqdm progress bar\n",
    "    total_steps = math.ceil(abs((target_field - current_field) / step_size)) * 2\n",
    "    progress_bar = tqdm(total=total_steps)\n",
    "\n",
    "    # Determine the intermediate target field\n",
    "    intermediate_target_field = target_field + 5e-3 if target_field > current_field else target_field - 5e-3\n",
    "    # Slowly ramp the magnetic field to the intermediate target field\n",
    "    while abs(intermediate_target_field - current_field) > step_size:\n",
    "        if intermediate_target_field > current_field:\n",
    "            current_field += step_size\n",
    "            magnet.field(current_field)\n",
    "        else:\n",
    "            current_field -= step_size\n",
    "            magnet.field(current_field)\n",
    "        time.sleep(delay)\n",
    "        progress_bar.update(1)  # Update progress bar\n",
    "    # Slowly ramp back the magnetic field to the target_field\n",
    "    while abs(target_field - current_field) > step_size:\n",
    "        if target_field > current_field:\n",
    "            current_field += step_size\n",
    "            magnet.field(current_field)\n",
    "        else:\n",
    "            current_field -= step_size\n",
    "            magnet.field(current_field)\n",
    "        time.sleep(delay)\n",
    "        progress_bar.update(1)  # Update progress bar\n",
    "    magnet.field(target_field)\n",
    "    progress_bar.n = total_steps  # Set progress bar to 100%\n",
    "    progress_bar.refresh()  # Refresh the progress bar to show the update\n",
    "    progress_bar.close()  # Close progress bar when done"
   ]
  },
  {
   "cell_type": "code",
   "execution_count": null,
   "id": "6d385381",
   "metadata": {},
   "outputs": [],
   "source": [
    "for i in range(6):\n",
    "    magnet_x.field((-10-i)*1e-3)\n",
    "    sleep(4)\n",
    "sleep(10)\n",
    "\n",
    "for i in range(16):\n",
    "    magnet_x.field((15+i)*1e-3)\n",
    "    sleep(4)\n",
    "sleep(10)"
   ]
  },
  {
   "cell_type": "code",
   "execution_count": null,
   "id": "83205742",
   "metadata": {},
   "outputs": [],
   "source": [
    "for i in range(25):\n",
    "    print(-24+i)"
   ]
  },
  {
   "cell_type": "code",
   "execution_count": null,
   "id": "fef193a7",
   "metadata": {},
   "outputs": [],
   "source": [
    "magnet_x.field(-19e-3)\n",
    "sleep(10)\n",
    "#magnet_x.field(e-3)\n",
    "#sleep(10)\n",
    "#magnet_x.field(12.8e-3)\n",
    "#sleep(10)"
   ]
  },
  {
   "cell_type": "markdown",
   "id": "6a6f3c0d",
   "metadata": {},
   "source": [
    "## IV vs By"
   ]
  },
  {
   "cell_type": "code",
   "execution_count": null,
   "id": "b823efb8",
   "metadata": {},
   "outputs": [],
   "source": [
    "get_Mag()"
   ]
  },
  {
   "cell_type": "code",
   "execution_count": null,
   "id": "9e236537",
   "metadata": {},
   "outputs": [],
   "source": [
    "magnet_y.field(0e-3)"
   ]
  },
  {
   "cell_type": "code",
   "execution_count": null,
   "id": "b4e8ec13",
   "metadata": {},
   "outputs": [],
   "source": [
    "for i in tqdm(range(21), desc=\"2nd loop\"):\n",
    "    \n",
    "    value = (-10 + i*0.5) * 1e-3 \n",
    "    value = float(f\"{value:.10f}\")\n",
    "    magnet_y.field(value)\n",
    "    get_Mag()\n",
    "    time.sleep(15)\n",
    "    clear_output(True)"
   ]
  },
  {
   "cell_type": "code",
   "execution_count": null,
   "id": "5dce7f89",
   "metadata": {},
   "outputs": [],
   "source": [
    "\n",
    "# First loop\n",
    "for i in tqdm(range(11), desc=\"First loop\"):\n",
    "    \n",
    "    value = (5 +i) * 1e-3\n",
    "    value = float(f\"{value:.10f}\")\n",
    "    magnet_y.field(value)\n",
    "    get_Mag()\n",
    "    time.sleep(15)\n",
    "    clear_output(True)\n",
    "\n",
    "# Pause for 30 seconds\n",
    "time.sleep(60)\n",
    "\n",
    "# Second loop\n",
    "for i in tqdm(range(11), desc=\"2nd loop\"):\n",
    "    \n",
    "    value = (-10 + i) * 1e-3 \n",
    "    value = float(f\"{value:.10f}\")\n",
    "    magnet_y.field(value)\n",
    "    get_Mag()\n",
    "    time.sleep(15)\n",
    "    clear_output(True)\n",
    "# Pause for 180 seconds\n",
    "time.sleep(300)"
   ]
  },
  {
   "cell_type": "code",
   "execution_count": null,
   "id": "46dc421a",
   "metadata": {},
   "outputs": [],
   "source": [
    "magnet_y.field()"
   ]
  },
  {
   "cell_type": "code",
   "execution_count": null,
   "id": "3a7fb763",
   "metadata": {},
   "outputs": [],
   "source": [
    "Mag =5e-3\n",
    "I_range=0.6e-6\n",
    "K2440.output(1)\n",
    "sleep(2)\n",
    "magnet_y.field(Mag)\n",
    "sleep(10)\n",
    "appl_current(-I_range)\n",
    "sleep(3)\n",
    "direction = 'backward' if Mag > 0 else 'forward'\n",
    "\n",
    "\n",
    "# station.snapshot(update=True);\n",
    "exp = qc.new_experiment('IV vs By', sample_name=f'103-03_J2_27-26-30-31M(32G-33G-28G-29G)_1M_By_{direction}_{-I_range}')\n",
    "\n",
    "dataid = do2d(magnet_y.field, Mag, -Mag, 201 , 0.5, appl_current, -I_range ,I_range,  201, 0.0001, meas_voltage_K2)\n",
    "\n",
    "appl_current(0)\n",
    "K2440.output(0)\n",
    "# magnet_y.field(0)\n",
    "\n",
    "plot_by_id(dataid)\n",
    "autosave_plot_by_id(dataid, save_path)"
   ]
  },
  {
   "cell_type": "code",
   "execution_count": null,
   "id": "a9c30858",
   "metadata": {},
   "outputs": [],
   "source": [
    "Mag =-5e-3\n",
    "I_range=5e-6\n",
    "K2440.output(1)\n",
    "sleep(2)\n",
    "magnet_y.field(Mag)\n",
    "sleep(10)\n",
    "appl_current(-I_range)\n",
    "sleep(3)\n",
    "direction = 'backward' if Mag > 0 else 'forward'\n",
    "\n",
    "\n",
    "# station.snapshot(update=True);\n",
    "exp = qc.new_experiment('IV vs By', sample_name=f'103-03_J2_27-26-30-31M(32G-33G-28G-29G)_1M_By_{direction}_{-I_range}')\n",
    "\n",
    "dataid = do2d(magnet_y.field, Mag, -Mag, 201 , 0.5, appl_current, -I_range ,I_range,  201, 0.0001, meas_voltage_K2)\n",
    "\n",
    "appl_current(0)\n",
    "K2440.output(0)\n",
    "# magnet_y.field(0)\n",
    "\n",
    "plot_by_id(dataid)\n",
    "autosave_plot_by_id(dataid, save_path)"
   ]
  },
  {
   "cell_type": "code",
   "execution_count": null,
   "id": "8ba8b69c",
   "metadata": {},
   "outputs": [],
   "source": [
    "32-"
   ]
  },
  {
   "cell_type": "code",
   "execution_count": null,
   "id": "7c2e8f1b",
   "metadata": {},
   "outputs": [],
   "source": [
    "\n",
    "# First loop\n",
    "for i in tqdm(range(6), desc=\"First loop\"):\n",
    "    Mag_x = magnet_y.field()\n",
    "    value = (1.5 +i) * 1e-3\n",
    "    value = float(f\"{value:.10f}\")\n",
    "    magnet_y.field(value)\n",
    "    print(f\"magnet_y is {Mag_x:.8f} T\")\n",
    "    time.sleep(15)\n",
    "    clear_output(True)\n",
    "\n",
    "# Pause for 30 seconds\n",
    "time.sleep(60)\n",
    "\n",
    "# Second loop\n",
    "for i in tqdm(range(6), desc=\"2nd loop\"):\n",
    "    Mag_x = magnet_y.field()\n",
    "    value = (6.5 - i) * 1e-3 \n",
    "    value = float(f\"{value:.10f}\")\n",
    "    magnet_y.field(value)\n",
    "    print(f\"magnet_y is {Mag_x:.8f} T\")\n",
    "    time.sleep(15)\n",
    "    clear_output(True)\n",
    "\n",
    "# Pause for 180 seconds\n",
    "time.sleep(300)"
   ]
  },
  {
   "cell_type": "code",
   "execution_count": null,
   "id": "8d736f1b",
   "metadata": {},
   "outputs": [],
   "source": [
    "Mag = 1.5e-3\n",
    "I_range=2.5e-6\n",
    "K2440.output(1)\n",
    "sleep(2)\n",
    "magnet_y.field(Mag)\n",
    "sleep(10)\n",
    "appl_current(-I_range)\n",
    "sleep(3)\n",
    "direction = 'backward' if Mag > 0 else 'forward'\n",
    "\n",
    "\n",
    "# station.snapshot(update=True);\n",
    "exp = qc.new_experiment('IV vs By', sample_name=f'103-06_J2_12-13-18-19_1M_By_{direction}_Bx@3mT')\n",
    "\n",
    "dataid = do2d(magnet_y.field, Mag, -Mag, 1001 , 0.4, appl_current, -I_range ,I_range, 151, 0.01, meas_voltage_K2)\n",
    "\n",
    "appl_current(0)\n",
    "K2440.output(0)\n",
    "# magnet_y.field(0)\n",
    "\n",
    "plot_by_id(dataid)\n",
    "autosave_plot_by_id(dataid, save_path)"
   ]
  },
  {
   "cell_type": "code",
   "execution_count": null,
   "id": "43eb5eb6",
   "metadata": {},
   "outputs": [],
   "source": [
    "Mag()"
   ]
  },
  {
   "cell_type": "code",
   "execution_count": null,
   "id": "721c43a1",
   "metadata": {},
   "outputs": [],
   "source": [
    "Mag = 1.5e-3\n",
    "I_range=1e-6\n",
    "K2440.output(1)\n",
    "sleep(2)\n",
    "magnet_y.field(Mag)\n",
    "sleep(10)\n",
    "appl_current(-I_range)\n",
    "sleep(3)\n",
    "direction = 'backward' if Mag > 0 else 'forward'\n",
    "\n",
    "\n",
    "# station.snapshot(update=True);\n",
    "exp = qc.new_experiment('IV vs By', sample_name=f'103-01_J1_21-20-23-22_1M_By_{direction}_Bx@0mT')\n",
    "\n",
    "dataid = do2d(magnet_y.field, Mag, -Mag, 151 , 0.9, appl_current, -I_range ,I_range, 201, 0.01, meas_voltage_K2)\n",
    "\n",
    "appl_current(0)\n",
    "K2440.output(0)\n",
    "# magnet_y.field(0)\n",
    "\n",
    "plot_by_id(dataid)\n",
    "autosave_plot_by_id(dataid, save_path)"
   ]
  },
  {
   "cell_type": "code",
   "execution_count": null,
   "id": "dadb617e",
   "metadata": {},
   "outputs": [],
   "source": [
    "from tqdm import tqdm\n",
    "import time\n",
    "\n",
    "# First loop\n",
    "for i in tqdm(range(6), desc=\"First loop\"):\n",
    "    value = (1.5 + i) * 1e-3 \n",
    "    magnet_y.field(value)\n",
    "    print(f\"magnet_y is {value:.8f} T\")\n",
    "    time.sleep(10)\n",
    "\n",
    "# Pause for 30 seconds\n",
    "time.sleep(30)\n",
    "\n",
    "# Second loop\n",
    "for i in tqdm(range(8), desc=\"First loop\"):\n",
    "    value = (7 - i) * 1e-3 \n",
    "    magnet_y.field(value)\n",
    "    print(f\"magnet_y is {value:.8f} T\")\n",
    "    time.sleep(10)\n",
    "\n",
    "# Pause for 180 seconds\n",
    "time.sleep(300)\n"
   ]
  },
  {
   "cell_type": "code",
   "execution_count": null,
   "id": "cceb780f",
   "metadata": {},
   "outputs": [],
   "source": [
    "def combined_loop(start=0, end=5 ):\n",
    "  for i in tqdm(range((end-start)+6), desc=\"First loop\"):\n",
    "    value = start + i\n",
    "    print(f\"{value* 1e-3:.5f}\")\n",
    "\n",
    "  for i in tqdm(range(6), desc=\"Second loop\"):\n",
    "    value = end+5 - i\n",
    "    print(f\"{value* 1e-3:.5f}\")\n",
    "\n",
    "combined_loop()\n"
   ]
  },
  {
   "cell_type": "code",
   "execution_count": null,
   "id": "7963ad50",
   "metadata": {},
   "outputs": [],
   "source": [
    "Mag = 3e-3\n",
    "I_range=1e-6\n",
    "K2440.output(1)\n",
    "sleep(2)\n",
    "magnet_y.field(Mag)\n",
    "sleep(10)\n",
    "appl_current(-I_range)\n",
    "sleep(3)\n",
    "direction = 'backward' if Mag > 0 else 'forward'\n",
    "\n",
    "\n",
    "# station.snapshot(update=True);\n",
    "exp = qc.new_experiment('IV vs By', sample_name=f'103-04_J2_04-05-06-07_1M_By_{direction}_Bx@0mT')\n",
    "\n",
    "dataid = do2d(magnet_y.field, Mag, -Mag, 101 , 1.5, appl_current, -I_range ,I_range, 101, 0.01, meas_voltage_K2)\n",
    "\n",
    "appl_current(0)\n",
    "K2440.output(0)\n",
    "# magnet_y.field(0)\n",
    "\n",
    "plot_by_id(dataid)\n",
    "autosave_plot_by_id(dataid, save_path)"
   ]
  },
  {
   "cell_type": "code",
   "execution_count": null,
   "id": "3d67f8ce",
   "metadata": {},
   "outputs": [],
   "source": [
    "from tqdm import tqdm\n",
    "import time\n",
    "\n",
    "# First loop\n",
    "for i in tqdm(range(6), desc=\"First loop\"):\n",
    "    magnet_y.field((-3 - i) * 1e-3)\n",
    "    time.sleep(15)\n",
    "\n",
    "# Pause for 30 seconds\n",
    "time.sleep(30)\n",
    "\n",
    "# Second loop\n",
    "for i in tqdm(range(7), desc=\"Second loop\"):\n",
    "    magnet_y.field((-8 + i) * 1e-3)\n",
    "    time.sleep(15)\n",
    "\n",
    "# Pause for 180 seconds\n",
    "time.sleep(300)"
   ]
  },
  {
   "cell_type": "code",
   "execution_count": null,
   "id": "af9e2a73",
   "metadata": {},
   "outputs": [],
   "source": [
    "magnet_y.field(-1.5e-3)\n",
    "print(\"By at -1.5 mT\")"
   ]
  },
  {
   "cell_type": "code",
   "execution_count": null,
   "id": "214aa45a",
   "metadata": {},
   "outputs": [],
   "source": [
    "Mag = -3e-3\n",
    "I_range=1e-6\n",
    "K2440.output(1)\n",
    "sleep(2)\n",
    "magnet_y.field(Mag)\n",
    "sleep(10)\n",
    "appl_current(-I_range)\n",
    "sleep(3)\n",
    "direction = 'backward' if Mag > 0 else 'forward'\n",
    "\n",
    "\n",
    "# station.snapshot(update=True);\n",
    "exp = qc.new_experiment('IV vs By', sample_name=f'103-04_J2_04-05-06-07_1M_By_{direction}_Bx@0mT')\n",
    "\n",
    "dataid = do2d(magnet_y.field, Mag, -Mag, 501 , 1, appl_current, -I_range ,I_range, 251, 0.01, meas_voltage_K2)\n",
    "\n",
    "appl_current(0)\n",
    "K2440.output(0)\n",
    "# magnet_y.field(0)\n",
    "\n",
    "plot_by_id(dataid)\n",
    "autosave_plot_by_id(dataid, save_path)"
   ]
  },
  {
   "cell_type": "code",
   "execution_count": null,
   "id": "da9891fc",
   "metadata": {},
   "outputs": [],
   "source": [
    "from tqdm import tqdm\n",
    "import time\n",
    "\n",
    "# First loop\n",
    "for i in tqdm(range(6), desc=\"First loop\"):\n",
    "    magnet_y.field((3 + i) * 1e-3)\n",
    "    time.sleep(10)\n",
    "\n",
    "# Pause for 30 seconds\n",
    "time.sleep(30)\n",
    "\n",
    "# Second loop\n",
    "for i in tqdm(range(6), desc=\"Second loop\"):\n",
    "    magnet_y.field((8 - i) * 1e-3)\n",
    "    time.sleep(10)\n",
    "\n",
    "# Pause for 180 seconds\n",
    "time.sleep(300)"
   ]
  },
  {
   "cell_type": "code",
   "execution_count": null,
   "id": "8c1e92c1",
   "metadata": {},
   "outputs": [],
   "source": [
    "Mag = 3e-3\n",
    "I_range=1e-6\n",
    "K2440.output(1)\n",
    "sleep(2)\n",
    "magnet_y.field(Mag)\n",
    "sleep(10)\n",
    "appl_current(-I_range)\n",
    "sleep(3)\n",
    "direction = 'backward' if Mag > 0 else 'forward'\n",
    "\n",
    "\n",
    "# station.snapshot(update=True);\n",
    "exp = qc.new_experiment('IV vs By', sample_name=f'103-04_J2_04-05-06-07_1M_By_{direction}_Bx@0mT')\n",
    "\n",
    "dataid = do2d(magnet_y.field, Mag, -Mag, 501 , 1, appl_current, -I_range ,I_range, 251, 0.01, meas_voltage_K2)\n",
    "\n",
    "appl_current(0)\n",
    "K2440.output(0)\n",
    "# magnet_y.field(0)\n",
    "\n",
    "plot_by_id(dataid)\n",
    "autosave_plot_by_id(dataid, save_path)"
   ]
  },
  {
   "cell_type": "code",
   "execution_count": null,
   "id": "5208f447",
   "metadata": {},
   "outputs": [],
   "source": [
    "magnet_y.field(5e-3)"
   ]
  },
  {
   "cell_type": "code",
   "execution_count": null,
   "id": "3e408864",
   "metadata": {},
   "outputs": [],
   "source": [
    "for i in range(9):\n",
    "    magnet_y.field((0+i)*1e-3)\n",
    "    sleep(4)\n",
    "sleep(10)\n",
    "\n",
    "for i in range(6):\n",
    "    magnet_y.field((8-i)*1e-3)\n",
    "    sleep(4)\n",
    "\n",
    "sleep(60)\n",
    "# magnet_y.field(21.5e-3)\n",
    "sleep(60)\n",
    "#magnet_y.field(0.48e-3)\n",
    "#sleep(5)"
   ]
  },
  {
   "cell_type": "code",
   "execution_count": null,
   "id": "2eb14a5d",
   "metadata": {},
   "outputs": [],
   "source": [
    "for i in range(4):\n",
    "    print(8-i)"
   ]
  },
  {
   "cell_type": "code",
   "execution_count": null,
   "id": "a1ebeefb",
   "metadata": {},
   "outputs": [],
   "source": [
    "K2440.output(1)\n",
    "sleep(2)\n",
    "Mag = -40e-3\n",
    "I_range=2e-8\n",
    "\n",
    "magnet_y.field(Mag)\n",
    "sleep(10)\n",
    "appl_current(-I_range)\n",
    "sleep(3)\n",
    "direction = 'backward' if Mag > 0 else 'forward'\n",
    "\n",
    "\n",
    "# station.snapshot(update=True);\n",
    "\n",
    "exp = qc.new_experiment('IV vs By', sample_name=f'094-20IV_By_16-17-19-18_10M_{direction}_Bx@-18.5mT')\n",
    "\n",
    "dataid = do2d(magnet_y.field, Mag, -Mag, 601 , 2, appl_current, -I_range ,I_range, 201, 0.1, meas_voltage_K2)\n",
    "\n",
    "\n",
    "appl_current(0)\n",
    "K2440.output(0)\n",
    "# magnet_y.field(0)\n",
    "\n",
    "plot_by_id(dataid)\n",
    "autosave_plot_by_id(dataid, save_path)"
   ]
  },
  {
   "cell_type": "code",
   "execution_count": null,
   "id": "effdb8bf",
   "metadata": {},
   "outputs": [],
   "source": [
    "for i in range(24):\n",
    "    print(45-i)"
   ]
  },
  {
   "cell_type": "code",
   "execution_count": null,
   "id": "4b523a44",
   "metadata": {},
   "outputs": [],
   "source": []
  },
  {
   "cell_type": "markdown",
   "id": "7dce8613",
   "metadata": {},
   "source": [
    "## IV vs Bz"
   ]
  },
  {
   "cell_type": "code",
   "execution_count": null,
   "id": "a4e6e5f7",
   "metadata": {
    "scrolled": true
   },
   "outputs": [],
   "source": [
    "K2440.output(1)\n",
    "sleep(2)\n",
    "magnet_z.field(-80e-3)\n",
    "sleep(60)\n",
    "appl_current(-2e-7)\n",
    "sleep(5)\n",
    "\n",
    "# station.snapshot(update=True);\n",
    "\n",
    "exp = qc.new_experiment('IV vs Bz', sample_name='IV_Bz_33_32_30_31_10M_forward')\n",
    "\n",
    "dataid = do2d(magnet_z.field,-80e-3,80e-3, 71 , 20, appl_current, -2e-7 ,2e-7, 101, 0.05, meas_voltage_K2)\n",
    "\n",
    "appl_current(0)\n",
    "\n",
    "K2440.output(0)\n",
    "# magnet_y.field(0)\n",
    "\n",
    "plot_by_id(dataid)"
   ]
  },
  {
   "cell_type": "code",
   "execution_count": null,
   "id": "e68136d1",
   "metadata": {},
   "outputs": [],
   "source": [
    "#magnet_z.field(20e-3)\n",
    "#sleep(5)\n",
    "magnet_z.field(-6.1e-3)\n",
    "sleep(5)"
   ]
  },
  {
   "cell_type": "code",
   "execution_count": null,
   "id": "571645ac",
   "metadata": {},
   "outputs": [],
   "source": []
  },
  {
   "cell_type": "markdown",
   "id": "02c81568",
   "metadata": {},
   "source": [
    "## IV w/ Bx"
   ]
  },
  {
   "cell_type": "code",
   "execution_count": null,
   "id": "b5229271",
   "metadata": {},
   "outputs": [],
   "source": [
    "K2440.output(1)\n",
    "sleep(2)\n",
    "magnet_x.field(0.23e-3)\n",
    "appl_current(-0.5e-6)\n",
    "sleep(10)\n",
    "\n",
    "# station.snapshot(update=True);\n",
    "exp = qc.new_experiment('I vs V', sample_name='IV_w/_Bx')\n",
    "\n",
    "#do1d(param_set, start, stop, num_points, delay, *param_meas)\n",
    "dataid = do1d(appl_current, -0.5e-6 ,0.5e-6, 101, 0.05, meas_voltage_K2)\n",
    "# dataid = do1d(appl_current, 6e-6 , -6e-6, 251, 0.01, meas_voltage_K1)\n",
    "# ivvi.set_dacs_zero()\n",
    "\n",
    "appl_current(0)\n",
    "plot_by_id(dataid)\n",
    "# print(get_R_from_IV(dataid))\n",
    "#print(get_R_from_IV_2(dataid))\n",
    "\n",
    "K2440.output(0)"
   ]
  },
  {
   "cell_type": "markdown",
   "id": "27ac85cd",
   "metadata": {},
   "source": [
    "## IV w/ By"
   ]
  },
  {
   "cell_type": "code",
   "execution_count": null,
   "id": "b7c3a84d",
   "metadata": {},
   "outputs": [],
   "source": [
    "K2440.output(1)\n",
    "DMM6500.averaging_count(30)\n",
    "#DMM6500.averaging_enabled(False)\n",
    "\n",
    "sleep(2)\n",
    "magnet_y.field(0e-3)\n",
    "appl_current(-2e-7)\n",
    "sleep(20)\n",
    "\n",
    "# station.snapshot(update=True);\n",
    "exp = qc.new_experiment('I vs V', sample_name='IV_w/_By@0mT_forward_Avg30')\n",
    "\n",
    "#do1d(param_set, start, stop, num_points, delay, *param_meas)\n",
    "dataid = do1d(appl_current, -2e-7 ,2e-7, 201, 0.05, meas_voltage_K2)\n",
    "# dataid = do1d(appl_current, 6e-6 , -6e-6, 251, 0.01, meas_voltage_K1)\n",
    "# ivvi.set_dacs_zero()\n",
    "\n",
    "appl_current(0)\n",
    "plot_by_id(dataid)\n",
    "# print(get_R_from_IV(dataid))\n",
    "#print(get_R_from_IV_2(dataid))\n",
    "\n",
    "K2440.output(0)"
   ]
  },
  {
   "cell_type": "markdown",
   "id": "1e7ed93d",
   "metadata": {},
   "source": [
    "## MR"
   ]
  },
  {
   "cell_type": "code",
   "execution_count": null,
   "id": "9db581e2",
   "metadata": {},
   "outputs": [],
   "source": [
    "K2440.output(1)\n",
    "sleep(2)\n",
    "magnet_y.field(-0.1)\n",
    "sleep(5)\n",
    "#K2440.output(1)\n",
    "appl_current(1e-7)\n",
    "sleep(5)\n",
    "\n",
    "# station.snapshot(update=True);\n",
    "\n",
    "exp = qc.new_experiment('I vs By_MR', sample_name='072_14IVf_25_24_29_29_By_+-0.1T_MR_for')\n",
    "\n",
    "dataid = do1d(magnet_y.field, -0.1, 0.1, 71 , 1, meas_voltage_K2)\n",
    "\n",
    "appl_current(0)\n",
    "K2440.output(0)\n",
    "#K2440.output(0)\n",
    "magnet_y.field(0)\n",
    "\n",
    "plot_by_id(dataid)"
   ]
  },
  {
   "cell_type": "markdown",
   "id": "55fd3a3b",
   "metadata": {},
   "source": [
    "## IV w/Bz"
   ]
  },
  {
   "cell_type": "code",
   "execution_count": null,
   "id": "e76653c7",
   "metadata": {},
   "outputs": [],
   "source": [
    "K2440.output(1)\n",
    "DMM6500.averaging_count(10)\n",
    "#DMM6500.averaging_enabled(False)\n",
    "\n",
    "sleep(2)\n",
    "magnet_z.field(0e-3)\n",
    "appl_current(-2e-7)\n",
    "sleep(30)\n",
    "\n",
    "# station.snapshot(update=True);\n",
    "exp = qc.new_experiment('I vs V', sample_name='IV_w/_f_Bz@0mT_forward_Avg10')\n",
    "\n",
    "#do1d(param_set, start, stop, num_points, delay, *param_meas)\n",
    "dataid = do1d(appl_current, -2e-7 ,2e-7, 201, 0.05, meas_voltage_K2)\n",
    "# dataid = do1d(appl_current, 6e-6 , -6e-6, 251, 0.01, meas_voltage_K1)\n",
    "# ivvi.set_dacs_zero()\n",
    "\n",
    "appl_current(0)\n",
    "plot_by_id(dataid)\n",
    "# print(get_R_from_IV(dataid))\n",
    "#print(get_R_from_IV_2(dataid))\n",
    "\n",
    "K2440.output(0)"
   ]
  },
  {
   "cell_type": "markdown",
   "id": "d0274abc",
   "metadata": {},
   "source": [
    "# Zero everything"
   ]
  },
  {
   "cell_type": "code",
   "execution_count": null,
   "id": "a0cc99f2",
   "metadata": {},
   "outputs": [],
   "source": [
    "appl_current(0)\n",
    "appl_TG(0)\n",
    "magnet_y.field(0)\n",
    "sleep(5)\n",
    "magnet_x.field(0)\n",
    "sleep(5)\n",
    "magnet_z.field(0)\n",
    "sleep(5)\n",
    "#appl_voltage_AC(0.004)\n",
    "#SGS.off()\n",
    "K2440.output(0)"
   ]
  },
  {
   "cell_type": "code",
   "execution_count": null,
   "id": "cb8bf175",
   "metadata": {},
   "outputs": [],
   "source": [
    "appl_current(0)"
   ]
  },
  {
   "cell_type": "markdown",
   "id": "6610bce1",
   "metadata": {},
   "source": [
    "# Gate simple sweeps"
   ]
  },
  {
   "cell_type": "markdown",
   "id": "c010fbad",
   "metadata": {},
   "source": [
    "## 加TG (2D)"
   ]
  },
  {
   "cell_type": "code",
   "execution_count": null,
   "id": "6d7e9bf6",
   "metadata": {},
   "outputs": [],
   "source": [
    "appl_current(0)\n",
    "sleep(1)\n",
    "appl_TG(0)\n",
    "sleep(5)"
   ]
  },
  {
   "cell_type": "code",
   "execution_count": null,
   "id": "be01663b",
   "metadata": {},
   "outputs": [],
   "source": [
    "magnet_x.field(-0.044e-3)\n",
    "sleep(10)\n",
    "magnet_y.field(-6.016e-3)\n",
    "sleep(10)"
   ]
  },
  {
   "cell_type": "code",
   "execution_count": null,
   "id": "5397630e",
   "metadata": {},
   "outputs": [],
   "source": [
    "K2440.output(1)\n",
    "K2440.output(1)\n",
    "appl_TG(-30)\n",
    "sleep(5)\n",
    "appl_current(-1.5e-8)\n",
    "sleep(1)\n",
    "\n",
    "exp = qc.new_experiment('I_vs_Vgate_up', sample_name='33_32_30_31_1M_TG21')\n",
    "dataid = do2d(appl_TG, -30, 30, 301, 0.5, appl_current, -1.5e-8, 1.5e-8, 101, 0.1, meas_voltage_K2)\n",
    "\n",
    "appl_TG(0)\n",
    "sleep(5)\n",
    "appl_current(0e-7)\n",
    "sleep(5)\n",
    "\n",
    "K2440.output(0)\n",
    "K2440.output(0)\n",
    "\n",
    "plot_by_id(dataid)"
   ]
  },
  {
   "cell_type": "markdown",
   "id": "5375fb6f",
   "metadata": {},
   "source": [
    "# RF"
   ]
  },
  {
   "cell_type": "markdown",
   "id": "596beaf8",
   "metadata": {},
   "source": [
    "## I vs RF_f"
   ]
  },
  {
   "cell_type": "markdown",
   "id": "a6df9a13",
   "metadata": {},
   "source": [
    "### sensitive check"
   ]
  },
  {
   "cell_type": "code",
   "execution_count": null,
   "id": "017ed644",
   "metadata": {},
   "outputs": [],
   "source": [
    "SGS.power()\n",
    "SGS.frequency()"
   ]
  },
  {
   "cell_type": "code",
   "execution_count": null,
   "id": "e0b8db4e",
   "metadata": {},
   "outputs": [],
   "source": [
    "SGS.on()"
   ]
  },
  {
   "cell_type": "code",
   "execution_count": null,
   "id": "cc145b47",
   "metadata": {},
   "outputs": [],
   "source": [
    "SGS.off()"
   ]
  },
  {
   "cell_type": "code",
   "execution_count": null,
   "id": "6141349d",
   "metadata": {},
   "outputs": [],
   "source": [
    "magnet_x.field(0.4e-3)\n",
    "sleep(10)\n",
    "magnet_y.field(2.53e-3)\n",
    "sleep(10)"
   ]
  },
  {
   "cell_type": "code",
   "execution_count": null,
   "id": "2fd35fd0",
   "metadata": {},
   "outputs": [],
   "source": [
    "DMM6500.averaging_count(5)\n",
    "DMM6500.averaging_enabled(False)"
   ]
  },
  {
   "cell_type": "markdown",
   "id": "2d27c6f3",
   "metadata": {},
   "source": [
    "### I vs RF_f (1D)"
   ]
  },
  {
   "cell_type": "code",
   "execution_count": null,
   "id": "c3ec00d7",
   "metadata": {
    "scrolled": false
   },
   "outputs": [],
   "source": [
    "SGS.off()\n",
    "exp = qc.new_experiment('I-RF_f', sample_name='103-06_J2_12-13-14-15_1M_@0mT')\n",
    "SGS.power(0)\n",
    "SGS.frequency(0.1e9)\n",
    "SGS.on()\n",
    "sleep(1)\n",
    "DMM6500.averaging_count(5)\n",
    "DMM6500.averaging_enabled(False)\n",
    "K2440.output(1)\n",
    "\n",
    "appl_current(0.4e-6)\n",
    "#appl_TG(10)\n",
    "# magnet_x.field(0.4e-3)\n",
    "# magnet_y.field(2.53e-3)\n",
    "\n",
    "dataid = do1d(SGS.frequency, 11.4e9, 12.2e9, 201, 0.1, meas_voltage_K2)\n",
    "appl_current(0)\n",
    "SGS.off()\n",
    "K2440.output(0)\n",
    "plot_by_id(dataid)\n"
   ]
  },
  {
   "cell_type": "markdown",
   "id": "3e250e53",
   "metadata": {},
   "source": [
    "### I vs RF_f (2D)"
   ]
  },
  {
   "cell_type": "code",
   "execution_count": null,
   "id": "3734095d",
   "metadata": {},
   "outputs": [],
   "source": [
    "SGS.off()"
   ]
  },
  {
   "cell_type": "code",
   "execution_count": null,
   "id": "ccc9ea2f",
   "metadata": {},
   "outputs": [],
   "source": [
    "SGS.off()\n",
    "SGS.power(0)\n",
    "SGS.frequency(0.1e9)\n",
    "SGS.on()\n",
    "DMM6500.averaging_count(1)\n",
    "DMM6500.averaging_enabled(False)\n",
    "K2440.output(1)\n",
    "\n",
    "I_range = 8e-6\n",
    "appl_current(-I_range)\n",
    "#appl_TG(-10)\n",
    "# magnet_x.field(0.4e-3)\n",
    "# magnet_y.field(2.53e-3)\n",
    "# sleep(1)\n",
    "\n",
    "# station.snapshot(update=True);\n",
    "exp = qc.new_experiment('IV-RF_f', sample_name=f'103-03_J2_27-26-30-31M(32G-33G-28G-29G)_1M_RF@0dBm_By@0.1mT')\n",
    "\n",
    "#do1d(param_set, start, stop, num_points, delay, *param_meas)\n",
    "dataid = do2d(SGS.frequency, 1e9, 20e9, 191, 0.0001, appl_current,-I_range ,I_range, 201, 0.0001, meas_voltage_K2)\n",
    "# dataid = do1d(appl_current, 6e-6 , -6e-6, 251, 0.01, meas_voltage_K1)\n",
    "# ivvi.set_dacs_zero()\n",
    "K2440.output(0)\n",
    "SGS.off()\n",
    "appl_current(0)\n",
    "plot_by_id(dataid)\n",
    "save_path = r\"D:\\data\\Albert\\103\\Plot\\104_{}.png\".format(dataid)  # Path to save the plot image\n",
    "autosave_plot_by_id(dataid, save_path)"
   ]
  },
  {
   "cell_type": "code",
   "execution_count": null,
   "id": "3426a3bd",
   "metadata": {},
   "outputs": [],
   "source": [
    "SGS.off()\n",
    "SGS.power(20)\n",
    "SGS.frequency(0.1e9)\n",
    "SGS.on()\n",
    "DMM6500.averaging_count(1)\n",
    "DMM6500.averaging_enabled(False)\n",
    "K2440.output(1)\n",
    "\n",
    "I_range = 6e-6\n",
    "appl_current(-I_range)\n",
    "#appl_TG(-10)\n",
    "# magnet_x.field(0.4e-3)\n",
    "# magnet_y.field(2.53e-3)\n",
    "# sleep(1)\n",
    "\n",
    "# station.snapshot(update=True);\n",
    "exp = qc.new_experiment('IV-RF_f', sample_name=f'103-03_J2_27-26-30-31M(32G-33G-28G-29G)_1M_RF@-10dBm_By@0.1mT')\n",
    "\n",
    "#do1d(param_set, start, stop, num_points, delay, *param_meas)\n",
    "dataid = do2d(SGS.frequency, 1e9, 20e9, 191, 0.0001, appl_current,-I_range ,I_range, 201, 0.0001, meas_voltage_K2)\n",
    "# dataid = do1d(appl_current, 6e-6 , -6e-6, 251, 0.01, meas_voltage_K1)\n",
    "# ivvi.set_dacs_zero()\n",
    "K2440.output(0)\n",
    "SGS.off()\n",
    "appl_current(0)\n",
    "plot_by_id(dataid)\n",
    "save_path = r\"D:\\data\\Albert\\103\\Plot\\104_{}.png\".format(dataid)  # Path to save the plot image\n",
    "autosave_plot_by_id(dataid, save_path)"
   ]
  },
  {
   "cell_type": "code",
   "execution_count": null,
   "id": "9f9dbd53",
   "metadata": {},
   "outputs": [],
   "source": [
    "SGS.off()\n",
    "SGS.power(20)\n",
    "SGS.frequency(5.9e9)\n",
    "SGS.on()\n",
    "DMM6500.averaging_count(1)\n",
    "DMM6500.averaging_enabled(False)\n",
    "K2440.output(1)\n",
    "\n",
    "I_range = 6e-6\n",
    "appl_current(-I_range)\n",
    "#appl_TG(-10)\n",
    "# magnet_x.field(0.4e-3)\n",
    "# magnet_y.field(2.53e-3)\n",
    "# sleep(1)\n",
    "\n",
    "# station.snapshot(update=True);\n",
    "exp = qc.new_experiment('IV-RF_f', sample_name=f'103-03_J2_27-26-30-31M(32G-33G-28G-29G)_1M_RF@20dBm_By@0.1mT')\n",
    "\n",
    "#do1d(param_set, start, stop, num_points, delay, *param_meas)\n",
    "dataid = do2d(SGS.frequency, 5.9e9, 6.0e9, 251, 0.0001, appl_current,-I_range ,I_range, 501, 0.0001, meas_voltage_K2)\n",
    "# dataid = do1d(appl_current, 6e-6 , -6e-6, 251, 0.01, meas_voltage_K1)\n",
    "# ivvi.set_dacs_zero()\n",
    "K2440.output(0)\n",
    "SGS.off()\n",
    "appl_current(0)\n",
    "plot_by_id(dataid)\n",
    "save_path = r\"D:\\data\\Albert\\103\\Plot\\104_{}.png\".format(dataid)  # Path to save the plot image\n",
    "autosave_plot_by_id(dataid, save_path)\n"
   ]
  },
  {
   "cell_type": "code",
   "execution_count": null,
   "id": "862b770b",
   "metadata": {},
   "outputs": [],
   "source": [
    "SGS.off()\n",
    "SGS.power(20)\n",
    "SGS.frequency(5.535e9)\n",
    "SGS.on()\n",
    "DMM6500.averaging_count(1)\n",
    "DMM6500.averaging_enabled(False)\n",
    "K2440.output(1)\n",
    "\n",
    "I_range = 6e-6\n",
    "appl_current(-I_range)\n",
    "#appl_TG(-10)\n",
    "# magnet_x.field(0.4e-3)\n",
    "# magnet_y.field(2.53e-3)\n",
    "# sleep(1)\n",
    "\n",
    "# station.snapshot(update=True);\n",
    "exp = qc.new_experiment('IV-RF_f', sample_name=f'103-03_J2_27-26-30-31M(32G-33G-28G-29G)_1M_RF@20dBm_By@0.1mT')\n",
    "\n",
    "#do1d(param_set, start, stop, num_points, delay, *param_meas)\n",
    "dataid = do2d(SGS.frequency, 5.535e9, 5.585e9, 251, 0.0001, appl_current,-I_range ,I_range, 501, 0.0001, meas_voltage_K2)\n",
    "# dataid = do1d(appl_current, 6e-6 , -6e-6, 251, 0.01, meas_voltage_K1)\n",
    "# ivvi.set_dacs_zero()\n",
    "K2440.output(0)\n",
    "SGS.off()\n",
    "appl_current(0)\n",
    "plot_by_id(dataid)\n",
    "save_path = r\"D:\\data\\Albert\\103\\Plot\\104_{}.png\".format(dataid)  # Path to save the plot image\n",
    "autosave_plot_by_id(dataid, save_path)\n"
   ]
  },
  {
   "cell_type": "code",
   "execution_count": null,
   "id": "d76f7ea2",
   "metadata": {},
   "outputs": [],
   "source": [
    "SGS.off()\n",
    "SGS.power(20)\n",
    "SGS.frequency(0.1e9)\n",
    "SGS.on()\n",
    "DMM6500.averaging_count(1)\n",
    "DMM6500.averaging_enabled(False)\n",
    "K2440.output(1)\n",
    "\n",
    "I_range = 6e-6\n",
    "appl_current(-I_range)\n",
    "SGS_power = SGS.power()\n",
    "#appl_TG(-10)\n",
    "# magnet_x.field(0.4e-3)\n",
    "# magnet_y.field(2.53e-3)\n",
    "# sleep(1)\n",
    "\n",
    "# station.snapshot(update=True);\n",
    "exp = qc.new_experiment('IV-RF_f', sample_name=f'103-03_J2_27-26-30-31M(32G-33G-28G-29G)_1M_RF@{SGS_power}dBm_By@0.1mT')\n",
    "\n",
    "#do1d(param_set, start, stop, num_points, delay, *param_meas)\n",
    "dataid = do2d(SGS.frequency, 3.9e9, 6.9e9, 301, 0.0001, appl_current,-I_range ,I_range, 251, 0.0001, meas_voltage_K2)\n",
    "# dataid = do1d(appl_current, 6e-6 , -6e-6, 251, 0.01, meas_voltage_K1)\n",
    "# ivvi.set_dacs_zero()\n",
    "K2440.output(0)\n",
    "SGS.off()\n",
    "appl_current(0)\n",
    "plot_by_id(dataid)\n",
    "save_path = r\"D:\\data\\Albert\\103\\Plot\\104_{}.png\".format(dataid)  # Path to save the plot image\n",
    "autosave_plot_by_id(dataid, save_path)"
   ]
  },
  {
   "cell_type": "code",
   "execution_count": null,
   "id": "28992f6f",
   "metadata": {},
   "outputs": [],
   "source": [
    "appl_current(0)\n",
    "#appl_TG(0)\n",
    "magnet_y.field(0)\n",
    "sleep(2)\n",
    "magnet_x.field(0)\n",
    "sleep(2)\n",
    "#appl_voltage_AC(0.004)\n",
    "SGS.off()"
   ]
  },
  {
   "cell_type": "markdown",
   "id": "65c9a40a",
   "metadata": {},
   "source": [
    "## IV vs RF_f"
   ]
  },
  {
   "cell_type": "markdown",
   "id": "b285efb3",
   "metadata": {},
   "source": [
    "### Shapiro steps "
   ]
  },
  {
   "cell_type": "code",
   "execution_count": null,
   "id": "3a180ee1",
   "metadata": {
    "scrolled": true
   },
   "outputs": [],
   "source": [
    "SGS.off()\n",
    "SGS.power(-10)\n",
    "SGS.frequency(11.725e9)\n",
    "SGS.on()\n",
    "DMM6500.averaging_count(5)\n",
    "DMM6500.averaging_enabled(False)\n",
    "K2440.output(1)\n",
    "\n",
    "appl_current(-2e-7)\n",
    "#appl_TG(-10)\n",
    "#magnet_x.field(0.23e-3)\n",
    "#magnet_y.field(1.41e-3)\n",
    "# sleep(1)\n",
    "\n",
    "# station.snapshot(update=True);\n",
    "exp = qc.new_experiment('IV-RF_f', sample_name=f'103-03_J2_27-26-30-31M(32G-33G-28G-29G)_1M_By@0.1mT{-I_range}')\n",
    "\n",
    "#do1d(param_set, start, stop, num_points, delay, *param_meas)\"\"\n",
    "dataid = do1d(appl_current,-2e-7 ,2e-7, 101, 0.05,  meas_voltage_K2)\n",
    "# dataid = do1d(appl_current, 6e-6 , -6e-6, 251, 0.01, meas_voltage_K1)\n",
    "# ivvi.set_dacs_zero()\n",
    "K2440.output(0)\n",
    "SGS.off()\n",
    "appl_current(0)\n",
    "plot_by_id(dataid)\n",
    "# print(get_R_from_IV(dataid))\n",
    "#print(get_R_from_IV_2(dataid))"
   ]
  },
  {
   "cell_type": "code",
   "execution_count": null,
   "id": "51fe069b",
   "metadata": {},
   "outputs": [],
   "source": [
    "SGS.off()\n",
    "SGS.power(0)\n",
    "SGS.frequency(3.87e9)\n",
    "SGS.on()\n",
    "DMM6500.averaging_count(5)\n",
    "DMM6500.averaging_enabled(False)\n",
    "K2440.output(1)\n",
    "\n",
    "appl_current(-1.2e-6)\n",
    "#appl_TG(-10)\n",
    "magnet_y.field(-10e-3)\n",
    "\n",
    "#magnet_y.field(1.41e-3)\n",
    "# sleep(1)\n",
    "\n",
    "# station.snapshot(update=True);\n",
    "exp = qc.new_experiment('Bx vs RF_f', sample_name='By vs RF_f_J2_3.87_-10dB')\n",
    "\n",
    "#do1d(param_set, start, stop, num_points, delay, *param_meas)\"\"\n",
    "dataid = do2d(magnet_y.field, -10e-3, 10e-3,701, 1, appl_current,-1.2e-6 ,1.2e-6, 101, 0.05,  meas_voltage_K2)\n",
    "# dataid = do1d(appl_current, 6e-6 , -6e-6, 251, 0.01, meas_voltage_K1)\n",
    "# ivvi.set_dacs_zero()\n",
    "K2440.output(0)\n",
    "SGS.off()\n",
    "appl_current(0)\n",
    "plot_by_id(dataid)\n",
    "# print(get_R_from_IV(dataid))\n",
    "#print(get_R_from_IV_2(dataid))"
   ]
  },
  {
   "cell_type": "code",
   "execution_count": null,
   "id": "5488e4c5",
   "metadata": {},
   "outputs": [],
   "source": [
    "appl_current(0)\n",
    "#appl_TG(0)\n",
    "magnet_y.field(0)\n",
    "sleep(10)\n",
    "magnet_x.field(0)\n",
    "sleep(10)\n",
    "#appl_voltage_AC(0.004)\n",
    "SGS.off()"
   ]
  },
  {
   "cell_type": "markdown",
   "id": "04e50dcd",
   "metadata": {},
   "source": [
    "## IV vs Power Dependence"
   ]
  },
  {
   "cell_type": "code",
   "execution_count": null,
   "id": "0368ef58",
   "metadata": {},
   "outputs": [],
   "source": [
    "SGS.off()"
   ]
  },
  {
   "cell_type": "code",
   "execution_count": null,
   "id": "3d6eab35",
   "metadata": {},
   "outputs": [],
   "source": [
    "SGS.power(-40)"
   ]
  },
  {
   "cell_type": "code",
   "execution_count": null,
   "id": "d760383a",
   "metadata": {},
   "outputs": [],
   "source": [
    "SGS.off()"
   ]
  },
  {
   "cell_type": "code",
   "execution_count": null,
   "id": "f0984a37",
   "metadata": {
    "scrolled": true
   },
   "outputs": [],
   "source": [
    "SGS.off()\n",
    "SGS.power(-20)\n",
    "SGS.frequency(5.9534e9)\n",
    "SGS_frequency = SGS.frequency()\n",
    "SGS.on()\n",
    "DMM6500.averaging_count(3)\n",
    "DMM6500.averaging_enabled(False)\n",
    "K2440.output(1)\n",
    "\n",
    "#magnet_x.field(15e-3)\n",
    "#sleep(5)\n",
    "I_range = 6e-6\n",
    "appl_current(-I_range)\n",
    "#appl_TG(-30)\n",
    "sleep(2)\n",
    "\n",
    "# station.snapshot(update=True);\n",
    "exp = qc.new_experiment('IV-RF_p', sample_name=f'103-03_J2_27-26-30-31M(32G-33G-28G-29G)_1M_RF@{SGS_frequency*1e-9:.4f}GHz_By@0.1mT')\n",
    "\n",
    "#do1d(param_set, start, stop, num_points, delay, *param_meas)\n",
    "\n",
    "dataid = do2d(SGS.power,10, 15, 51, 0.1, appl_current,-I_range ,I_range, 301, 0.00001, meas_voltage_K2)\n",
    "# dataid = do1d(appl_current, 6e-6 , -6e-6, 251, 0.01, meas_voltage_K1)\n",
    "# ivvi.set_dacs_zero()\n",
    "\n",
    "SGS.off()\n",
    "appl_current(0)\n",
    "K2440.output()\n",
    "plot_by_id(dataid)\n",
    "\n",
    "# print(get_R_from_IV(dataid))\n",
    "print(get_R_from_IV_2(dataid))"
   ]
  },
  {
   "cell_type": "code",
   "execution_count": null,
   "id": "de3fc621",
   "metadata": {},
   "outputs": [],
   "source": [
    "SGS.off()\n",
    "SGS.power(-25)\n",
    "SGS.frequency(5.226e9)\n",
    "SGS.on()\n",
    "DMM6500.averaging_count(5)\n",
    "DMM6500.averaging_enabled(True)\n",
    "K2440.output(1)\n",
    "\n",
    "magnet_y.field(-8e-3)\n",
    "sleep(60)\n",
    "appl_current(-2e-7)\n",
    "#appl_TG(-30)\n",
    "sleep(2)\n",
    "\n",
    "# station.snapshot(update=True);\n",
    "exp = qc.new_experiment('IV vs power dependence', sample_name='IV vs PD_5.226_By:-8mT')\n",
    "\n",
    "#do1d(param_set, start, stop, num_points, delay, *param_meas)\n",
    "\n",
    "dataid = do2d(SGS.power,-25, 10, 101, 20, appl_current,-2e-7 ,2e-7, 101, 0.05, meas_voltage_K2)\n",
    "# dataid = do1d(appl_current, 6e-6 , -6e-6, 251, 0.01, meas_voltage_K1)\n",
    "# ivvi.set_dacs_zero()\n",
    "\n",
    "SGS.off()\n",
    "appl_current(0)\n",
    "K2440.output()\n",
    "plot_by_id(dataid)\n",
    "\n",
    "# print(get_R_from_IV(dataid))\n",
    "print(get_R_from_IV_2(dataid))"
   ]
  },
  {
   "cell_type": "markdown",
   "id": "13e12840",
   "metadata": {},
   "source": [
    "### PD vs frequency_IV loop (not yet)"
   ]
  },
  {
   "cell_type": "code",
   "execution_count": null,
   "id": "8659ae09",
   "metadata": {
    "code_folding": []
   },
   "outputs": [],
   "source": [
    "frequencies = [3.248, 3.387, 5.677]\n",
    "power_levels = [-20, 0, 25]\n",
    "     \n",
    "SGS.off()\n",
    "SGS.power(-20)\n",
    "SGS.frequency(3.387e9)\n",
    "SGS.on()\n",
    "DMM6500.averaging_count(5)\n",
    "DMM6500.averaging_enabled(True)\n",
    "K2440.output(1)\n",
    "\n",
    "appl_current(-2e-6)\n",
    "#appl_TG(-10)\n",
    "sleep(1)\n",
    "\n",
    "for freq in frequencies:\n",
    "    SGS.frequency(freq)\n",
    "    for power_level in power_levels:\n",
    "        SGS.power(power_level)\n",
    "\n",
    "# station.snapshot(update=True);\n",
    "exp = qc.new_experiment('IV vs power dependence', sample_name='IV vs PD_J2_3.387_m20')\n",
    "dataid = do2d(SGS.power, 4, 8, 100, 2, appl_current, -1e-6, 1e-6, 101, 0.05, meas_voltage_K2)\n",
    "\n",
    " # 關閉設備，並在需要時列印或繪製結果\n",
    "SGS.off()\n",
    "appl_current(0)\n",
    "K2440.output()\n",
    "plot_by_id(dataid)\n",
    "    \n",
    "print(f\"頻率：{freq} Hz，功率水平：{power_level} dB\")\n",
    "print(get_R_from_IV_2(dataid))\n"
   ]
  },
  {
   "cell_type": "markdown",
   "id": "5c2101a5",
   "metadata": {},
   "source": [
    "## IV vs Vgate"
   ]
  },
  {
   "cell_type": "code",
   "execution_count": null,
   "id": "48eb3a89",
   "metadata": {},
   "outputs": [],
   "source": [
    "appl_current(0)\n",
    "appl_TG(0)\n",
    "magnet_y.field(0)\n",
    "sleep(10)\n",
    "magnet_x.field(0)\n",
    "sleep(10)\n",
    "appl_voltage_AC(0.004)\n",
    "SGS.off()"
   ]
  },
  {
   "cell_type": "code",
   "execution_count": null,
   "id": "5deaef19",
   "metadata": {},
   "outputs": [],
   "source": [
    "SGS.off()\n",
    "SGS.power(25)\n",
    "SGS.frequency(4.83e9)\n",
    "SGS.on()\n",
    "DMM6500.averaging_count(5)\n",
    "DMM6500.averaging_enabled(True)\n",
    "appl_current(-0.4e-7)\n",
    "appl_current_AC(0.1e-10)\n",
    "\n",
    "appl_TG(-10)\n",
    "sleep(1)\n",
    "\n",
    "# station.snapshot(update=True);\n",
    "exp = qc.new_experiment('IV vs Vgate', sample_name='IV vs Vg')\n",
    "\n",
    "dataid = do2d(appl_TG, -10, 10, 751, 0.5, appl_current, -0.4e-7, 0.4e-7, 101, 0.01, meas_voltage_AC_L1, meas_voltage_AC_L1_P, meas_voltage_K2)\n",
    "# dataid = do1d(appl_current, 6e-6 , -6e-6, 251, 0.01, meas_voltage_K1)\n",
    "# ivvi.set_dacs_zero()\n",
    "SGS.off()\n",
    "appl_current(0)\n",
    "plot_by_id(dataid)\n",
    "# print(get_R_from_IV(dataid))\n",
    "#print(get_R_from_IV_2(dataid))"
   ]
  },
  {
   "cell_type": "code",
   "execution_count": null,
   "id": "6bbd39fb",
   "metadata": {},
   "outputs": [],
   "source": [
    "appl_current(0)\n",
    "appl_TG(0)\n",
    "magnet_y.field(0)\n",
    "sleep(10)\n",
    "magnet_x.field(0)\n",
    "sleep(10)\n",
    "appl_voltage_AC(0.004)\n",
    "SGS.off()"
   ]
  },
  {
   "cell_type": "code",
   "execution_count": null,
   "id": "00d4b770",
   "metadata": {},
   "outputs": [],
   "source": [
    "import matplotlib.pyplot as plt\n",
    "import numpy as np\n",
    "\n",
    "# Constants\n",
    "k = 8.617333262145e-5  # Boltzmann constant in eV/K\n",
    "E_a = 0.5  # Example value for the activation energy in eV\n",
    "p_0 = 1.0  # Example value for p0\n",
    "\n",
    "# Create an array of temperatures from 100 to 1000 K\n",
    "temperatures = np.linspace(100, 1000, 50)\n",
    "\n",
    "# Calculate 1/T\n",
    "inverse_temperatures = 1 / temperatures\n",
    "\n",
    "# Calculate ln(p)\n",
    "ln_p = np.log(p_0) - (E_a / k) * inverse_temperatures\n",
    "\n",
    "# Plotting\n",
    "plt.figure(figsize=(8, 6))\n",
    "plt.plot(inverse_temperatures, ln_p, marker='o', linestyle='-')\n",
    "plt.xlabel('1/T (1/K)')\n",
    "plt.ylabel('ln(p)')\n",
    "plt.title('ln(p) vs 1/T for Hole Concentration')\n",
    "plt.grid(True)\n",
    "plt.show()\n"
   ]
  },
  {
   "cell_type": "code",
   "execution_count": null,
   "id": "f610e7bc",
   "metadata": {},
   "outputs": [],
   "source": []
  }
 ],
 "metadata": {
  "kernelspec": {
   "display_name": "py311",
   "language": "python",
   "name": "python3"
  },
  "language_info": {
   "codemirror_mode": {
    "name": "ipython",
    "version": 3
   },
   "file_extension": ".py",
   "mimetype": "text/x-python",
   "name": "python",
   "nbconvert_exporter": "python",
   "pygments_lexer": "ipython3",
   "version": "3.11.11"
  },
  "toc": {
   "base_numbering": 1,
   "nav_menu": {},
   "number_sections": true,
   "sideBar": false,
   "skip_h1_title": false,
   "title_cell": "Table of Contents",
   "title_sidebar": "Contents",
   "toc_cell": false,
   "toc_position": {
    "height": "783px",
    "left": "260px",
    "top": "67.125px",
    "width": "182px"
   },
   "toc_section_display": true,
   "toc_window_display": true
  }
 },
 "nbformat": 4,
 "nbformat_minor": 5
}
