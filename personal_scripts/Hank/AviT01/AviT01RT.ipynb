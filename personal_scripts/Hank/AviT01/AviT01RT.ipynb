{
 "cells": [
  {
   "cell_type": "markdown",
   "id": "256e0f19",
   "metadata": {},
   "source": [
    "# Initialization"
   ]
  },
  {
   "cell_type": "markdown",
   "id": "9d160fe4",
   "metadata": {},
   "source": [
    "## Inport modules"
   ]
  },
  {
   "cell_type": "code",
   "execution_count": 1,
   "id": "88979d6d",
   "metadata": {},
   "outputs": [
    {
     "name": "stdout",
     "output_type": "stream",
     "text": [
      "Imported all modules, QCoDeS version: 0.39.0 initialized\n"
     ]
    }
   ],
   "source": [
    "%matplotlib ipympl\n",
    "import os, sys\n",
    "import time\n",
    "import pyvisa\n",
    "import warnings\n",
    "import numpy as np\n",
    "import qcodes as qc\n",
    "import plotly.graph_objects as go\n",
    "import matplotlib.pyplot as plt\n",
    "\n",
    "def find_qcodes_local_dir():\n",
    "    dirpath = os.getcwd()\n",
    "    while True:\n",
    "        dirpath, folder_name = os.path.split(dirpath)\n",
    "        if folder_name == 'QCoDeS_local':\n",
    "            return os.path.join(dirpath, folder_name)\n",
    "        if not folder_name:  # Reached the root directory\n",
    "            return None\n",
    "qcodes_local_dir = find_qcodes_local_dir()\n",
    "sys.path.append(f'{qcodes_local_dir}')\n",
    "\n",
    "from tqdm import tqdm\n",
    "from pprint import pprint\n",
    "from time import sleep, monotonic, time\n",
    "from IPython.display import clear_output\n",
    "from qcodes.dataset.measurements import Measurement\n",
    "from qcodes.utils.metadata import diff_param_values\n",
    "from qcodes.dataset.plotting import plot_dataset, plot_by_id\n",
    "from qcodes import Parameter, ManualParameter, ScaledParameter\n",
    "from qcodes.instrument.specialized_parameters import ElapsedTimeParameter\n",
    "from sweeps_v2 import do1d, do2d, time_sweep, measure_until, do1d_until\n",
    "\n",
    "print('Imported all modules, QCoDeS version:', qc.__version__, 'initialized')\n",
    "\n",
    "# warnings.filterwarnings('ignore')"
   ]
  },
  {
   "cell_type": "code",
   "execution_count": 2,
   "id": "399e7806",
   "metadata": {},
   "outputs": [],
   "source": [
    "def find_qcodes_local_dir():\n",
    "    dirpath = os.getcwd()\n",
    "    while True:\n",
    "        dirpath, folder_name = os.path.split(dirpath)\n",
    "        if folder_name == 'QCoDeS_local':\n",
    "            return os.path.join(dirpath, folder_name)\n",
    "        if not folder_name:  # Reached the root directory\n",
    "            return None\n",
    "qcodes_local_dir = find_qcodes_local_dir()"
   ]
  },
  {
   "cell_type": "code",
   "execution_count": 3,
   "id": "fff9a7bd",
   "metadata": {},
   "outputs": [
    {
     "data": {
      "text/plain": [
       "'c:\\\\Users\\\\quant\\\\OneDrive\\\\Documents\\\\GitHub\\\\QCoDeS_local'"
      ]
     },
     "execution_count": 3,
     "metadata": {},
     "output_type": "execute_result"
    }
   ],
   "source": [
    "qcodes_local_dir"
   ]
  },
  {
   "cell_type": "code",
   "execution_count": 4,
   "id": "cc4a1c10",
   "metadata": {},
   "outputs": [
    {
     "data": {
      "text/plain": [
       "'c:\\\\Users\\\\quant\\\\OneDrive\\\\Documents\\\\GitHub\\\\QCoDeS_local\\\\init_fridge_v2.py'"
      ]
     },
     "execution_count": 4,
     "metadata": {},
     "output_type": "execute_result"
    }
   ],
   "source": [
    "def find_init_fridge_v2_py():\n",
    "    for root, dirs, files in os.walk(qcodes_local_dir):\n",
    "        if 'init_fridge_v2.py' in files:\n",
    "            return os.path.join(root, 'init_fridge_v2.py')\n",
    "    return None\n",
    "\n",
    "init_fridge_v2_py_path = find_init_fridge_v2_py()\n",
    "init_fridge_v2_py_path"
   ]
  },
  {
   "cell_type": "code",
   "execution_count": 67,
   "id": "bb19a743",
   "metadata": {},
   "outputs": [
    {
     "name": "stdout",
     "output_type": "stream",
     "text": [
      "Found init_BF1_v2.py at: c:\\Users\\quant\\OneDrive\\Documents\\GitHub\\QCoDeS_local\\fridge_specific\\init_BF1_v2.py\n",
      "Error connecting to TCPIP0::192.168.1.42::inst0::INSTR: VI_ERROR_RSRC_NFOUND (-1073807343): Insufficient location information or the requested device or resource is not present in the system.\n",
      "Error connecting to TCPIP0::192.168.1.42::inst1::INSTR: VI_ERROR_RSRC_NFOUND (-1073807343): Insufficient location information or the requested device or resource is not present in the system.\n",
      "Error connecting to TCPIP0::192.168.1.6::inst0::INSTR: VI_ERROR_RSRC_NFOUND (-1073807343): Insufficient location information or the requested device or resource is not present in the system.\n",
      "Error connecting to TCPIP0::192.168.1.7::inst0::INSTR: VI_ERROR_RSRC_NFOUND (-1073807343): Insufficient location information or the requested device or resource is not present in the system.\n",
      "Error connecting to TCPIP0::ZNB20-64-101393::inst0::INSTR: VI_ERROR_RSRC_NFOUND (-1073807343): Insufficient location information or the requested device or resource is not present in the system.\n",
      "Error connecting to ASRL1::INSTR: VI_ERROR_TMO (-1073807339): Timeout expired before operation completed.\n",
      "Error connecting to ASRL2::INSTR: VI_ERROR_TMO (-1073807339): Timeout expired before operation completed.\n",
      "Error connecting to ASRL10::INSTR: VI_ERROR_TMO (-1073807339): Timeout expired before operation completed.\n",
      "Device: GPIB0::6::INSTR\n",
      "IDN: KEITHLEY INSTRUMENTS,MODEL DMM6500,04518052,1.7.7b\n",
      "\n",
      "Connected to: KEITHLEY INSTRUMENTS DMM6500 (serial:04518052, firmware:1.7.7b) in 0.02s\n",
      "Error connecting to GPIB0::6::INSTR: 'Another instrument has the name: DMM6500'\n",
      "Device: GPIB0::19::INSTR\n",
      "IDN: KEITHLEY INSTRUMENTS INC.,MODEL 2400,0957985,C32   Oct  4 2010 14:20:11/A02  /K/M\n",
      "\n",
      "Connected to: KEITHLEY INSTRUMENTS INC. 2400 (serial:0957985, firmware:C32   Oct  4 2010 14:20:11/A02  /K/M) in 0.03s\n",
      "Error connecting to GPIB0::19::INSTR: 'Another instrument has the name: K2400'\n",
      "Device: GPIB0::22::INSTR\n",
      "IDN: KEITHLEY INSTRUMENTS INC.,MODEL 2440,1225508,C30   Mar 17 2006 09:29:29/A02  /B/A\n",
      "\n",
      "Connected to: KEITHLEY INSTRUMENTS INC. 2440 (serial:1225508, firmware:C30   Mar 17 2006 09:29:29/A02  /B/A) in 0.03s\n",
      "Error connecting to GPIB0::22::INSTR: 'Another instrument has the name: K2440'\n",
      "Failed to ping 169.254.115.3: [WinError 10049] The requested address is not valid in its context\n",
      "Failed to ping 169.254.115.2: [WinError 10049] The requested address is not valid in its context\n",
      "Failed to ping 169.254.115.1: [WinError 10049] The requested address is not valid in its context\n",
      "One or more pings failed, cannot establish connection to all magnets.\n",
      "\n",
      "Station list:\n",
      "{}\n"
     ]
    }
   ],
   "source": [
    "fridge_name = 'BF1'\n",
    "%run \"{init_fridge_v2_py_path}\" {fridge_name}"
   ]
  },
  {
   "cell_type": "code",
   "execution_count": 68,
   "id": "c9e134aa",
   "metadata": {},
   "outputs": [
    {
     "name": "stdout",
     "output_type": "stream",
     "text": [
      "{'components': {}, 'config': None, 'instruments': {}, 'parameters': {}}\n"
     ]
    }
   ],
   "source": [
    "snapshot_of_station = station.snapshot()\n",
    "pprint(snapshot_of_station)"
   ]
  },
  {
   "cell_type": "markdown",
   "id": "4757b159",
   "metadata": {},
   "source": [
    "## Keithley 2440"
   ]
  },
  {
   "cell_type": "markdown",
   "id": "797b994c",
   "metadata": {},
   "source": [
    "### sensitive check"
   ]
  },
  {
   "cell_type": "code",
   "execution_count": 69,
   "id": "f387f69b",
   "metadata": {},
   "outputs": [
    {
     "data": {
      "text/plain": [
       "'VOLT'"
      ]
     },
     "execution_count": 69,
     "metadata": {},
     "output_type": "execute_result"
    }
   ],
   "source": [
    "K2440.mode('VOLT')\n",
    "K2440.mode()"
   ]
  },
  {
   "cell_type": "code",
   "execution_count": 70,
   "id": "09a8a36e",
   "metadata": {},
   "outputs": [
    {
     "name": "stdout",
     "output_type": "stream",
     "text": [
      "-0.07261917\n"
     ]
    }
   ],
   "source": [
    "K2440.output(1) # output on\n",
    "K2440.rangev(10)\n",
    "K2440.volt(0)\n",
    "K2440.compliancei(100e-3)\n",
    "sleep(1)\n",
    "v_read=DMM6500.amplitude()\n",
    "K2440.output(0) #output off\n",
    "print(v_read)"
   ]
  },
  {
   "cell_type": "markdown",
   "id": "105706bc",
   "metadata": {},
   "source": [
    "## TG 2400"
   ]
  },
  {
   "cell_type": "code",
   "execution_count": 83,
   "id": "cdc19f1b",
   "metadata": {},
   "outputs": [
    {
     "name": "stdout",
     "output_type": "stream",
     "text": [
      "-0.1933043\n"
     ]
    }
   ],
   "source": [
    "K2400.output(1) # output on\n",
    "K2400.rangev(22)\n",
    "K2400.volt(0)\n",
    "K2400.compliancei(400e-3)\n",
    "K2400.output(0) #output off\n",
    "sleep(1)\n",
    "v_read=DMM6500.amplitude()\n",
    "print(v_read)"
   ]
  },
  {
   "cell_type": "code",
   "execution_count": 72,
   "id": "e971a620",
   "metadata": {},
   "outputs": [],
   "source": [
    "K2400.volt(1)\n",
    "K2400.output(0) #output off"
   ]
  },
  {
   "cell_type": "code",
   "execution_count": 73,
   "id": "e284050c",
   "metadata": {},
   "outputs": [
    {
     "data": {
      "text/plain": [
       "2.1"
      ]
     },
     "execution_count": 73,
     "metadata": {},
     "output_type": "execute_result"
    }
   ],
   "source": [
    "K2400.rangev(1)\n",
    "K2400.rangev()"
   ]
  },
  {
   "cell_type": "markdown",
   "id": "c676ccb5",
   "metadata": {},
   "source": [
    "#  Database initialisation"
   ]
  },
  {
   "cell_type": "code",
   "execution_count": 74,
   "id": "e09e380a",
   "metadata": {},
   "outputs": [
    {
     "data": {
      "text/plain": [
       "'c:\\\\Users\\\\quant\\\\OneDrive\\\\Documents\\\\GitHub\\\\QCoDeS_local\\\\init_database_v2.py'"
      ]
     },
     "execution_count": 74,
     "metadata": {},
     "output_type": "execute_result"
    }
   ],
   "source": [
    "def find_init_database_v2_py():\n",
    "    for root, dirs, files in os.walk(qcodes_local_dir):\n",
    "        if 'init_database_v2.py' in files:\n",
    "            return os.path.join(root, 'init_database_v2.py')\n",
    "    return None\n",
    "\n",
    "init_database_v2_py_path = find_init_database_v2_py()\n",
    "init_database_v2_py_path"
   ]
  },
  {
   "cell_type": "code",
   "execution_count": 75,
   "id": "7b665bc4",
   "metadata": {},
   "outputs": [
    {
     "name": "stdout",
     "output_type": "stream",
     "text": [
      "Creating a new database file:\n",
      "c:\\Users\\quant\\OneDrive\\Documents\\GitHub\\QCoDeS_local\\personal_scripts\\Hank\\AviT01\\AviT01_2024-12-16_02.db\n"
     ]
    }
   ],
   "source": [
    "reuse = False\n",
    "%run \"{init_database_v2_py_path}\" {reuse}"
   ]
  },
  {
   "cell_type": "markdown",
   "id": "6a8a2beb",
   "metadata": {},
   "source": [
    "\n",
    "# Scaled parameters"
   ]
  },
  {
   "cell_type": "code",
   "execution_count": null,
   "id": "e3b44b31",
   "metadata": {},
   "outputs": [],
   "source": []
  },
  {
   "cell_type": "markdown",
   "id": "ea4ff57a",
   "metadata": {},
   "source": [
    "## Defining scaled parameters"
   ]
  },
  {
   "cell_type": "code",
   "execution_count": 77,
   "id": "c8ca5b97",
   "metadata": {},
   "outputs": [
    {
     "ename": "RuntimeError",
     "evalue": "Cannot add component \"Irange\", because a component of that name is already registered to the station",
     "output_type": "error",
     "traceback": [
      "\u001b[1;31m---------------------------------------------------------------------------\u001b[0m",
      "\u001b[1;31mRuntimeError\u001b[0m                              Traceback (most recent call last)",
      "Cell \u001b[1;32mIn[77], line 34\u001b[0m\n\u001b[0;32m     31\u001b[0m Gain_L2 \u001b[38;5;241m=\u001b[39m Parameter(\u001b[38;5;124m'\u001b[39m\u001b[38;5;124mGain_L2\u001b[39m\u001b[38;5;124m'\u001b[39m, label\u001b[38;5;241m=\u001b[39m\u001b[38;5;124m'\u001b[39m\u001b[38;5;124mGain L2\u001b[39m\u001b[38;5;124m'\u001b[39m, unit\u001b[38;5;241m=\u001b[39m\u001b[38;5;124m'\u001b[39m\u001b[38;5;124m'\u001b[39m, set_cmd\u001b[38;5;241m=\u001b[39m\u001b[38;5;28;01mNone\u001b[39;00m, get_cmd\u001b[38;5;241m=\u001b[39m\u001b[38;5;28;01mNone\u001b[39;00m)\n\u001b[0;32m     33\u001b[0m \u001b[38;5;66;03m#Add components\u001b[39;00m\n\u001b[1;32m---> 34\u001b[0m \u001b[43mstation\u001b[49m\u001b[38;5;241;43m.\u001b[39;49m\u001b[43madd_component\u001b[49m\u001b[43m(\u001b[49m\u001b[43mIrange\u001b[49m\u001b[43m)\u001b[49m\n\u001b[0;32m     35\u001b[0m station\u001b[38;5;241m.\u001b[39madd_component(Vrange)\n\u001b[0;32m     36\u001b[0m station\u001b[38;5;241m.\u001b[39madd_component(TGrange)\n",
      "File \u001b[1;32mc:\\Users\\quant\\anaconda3\\envs\\qcodes\\Lib\\site-packages\\qcodes\\station.py:264\u001b[0m, in \u001b[0;36mStation.add_component\u001b[1;34m(self, component, name, update_snapshot)\u001b[0m\n\u001b[0;32m    262\u001b[0m namestr \u001b[38;5;241m=\u001b[39m \u001b[38;5;28mstr\u001b[39m(name)\n\u001b[0;32m    263\u001b[0m \u001b[38;5;28;01mif\u001b[39;00m namestr \u001b[38;5;129;01min\u001b[39;00m \u001b[38;5;28mself\u001b[39m\u001b[38;5;241m.\u001b[39mcomponents\u001b[38;5;241m.\u001b[39mkeys():\n\u001b[1;32m--> 264\u001b[0m     \u001b[38;5;28;01mraise\u001b[39;00m \u001b[38;5;167;01mRuntimeError\u001b[39;00m(\n\u001b[0;32m    265\u001b[0m         \u001b[38;5;124mf\u001b[39m\u001b[38;5;124m'\u001b[39m\u001b[38;5;124mCannot add component \u001b[39m\u001b[38;5;124m\"\u001b[39m\u001b[38;5;132;01m{\u001b[39;00mnamestr\u001b[38;5;132;01m}\u001b[39;00m\u001b[38;5;124m\"\u001b[39m\u001b[38;5;124m, because a \u001b[39m\u001b[38;5;124m'\u001b[39m\n\u001b[0;32m    266\u001b[0m         \u001b[38;5;124m'\u001b[39m\u001b[38;5;124mcomponent of that name is already registered to the station\u001b[39m\u001b[38;5;124m'\u001b[39m)\n\u001b[0;32m    267\u001b[0m \u001b[38;5;28mself\u001b[39m\u001b[38;5;241m.\u001b[39mcomponents[namestr] \u001b[38;5;241m=\u001b[39m component\n\u001b[0;32m    268\u001b[0m \u001b[38;5;28;01mreturn\u001b[39;00m namestr\n",
      "\u001b[1;31mRuntimeError\u001b[0m: Cannot add component \"Irange\", because a component of that name is already registered to the station"
     ]
    }
   ],
   "source": [
    "Irange = Parameter('Irange', label='current range', unit='', set_cmd=None, get_cmd=None)\n",
    "Vrange = Parameter('Vrange', label='voltage range', unit='', set_cmd=None, get_cmd=None)\n",
    "TGrange = Parameter('TGrange', label='Top gate range', unit='', set_cmd=None, get_cmd=None)\n",
    "\n",
    "#division paraemtrs required for simplier update: they used as an argument for scaled paraemtrs of sorce instruments\n",
    "\n",
    "\n",
    "Irange_division = Parameter('Irange_division', \n",
    "                            label='scaled current range', unit='', \n",
    "                            set_cmd=None, get_cmd=lambda : 1 / Irange())\n",
    "\n",
    "Vrange_division = Parameter('Vrange_division', \n",
    "                            label='scaled voltage range', unit='', \n",
    "                            set_cmd=None, get_cmd=lambda : 1 / Vrange())\n",
    "\n",
    "TGrange_division = Parameter('TGrange_division', \n",
    "                             label='scaled Top gate range', unit='', \n",
    "                             set_cmd=None, get_cmd=lambda : 1 / TGrange())\n",
    "\n",
    "Irange_AC_division = Parameter('Irange_AC_division', \n",
    "                               label='scaled current range for lockin', unit='', \n",
    "                               set_cmd=None, get_cmd=lambda : 1 / Irange())\n",
    "\n",
    "Vrange_AC_division = Parameter('Vrange_AC_division', \n",
    "                               label='scaled voltage range for lockin', unit='', \n",
    "                               set_cmd=None, get_cmd=lambda : 1 / Vrange())\n",
    "\n",
    "Gain_K1 = Parameter('Gain_K1', label='Gain K1', unit='', set_cmd=None, get_cmd=None)\n",
    "Gain_K2 = Parameter('Gain_K2', label='Gain K2', unit='', set_cmd=None, get_cmd=None)\n",
    "Gain_L1 = Parameter('Gain_L1', label='Gain L1', unit='', set_cmd=None, get_cmd=None)\n",
    "Gain_L2 = Parameter('Gain_L2', label='Gain L2', unit='', set_cmd=None, get_cmd=None)\n",
    "\n",
    "#Add components\n",
    "station.add_component(Irange)\n",
    "station.add_component(Vrange)\n",
    "station.add_component(TGrange)\n",
    "\n",
    "station.add_component(Irange_division)\n",
    "station.add_component(Vrange_division)\n",
    "station.add_component(TGrange_division)\n",
    "\n",
    "station.add_component(Irange_AC_division)\n",
    "station.add_component(Vrange_AC_division)\n",
    "                             \n",
    "station.add_component(Gain_K1)\n",
    "station.add_component(Gain_K2)\n",
    "station.add_component(Gain_L1)\n",
    "station.add_component(Gain_L2)"
   ]
  },
  {
   "cell_type": "markdown",
   "id": "6d7ecebe",
   "metadata": {},
   "source": [
    "## Parameters - update here during measuerements"
   ]
  },
  {
   "cell_type": "code",
   "execution_count": 78,
   "id": "b0b09fcc",
   "metadata": {},
   "outputs": [],
   "source": [
    "Irange.set(1e-6) #Unit Amp V=IR, 1V= 1e-6 x 1MOhm=1e-7 x 10MOhm\n",
    "Vrange.set(10) ## need to be sync with K213 range #Unit Volt\n",
    "TGrange.set(1) #Unit Volt\n",
    "Gain_K1.set(100)\n",
    "Gain_K2.set(100)\n",
    "# Gain_K3.set(1e2)\n",
    "Gain_L1.set(Gain_K1())\n",
    "Gain_L2.set(Gain_K2())\n",
    "#division parameters are updated automatically"
   ]
  },
  {
   "cell_type": "markdown",
   "id": "cbe7bfa7",
   "metadata": {},
   "source": [
    "## DC parameters"
   ]
  },
  {
   "cell_type": "code",
   "execution_count": 79,
   "id": "6a8c7deb",
   "metadata": {},
   "outputs": [
    {
     "data": {
      "text/plain": [
       "'meas_current_K1'"
      ]
     },
     "execution_count": 79,
     "metadata": {},
     "output_type": "execute_result"
    }
   ],
   "source": [
    "# appl_current = ScaledParameter(lockin_1.sine_outdc, division = Irange_division, name = 'appl_current', unit = 'A')\n",
    "appl_current = ScaledParameter(K2440.volt, division = Irange_division, name = 'appl_current', unit = 'A')\n",
    "\n",
    "appl_TG = ScaledParameter(K2400.volt, division = TGrange_division, name = 'appl_TG', unit = 'V')\n",
    "\n",
    "meas_voltage_K1 = ScaledParameter(DMM6500.amplitude, division = Gain_K1, name = 'meas_voltage_K1', unit = 'V')\n",
    "# meas_voltage_K2 = ScaledParameter(DMM6500.amplitude, division = Gain_K2, name = 'meas_voltage_K2', unit = 'V')\n",
    "\n",
    "# meas_leakage = ScaledParameter(DMM6500.amplitude, division = Gain_K2, name = 'meas_leakage', unit = 'A')\n",
    "\n",
    "meas_current_K1 = ScaledParameter(DMM6500.amplitude, division = Gain_K1, name = 'meas_current_K1', unit = 'A')\n",
    "# meas_current_K2 = ScaledParameter(DMM6500.amplitude, division = Gain_K2, name = 'meas_current_K2', unit = 'A')\n",
    "\n",
    "station.add_component(appl_current)\n",
    "# station.add_component(appl_voltage)\n",
    "station.add_component(appl_TG)\n",
    "\n",
    "station.add_component(meas_voltage_K1)\n",
    "# station.add_component(meas_voltage_K2)\n",
    "\n",
    "# station.add_component(meas_leakage)\n",
    "\n",
    "station.add_component(meas_current_K1)\n",
    "# station.add_component(meas_current_K2)"
   ]
  },
  {
   "cell_type": "markdown",
   "id": "a23afd58",
   "metadata": {},
   "source": [
    "##  AC parameters"
   ]
  },
  {
   "cell_type": "code",
   "execution_count": null,
   "id": "769f6a51",
   "metadata": {},
   "outputs": [],
   "source": [
    "appl_current_AC = ScaledParameter(lockin_1.amplitude, division = Irange_AC_division, name = 'appl_current_AC', unit = 'A')\n",
    "appl_voltage_AC = ScaledParameter(lockin_1.amplitude, division = Vrange_AC_division, name = 'appl_voltage_AC', unit = 'V')\n",
    "\n",
    "station.add_component(appl_current_AC)\n",
    "station.add_component(appl_voltage_AC)\n",
    "\n",
    "meas_voltage_AC_L1 = ScaledParameter(lockin_1.X, division = Gain_L1, name = 'meas_voltage_Lockin1', unit = 'V')\n",
    "meas_current_AC_L1 = ScaledParameter(lockin_1.X, division = Gain_L1, name = 'meas_current_Lockin1', unit = 'A')\n",
    "meas_phase_AC_L1 = ScaledParameter(lockin_1.P, division = 1, name = 'meas_phase_Lockin1', unit = 'degree')\n",
    "\n",
    "\n",
    "# meas_voltage_AC_L2 = ScaledParameter(lockin_2.X, division = Gain_L2, name = 'meas_voltage_Lockin2', unit = 'V')\n",
    "# meas_current_AC_L2 = ScaledParameter(lockin_2.X, division = Gain_L2, name = 'meas_current_Lockin2', unit = 'A')\n",
    "# meas_phase_AC_L2 = ScaledParameter(lockin_2.P, division = 1, name = 'meas_phase_Lockin1', unit = 'degree')\n",
    "\n",
    "station.add_component(meas_voltage_AC_L1)\n",
    "station.add_component(meas_current_AC_L1)\n",
    "station.add_component(meas_phase_AC_L1)\n",
    "\n",
    "# station.add_component(meas_voltage_AC_L2)\n",
    "# station.add_component(meas_current_AC_L2)\n",
    "\n",
    "meas_voltage_AC_L1_R = ScaledParameter(lockin_1.R, division = Gain_L1, name = 'meas_voltage_R_Lockin1', unit = 'V')\n",
    "# meas_voltage_AC_L2_R = ScaledParameter(lockin_2.R, division = Gain_L2, name = 'meas_voltage_R_Lockin2', unit = 'V')\n",
    "\n",
    "station.add_component(meas_voltage_AC_L1_R)\n",
    "# station.add_component(meas_voltage_AC_L2_R)"
   ]
  },
  {
   "cell_type": "code",
   "execution_count": null,
   "id": "bcd10ed7",
   "metadata": {},
   "outputs": [],
   "source": [
    "meas_voltage_AC_L1_P = ScaledParameter(lockin_1.P, division = 1, name = 'meas_voltage_Lockin1_P', unit = 'degree')\n",
    "meas_current_AC_L1_P = ScaledParameter(lockin_1.P, division = 1, name = 'meas_current_Lockin1_P', unit = 'degree')\n",
    "\n",
    "# meas_voltage_AC_L2_P = ScaledParameter(lockin_2.P, division = 1, name = 'meas_voltage_Lockin2_P', unit = 'degree')\n",
    "# meas_current_AC_L2_P = ScaledParameter(lockin_2.P, division = 1, name = 'meas_current_Lockin2_P', unit = 'degree')\n",
    "\n",
    "station.add_component(meas_voltage_AC_L1_P)\n",
    "station.add_component(meas_current_AC_L1_P)\n",
    "\n",
    "# station.add_component(meas_voltage_AC_L2_P)\n",
    "# station.add_component(meas_current_AC_L2_P)"
   ]
  },
  {
   "cell_type": "markdown",
   "id": "8d9d6239",
   "metadata": {},
   "source": [
    "## Another useful example: magnet using dac (Janis)"
   ]
  },
  {
   "cell_type": "markdown",
   "id": "92e1f309",
   "metadata": {},
   "source": [
    ">2231.2 G per A => 0.22312 T per A<br>\n",
    "I source 10mA per V => 1e-5 A per 1mV<br>\n",
    "result: 0.22312 T/A * 1e-5 A/mV"
   ]
  },
  {
   "cell_type": "code",
   "execution_count": 80,
   "id": "6b2b657a",
   "metadata": {},
   "outputs": [
    {
     "ename": "ValueError",
     "evalue": "Run with run_id 1 does not exist in the database",
     "output_type": "error",
     "traceback": [
      "\u001b[1;31m---------------------------------------------------------------------------\u001b[0m",
      "\u001b[1;31mValueError\u001b[0m                                Traceback (most recent call last)",
      "Cell \u001b[1;32mIn[80], line 9\u001b[0m\n\u001b[0;32m      1\u001b[0m \u001b[38;5;66;03m# def get_R_from_IV(dataid):\u001b[39;00m\n\u001b[0;32m      2\u001b[0m \u001b[38;5;66;03m#     dataset = qc.load_by_id(dataid)\u001b[39;00m\n\u001b[0;32m      3\u001b[0m \u001b[38;5;66;03m#     voltage = dataset.get_parameter_data()['meas_voltage_K2']['meas_voltage_K2']\u001b[39;00m\n\u001b[1;32m   (...)\u001b[0m\n\u001b[0;32m      6\u001b[0m     \n\u001b[0;32m      7\u001b[0m \u001b[38;5;66;03m#     return fit_values[0]\u001b[39;00m\n\u001b[1;32m----> 9\u001b[0m dataset \u001b[38;5;241m=\u001b[39m \u001b[43mqc\u001b[49m\u001b[38;5;241;43m.\u001b[39;49m\u001b[43mload_by_id\u001b[49m\u001b[43m(\u001b[49m\u001b[38;5;241;43m1\u001b[39;49m\u001b[43m)\u001b[49m\n\u001b[0;32m     10\u001b[0m run_id\u001b[38;5;241m=\u001b[39m\u001b[38;5;241m1\u001b[39m\n\u001b[0;32m     11\u001b[0m \u001b[38;5;28;01mdef\u001b[39;00m \u001b[38;5;21mget_R_from_IV_2\u001b[39m(dataid):\n",
      "File \u001b[1;32mc:\\Users\\quant\\anaconda3\\envs\\qcodes\\Lib\\site-packages\\qcodes\\dataset\\data_set.py:1635\u001b[0m, in \u001b[0;36mload_by_id\u001b[1;34m(run_id, conn)\u001b[0m\n\u001b[0;32m   1633\u001b[0m     guid \u001b[38;5;241m=\u001b[39m get_guid_from_run_id(internal_conn, run_id)\n\u001b[0;32m   1634\u001b[0m     \u001b[38;5;28;01mif\u001b[39;00m guid \u001b[38;5;129;01mis\u001b[39;00m \u001b[38;5;28;01mNone\u001b[39;00m:\n\u001b[1;32m-> 1635\u001b[0m         \u001b[38;5;28;01mraise\u001b[39;00m \u001b[38;5;167;01mValueError\u001b[39;00m(\u001b[38;5;124mf\u001b[39m\u001b[38;5;124m\"\u001b[39m\u001b[38;5;124mRun with run_id \u001b[39m\u001b[38;5;132;01m{\u001b[39;00mrun_id\u001b[38;5;132;01m}\u001b[39;00m\u001b[38;5;124m does not exist in the database\u001b[39m\u001b[38;5;124m\"\u001b[39m)\n\u001b[0;32m   1636\u001b[0m     d \u001b[38;5;241m=\u001b[39m _get_datasetprotocol_from_guid(guid, internal_conn)\n\u001b[0;32m   1637\u001b[0m \u001b[38;5;28;01mfinally\u001b[39;00m:\n\u001b[0;32m   1638\u001b[0m     \u001b[38;5;66;03m# dataset takes ownership of the connection but DataSetInMem does not\u001b[39;00m\n",
      "\u001b[1;31mValueError\u001b[0m: Run with run_id 1 does not exist in the database"
     ]
    }
   ],
   "source": [
    "# def get_R_from_IV(dataid):\n",
    "#     dataset = qc.load_by_id(dataid)\n",
    "#     voltage = dataset.get_parameter_data()['meas_voltage_K2']['meas_voltage_K2']\n",
    "#     current = dataset.get_parameter_data()['meas_voltage_K2']['appl_current']\n",
    "#     fit_values = np.polyfit(current,voltage,1)\n",
    "    \n",
    "#     return fit_values[0]\n",
    "\n",
    "dataset = qc.load_by_id(1)\n",
    "run_id=1\n",
    "def get_R_from_IV_2(dataid):\n",
    "    dataset = qc.load_by_id(dataid)\n",
    "    voltage = dataset.get_parameter_data()['meas_voltage_K2']['meas_voltage_K2']\n",
    "    current = dataset.get_parameter_data()['meas_voltage_K2']['appl_current']\n",
    "    fit_values = np.polyfit(current,voltage,1)\n",
    "\n",
    "    return fit_values[0]\n",
    "\n",
    "def get_R_from_IV(dataid):\n",
    "    dataset = qc.load_by_id(dataid)\n",
    "    para_list = dataset.parameters.split(\",\")\n",
    "    voltage = dataset.get_parameter_data()[para_list[1]][para_list[1]]\n",
    "    current = dataset.get_parameter_data()[para_list[1]][para_list[0]]\n",
    "    fit_values = np.polyfit(current,voltage,1)\n",
    "    return fit_values[0]\n",
    "\n",
    "\n",
    "def get_R_from_IV_K2(dataid):\n",
    "    dataset = qc.load_by_id(dataid)\n",
    "    voltage = dataset.get_parameter_data()['meas_voltage_K2']['meas_voltage_K2']\n",
    "    current = dataset.get_parameter_data()['meas_voltage_K2']['appl_current']\n",
    "    fit_values = np.polyfit(current,voltage,1)\n",
    "    return fit_values[0]\n",
    "\n",
    "def autosave_plot_by_id(run_id, save_path):\n",
    "    fig, ax = plt.subplots()\n",
    "    plot_by_id(run_id, axes=ax)\n",
    "    plt.savefig(save_path)\n",
    "    plt.close()\n",
    "\n",
    "def get_detaset_info(dataset=dataset):\n",
    "    run_id = dataset.captured_run_id\n",
    "    exp_name = dataset.exp_name\n",
    "    sample_name = dataset.sample_name\n",
    "    name = dataset.name\n",
    "    description = dataset.description\n",
    "    sample_junction = extract_sample_junction(sample_name)\n",
    "    return run_id, exp_name, sample_name, sample_junction, name, description\n",
    "\n",
    "def extract_sample_junction(sample_name):\n",
    "    \"\"\"Extracts the complete sample junction from the provided sample name.\n",
    "\n",
    "    Args:\n",
    "      sample_name: The name of the sample containing the junction information.\n",
    "\n",
    "    Returns:\n",
    "      The extracted sample junction, or None if not found.\n",
    "    \"\"\"\n",
    "\n",
    "    delimiter = \"_J\"\n",
    "    if delimiter in sample_name:\n",
    "        # +3 to include \"_J\"\n",
    "        return sample_name[:sample_name.find(delimiter) + 3]\n",
    "    else:\n",
    "        return None\n",
    "\n",
    "def IV(run_id=1):\n",
    "    dataset = qc.load_by_id(run_id)\n",
    "    R = get_R_from_IV(run_id)\n",
    "    run_id, exp_name, sample_name, sample_junction, name, description = get_detaset_info(\n",
    "        dataset)\n",
    "    df = dataset.to_pandas_dataframe().reset_index()\n",
    "    para_list = dataset.parameters.split(\",\")\n",
    "\n",
    "    # Create a Plotly trace\n",
    "    trace = go.Scatter(x=df[para_list[0]], y=df[para_list[1]]*1e3, mode='lines', name='Voltage vs. Current')\n",
    "\n",
    "    # Create layout with micro-scale y-axis\n",
    "    layout = go.Layout(title=f'<b>#{run_id} {exp_name}</b> {sample_name}, R_fit={R:.4f} Ω', title_font=dict(size=28),\n",
    "                       xaxis=dict(title=para_list[0], tickfont=dict(size=16),title_font=dict(size=20)),\n",
    "                       yaxis=dict(title=f\"{para_list[1]} mV\", tickfont=dict(size=16),title_font=dict(size=20)), \n",
    "                       width=1080, height=960,\n",
    "                       margin=dict(l=10, r=10, t=50, b=10))\n",
    "\n",
    "    # Create the figure\n",
    "    fig = go.Figure(data=[trace], layout=layout)\n",
    "    \n",
    "    fig.show()\n",
    "\n",
    "def IV_diff(run_id=1):\n",
    "    import numpy as np\n",
    "    import plotly.graph_objs as go\n",
    "    from scipy.signal import find_peaks\n",
    "    dataset = qc.load_by_id(run_id)\n",
    "\n",
    "    df = dataset.to_pandas_dataframe().reset_index()\n",
    "    para_list = dataset.parameters.split(\",\")\n",
    "\n",
    "    current = df[para_list[0]].tolist()\n",
    "    voltage = df[para_list[1]].tolist()\n",
    "\n",
    "    # Compute differential of voltage with respect to current\n",
    "    differential_voltage = np.diff(voltage) / np.diff(current)\n",
    "\n",
    "    # Since the differential will have one less data point, adjust the current data\n",
    "    # to have the same length as the differential data\n",
    "    current = current[:-1]\n",
    "\n",
    "    # Find peaks in the differential signal\n",
    "    peaks, _ = find_peaks(differential_voltage)\n",
    "\n",
    "    # Extract peak current and peak differential voltage values\n",
    "    peak_current = [current[i] for i in peaks]\n",
    "    peak_voltage_diff = [differential_voltage[i] for i in peaks]\n",
    "\n",
    "    # Sort the peaks based on their values\n",
    "    sorted_peak_indices = np.argsort(peak_voltage_diff)[::-1]  # Sort in descending order\n",
    "    top_two_peak_indices = sorted_peak_indices[:2]  # Select the top two indices\n",
    "\n",
    "    # Extract the top two peaks\n",
    "    top_two_peak_current = [peak_current[i] for i in top_two_peak_indices]\n",
    "    top_two_peak_voltage_diff = [peak_voltage_diff[i] for i in top_two_peak_indices]\n",
    "\n",
    "    # Calculate the center points of the top two peaks\n",
    "    center_points = [(top_two_peak_current[i] + top_two_peak_current[i+1]) / 2 for i in range(len(top_two_peak_current) - 1)]\n",
    "\n",
    "    # Calculate the difference between the top two biggest peaks\n",
    "    peak_difference = abs(top_two_peak_current[0] - top_two_peak_current[1])\n",
    "\n",
    "    # Determine the appropriate unit for current\n",
    "    if peak_difference >= 1e-3:\n",
    "        unit = \"mA\"\n",
    "        conversion_factor = 1e3\n",
    "    elif peak_difference >= 1e-6:\n",
    "        unit = \"μA\"\n",
    "        conversion_factor = 1e6\n",
    "    else:\n",
    "        unit = \"nA\"\n",
    "        conversion_factor = 1e9\n",
    "\n",
    "    # Determine the appropriate unit for current\n",
    "    if peak_difference >= 1e-3:\n",
    "        unit = \"mA\"\n",
    "    elif peak_difference >= 1e-6:\n",
    "        unit = \"μA\"\n",
    "    elif peak_difference >= 1e-9:\n",
    "        unit = \"nA\"\n",
    "    else:\n",
    "        unit = \"pA\"\n",
    "\n",
    "    # Create a Plotly trace for the differential\n",
    "    trace_diff = go.Scatter(x=[c * conversion_factor for c in current], y=differential_voltage, mode='lines', name='d(Voltage)/d(Current)')\n",
    "    # Add markers for the top two peaks\n",
    "    trace_top_two_peaks = go.Scatter(x=[p * conversion_factor for p in top_two_peak_current], y=top_two_peak_voltage_diff, mode='markers', marker=dict(color='red'), name='Top Two Peaks')\n",
    "    # Add markers for the center points\n",
    "    trace_center_points = go.Scatter(x=center_points, y=[0]*len(center_points), mode='markers', marker=dict(color='blue', symbol='cross'), name='Center Points')\n",
    "\n",
    "    # Create layout\n",
    "    layout = go.Layout(title=f'Run #{id} I vs. dV/dI',\n",
    "                    xaxis=dict(title=f'Current ({unit})'),\n",
    "                    yaxis=dict(title='d(Voltage)/d(Current)'),\n",
    "                    legend=dict(orientation=\"h\", yanchor=\"top\", y=1.10, xanchor=\"center\", x=0.5),\n",
    "                    width=600, height=600  \n",
    "                    )\n",
    "\n",
    "    # Create the figure\n",
    "    fig = go.Figure(data=[trace_diff, trace_top_two_peaks, trace_center_points], layout=layout)\n",
    "\n",
    "    # Add annotation for the current value of center points\n",
    "    for i, center_point in enumerate(center_points):\n",
    "        fig.add_annotation(\n",
    "            x=center_point * conversion_factor,\n",
    "            y=0, #0.4 * max(differential_voltage),\n",
    "            text=f'Center Point: {center_point * conversion_factor:.3f}{unit} <br> Peak difference: {peak_difference*conversion_factor:.3f} {unit}',\n",
    "            showarrow=True,\n",
    "            arrowhead=2,\n",
    "            arrowsize=1,\n",
    "            arrowwidth=2,\n",
    "            arrowcolor='black',\n",
    "            ax=-100,\n",
    "            ay=-200 - 30 * i\n",
    "        )\n",
    "\n",
    "    # Plot the figure\n",
    "    fig.show()\n",
    "\n",
    "def get_Mag(show=True):\n",
    "    Mag_x = magnet_x.field()\n",
    "    Mag_y = magnet_y.field()\n",
    "    Mag_z = magnet_z.field()\n",
    "    if show:\n",
    "        print(f\"Mag_x: {Mag_x*1e3:.6f} mT\")\n",
    "        print(f\"Mag_y: {Mag_y*1e3:.6f} mT\")\n",
    "        print(f\"Mag_z: {Mag_z*1e3:.6f} mT\")\n",
    "    else: \n",
    "        return Mag_x, Mag_y, Mag_z"
   ]
  },
  {
   "cell_type": "code",
   "execution_count": null,
   "id": "934a7b70",
   "metadata": {},
   "outputs": [],
   "source": [
    "appl_current(0.5e-6)\n",
    "appl_current_AC(10e-9)"
   ]
  },
  {
   "cell_type": "code",
   "execution_count": null,
   "id": "e0040749",
   "metadata": {},
   "outputs": [],
   "source": [
    "df = dataset.to_pandas_dataframe().reset_index()\n",
    "df"
   ]
  },
  {
   "cell_type": "markdown",
   "id": "885e5c90",
   "metadata": {},
   "source": [
    "# Simple IVs"
   ]
  },
  {
   "cell_type": "markdown",
   "id": "cdb6884c",
   "metadata": {},
   "source": [
    "## IV"
   ]
  },
  {
   "cell_type": "code",
   "execution_count": 23,
   "id": "f6c71fe1",
   "metadata": {},
   "outputs": [],
   "source": [
    "K2440.output(1)\n",
    "DMM6500.averaging_count(5)\n",
    "DMM6500.averaging_enabled(True)\n",
    "DMM6500.averaging_enabled(False)\n",
    "K2440.output(0)"
   ]
  },
  {
   "cell_type": "code",
   "execution_count": 97,
   "id": "88a5c92b",
   "metadata": {},
   "outputs": [],
   "source": [
    "# Set current to 0\n",
    "K2440.output(0)\n",
    "appl_current(0e-6)"
   ]
  },
  {
   "cell_type": "code",
   "execution_count": null,
   "id": "af7949e7",
   "metadata": {},
   "outputs": [],
   "source": [
    "IV(3)"
   ]
  },
  {
   "cell_type": "code",
   "execution_count": 96,
   "id": "cfe88b04",
   "metadata": {},
   "outputs": [],
   "source": [
    "appl_TG(0)\n",
    "K2400.output(0)"
   ]
  },
  {
   "cell_type": "code",
   "execution_count": 95,
   "id": "94d8b3fa",
   "metadata": {},
   "outputs": [
    {
     "data": {
      "application/vnd.jupyter.widget-view+json": {
       "model_id": "dea3800434384ab486ebfdd242982839",
       "version_major": 2,
       "version_minor": 0
      },
      "image/png": "[encoded data removed]",
      "text/html": [
       "\n",
       "            <div style=\"display: inline-block;\">\n",
       "                <div class=\"jupyter-widgets widget-label\" style=\"text-align: center;\">\n",
       "                    Figure 1\n",
       "                </div>\n",
       "                <img src='data:image/png;base64,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' width=640.0/>\n",
       "            </div>\n",
       "        "
      ],
      "text/plain": [
       "Canvas(toolbar=Toolbar(toolitems=[('Home', 'Reset original view', 'home', 'home'), ('Back', 'Back to previous …"
      ]
     },
     "metadata": {},
     "output_type": "display_data"
    }
   ],
   "source": [
    "from IPython.display import clear_output\n",
    "RList = []\n",
    "TGList = np.linspace(-4, 3, 71)\n",
    "# TGList = [-4]\n",
    "for TG in TGList:\n",
    "    I_range=0.8e-6\n",
    "    appl_TG(TG)\n",
    "    K2400.output(1)\n",
    "    K2440.output(1)\n",
    "    appl_current(-I_range) #Limit:1e-5 Amp(1MOhms risistor),1e-6 Amp(10MOhms risistor)\n",
    "    sleep(1)\n",
    "    # station.snapshot(update=True);\n",
    "    mVTG = int(TG*1000)\n",
    "    sample_Name=f'AviT01_16-17-27-26_G{mVTG}mV'\n",
    "    exp = qc.new_experiment('I-V', sample_name=sample_Name)\n",
    "    dataid = do1d(appl_current, -I_range ,I_range, 51, 0.03, meas_voltage_K1)\n",
    "    appl_current(0)\n",
    "    K2440.output(0)\n",
    "\n",
    "    # plot_by_id(dataid)\n",
    "    #save_path = r\"C:\\qcodes\\personal_scripts\\Albert\\104\\Plot\\104_{}.png\".format(dataid)  # Path to save the plot image\n",
    "    #autosave_plot_by_id(dataid, save_path)\n",
    "    print(f\"R = {get_R_from_IV(dataid)}\")\n",
    "    # dataset = qc.load_by_id(dataid)\n",
    "    IV(dataid)\n",
    "    IV_diff(dataid)\n",
    "    RList.append(get_R_from_IV(dataid))\n",
    "    clear_output(wait=True)\n",
    "plt.clf() \n",
    "plt.plot( TGList, RList)\n",
    "plt.xlabel('TGList')\n",
    "plt.ylabel('RList')\n",
    "plt.title('TGList vs RList')\n",
    "plt.grid(True)\n",
    "\n",
    "# Save the plot\n",
    "plt.savefig(\"AviT01_TGList_vs_RList_-4Vto3V_FourthTrial.jpg\")\n",
    "\n",
    "# Save the arrays\n",
    "np.save(\"AviT01_TGList_-4Vto3V_FourthTrial.npy\", TGList)\n",
    "np.save(\"AviT01_RList_-4Vto3V_FourthTrial.npy\", RList)\n",
    "\n",
    "plt.show()"
   ]
  },
  {
   "cell_type": "code",
   "execution_count": 79,
   "id": "aecf279c",
   "metadata": {},
   "outputs": [],
   "source": [
    "# Save the arrays\n",
    "np.save(\"TGList.npy\", TGList)\n",
    "np.save(\"RList.npy\", RList)"
   ]
  },
  {
   "cell_type": "code",
   "execution_count": 93,
   "id": "c7a3b681",
   "metadata": {},
   "outputs": [
    {
     "data": {
      "text/plain": [
       "array([ 2.   ,  1.925,  1.85 ,  1.775,  1.7  ,  1.625,  1.55 ,  1.475,\n",
       "        1.4  ,  1.325,  1.25 ,  1.175,  1.1  ,  1.025,  0.95 ,  0.875,\n",
       "        0.8  ,  0.725,  0.65 ,  0.575,  0.5  ,  0.425,  0.35 ,  0.275,\n",
       "        0.2  ,  0.125,  0.05 , -0.025, -0.1  , -0.175, -0.25 , -0.325,\n",
       "       -0.4  , -0.475, -0.55 , -0.625, -0.7  , -0.775, -0.85 , -0.925,\n",
       "       -1.   ])"
      ]
     },
     "execution_count": 93,
     "metadata": {},
     "output_type": "execute_result"
    }
   ],
   "source": [
    "np.linspace(2, -1, 41)"
   ]
  },
  {
   "cell_type": "code",
   "execution_count": 84,
   "id": "c70a855f",
   "metadata": {},
   "outputs": [
    {
     "data": {
      "text/plain": [
       "(21,)"
      ]
     },
     "execution_count": 84,
     "metadata": {},
     "output_type": "execute_result"
    }
   ],
   "source": [
    "np.shape(RList)"
   ]
  },
  {
   "cell_type": "code",
   "execution_count": 87,
   "id": "24fb4ba8",
   "metadata": {},
   "outputs": [
    {
     "data": {
      "application/vnd.jupyter.widget-view+json": {
       "model_id": "b36a12f75ab6445599d4014240a878d6",
       "version_major": 2,
       "version_minor": 0
      },
      "image/png": "[encoded data removed]",
      "text/html": [
       "\n",
       "            <div style=\"display: inline-block;\">\n",
       "                <div class=\"jupyter-widgets widget-label\" style=\"text-align: center;\">\n",
       "                    Figure 1\n",
       "                </div>\n",
       "                <img src='data:image/png;base64,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' width=640.0/>\n",
       "            </div>\n",
       "        "
      ],
      "text/plain": [
       "Canvas(toolbar=Toolbar(toolitems=[('Home', 'Reset original view', 'home', 'home'), ('Back', 'Back to previous …"
      ]
     },
     "metadata": {},
     "output_type": "display_data"
    }
   ],
   "source": [
    "plt.clf() \n",
    "plt.plot(TGList, RList)\n",
    "plt.xlabel('TGList')\n",
    "plt.ylabel('RList')\n",
    "plt.title('TGList vs RList')\n",
    "plt.grid(True)\n",
    "\n",
    "# Save the plot\n",
    "plt.savefig(\"TGList_vs_RList.jpg\")\n",
    "plt.show()"
   ]
  },
  {
   "cell_type": "code",
   "execution_count": null,
   "id": "ee32ef77",
   "metadata": {},
   "outputs": [],
   "source": [
    "get_R_from_IV(dataid)"
   ]
  },
  {
   "cell_type": "code",
   "execution_count": null,
   "id": "ae71124e",
   "metadata": {},
   "outputs": [],
   "source": [
    "dataset = qc.load_by_id(dataid)\n",
    "get_R_from_IV(dataid)\n",
    "IV(dataid)\n",
    "IV_diff(dataid)"
   ]
  },
  {
   "cell_type": "code",
   "execution_count": 32,
   "id": "795c08e0",
   "metadata": {},
   "outputs": [],
   "source": [
    "import plotly.graph_objs as go"
   ]
  },
  {
   "cell_type": "code",
   "execution_count": null,
   "id": "ea6a7850",
   "metadata": {},
   "outputs": [],
   "source": []
  },
  {
   "cell_type": "code",
   "execution_count": null,
   "id": "9ca53ea4",
   "metadata": {},
   "outputs": [],
   "source": [
    "for i in tqdm(range(1000)):\n",
    "    K2440.output(1)\n",
    "    I_range=1e-6\n",
    "    appl_current(-I_range) #Limit:1e-5 Amp(1MOhms risistor),1e-6 Amp(10MOhms risistor)\n",
    "    sleep(0.001)\n",
    "    # station.snapshot(update=True);\n",
    "    exp = qc.new_experiment('I-V', sample_name=f'103-03_J1_33-32-30-31_1M_F{i+1}')\n",
    "    dataid = do1d(appl_current, -I_range ,I_range, 101, 0.0001, meas_voltage_K2, meas_voltage_AC_L1,meas_voltage_AC_L1_P)\n",
    "    exp = qc.new_experiment('I-V', sample_name=f'103-03_J1_33-32-30-31_1M_B{i+1}')\n",
    "    dataid = do1d(appl_current, I_range ,-I_range, 101, 0.0001, meas_voltage_K2)\n",
    "    K2440.output(0)\n",
    "    clear_output(True)"
   ]
  },
  {
   "cell_type": "code",
   "execution_count": null,
   "id": "ffc1e4dd",
   "metadata": {},
   "outputs": [],
   "source": [
    "get_Mag()"
   ]
  },
  {
   "cell_type": "code",
   "execution_count": null,
   "id": "2908c940",
   "metadata": {},
   "outputs": [],
   "source": [
    "SGS.off()"
   ]
  },
  {
   "cell_type": "code",
   "execution_count": null,
   "id": "d82eb13a",
   "metadata": {},
   "outputs": [],
   "source": [
    "SGS.power(0)"
   ]
  },
  {
   "cell_type": "code",
   "execution_count": null,
   "id": "242d95fc",
   "metadata": {},
   "outputs": [],
   "source": [
    "DMM6500.averaging_count(5)\n",
    "DMM6500.averaging_enabled(True)"
   ]
  },
  {
   "cell_type": "code",
   "execution_count": null,
   "id": "e0c518ad",
   "metadata": {},
   "outputs": [],
   "source": [
    "for i in tqdm(range(21)):\n",
    "    I_range = round(round(0.55 + 5*i * 1e-4, 6)* 1e-6, 10)  # Round to 3 decimal places\n",
    "    print(I_range)\n"
   ]
  },
  {
   "cell_type": "code",
   "execution_count": null,
   "id": "78e3e90f",
   "metadata": {},
   "outputs": [],
   "source": []
  },
  {
   "cell_type": "code",
   "execution_count": null,
   "id": "0999a81b",
   "metadata": {},
   "outputs": [],
   "source": [
    "for i in tqdm(range(21)):\n",
    "    K2440.output(1)\n",
    "    I_range = round(round(0.55 + 5*i * 1e-4, 6)* 1e-6, 10) \n",
    "    appl_current(-I_range) #Limit:1e-5 Amp(1MOhms risistor),1e-6 Amp(10MOhms risistor)\n",
    "    sleep(2)\n",
    "    # station.snapshot(update=True);\n",
    "    exp = qc.new_experiment('I-V', sample_name=f'103-04_J1_24-25-05-04(06-07G)_1M_By@0mT_{-I_range}_201')\n",
    "    dataid = do1d(appl_current, -I_range ,I_range, 201, 0.00001, meas_voltage_K2)\n",
    "\n",
    "    appl_current(0)\n",
    "    K2440.output(0)\n",
    "\n",
    "\n",
    "    plot_by_id(dataid)\n",
    "    save_path = r\"D:\\data\\Albert\\103\\Plot\\104_{}.png\".format(dataid)  # Path to save the plot image\n",
    "    autosave_plot_by_id(dataid, save_path)\n",
    "    print(f\"ID:{dataid}\")\n",
    "    print(f\"R = {get_R_from_IV_2(dataid)}\")\n",
    "    dataset = qc.load_by_id(dataid)\n",
    "    IV(id=dataid)\n",
    "    IV_diff(id=dataid)"
   ]
  },
  {
   "cell_type": "code",
   "execution_count": null,
   "id": "e9ac98ca",
   "metadata": {},
   "outputs": [],
   "source": [
    "DMM6500.averaging_count(5)\n",
    "DMM6500.averaging_enabled(True)"
   ]
  },
  {
   "cell_type": "code",
   "execution_count": null,
   "id": "ad55deb3",
   "metadata": {},
   "outputs": [],
   "source": [
    "K2440.output(1)\n",
    "I_range = -6e-6\n",
    "appl_current(-I_range) #Limit:1e-5 Amp(1MOhms risistor),1e-6 Amp(10MOhms risistor)\n",
    "sleep(2)\n",
    "# station.snapshot(update=True);\n",
    "exp = qc.new_experiment('I-V', sample_name=f'103-03_J2_27-26-30-31M(32G-33G-28G-29G)_1M_By@0.1mT{-I_range}')\n",
    "dataid = do1d(appl_current, -I_range  ,I_range , 2601, 0.00001, meas_voltage_K2)\n",
    "appl_current(0)\n",
    "K2440.output(0)\n",
    "plot_by_id(dataid)\n",
    "save_path = r\"D:\\data\\Albert\\103\\Plot\\104_{}.png\".format(dataid)  # Path to save the plot image\n",
    "autosave_plot_by_id(dataid, save_path)\n",
    "print(f\"R = {get_R_from_IV_2(dataid)}\")\n",
    "dataset = qc.load_by_id(dataid)"
   ]
  },
  {
   "cell_type": "code",
   "execution_count": null,
   "id": "2b0e1832",
   "metadata": {},
   "outputs": [],
   "source": [
    "K2440.output(1)\n",
    "I_range = 6e-6\n",
    "appl_current(-I_range) #Limit:1e-5 Amp(1MOhms risistor),1e-6 Amp(10MOhms risistor)\n",
    "sleep(2)\n",
    "# station.snapshot(update=True);\n",
    "exp = qc.new_experiment('I-V', sample_name=f'103-03_J2_27-26-30-31M(32G-33G-28G-29G)_1M_By@0.1mT{-I_range}')\n",
    "dataid = do1d(appl_current, -I_range  ,I_range , 2601, 0.00001, meas_voltage_K2)\n",
    "appl_current(0)\n",
    "K2440.output(0)\n",
    "plot_by_id(dataid)\n",
    "save_path = r\"D:\\data\\Albert\\103\\Plot\\104_{}.png\".format(dataid)  # Path to save the plot image\n",
    "autosave_plot_by_id(dataid, save_path)\n",
    "print(f\"ID:{dataid}\")\n",
    "print(f\"R = {get_R_from_IV_2(dataid)}\")\n",
    "dataset = qc.load_by_id(dataid)\n",
    "# IV(id=dataid)\n",
    "# IV_diff(id=dataid)"
   ]
  },
  {
   "cell_type": "code",
   "execution_count": null,
   "id": "e90dc212",
   "metadata": {},
   "outputs": [],
   "source": [
    "25-05-06-07(04-24G)\n"
   ]
  },
  {
   "cell_type": "code",
   "execution_count": null,
   "id": "5c79e45a",
   "metadata": {},
   "outputs": [],
   "source": [
    "K2440.output(1)\n",
    "I_range=-7e-6\n",
    "appl_current(-I_range) #Limit:1e-5 Amp(1MOhms risistor),1e-6 Amp(10MOhms risistor)\n",
    "sleep(2)\n",
    "# station.snapshot(update=True);\n",
    "exp = qc.new_experiment('I-V', sample_name='103-03_J2_32-30-26-27_1M_By@0mT')\n",
    "dataid = do1d(appl_current, -I_range ,I_range, 1401, 0.0001, meas_voltage_K2)\n",
    "\n",
    "appl_current(0)\n",
    "K2440.output(0)\n",
    "\n",
    "\n",
    "plot_by_id(dataid)\n",
    "save_path = r\"D:\\data\\Albert\\103\\Plot\\104_{}.png\".format(dataid)  # Path to save the plot image\n",
    "autosave_plot_by_id(dataid, save_path)\n",
    "print(f\"ID:{dataid}\")\n",
    "print(f\"R = {get_R_from_IV_2(dataid)}\")\n",
    "dataset = qc.load_by_id(dataid)\n",
    "IV(id=dataid)\n",
    "IV_diff(id=dataid)"
   ]
  },
  {
   "cell_type": "code",
   "execution_count": null,
   "id": "8666f593",
   "metadata": {},
   "outputs": [],
   "source": [
    "K2440.output(1)\n",
    "I_range=7e-6\n",
    "appl_current(-I_range) #Limit:1e-5 Amp(1MOhms risistor),1e-6 Amp(10MOhms risistor)\n",
    "sleep(2)\n",
    "# station.snapshot(update=True);\n",
    "exp = qc.new_experiment('I-V', sample_name='103-03_J2_32-30-26-27_1M_By@0mT')\n",
    "dataid = do1d(appl_current, -I_range ,I_range, 1401, 0.0001, meas_voltage_K2)\n",
    "\n",
    "appl_current(0)\n",
    "K2440.output(0)\n",
    "\n",
    "\n",
    "plot_by_id(dataid)\n",
    "save_path = r\"D:\\data\\Albert\\103\\Plot\\104_{}.png\".format(dataid)  # Path to save the plot image\n",
    "autosave_plot_by_id(dataid, save_path)\n",
    "print(f\"ID:{dataid}\")\n",
    "print(f\"R = {get_R_from_IV_2(dataid)}\")\n",
    "dataset = qc.load_by_id(dataid)\n",
    "IV(id=dataid)\n",
    "IV_diff(id=dataid)"
   ]
  },
  {
   "cell_type": "code",
   "execution_count": null,
   "id": "4ce7045d",
   "metadata": {},
   "outputs": [],
   "source": [
    "# Set current to 0\n",
    "K2440.output(0)\n",
    "appl_current(0e-6)"
   ]
  },
  {
   "cell_type": "code",
   "execution_count": null,
   "id": "749b64e4",
   "metadata": {},
   "outputs": [],
   "source": [
    "K2440.output(1)\n",
    "appl_current(0.1e-7)"
   ]
  },
  {
   "cell_type": "code",
   "execution_count": null,
   "id": "9f4da299",
   "metadata": {
    "scrolled": true
   },
   "outputs": [],
   "source": [
    "runid=6\n",
    "print(get_R_from_IV_2(runid))"
   ]
  },
  {
   "cell_type": "markdown",
   "id": "3196b90e",
   "metadata": {},
   "source": [
    "## 加TG (1D)"
   ]
  },
  {
   "cell_type": "code",
   "execution_count": null,
   "id": "08a5e298",
   "metadata": {},
   "outputs": [],
   "source": [
    "K2440.output(1)\n",
    "appl_TG(0)"
   ]
  },
  {
   "cell_type": "code",
   "execution_count": null,
   "id": "a6f95af5",
   "metadata": {},
   "outputs": [],
   "source": [
    "K2440.output(1)\n",
    "K2440.output(1)\n",
    "appl_TG(-50)\n",
    "sleep(3)\n",
    "appl_current(-1.5e-8)\n",
    "sleep(1)\n",
    "\n",
    "# station.snapshot(update=True);\n",
    "exp = qc.new_experiment('IV', sample_name='TG21')\n",
    "\n",
    "#do1d(param_set, start, stop, num_points, delay, *param_meas)\n",
    "dataid = do1d(appl_current, -1.5e-8 ,1.5e-8, 101, 0.05, meas_voltage_K2)\n",
    "# dataid = do1d(appl_current, 6e-6 , -6e-6, 251, 0.01, meas_voltage_K1)\n",
    "# ivvi.set_dacs_zero()\n",
    "\n",
    "K2440.output(0)\n",
    "K2440.output(0)\n",
    "appl_current(0)\n",
    "plot_by_id(dataid)\n",
    "#print(get_R_from_IV(dataid))\n",
    "# print(get_R_from_IV_2(dataid))\n"
   ]
  },
  {
   "cell_type": "markdown",
   "id": "05b0d19b",
   "metadata": {},
   "source": [
    "## 歸零\n"
   ]
  },
  {
   "cell_type": "code",
   "execution_count": null,
   "id": "d8154670",
   "metadata": {},
   "outputs": [],
   "source": [
    "#K2440.output(1)\n",
    "K2440.output(1)\n",
    "\n",
    "appl_current(0)\n",
    "sleep(1)\n",
    "#appl_TG(0)\n",
    "sleep(5)\n",
    "\n",
    "#K2440.output(0)\n",
    "K2440.output(0)"
   ]
  },
  {
   "cell_type": "markdown",
   "id": "91795bf5",
   "metadata": {},
   "source": [
    "# Magnetic field"
   ]
  },
  {
   "cell_type": "markdown",
   "id": "c1b88abd",
   "metadata": {},
   "source": [
    "## IV vs Bx"
   ]
  },
  {
   "cell_type": "code",
   "execution_count": null,
   "id": "77c31bf1",
   "metadata": {},
   "outputs": [],
   "source": [
    "K2440.rangev()"
   ]
  },
  {
   "cell_type": "code",
   "execution_count": null,
   "id": "ea5d8a7d",
   "metadata": {},
   "outputs": [],
   "source": [
    "K2440.volt(0)\n",
    "K2440.output(1) #output off\n",
    "sleep(1)\n",
    "appl_current(1.5e-7)\n",
    "sleep(2)\n",
    "meas_voltage_K2()"
   ]
  },
  {
   "cell_type": "code",
   "execution_count": null,
   "id": "e083479a",
   "metadata": {},
   "outputs": [],
   "source": [
    "sleep(120)"
   ]
  },
  {
   "cell_type": "code",
   "execution_count": null,
   "id": "6c69dc40",
   "metadata": {},
   "outputs": [],
   "source": [
    "def get_Mag(show=True):\n",
    "    Mag_x = magnet_x.field()\n",
    "    Mag_y = magnet_y.field()\n",
    "    Mag_z = magnet_z.field()\n",
    "    if show:\n",
    "        print(f\"Mag_x: {Mag_x*1e3:.6f} mT\")\n",
    "        print(f\"Mag_y: {Mag_y*1e3:.6f} mT\")\n",
    "        print(f\"Mag_z: {Mag_z*1e3:.6f} mT\")\n",
    "    else: \n",
    "        return Mag_x, Mag_y, Mag_z\n",
    "get_Mag()"
   ]
  },
  {
   "cell_type": "code",
   "execution_count": null,
   "id": "582ee743",
   "metadata": {},
   "outputs": [],
   "source": [
    "get_Mag()"
   ]
  },
  {
   "cell_type": "code",
   "execution_count": null,
   "id": "9634bb97",
   "metadata": {},
   "outputs": [],
   "source": [
    "magnet_y.field()"
   ]
  },
  {
   "cell_type": "code",
   "execution_count": null,
   "id": "add54ae7",
   "metadata": {},
   "outputs": [],
   "source": [
    "for i in tqdm(range(23), desc=\"First loop\"):\n",
    "    value = (25 - i) * 1e-3 \n",
    "    value = float(f\"{value:.10f}\")\n",
    "    print(value)"
   ]
  },
  {
   "cell_type": "code",
   "execution_count": null,
   "id": "04c8a1e5",
   "metadata": {},
   "outputs": [],
   "source": [
    "from tqdm import tqdm\n",
    "import time\n",
    "\n",
    "from IPython.display import clear_output\n",
    "# First loop\n",
    "for i in tqdm(range(6), desc=\"First loop\"):\n",
    "    Mag_x = magnet_x.field()\n",
    "    value = (15 + i) * 1e-3\n",
    "    value = float(f\"{value:.10f}\")\n",
    "    magnet_x.field(value)\n",
    "    print(f\"magnet_x is {Mag_x:.8f} T\")\n",
    "    time.sleep(15)\n",
    "    clear_output(True)\n",
    "\n",
    "# Pause for 30 seconds\n",
    "time.sleep(60)\n",
    "\n",
    "# Second loop\n",
    "for i in tqdm(range(23), desc=\"First loop\"):\n",
    "    Mag_x = magnet_x.field()\n",
    "    value = (25 - i) * 1e-3 \n",
    "    value = float(f\"{value:.10f}\")\n",
    "    magnet_x.field(value)\n",
    "    print(f\"magnet_x is {Mag_x:.8f} T\")\n",
    "    time.sleep(15)\n",
    "    clear_output(True)\n",
    "\n",
    "# Pause for 180 seconds\n",
    "time.sleep(300)"
   ]
  },
  {
   "cell_type": "code",
   "execution_count": null,
   "id": "fc3e418b",
   "metadata": {},
   "outputs": [],
   "source": [
    "magnet_x.field(-20)"
   ]
  },
  {
   "cell_type": "code",
   "execution_count": null,
   "id": "07666294",
   "metadata": {},
   "outputs": [],
   "source": [
    "Mag = -20e-3\n",
    "I_range=2.5e-6\n",
    "K2440.output(1)\n",
    "sleep(2)\n",
    "magnet_x.field(Mag)\n",
    "sleep(10)\n",
    "appl_current(-I_range)\n",
    "sleep(3)\n",
    "direction = 'backward' if Mag > 0 else 'forward'\n",
    "\n",
    "\n",
    "# station.snapshot(update=True);\n",
    "exp = qc.new_experiment('IV vs Bx', sample_name=f'103-06_J2_12-13-18-19_1M_Bx_{direction}_By@0mT')\n",
    "\n",
    "dataid = do2d(magnet_x.field, Mag, -Mag, 76 , 0.7, appl_current, -I_range ,I_range, 101, 0.01, meas_voltage_K2)\n",
    "\n",
    "appl_current(0)\n",
    "K2440.output(0)\n",
    "# magnet_y.field(0)\n",
    "\n",
    "plot_by_id(dataid)\n",
    "autosave_plot_by_id(dataid, save_path)"
   ]
  },
  {
   "cell_type": "code",
   "execution_count": null,
   "id": "5f475874",
   "metadata": {},
   "outputs": [],
   "source": [
    "K2440.output(1)\n",
    "sleep(2)\n",
    "Mag = 10e-3\n",
    "I_range=2.5e-5\n",
    "\n",
    "magnet_x.field(Mag)\n",
    "sleep(30)\n",
    "appl_current(-I_range)\n",
    "sleep(3)\n",
    "direction = 'backward' if Mag > 0 else 'forward'\n",
    "\n",
    "\n",
    "# station.snapshot(update=True);\n",
    "\n",
    "exp = qc.new_experiment('IV vs Bx', sample_name=f'094-20IV_Bx_16-17-19-18_10M_{direction}')\n",
    "\n",
    "dataid = do2d(magnet_x.field, Mag, -Mag, 101 , 1.5, appl_current, -I_range ,I_range, 101, 0.05, meas_voltage_K2)#M:I Delay time 10:1\n",
    "\n",
    "\n",
    "appl_current(0)\n",
    "K2440.output(0)\n",
    "# magnet_x.field(0)\n",
    "\n",
    "plot_by_id(dataid)\n",
    "autosave_plot_by_id(dataid, save_path)"
   ]
  },
  {
   "cell_type": "code",
   "execution_count": null,
   "id": "bfdd8a07",
   "metadata": {},
   "outputs": [],
   "source": [
    "set_magnetic_field_stepwise(magnet=magnet_x, current_field=-40e-3, target_field=-18e-3, step_size=1e-3, delay=2.5)"
   ]
  },
  {
   "cell_type": "code",
   "execution_count": null,
   "id": "5eef089c",
   "metadata": {},
   "outputs": [],
   "source": [
    "def set_magnetic_field_stepwise(magnet=magnet_x, current_field=0, target_field=-10e-3, step_size=1e-3, delay=2.5):\n",
    "    \n",
    "    \"\"\"Set the magnetic field with anti-hysteresis mechanism witch will go to target magnetic field +/- 5mT, \n",
    "    if the target magnetic field is greater/less than the current magnetic field, \n",
    "    then slowly ramp back the magnetic field to the target magnetic field\n",
    "\n",
    "    Args:\n",
    "        magnet (_type_, optional): magnet_x,magnet_y,magnet_z. Defaults to magnet_x.\n",
    "        current_field (int, optional): _description_. Defaults to 0 T.\n",
    "        target_field (_type_, optional): _description_. Defaults to -10e-3 T.\n",
    "        step_size (_type_, optional): _description_. Defaults to 1e-3 T.\n",
    "        delay (float, optional): _description_. Defaults to 2 sec.\n",
    "    \n",
    "    \"\"\"\n",
    "    \n",
    "    from tqdm.notebook import tqdm\n",
    "    import math\n",
    "    # Calculate total steps for tqdm progress bar\n",
    "    total_steps = math.ceil(abs((target_field - current_field) / step_size)) * 2\n",
    "    progress_bar = tqdm(total=total_steps)\n",
    "\n",
    "    # Determine the intermediate target field\n",
    "    intermediate_target_field = target_field + 5e-3 if target_field > current_field else target_field - 5e-3\n",
    "    # Slowly ramp the magnetic field to the intermediate target field\n",
    "    while abs(intermediate_target_field - current_field) > step_size:\n",
    "        if intermediate_target_field > current_field:\n",
    "            current_field += step_size\n",
    "            magnet.field(current_field)\n",
    "        else:\n",
    "            current_field -= step_size\n",
    "            magnet.field(current_field)\n",
    "        time.sleep(delay)\n",
    "        progress_bar.update(1)  # Update progress bar\n",
    "    # Slowly ramp back the magnetic field to the target_field\n",
    "    while abs(target_field - current_field) > step_size:\n",
    "        if target_field > current_field:\n",
    "            current_field += step_size\n",
    "            magnet.field(current_field)\n",
    "        else:\n",
    "            current_field -= step_size\n",
    "            magnet.field(current_field)\n",
    "        time.sleep(delay)\n",
    "        progress_bar.update(1)  # Update progress bar\n",
    "    magnet.field(target_field)\n",
    "    progress_bar.n = total_steps  # Set progress bar to 100%\n",
    "    progress_bar.refresh()  # Refresh the progress bar to show the update\n",
    "    progress_bar.close()  # Close progress bar when done"
   ]
  },
  {
   "cell_type": "code",
   "execution_count": null,
   "id": "6d385381",
   "metadata": {},
   "outputs": [],
   "source": [
    "for i in range(6):\n",
    "    magnet_x.field((-10-i)*1e-3)\n",
    "    sleep(4)\n",
    "sleep(10)\n",
    "\n",
    "for i in range(16):\n",
    "    magnet_x.field((15+i)*1e-3)\n",
    "    sleep(4)\n",
    "sleep(10)"
   ]
  },
  {
   "cell_type": "code",
   "execution_count": null,
   "id": "83205742",
   "metadata": {},
   "outputs": [],
   "source": [
    "for i in range(25):\n",
    "    print(-24+i)"
   ]
  },
  {
   "cell_type": "code",
   "execution_count": null,
   "id": "fef193a7",
   "metadata": {},
   "outputs": [],
   "source": [
    "magnet_x.field(-19e-3)\n",
    "sleep(10)\n",
    "#magnet_x.field(e-3)\n",
    "#sleep(10)\n",
    "#magnet_x.field(12.8e-3)\n",
    "#sleep(10)"
   ]
  },
  {
   "cell_type": "markdown",
   "id": "6a6f3c0d",
   "metadata": {},
   "source": [
    "## IV vs By"
   ]
  },
  {
   "cell_type": "code",
   "execution_count": null,
   "id": "b823efb8",
   "metadata": {},
   "outputs": [],
   "source": [
    "get_Mag()"
   ]
  },
  {
   "cell_type": "code",
   "execution_count": null,
   "id": "9e236537",
   "metadata": {},
   "outputs": [],
   "source": [
    "magnet_y.field(0e-3)"
   ]
  },
  {
   "cell_type": "code",
   "execution_count": null,
   "id": "b4e8ec13",
   "metadata": {},
   "outputs": [],
   "source": [
    "for i in tqdm(range(21), desc=\"2nd loop\"):\n",
    "    \n",
    "    value = (-10 + i*0.5) * 1e-3 \n",
    "    value = float(f\"{value:.10f}\")\n",
    "    magnet_y.field(value)\n",
    "    get_Mag()\n",
    "    time.sleep(15)\n",
    "    clear_output(True)"
   ]
  },
  {
   "cell_type": "code",
   "execution_count": null,
   "id": "5dce7f89",
   "metadata": {},
   "outputs": [],
   "source": [
    "\n",
    "# First loop\n",
    "for i in tqdm(range(11), desc=\"First loop\"):\n",
    "    \n",
    "    value = (5 +i) * 1e-3\n",
    "    value = float(f\"{value:.10f}\")\n",
    "    magnet_y.field(value)\n",
    "    get_Mag()\n",
    "    time.sleep(15)\n",
    "    clear_output(True)\n",
    "\n",
    "# Pause for 30 seconds\n",
    "time.sleep(60)\n",
    "\n",
    "# Second loop\n",
    "for i in tqdm(range(11), desc=\"2nd loop\"):\n",
    "    \n",
    "    value = (-10 + i) * 1e-3 \n",
    "    value = float(f\"{value:.10f}\")\n",
    "    magnet_y.field(value)\n",
    "    get_Mag()\n",
    "    time.sleep(15)\n",
    "    clear_output(True)\n",
    "# Pause for 180 seconds\n",
    "time.sleep(300)"
   ]
  },
  {
   "cell_type": "code",
   "execution_count": null,
   "id": "46dc421a",
   "metadata": {},
   "outputs": [],
   "source": [
    "magnet_y.field()"
   ]
  },
  {
   "cell_type": "code",
   "execution_count": null,
   "id": "3a7fb763",
   "metadata": {},
   "outputs": [],
   "source": [
    "Mag =5e-3\n",
    "I_range=0.6e-6\n",
    "K2440.output(1)\n",
    "sleep(2)\n",
    "magnet_y.field(Mag)\n",
    "sleep(10)\n",
    "appl_current(-I_range)\n",
    "sleep(3)\n",
    "direction = 'backward' if Mag > 0 else 'forward'\n",
    "\n",
    "\n",
    "# station.snapshot(update=True);\n",
    "exp = qc.new_experiment('IV vs By', sample_name=f'103-03_J2_27-26-30-31M(32G-33G-28G-29G)_1M_By_{direction}_{-I_range}')\n",
    "\n",
    "dataid = do2d(magnet_y.field, Mag, -Mag, 201 , 0.5, appl_current, -I_range ,I_range,  201, 0.0001, meas_voltage_K2)\n",
    "\n",
    "appl_current(0)\n",
    "K2440.output(0)\n",
    "# magnet_y.field(0)\n",
    "\n",
    "plot_by_id(dataid)\n",
    "autosave_plot_by_id(dataid, save_path)"
   ]
  },
  {
   "cell_type": "code",
   "execution_count": null,
   "id": "a9c30858",
   "metadata": {},
   "outputs": [],
   "source": [
    "Mag =-5e-3\n",
    "I_range=5e-6\n",
    "K2440.output(1)\n",
    "sleep(2)\n",
    "magnet_y.field(Mag)\n",
    "sleep(10)\n",
    "appl_current(-I_range)\n",
    "sleep(3)\n",
    "direction = 'backward' if Mag > 0 else 'forward'\n",
    "\n",
    "\n",
    "# station.snapshot(update=True);\n",
    "exp = qc.new_experiment('IV vs By', sample_name=f'103-03_J2_27-26-30-31M(32G-33G-28G-29G)_1M_By_{direction}_{-I_range}')\n",
    "\n",
    "dataid = do2d(magnet_y.field, Mag, -Mag, 201 , 0.5, appl_current, -I_range ,I_range,  201, 0.0001, meas_voltage_K2)\n",
    "\n",
    "appl_current(0)\n",
    "K2440.output(0)\n",
    "# magnet_y.field(0)\n",
    "\n",
    "plot_by_id(dataid)\n",
    "autosave_plot_by_id(dataid, save_path)"
   ]
  },
  {
   "cell_type": "code",
   "execution_count": null,
   "id": "8ba8b69c",
   "metadata": {},
   "outputs": [],
   "source": [
    "32-"
   ]
  },
  {
   "cell_type": "code",
   "execution_count": null,
   "id": "7c2e8f1b",
   "metadata": {},
   "outputs": [],
   "source": [
    "\n",
    "# First loop\n",
    "for i in tqdm(range(6), desc=\"First loop\"):\n",
    "    Mag_x = magnet_y.field()\n",
    "    value = (1.5 +i) * 1e-3\n",
    "    value = float(f\"{value:.10f}\")\n",
    "    magnet_y.field(value)\n",
    "    print(f\"magnet_y is {Mag_x:.8f} T\")\n",
    "    time.sleep(15)\n",
    "    clear_output(True)\n",
    "\n",
    "# Pause for 30 seconds\n",
    "time.sleep(60)\n",
    "\n",
    "# Second loop\n",
    "for i in tqdm(range(6), desc=\"2nd loop\"):\n",
    "    Mag_x = magnet_y.field()\n",
    "    value = (6.5 - i) * 1e-3 \n",
    "    value = float(f\"{value:.10f}\")\n",
    "    magnet_y.field(value)\n",
    "    print(f\"magnet_y is {Mag_x:.8f} T\")\n",
    "    time.sleep(15)\n",
    "    clear_output(True)\n",
    "\n",
    "# Pause for 180 seconds\n",
    "time.sleep(300)"
   ]
  },
  {
   "cell_type": "code",
   "execution_count": null,
   "id": "8d736f1b",
   "metadata": {},
   "outputs": [],
   "source": [
    "Mag = 1.5e-3\n",
    "I_range=2.5e-6\n",
    "K2440.output(1)\n",
    "sleep(2)\n",
    "magnet_y.field(Mag)\n",
    "sleep(10)\n",
    "appl_current(-I_range)\n",
    "sleep(3)\n",
    "direction = 'backward' if Mag > 0 else 'forward'\n",
    "\n",
    "\n",
    "# station.snapshot(update=True);\n",
    "exp = qc.new_experiment('IV vs By', sample_name=f'103-06_J2_12-13-18-19_1M_By_{direction}_Bx@3mT')\n",
    "\n",
    "dataid = do2d(magnet_y.field, Mag, -Mag, 1001 , 0.4, appl_current, -I_range ,I_range, 151, 0.01, meas_voltage_K2)\n",
    "\n",
    "appl_current(0)\n",
    "K2440.output(0)\n",
    "# magnet_y.field(0)\n",
    "\n",
    "plot_by_id(dataid)\n",
    "autosave_plot_by_id(dataid, save_path)"
   ]
  },
  {
   "cell_type": "code",
   "execution_count": null,
   "id": "43eb5eb6",
   "metadata": {},
   "outputs": [],
   "source": [
    "Mag()"
   ]
  },
  {
   "cell_type": "code",
   "execution_count": null,
   "id": "721c43a1",
   "metadata": {},
   "outputs": [],
   "source": [
    "Mag = 1.5e-3\n",
    "I_range=1e-6\n",
    "K2440.output(1)\n",
    "sleep(2)\n",
    "magnet_y.field(Mag)\n",
    "sleep(10)\n",
    "appl_current(-I_range)\n",
    "sleep(3)\n",
    "direction = 'backward' if Mag > 0 else 'forward'\n",
    "\n",
    "\n",
    "# station.snapshot(update=True);\n",
    "exp = qc.new_experiment('IV vs By', sample_name=f'103-01_J1_21-20-23-22_1M_By_{direction}_Bx@0mT')\n",
    "\n",
    "dataid = do2d(magnet_y.field, Mag, -Mag, 151 , 0.9, appl_current, -I_range ,I_range, 201, 0.01, meas_voltage_K2)\n",
    "\n",
    "appl_current(0)\n",
    "K2440.output(0)\n",
    "# magnet_y.field(0)\n",
    "\n",
    "plot_by_id(dataid)\n",
    "autosave_plot_by_id(dataid, save_path)"
   ]
  },
  {
   "cell_type": "code",
   "execution_count": null,
   "id": "dadb617e",
   "metadata": {},
   "outputs": [],
   "source": [
    "from tqdm import tqdm\n",
    "import time\n",
    "\n",
    "# First loop\n",
    "for i in tqdm(range(6), desc=\"First loop\"):\n",
    "    value = (1.5 + i) * 1e-3 \n",
    "    magnet_y.field(value)\n",
    "    print(f\"magnet_y is {value:.8f} T\")\n",
    "    time.sleep(10)\n",
    "\n",
    "# Pause for 30 seconds\n",
    "time.sleep(30)\n",
    "\n",
    "# Second loop\n",
    "for i in tqdm(range(8), desc=\"First loop\"):\n",
    "    value = (7 - i) * 1e-3 \n",
    "    magnet_y.field(value)\n",
    "    print(f\"magnet_y is {value:.8f} T\")\n",
    "    time.sleep(10)\n",
    "\n",
    "# Pause for 180 seconds\n",
    "time.sleep(300)\n"
   ]
  },
  {
   "cell_type": "code",
   "execution_count": null,
   "id": "cceb780f",
   "metadata": {},
   "outputs": [],
   "source": [
    "def combined_loop(start=0, end=5 ):\n",
    "  for i in tqdm(range((end-start)+6), desc=\"First loop\"):\n",
    "    value = start + i\n",
    "    print(f\"{value* 1e-3:.5f}\")\n",
    "\n",
    "  for i in tqdm(range(6), desc=\"Second loop\"):\n",
    "    value = end+5 - i\n",
    "    print(f\"{value* 1e-3:.5f}\")\n",
    "\n",
    "combined_loop()\n"
   ]
  },
  {
   "cell_type": "code",
   "execution_count": null,
   "id": "7963ad50",
   "metadata": {},
   "outputs": [],
   "source": [
    "Mag = 3e-3\n",
    "I_range=1e-6\n",
    "K2440.output(1)\n",
    "sleep(2)\n",
    "magnet_y.field(Mag)\n",
    "sleep(10)\n",
    "appl_current(-I_range)\n",
    "sleep(3)\n",
    "direction = 'backward' if Mag > 0 else 'forward'\n",
    "\n",
    "\n",
    "# station.snapshot(update=True);\n",
    "exp = qc.new_experiment('IV vs By', sample_name=f'103-04_J2_04-05-06-07_1M_By_{direction}_Bx@0mT')\n",
    "\n",
    "dataid = do2d(magnet_y.field, Mag, -Mag, 101 , 1.5, appl_current, -I_range ,I_range, 101, 0.01, meas_voltage_K2)\n",
    "\n",
    "appl_current(0)\n",
    "K2440.output(0)\n",
    "# magnet_y.field(0)\n",
    "\n",
    "plot_by_id(dataid)\n",
    "autosave_plot_by_id(dataid, save_path)"
   ]
  },
  {
   "cell_type": "code",
   "execution_count": null,
   "id": "3d67f8ce",
   "metadata": {},
   "outputs": [],
   "source": [
    "from tqdm import tqdm\n",
    "import time\n",
    "\n",
    "# First loop\n",
    "for i in tqdm(range(6), desc=\"First loop\"):\n",
    "    magnet_y.field((-3 - i) * 1e-3)\n",
    "    time.sleep(15)\n",
    "\n",
    "# Pause for 30 seconds\n",
    "time.sleep(30)\n",
    "\n",
    "# Second loop\n",
    "for i in tqdm(range(7), desc=\"Second loop\"):\n",
    "    magnet_y.field((-8 + i) * 1e-3)\n",
    "    time.sleep(15)\n",
    "\n",
    "# Pause for 180 seconds\n",
    "time.sleep(300)"
   ]
  },
  {
   "cell_type": "code",
   "execution_count": null,
   "id": "af9e2a73",
   "metadata": {},
   "outputs": [],
   "source": [
    "magnet_y.field(-1.5e-3)\n",
    "print(\"By at -1.5 mT\")"
   ]
  },
  {
   "cell_type": "code",
   "execution_count": null,
   "id": "214aa45a",
   "metadata": {},
   "outputs": [],
   "source": [
    "Mag = -3e-3\n",
    "I_range=1e-6\n",
    "K2440.output(1)\n",
    "sleep(2)\n",
    "magnet_y.field(Mag)\n",
    "sleep(10)\n",
    "appl_current(-I_range)\n",
    "sleep(3)\n",
    "direction = 'backward' if Mag > 0 else 'forward'\n",
    "\n",
    "\n",
    "# station.snapshot(update=True);\n",
    "exp = qc.new_experiment('IV vs By', sample_name=f'103-04_J2_04-05-06-07_1M_By_{direction}_Bx@0mT')\n",
    "\n",
    "dataid = do2d(magnet_y.field, Mag, -Mag, 501 , 1, appl_current, -I_range ,I_range, 251, 0.01, meas_voltage_K2)\n",
    "\n",
    "appl_current(0)\n",
    "K2440.output(0)\n",
    "# magnet_y.field(0)\n",
    "\n",
    "plot_by_id(dataid)\n",
    "autosave_plot_by_id(dataid, save_path)"
   ]
  },
  {
   "cell_type": "code",
   "execution_count": null,
   "id": "da9891fc",
   "metadata": {},
   "outputs": [],
   "source": [
    "from tqdm import tqdm\n",
    "import time\n",
    "\n",
    "# First loop\n",
    "for i in tqdm(range(6), desc=\"First loop\"):\n",
    "    magnet_y.field((3 + i) * 1e-3)\n",
    "    time.sleep(10)\n",
    "\n",
    "# Pause for 30 seconds\n",
    "time.sleep(30)\n",
    "\n",
    "# Second loop\n",
    "for i in tqdm(range(6), desc=\"Second loop\"):\n",
    "    magnet_y.field((8 - i) * 1e-3)\n",
    "    time.sleep(10)\n",
    "\n",
    "# Pause for 180 seconds\n",
    "time.sleep(300)"
   ]
  },
  {
   "cell_type": "code",
   "execution_count": null,
   "id": "8c1e92c1",
   "metadata": {},
   "outputs": [],
   "source": [
    "Mag = 3e-3\n",
    "I_range=1e-6\n",
    "K2440.output(1)\n",
    "sleep(2)\n",
    "magnet_y.field(Mag)\n",
    "sleep(10)\n",
    "appl_current(-I_range)\n",
    "sleep(3)\n",
    "direction = 'backward' if Mag > 0 else 'forward'\n",
    "\n",
    "\n",
    "# station.snapshot(update=True);\n",
    "exp = qc.new_experiment('IV vs By', sample_name=f'103-04_J2_04-05-06-07_1M_By_{direction}_Bx@0mT')\n",
    "\n",
    "dataid = do2d(magnet_y.field, Mag, -Mag, 501 , 1, appl_current, -I_range ,I_range, 251, 0.01, meas_voltage_K2)\n",
    "\n",
    "appl_current(0)\n",
    "K2440.output(0)\n",
    "# magnet_y.field(0)\n",
    "\n",
    "plot_by_id(dataid)\n",
    "autosave_plot_by_id(dataid, save_path)"
   ]
  },
  {
   "cell_type": "code",
   "execution_count": null,
   "id": "5208f447",
   "metadata": {},
   "outputs": [],
   "source": [
    "magnet_y.field(5e-3)"
   ]
  },
  {
   "cell_type": "code",
   "execution_count": null,
   "id": "3e408864",
   "metadata": {},
   "outputs": [],
   "source": [
    "for i in range(9):\n",
    "    magnet_y.field((0+i)*1e-3)\n",
    "    sleep(4)\n",
    "sleep(10)\n",
    "\n",
    "for i in range(6):\n",
    "    magnet_y.field((8-i)*1e-3)\n",
    "    sleep(4)\n",
    "\n",
    "sleep(60)\n",
    "# magnet_y.field(21.5e-3)\n",
    "sleep(60)\n",
    "#magnet_y.field(0.48e-3)\n",
    "#sleep(5)"
   ]
  },
  {
   "cell_type": "code",
   "execution_count": null,
   "id": "2eb14a5d",
   "metadata": {},
   "outputs": [],
   "source": [
    "for i in range(4):\n",
    "    print(8-i)"
   ]
  },
  {
   "cell_type": "code",
   "execution_count": null,
   "id": "a1ebeefb",
   "metadata": {},
   "outputs": [],
   "source": [
    "K2440.output(1)\n",
    "sleep(2)\n",
    "Mag = -40e-3\n",
    "I_range=2e-8\n",
    "\n",
    "magnet_y.field(Mag)\n",
    "sleep(10)\n",
    "appl_current(-I_range)\n",
    "sleep(3)\n",
    "direction = 'backward' if Mag > 0 else 'forward'\n",
    "\n",
    "\n",
    "# station.snapshot(update=True);\n",
    "\n",
    "exp = qc.new_experiment('IV vs By', sample_name=f'094-20IV_By_16-17-19-18_10M_{direction}_Bx@-18.5mT')\n",
    "\n",
    "dataid = do2d(magnet_y.field, Mag, -Mag, 601 , 2, appl_current, -I_range ,I_range, 201, 0.1, meas_voltage_K2)\n",
    "\n",
    "\n",
    "appl_current(0)\n",
    "K2440.output(0)\n",
    "# magnet_y.field(0)\n",
    "\n",
    "plot_by_id(dataid)\n",
    "autosave_plot_by_id(dataid, save_path)"
   ]
  },
  {
   "cell_type": "code",
   "execution_count": null,
   "id": "effdb8bf",
   "metadata": {},
   "outputs": [],
   "source": [
    "for i in range(24):\n",
    "    print(45-i)"
   ]
  },
  {
   "cell_type": "code",
   "execution_count": null,
   "id": "4b523a44",
   "metadata": {},
   "outputs": [],
   "source": []
  },
  {
   "cell_type": "markdown",
   "id": "7dce8613",
   "metadata": {},
   "source": [
    "## IV vs Bz"
   ]
  },
  {
   "cell_type": "code",
   "execution_count": null,
   "id": "a4e6e5f7",
   "metadata": {
    "scrolled": true
   },
   "outputs": [],
   "source": [
    "K2440.output(1)\n",
    "sleep(2)\n",
    "magnet_z.field(-80e-3)\n",
    "sleep(60)\n",
    "appl_current(-2e-7)\n",
    "sleep(5)\n",
    "\n",
    "# station.snapshot(update=True);\n",
    "\n",
    "exp = qc.new_experiment('IV vs Bz', sample_name='IV_Bz_33_32_30_31_10M_forward')\n",
    "\n",
    "dataid = do2d(magnet_z.field,-80e-3,80e-3, 71 , 20, appl_current, -2e-7 ,2e-7, 101, 0.05, meas_voltage_K2)\n",
    "\n",
    "appl_current(0)\n",
    "\n",
    "K2440.output(0)\n",
    "# magnet_y.field(0)\n",
    "\n",
    "plot_by_id(dataid)"
   ]
  },
  {
   "cell_type": "code",
   "execution_count": null,
   "id": "e68136d1",
   "metadata": {},
   "outputs": [],
   "source": [
    "#magnet_z.field(20e-3)\n",
    "#sleep(5)\n",
    "magnet_z.field(-6.1e-3)\n",
    "sleep(5)"
   ]
  },
  {
   "cell_type": "code",
   "execution_count": null,
   "id": "571645ac",
   "metadata": {},
   "outputs": [],
   "source": []
  },
  {
   "cell_type": "markdown",
   "id": "02c81568",
   "metadata": {},
   "source": [
    "## IV w/ Bx"
   ]
  },
  {
   "cell_type": "code",
   "execution_count": null,
   "id": "b5229271",
   "metadata": {},
   "outputs": [],
   "source": [
    "K2440.output(1)\n",
    "sleep(2)\n",
    "magnet_x.field(0.23e-3)\n",
    "appl_current(-0.5e-6)\n",
    "sleep(10)\n",
    "\n",
    "# station.snapshot(update=True);\n",
    "exp = qc.new_experiment('I vs V', sample_name='IV_w/_Bx')\n",
    "\n",
    "#do1d(param_set, start, stop, num_points, delay, *param_meas)\n",
    "dataid = do1d(appl_current, -0.5e-6 ,0.5e-6, 101, 0.05, meas_voltage_K2)\n",
    "# dataid = do1d(appl_current, 6e-6 , -6e-6, 251, 0.01, meas_voltage_K1)\n",
    "# ivvi.set_dacs_zero()\n",
    "\n",
    "appl_current(0)\n",
    "plot_by_id(dataid)\n",
    "# print(get_R_from_IV(dataid))\n",
    "#print(get_R_from_IV_2(dataid))\n",
    "\n",
    "K2440.output(0)"
   ]
  },
  {
   "cell_type": "markdown",
   "id": "27ac85cd",
   "metadata": {},
   "source": [
    "## IV w/ By"
   ]
  },
  {
   "cell_type": "code",
   "execution_count": null,
   "id": "b7c3a84d",
   "metadata": {},
   "outputs": [],
   "source": [
    "K2440.output(1)\n",
    "DMM6500.averaging_count(30)\n",
    "#DMM6500.averaging_enabled(False)\n",
    "\n",
    "sleep(2)\n",
    "magnet_y.field(0e-3)\n",
    "appl_current(-2e-7)\n",
    "sleep(20)\n",
    "\n",
    "# station.snapshot(update=True);\n",
    "exp = qc.new_experiment('I vs V', sample_name='IV_w/_By@0mT_forward_Avg30')\n",
    "\n",
    "#do1d(param_set, start, stop, num_points, delay, *param_meas)\n",
    "dataid = do1d(appl_current, -2e-7 ,2e-7, 201, 0.05, meas_voltage_K2)\n",
    "# dataid = do1d(appl_current, 6e-6 , -6e-6, 251, 0.01, meas_voltage_K1)\n",
    "# ivvi.set_dacs_zero()\n",
    "\n",
    "appl_current(0)\n",
    "plot_by_id(dataid)\n",
    "# print(get_R_from_IV(dataid))\n",
    "#print(get_R_from_IV_2(dataid))\n",
    "\n",
    "K2440.output(0)"
   ]
  },
  {
   "cell_type": "markdown",
   "id": "1e7ed93d",
   "metadata": {},
   "source": [
    "## MR"
   ]
  },
  {
   "cell_type": "code",
   "execution_count": null,
   "id": "9db581e2",
   "metadata": {},
   "outputs": [],
   "source": [
    "K2440.output(1)\n",
    "sleep(2)\n",
    "magnet_y.field(-0.1)\n",
    "sleep(5)\n",
    "#K2440.output(1)\n",
    "appl_current(1e-7)\n",
    "sleep(5)\n",
    "\n",
    "# station.snapshot(update=True);\n",
    "\n",
    "exp = qc.new_experiment('I vs By_MR', sample_name='072_14IVf_25_24_29_29_By_+-0.1T_MR_for')\n",
    "\n",
    "dataid = do1d(magnet_y.field, -0.1, 0.1, 71 , 1, meas_voltage_K2)\n",
    "\n",
    "appl_current(0)\n",
    "K2440.output(0)\n",
    "#K2440.output(0)\n",
    "magnet_y.field(0)\n",
    "\n",
    "plot_by_id(dataid)"
   ]
  },
  {
   "cell_type": "markdown",
   "id": "55fd3a3b",
   "metadata": {},
   "source": [
    "## IV w/Bz"
   ]
  },
  {
   "cell_type": "code",
   "execution_count": null,
   "id": "e76653c7",
   "metadata": {},
   "outputs": [],
   "source": [
    "K2440.output(1)\n",
    "DMM6500.averaging_count(10)\n",
    "#DMM6500.averaging_enabled(False)\n",
    "\n",
    "sleep(2)\n",
    "magnet_z.field(0e-3)\n",
    "appl_current(-2e-7)\n",
    "sleep(30)\n",
    "\n",
    "# station.snapshot(update=True);\n",
    "exp = qc.new_experiment('I vs V', sample_name='IV_w/_f_Bz@0mT_forward_Avg10')\n",
    "\n",
    "#do1d(param_set, start, stop, num_points, delay, *param_meas)\n",
    "dataid = do1d(appl_current, -2e-7 ,2e-7, 201, 0.05, meas_voltage_K2)\n",
    "# dataid = do1d(appl_current, 6e-6 , -6e-6, 251, 0.01, meas_voltage_K1)\n",
    "# ivvi.set_dacs_zero()\n",
    "\n",
    "appl_current(0)\n",
    "plot_by_id(dataid)\n",
    "# print(get_R_from_IV(dataid))\n",
    "#print(get_R_from_IV_2(dataid))\n",
    "\n",
    "K2440.output(0)"
   ]
  },
  {
   "cell_type": "markdown",
   "id": "d0274abc",
   "metadata": {},
   "source": [
    "# Zero everything"
   ]
  },
  {
   "cell_type": "code",
   "execution_count": null,
   "id": "a0cc99f2",
   "metadata": {},
   "outputs": [],
   "source": [
    "appl_current(0)\n",
    "appl_TG(0)\n",
    "magnet_y.field(0)\n",
    "sleep(5)\n",
    "magnet_x.field(0)\n",
    "sleep(5)\n",
    "magnet_z.field(0)\n",
    "sleep(5)\n",
    "#appl_voltage_AC(0.004)\n",
    "#SGS.off()\n",
    "K2440.output(0)"
   ]
  },
  {
   "cell_type": "code",
   "execution_count": null,
   "id": "cb8bf175",
   "metadata": {},
   "outputs": [],
   "source": [
    "appl_current(0)"
   ]
  },
  {
   "cell_type": "markdown",
   "id": "6610bce1",
   "metadata": {},
   "source": [
    "# Gate simple sweeps"
   ]
  },
  {
   "cell_type": "markdown",
   "id": "c010fbad",
   "metadata": {},
   "source": [
    "## 加TG (2D)"
   ]
  },
  {
   "cell_type": "code",
   "execution_count": null,
   "id": "6d7e9bf6",
   "metadata": {},
   "outputs": [],
   "source": [
    "appl_current(0)\n",
    "sleep(1)\n",
    "appl_TG(0)\n",
    "sleep(5)"
   ]
  },
  {
   "cell_type": "code",
   "execution_count": null,
   "id": "be01663b",
   "metadata": {},
   "outputs": [],
   "source": [
    "magnet_x.field(-0.044e-3)\n",
    "sleep(10)\n",
    "magnet_y.field(-6.016e-3)\n",
    "sleep(10)"
   ]
  },
  {
   "cell_type": "code",
   "execution_count": null,
   "id": "5397630e",
   "metadata": {},
   "outputs": [],
   "source": [
    "K2440.output(1)\n",
    "K2440.output(1)\n",
    "appl_TG(-30)\n",
    "sleep(5)\n",
    "appl_current(-1.5e-8)\n",
    "sleep(1)\n",
    "\n",
    "exp = qc.new_experiment('I_vs_Vgate_up', sample_name='33_32_30_31_1M_TG21')\n",
    "dataid = do2d(appl_TG, -30, 30, 301, 0.5, appl_current, -1.5e-8, 1.5e-8, 101, 0.1, meas_voltage_K2)\n",
    "\n",
    "appl_TG(0)\n",
    "sleep(5)\n",
    "appl_current(0e-7)\n",
    "sleep(5)\n",
    "\n",
    "K2440.output(0)\n",
    "K2440.output(0)\n",
    "\n",
    "plot_by_id(dataid)"
   ]
  },
  {
   "cell_type": "markdown",
   "id": "5375fb6f",
   "metadata": {},
   "source": [
    "# RF"
   ]
  },
  {
   "cell_type": "markdown",
   "id": "596beaf8",
   "metadata": {},
   "source": [
    "## I vs RF_f"
   ]
  },
  {
   "cell_type": "markdown",
   "id": "a6df9a13",
   "metadata": {},
   "source": [
    "### sensitive check"
   ]
  },
  {
   "cell_type": "code",
   "execution_count": null,
   "id": "017ed644",
   "metadata": {},
   "outputs": [],
   "source": [
    "SGS.power()\n",
    "SGS.frequency()"
   ]
  },
  {
   "cell_type": "code",
   "execution_count": null,
   "id": "e0b8db4e",
   "metadata": {},
   "outputs": [],
   "source": [
    "SGS.on()"
   ]
  },
  {
   "cell_type": "code",
   "execution_count": null,
   "id": "cc145b47",
   "metadata": {},
   "outputs": [],
   "source": [
    "SGS.off()"
   ]
  },
  {
   "cell_type": "code",
   "execution_count": null,
   "id": "6141349d",
   "metadata": {},
   "outputs": [],
   "source": [
    "magnet_x.field(0.4e-3)\n",
    "sleep(10)\n",
    "magnet_y.field(2.53e-3)\n",
    "sleep(10)"
   ]
  },
  {
   "cell_type": "code",
   "execution_count": null,
   "id": "2fd35fd0",
   "metadata": {},
   "outputs": [],
   "source": [
    "DMM6500.averaging_count(5)\n",
    "DMM6500.averaging_enabled(False)"
   ]
  },
  {
   "cell_type": "markdown",
   "id": "2d27c6f3",
   "metadata": {},
   "source": [
    "### I vs RF_f (1D)"
   ]
  },
  {
   "cell_type": "code",
   "execution_count": null,
   "id": "c3ec00d7",
   "metadata": {
    "scrolled": false
   },
   "outputs": [],
   "source": [
    "SGS.off()\n",
    "exp = qc.new_experiment('I-RF_f', sample_name='103-06_J2_12-13-14-15_1M_@0mT')\n",
    "SGS.power(0)\n",
    "SGS.frequency(0.1e9)\n",
    "SGS.on()\n",
    "sleep(1)\n",
    "DMM6500.averaging_count(5)\n",
    "DMM6500.averaging_enabled(False)\n",
    "K2440.output(1)\n",
    "\n",
    "appl_current(0.4e-6)\n",
    "#appl_TG(10)\n",
    "# magnet_x.field(0.4e-3)\n",
    "# magnet_y.field(2.53e-3)\n",
    "\n",
    "dataid = do1d(SGS.frequency, 11.4e9, 12.2e9, 201, 0.1, meas_voltage_K2)\n",
    "appl_current(0)\n",
    "SGS.off()\n",
    "K2440.output(0)\n",
    "plot_by_id(dataid)\n"
   ]
  },
  {
   "cell_type": "markdown",
   "id": "3e250e53",
   "metadata": {},
   "source": [
    "### I vs RF_f (2D)"
   ]
  },
  {
   "cell_type": "code",
   "execution_count": null,
   "id": "3734095d",
   "metadata": {},
   "outputs": [],
   "source": [
    "SGS.off()"
   ]
  },
  {
   "cell_type": "code",
   "execution_count": null,
   "id": "ccc9ea2f",
   "metadata": {},
   "outputs": [],
   "source": [
    "SGS.off()\n",
    "SGS.power(0)\n",
    "SGS.frequency(0.1e9)\n",
    "SGS.on()\n",
    "DMM6500.averaging_count(1)\n",
    "DMM6500.averaging_enabled(False)\n",
    "K2440.output(1)\n",
    "\n",
    "I_range = 8e-6\n",
    "appl_current(-I_range)\n",
    "#appl_TG(-10)\n",
    "# magnet_x.field(0.4e-3)\n",
    "# magnet_y.field(2.53e-3)\n",
    "# sleep(1)\n",
    "\n",
    "# station.snapshot(update=True);\n",
    "exp = qc.new_experiment('IV-RF_f', sample_name=f'103-03_J2_27-26-30-31M(32G-33G-28G-29G)_1M_RF@0dBm_By@0.1mT')\n",
    "\n",
    "#do1d(param_set, start, stop, num_points, delay, *param_meas)\n",
    "dataid = do2d(SGS.frequency, 1e9, 20e9, 191, 0.0001, appl_current,-I_range ,I_range, 201, 0.0001, meas_voltage_K2)\n",
    "# dataid = do1d(appl_current, 6e-6 , -6e-6, 251, 0.01, meas_voltage_K1)\n",
    "# ivvi.set_dacs_zero()\n",
    "K2440.output(0)\n",
    "SGS.off()\n",
    "appl_current(0)\n",
    "plot_by_id(dataid)\n",
    "save_path = r\"D:\\data\\Albert\\103\\Plot\\104_{}.png\".format(dataid)  # Path to save the plot image\n",
    "autosave_plot_by_id(dataid, save_path)"
   ]
  },
  {
   "cell_type": "code",
   "execution_count": null,
   "id": "3426a3bd",
   "metadata": {},
   "outputs": [],
   "source": [
    "SGS.off()\n",
    "SGS.power(20)\n",
    "SGS.frequency(0.1e9)\n",
    "SGS.on()\n",
    "DMM6500.averaging_count(1)\n",
    "DMM6500.averaging_enabled(False)\n",
    "K2440.output(1)\n",
    "\n",
    "I_range = 6e-6\n",
    "appl_current(-I_range)\n",
    "#appl_TG(-10)\n",
    "# magnet_x.field(0.4e-3)\n",
    "# magnet_y.field(2.53e-3)\n",
    "# sleep(1)\n",
    "\n",
    "# station.snapshot(update=True);\n",
    "exp = qc.new_experiment('IV-RF_f', sample_name=f'103-03_J2_27-26-30-31M(32G-33G-28G-29G)_1M_RF@-10dBm_By@0.1mT')\n",
    "\n",
    "#do1d(param_set, start, stop, num_points, delay, *param_meas)\n",
    "dataid = do2d(SGS.frequency, 1e9, 20e9, 191, 0.0001, appl_current,-I_range ,I_range, 201, 0.0001, meas_voltage_K2)\n",
    "# dataid = do1d(appl_current, 6e-6 , -6e-6, 251, 0.01, meas_voltage_K1)\n",
    "# ivvi.set_dacs_zero()\n",
    "K2440.output(0)\n",
    "SGS.off()\n",
    "appl_current(0)\n",
    "plot_by_id(dataid)\n",
    "save_path = r\"D:\\data\\Albert\\103\\Plot\\104_{}.png\".format(dataid)  # Path to save the plot image\n",
    "autosave_plot_by_id(dataid, save_path)"
   ]
  },
  {
   "cell_type": "code",
   "execution_count": null,
   "id": "9f9dbd53",
   "metadata": {},
   "outputs": [],
   "source": [
    "SGS.off()\n",
    "SGS.power(20)\n",
    "SGS.frequency(5.9e9)\n",
    "SGS.on()\n",
    "DMM6500.averaging_count(1)\n",
    "DMM6500.averaging_enabled(False)\n",
    "K2440.output(1)\n",
    "\n",
    "I_range = 6e-6\n",
    "appl_current(-I_range)\n",
    "#appl_TG(-10)\n",
    "# magnet_x.field(0.4e-3)\n",
    "# magnet_y.field(2.53e-3)\n",
    "# sleep(1)\n",
    "\n",
    "# station.snapshot(update=True);\n",
    "exp = qc.new_experiment('IV-RF_f', sample_name=f'103-03_J2_27-26-30-31M(32G-33G-28G-29G)_1M_RF@20dBm_By@0.1mT')\n",
    "\n",
    "#do1d(param_set, start, stop, num_points, delay, *param_meas)\n",
    "dataid = do2d(SGS.frequency, 5.9e9, 6.0e9, 251, 0.0001, appl_current,-I_range ,I_range, 501, 0.0001, meas_voltage_K2)\n",
    "# dataid = do1d(appl_current, 6e-6 , -6e-6, 251, 0.01, meas_voltage_K1)\n",
    "# ivvi.set_dacs_zero()\n",
    "K2440.output(0)\n",
    "SGS.off()\n",
    "appl_current(0)\n",
    "plot_by_id(dataid)\n",
    "save_path = r\"D:\\data\\Albert\\103\\Plot\\104_{}.png\".format(dataid)  # Path to save the plot image\n",
    "autosave_plot_by_id(dataid, save_path)\n"
   ]
  },
  {
   "cell_type": "code",
   "execution_count": null,
   "id": "862b770b",
   "metadata": {},
   "outputs": [],
   "source": [
    "SGS.off()\n",
    "SGS.power(20)\n",
    "SGS.frequency(5.535e9)\n",
    "SGS.on()\n",
    "DMM6500.averaging_count(1)\n",
    "DMM6500.averaging_enabled(False)\n",
    "K2440.output(1)\n",
    "\n",
    "I_range = 6e-6\n",
    "appl_current(-I_range)\n",
    "#appl_TG(-10)\n",
    "# magnet_x.field(0.4e-3)\n",
    "# magnet_y.field(2.53e-3)\n",
    "# sleep(1)\n",
    "\n",
    "# station.snapshot(update=True);\n",
    "exp = qc.new_experiment('IV-RF_f', sample_name=f'103-03_J2_27-26-30-31M(32G-33G-28G-29G)_1M_RF@20dBm_By@0.1mT')\n",
    "\n",
    "#do1d(param_set, start, stop, num_points, delay, *param_meas)\n",
    "dataid = do2d(SGS.frequency, 5.535e9, 5.585e9, 251, 0.0001, appl_current,-I_range ,I_range, 501, 0.0001, meas_voltage_K2)\n",
    "# dataid = do1d(appl_current, 6e-6 , -6e-6, 251, 0.01, meas_voltage_K1)\n",
    "# ivvi.set_dacs_zero()\n",
    "K2440.output(0)\n",
    "SGS.off()\n",
    "appl_current(0)\n",
    "plot_by_id(dataid)\n",
    "save_path = r\"D:\\data\\Albert\\103\\Plot\\104_{}.png\".format(dataid)  # Path to save the plot image\n",
    "autosave_plot_by_id(dataid, save_path)\n"
   ]
  },
  {
   "cell_type": "code",
   "execution_count": null,
   "id": "d76f7ea2",
   "metadata": {},
   "outputs": [],
   "source": [
    "SGS.off()\n",
    "SGS.power(20)\n",
    "SGS.frequency(0.1e9)\n",
    "SGS.on()\n",
    "DMM6500.averaging_count(1)\n",
    "DMM6500.averaging_enabled(False)\n",
    "K2440.output(1)\n",
    "\n",
    "I_range = 6e-6\n",
    "appl_current(-I_range)\n",
    "SGS_power = SGS.power()\n",
    "#appl_TG(-10)\n",
    "# magnet_x.field(0.4e-3)\n",
    "# magnet_y.field(2.53e-3)\n",
    "# sleep(1)\n",
    "\n",
    "# station.snapshot(update=True);\n",
    "exp = qc.new_experiment('IV-RF_f', sample_name=f'103-03_J2_27-26-30-31M(32G-33G-28G-29G)_1M_RF@{SGS_power}dBm_By@0.1mT')\n",
    "\n",
    "#do1d(param_set, start, stop, num_points, delay, *param_meas)\n",
    "dataid = do2d(SGS.frequency, 3.9e9, 6.9e9, 301, 0.0001, appl_current,-I_range ,I_range, 251, 0.0001, meas_voltage_K2)\n",
    "# dataid = do1d(appl_current, 6e-6 , -6e-6, 251, 0.01, meas_voltage_K1)\n",
    "# ivvi.set_dacs_zero()\n",
    "K2440.output(0)\n",
    "SGS.off()\n",
    "appl_current(0)\n",
    "plot_by_id(dataid)\n",
    "save_path = r\"D:\\data\\Albert\\103\\Plot\\104_{}.png\".format(dataid)  # Path to save the plot image\n",
    "autosave_plot_by_id(dataid, save_path)"
   ]
  },
  {
   "cell_type": "code",
   "execution_count": null,
   "id": "28992f6f",
   "metadata": {},
   "outputs": [],
   "source": [
    "appl_current(0)\n",
    "#appl_TG(0)\n",
    "magnet_y.field(0)\n",
    "sleep(2)\n",
    "magnet_x.field(0)\n",
    "sleep(2)\n",
    "#appl_voltage_AC(0.004)\n",
    "SGS.off()"
   ]
  },
  {
   "cell_type": "markdown",
   "id": "65c9a40a",
   "metadata": {},
   "source": [
    "## IV vs RF_f"
   ]
  },
  {
   "cell_type": "markdown",
   "id": "b285efb3",
   "metadata": {},
   "source": [
    "### Shapiro steps "
   ]
  },
  {
   "cell_type": "code",
   "execution_count": null,
   "id": "3a180ee1",
   "metadata": {
    "scrolled": true
   },
   "outputs": [],
   "source": [
    "SGS.off()\n",
    "SGS.power(-10)\n",
    "SGS.frequency(11.725e9)\n",
    "SGS.on()\n",
    "DMM6500.averaging_count(5)\n",
    "DMM6500.averaging_enabled(False)\n",
    "K2440.output(1)\n",
    "\n",
    "appl_current(-2e-7)\n",
    "#appl_TG(-10)\n",
    "#magnet_x.field(0.23e-3)\n",
    "#magnet_y.field(1.41e-3)\n",
    "# sleep(1)\n",
    "\n",
    "# station.snapshot(update=True);\n",
    "exp = qc.new_experiment('IV-RF_f', sample_name=f'103-03_J2_27-26-30-31M(32G-33G-28G-29G)_1M_By@0.1mT{-I_range}')\n",
    "\n",
    "#do1d(param_set, start, stop, num_points, delay, *param_meas)\"\"\n",
    "dataid = do1d(appl_current,-2e-7 ,2e-7, 101, 0.05,  meas_voltage_K2)\n",
    "# dataid = do1d(appl_current, 6e-6 , -6e-6, 251, 0.01, meas_voltage_K1)\n",
    "# ivvi.set_dacs_zero()\n",
    "K2440.output(0)\n",
    "SGS.off()\n",
    "appl_current(0)\n",
    "plot_by_id(dataid)\n",
    "# print(get_R_from_IV(dataid))\n",
    "#print(get_R_from_IV_2(dataid))"
   ]
  },
  {
   "cell_type": "code",
   "execution_count": null,
   "id": "51fe069b",
   "metadata": {},
   "outputs": [],
   "source": [
    "SGS.off()\n",
    "SGS.power(0)\n",
    "SGS.frequency(3.87e9)\n",
    "SGS.on()\n",
    "DMM6500.averaging_count(5)\n",
    "DMM6500.averaging_enabled(False)\n",
    "K2440.output(1)\n",
    "\n",
    "appl_current(-1.2e-6)\n",
    "#appl_TG(-10)\n",
    "magnet_y.field(-10e-3)\n",
    "\n",
    "#magnet_y.field(1.41e-3)\n",
    "# sleep(1)\n",
    "\n",
    "# station.snapshot(update=True);\n",
    "exp = qc.new_experiment('Bx vs RF_f', sample_name='By vs RF_f_J2_3.87_-10dB')\n",
    "\n",
    "#do1d(param_set, start, stop, num_points, delay, *param_meas)\"\"\n",
    "dataid = do2d(magnet_y.field, -10e-3, 10e-3,701, 1, appl_current,-1.2e-6 ,1.2e-6, 101, 0.05,  meas_voltage_K2)\n",
    "# dataid = do1d(appl_current, 6e-6 , -6e-6, 251, 0.01, meas_voltage_K1)\n",
    "# ivvi.set_dacs_zero()\n",
    "K2440.output(0)\n",
    "SGS.off()\n",
    "appl_current(0)\n",
    "plot_by_id(dataid)\n",
    "# print(get_R_from_IV(dataid))\n",
    "#print(get_R_from_IV_2(dataid))"
   ]
  },
  {
   "cell_type": "code",
   "execution_count": null,
   "id": "5488e4c5",
   "metadata": {},
   "outputs": [],
   "source": [
    "appl_current(0)\n",
    "#appl_TG(0)\n",
    "magnet_y.field(0)\n",
    "sleep(10)\n",
    "magnet_x.field(0)\n",
    "sleep(10)\n",
    "#appl_voltage_AC(0.004)\n",
    "SGS.off()"
   ]
  },
  {
   "cell_type": "markdown",
   "id": "04e50dcd",
   "metadata": {},
   "source": [
    "## IV vs Power Dependence"
   ]
  },
  {
   "cell_type": "code",
   "execution_count": null,
   "id": "0368ef58",
   "metadata": {},
   "outputs": [],
   "source": [
    "SGS.off()"
   ]
  },
  {
   "cell_type": "code",
   "execution_count": null,
   "id": "3d6eab35",
   "metadata": {},
   "outputs": [],
   "source": [
    "SGS.power(-40)"
   ]
  },
  {
   "cell_type": "code",
   "execution_count": null,
   "id": "d760383a",
   "metadata": {},
   "outputs": [],
   "source": [
    "SGS.off()"
   ]
  },
  {
   "cell_type": "code",
   "execution_count": null,
   "id": "f0984a37",
   "metadata": {
    "scrolled": true
   },
   "outputs": [],
   "source": [
    "SGS.off()\n",
    "SGS.power(-20)\n",
    "SGS.frequency(5.9534e9)\n",
    "SGS_frequency = SGS.frequency()\n",
    "SGS.on()\n",
    "DMM6500.averaging_count(3)\n",
    "DMM6500.averaging_enabled(False)\n",
    "K2440.output(1)\n",
    "\n",
    "#magnet_x.field(15e-3)\n",
    "#sleep(5)\n",
    "I_range = 6e-6\n",
    "appl_current(-I_range)\n",
    "#appl_TG(-30)\n",
    "sleep(2)\n",
    "\n",
    "# station.snapshot(update=True);\n",
    "exp = qc.new_experiment('IV-RF_p', sample_name=f'103-03_J2_27-26-30-31M(32G-33G-28G-29G)_1M_RF@{SGS_frequency*1e-9:.4f}GHz_By@0.1mT')\n",
    "\n",
    "#do1d(param_set, start, stop, num_points, delay, *param_meas)\n",
    "\n",
    "dataid = do2d(SGS.power,10, 15, 51, 0.1, appl_current,-I_range ,I_range, 301, 0.00001, meas_voltage_K2)\n",
    "# dataid = do1d(appl_current, 6e-6 , -6e-6, 251, 0.01, meas_voltage_K1)\n",
    "# ivvi.set_dacs_zero()\n",
    "\n",
    "SGS.off()\n",
    "appl_current(0)\n",
    "K2440.output()\n",
    "plot_by_id(dataid)\n",
    "\n",
    "# print(get_R_from_IV(dataid))\n",
    "print(get_R_from_IV_2(dataid))"
   ]
  },
  {
   "cell_type": "code",
   "execution_count": null,
   "id": "de3fc621",
   "metadata": {},
   "outputs": [],
   "source": [
    "SGS.off()\n",
    "SGS.power(-25)\n",
    "SGS.frequency(5.226e9)\n",
    "SGS.on()\n",
    "DMM6500.averaging_count(5)\n",
    "DMM6500.averaging_enabled(True)\n",
    "K2440.output(1)\n",
    "\n",
    "magnet_y.field(-8e-3)\n",
    "sleep(60)\n",
    "appl_current(-2e-7)\n",
    "#appl_TG(-30)\n",
    "sleep(2)\n",
    "\n",
    "# station.snapshot(update=True);\n",
    "exp = qc.new_experiment('IV vs power dependence', sample_name='IV vs PD_5.226_By:-8mT')\n",
    "\n",
    "#do1d(param_set, start, stop, num_points, delay, *param_meas)\n",
    "\n",
    "dataid = do2d(SGS.power,-25, 10, 101, 20, appl_current,-2e-7 ,2e-7, 101, 0.05, meas_voltage_K2)\n",
    "# dataid = do1d(appl_current, 6e-6 , -6e-6, 251, 0.01, meas_voltage_K1)\n",
    "# ivvi.set_dacs_zero()\n",
    "\n",
    "SGS.off()\n",
    "appl_current(0)\n",
    "K2440.output()\n",
    "plot_by_id(dataid)\n",
    "\n",
    "# print(get_R_from_IV(dataid))\n",
    "print(get_R_from_IV_2(dataid))"
   ]
  },
  {
   "cell_type": "markdown",
   "id": "13e12840",
   "metadata": {},
   "source": [
    "### PD vs frequency_IV loop (not yet)"
   ]
  },
  {
   "cell_type": "code",
   "execution_count": null,
   "id": "8659ae09",
   "metadata": {
    "code_folding": []
   },
   "outputs": [],
   "source": [
    "frequencies = [3.248, 3.387, 5.677]\n",
    "power_levels = [-20, 0, 25]\n",
    "     \n",
    "SGS.off()\n",
    "SGS.power(-20)\n",
    "SGS.frequency(3.387e9)\n",
    "SGS.on()\n",
    "DMM6500.averaging_count(5)\n",
    "DMM6500.averaging_enabled(True)\n",
    "K2440.output(1)\n",
    "\n",
    "appl_current(-2e-6)\n",
    "#appl_TG(-10)\n",
    "sleep(1)\n",
    "\n",
    "for freq in frequencies:\n",
    "    SGS.frequency(freq)\n",
    "    for power_level in power_levels:\n",
    "        SGS.power(power_level)\n",
    "\n",
    "# station.snapshot(update=True);\n",
    "exp = qc.new_experiment('IV vs power dependence', sample_name='IV vs PD_J2_3.387_m20')\n",
    "dataid = do2d(SGS.power, 4, 8, 100, 2, appl_current, -1e-6, 1e-6, 101, 0.05, meas_voltage_K2)\n",
    "\n",
    " # 關閉設備，並在需要時列印或繪製結果\n",
    "SGS.off()\n",
    "appl_current(0)\n",
    "K2440.output()\n",
    "plot_by_id(dataid)\n",
    "    \n",
    "print(f\"頻率：{freq} Hz，功率水平：{power_level} dB\")\n",
    "print(get_R_from_IV_2(dataid))\n"
   ]
  },
  {
   "cell_type": "markdown",
   "id": "5c2101a5",
   "metadata": {},
   "source": [
    "## IV vs Vgate"
   ]
  },
  {
   "cell_type": "code",
   "execution_count": null,
   "id": "48eb3a89",
   "metadata": {},
   "outputs": [],
   "source": [
    "appl_current(0)\n",
    "appl_TG(0)\n",
    "magnet_y.field(0)\n",
    "sleep(10)\n",
    "magnet_x.field(0)\n",
    "sleep(10)\n",
    "appl_voltage_AC(0.004)\n",
    "SGS.off()"
   ]
  },
  {
   "cell_type": "code",
   "execution_count": null,
   "id": "5deaef19",
   "metadata": {},
   "outputs": [],
   "source": [
    "SGS.off()\n",
    "SGS.power(25)\n",
    "SGS.frequency(4.83e9)\n",
    "SGS.on()\n",
    "DMM6500.averaging_count(5)\n",
    "DMM6500.averaging_enabled(True)\n",
    "appl_current(-0.4e-7)\n",
    "appl_current_AC(0.1e-10)\n",
    "\n",
    "appl_TG(-10)\n",
    "sleep(1)\n",
    "\n",
    "# station.snapshot(update=True);\n",
    "exp = qc.new_experiment('IV vs Vgate', sample_name='IV vs Vg')\n",
    "\n",
    "dataid = do2d(appl_TG, -10, 10, 751, 0.5, appl_current, -0.4e-7, 0.4e-7, 101, 0.01, meas_voltage_AC_L1, meas_voltage_AC_L1_P, meas_voltage_K2)\n",
    "# dataid = do1d(appl_current, 6e-6 , -6e-6, 251, 0.01, meas_voltage_K1)\n",
    "# ivvi.set_dacs_zero()\n",
    "SGS.off()\n",
    "appl_current(0)\n",
    "plot_by_id(dataid)\n",
    "# print(get_R_from_IV(dataid))\n",
    "#print(get_R_from_IV_2(dataid))"
   ]
  },
  {
   "cell_type": "code",
   "execution_count": null,
   "id": "6bbd39fb",
   "metadata": {},
   "outputs": [],
   "source": [
    "appl_current(0)\n",
    "appl_TG(0)\n",
    "magnet_y.field(0)\n",
    "sleep(10)\n",
    "magnet_x.field(0)\n",
    "sleep(10)\n",
    "appl_voltage_AC(0.004)\n",
    "SGS.off()"
   ]
  },
  {
   "cell_type": "code",
   "execution_count": null,
   "id": "00d4b770",
   "metadata": {},
   "outputs": [],
   "source": [
    "import matplotlib.pyplot as plt\n",
    "import numpy as np\n",
    "\n",
    "# Constants\n",
    "k = 8.617333262145e-5  # Boltzmann constant in eV/K\n",
    "E_a = 0.5  # Example value for the activation energy in eV\n",
    "p_0 = 1.0  # Example value for p0\n",
    "\n",
    "# Create an array of temperatures from 100 to 1000 K\n",
    "temperatures = np.linspace(100, 1000, 50)\n",
    "\n",
    "# Calculate 1/T\n",
    "inverse_temperatures = 1 / temperatures\n",
    "\n",
    "# Calculate ln(p)\n",
    "ln_p = np.log(p_0) - (E_a / k) * inverse_temperatures\n",
    "\n",
    "# Plotting\n",
    "plt.figure(figsize=(8, 6))\n",
    "plt.plot(inverse_temperatures, ln_p, marker='o', linestyle='-')\n",
    "plt.xlabel('1/T (1/K)')\n",
    "plt.ylabel('ln(p)')\n",
    "plt.title('ln(p) vs 1/T for Hole Concentration')\n",
    "plt.grid(True)\n",
    "plt.show()\n"
   ]
  },
  {
   "cell_type": "code",
   "execution_count": null,
   "id": "f610e7bc",
   "metadata": {},
   "outputs": [],
   "source": []
  }
 ],
 "metadata": {
  "kernelspec": {
   "display_name": "qcodes",
   "language": "python",
   "name": "python3"
  },
  "language_info": {
   "codemirror_mode": {
    "name": "ipython",
    "version": 3
   },
   "file_extension": ".py",
   "mimetype": "text/x-python",
   "name": "python",
   "nbconvert_exporter": "python",
   "pygments_lexer": "ipython3",
   "version": "3.11.3"
  },
  "toc": {
   "base_numbering": 1,
   "nav_menu": {},
   "number_sections": true,
   "sideBar": false,
   "skip_h1_title": false,
   "title_cell": "Table of Contents",
   "title_sidebar": "Contents",
   "toc_cell": false,
   "toc_position": {
    "height": "783px",
    "left": "260px",
    "top": "67.125px",
    "width": "182px"
   },
   "toc_section_display": true,
   "toc_window_display": true
  }
 },
 "nbformat": 4,
 "nbformat_minor": 5
}
