{
 "cells": [
  {
   "cell_type": "markdown",
   "id": "256e0f19",
   "metadata": {},
   "source": [
    "# Initialization"
   ]
  },
  {
   "cell_type": "markdown",
   "id": "9d160fe4",
   "metadata": {},
   "source": [
    "## Inport modules"
   ]
  },
  {
   "cell_type": "code",
   "execution_count": 36,
   "id": "88979d6d",
   "metadata": {},
   "outputs": [
    {
     "name": "stdout",
     "output_type": "stream",
     "text": [
      "Imported all modules, QCoDeS version: 0.39.0 initialized\n"
     ]
    }
   ],
   "source": [
    "%matplotlib ipympl\n",
    "import os, sys\n",
    "import time\n",
    "import pyvisa\n",
    "import warnings\n",
    "import numpy as np\n",
    "import qcodes as qc\n",
    "import plotly.graph_objects as go\n",
    "import matplotlib.pyplot as plt\n",
    "\n",
    "def find_qcodes_local_dir():\n",
    "    dirpath = os.getcwd()\n",
    "    while True:\n",
    "        dirpath, folder_name = os.path.split(dirpath)\n",
    "        if folder_name == 'QCoDeS_local':\n",
    "            return os.path.join(dirpath, folder_name)\n",
    "        if not folder_name:  # Reached the root directory\n",
    "            return None\n",
    "qcodes_local_dir = find_qcodes_local_dir()\n",
    "sys.path.append(f'{qcodes_local_dir}')\n",
    "\n",
    "from tqdm import tqdm\n",
    "from pprint import pprint\n",
    "from time import sleep, monotonic, time\n",
    "from IPython.display import clear_output\n",
    "from qcodes.dataset.measurements import Measurement\n",
    "from qcodes.utils.metadata import diff_param_values\n",
    "from qcodes.dataset.plotting import plot_dataset, plot_by_id\n",
    "from qcodes import Parameter, ManualParameter, ScaledParameter\n",
    "from qcodes.instrument.specialized_parameters import ElapsedTimeParameter\n",
    "from sweeps_v2 import do1d, do2d, time_sweep, measure_until, do1d_until\n",
    "\n",
    "print('Imported all modules, QCoDeS version:', qc.__version__, 'initialized')\n",
    "\n",
    "# warnings.filterwarnings('ignore')"
   ]
  },
  {
   "cell_type": "code",
   "execution_count": 37,
   "id": "399e7806",
   "metadata": {},
   "outputs": [],
   "source": [
    "def find_qcodes_local_dir():\n",
    "    dirpath = os.getcwd()\n",
    "    while True:\n",
    "        dirpath, folder_name = os.path.split(dirpath)\n",
    "        if folder_name == 'QCoDeS_local':\n",
    "            return os.path.join(dirpath, folder_name)\n",
    "        if not folder_name:  # Reached the root directory\n",
    "            return None\n",
    "qcodes_local_dir = find_qcodes_local_dir()"
   ]
  },
  {
   "cell_type": "code",
   "execution_count": 38,
   "id": "fff9a7bd",
   "metadata": {},
   "outputs": [
    {
     "data": {
      "text/plain": [
       "'c:\\\\Users\\\\quant\\\\OneDrive\\\\Documents\\\\GitHub\\\\QCoDeS_local'"
      ]
     },
     "execution_count": 38,
     "metadata": {},
     "output_type": "execute_result"
    }
   ],
   "source": [
    "qcodes_local_dir"
   ]
  },
  {
   "cell_type": "code",
   "execution_count": 39,
   "id": "cc4a1c10",
   "metadata": {},
   "outputs": [
    {
     "data": {
      "text/plain": [
       "'c:\\\\Users\\\\quant\\\\OneDrive\\\\Documents\\\\GitHub\\\\QCoDeS_local\\\\init_fridge_v2.py'"
      ]
     },
     "execution_count": 39,
     "metadata": {},
     "output_type": "execute_result"
    }
   ],
   "source": [
    "def find_init_fridge_v2_py():\n",
    "    for root, dirs, files in os.walk(qcodes_local_dir):\n",
    "        if 'init_fridge_v2.py' in files:\n",
    "            return os.path.join(root, 'init_fridge_v2.py')\n",
    "    return None\n",
    "\n",
    "init_fridge_v2_py_path = find_init_fridge_v2_py()\n",
    "init_fridge_v2_py_path"
   ]
  },
  {
   "cell_type": "code",
   "execution_count": 40,
   "id": "bb19a743",
   "metadata": {},
   "outputs": [
    {
     "name": "stdout",
     "output_type": "stream",
     "text": [
      "Found init_BF1_v2.py at: c:\\Users\\quant\\OneDrive\\Documents\\GitHub\\QCoDeS_local\\fridge_specific\\init_BF1_v2.py\n",
      "Error connecting to TCPIP0::192.168.1.42::inst0::INSTR: VI_ERROR_RSRC_NFOUND (-1073807343): Insufficient location information or the requested device or resource is not present in the system.\n",
      "Error connecting to TCPIP0::192.168.1.42::inst1::INSTR: VI_ERROR_RSRC_NFOUND (-1073807343): Insufficient location information or the requested device or resource is not present in the system.\n",
      "Error connecting to TCPIP0::192.168.1.6::inst0::INSTR: VI_ERROR_RSRC_NFOUND (-1073807343): Insufficient location information or the requested device or resource is not present in the system.\n",
      "Error connecting to TCPIP0::192.168.1.7::inst0::INSTR: VI_ERROR_RSRC_NFOUND (-1073807343): Insufficient location information or the requested device or resource is not present in the system.\n",
      "Error connecting to TCPIP0::ZNB20-64-101393::inst0::INSTR: VI_ERROR_RSRC_NFOUND (-1073807343): Insufficient location information or the requested device or resource is not present in the system.\n",
      "Error connecting to ASRL1::INSTR: VI_ERROR_TMO (-1073807339): Timeout expired before operation completed.\n",
      "Error connecting to ASRL2::INSTR: VI_ERROR_TMO (-1073807339): Timeout expired before operation completed.\n",
      "Error connecting to ASRL10::INSTR: VI_ERROR_TMO (-1073807339): Timeout expired before operation completed.\n",
      "Device: GPIB0::6::INSTR\n",
      "IDN: KEITHLEY INSTRUMENTS,MODEL DMM6500,04518052,1.7.7b\n",
      "\n",
      "Connected to: KEITHLEY INSTRUMENTS DMM6500 (serial:04518052, firmware:1.7.7b) in 0.02s\n",
      "Error connecting to GPIB0::6::INSTR: 'Another instrument has the name: DMM6500'\n",
      "Device: GPIB0::19::INSTR\n",
      "IDN: KEITHLEY INSTRUMENTS INC.,MODEL 2400,0957985,C32   Oct  4 2010 14:20:11/A02  /K/M\n",
      "\n",
      "Connected to: KEITHLEY INSTRUMENTS INC. 2400 (serial:0957985, firmware:C32   Oct  4 2010 14:20:11/A02  /K/M) in 0.03s\n",
      "Error connecting to GPIB0::19::INSTR: 'Another instrument has the name: K2400'\n",
      "Device: GPIB0::22::INSTR\n",
      "IDN: KEITHLEY INSTRUMENTS INC.,MODEL 2440,1225508,C30   Mar 17 2006 09:29:29/A02  /B/A\n",
      "\n",
      "Connected to: KEITHLEY INSTRUMENTS INC. 2440 (serial:1225508, firmware:C30   Mar 17 2006 09:29:29/A02  /B/A) in 0.03s\n",
      "Error connecting to GPIB0::22::INSTR: 'Another instrument has the name: K2440'\n",
      "Failed to ping 169.254.115.3: [WinError 10049] The requested address is not valid in its context\n",
      "Failed to ping 169.254.115.2: [WinError 10049] The requested address is not valid in its context\n",
      "Failed to ping 169.254.115.1: [WinError 10049] The requested address is not valid in its context\n",
      "One or more pings failed, cannot establish connection to all magnets.\n",
      "\n",
      "Station list:\n",
      "{}\n"
     ]
    }
   ],
   "source": [
    "fridge_name = 'BF1'\n",
    "%run \"{init_fridge_v2_py_path}\" {fridge_name}"
   ]
  },
  {
   "cell_type": "code",
   "execution_count": 41,
   "id": "c9e134aa",
   "metadata": {},
   "outputs": [
    {
     "name": "stdout",
     "output_type": "stream",
     "text": [
      "{'components': {}, 'config': None, 'instruments': {}, 'parameters': {}}\n"
     ]
    }
   ],
   "source": [
    "snapshot_of_station = station.snapshot()\n",
    "pprint(snapshot_of_station)"
   ]
  },
  {
   "cell_type": "markdown",
   "id": "4757b159",
   "metadata": {},
   "source": [
    "## Keithley 2440"
   ]
  },
  {
   "cell_type": "markdown",
   "id": "797b994c",
   "metadata": {},
   "source": [
    "### sensitive check"
   ]
  },
  {
   "cell_type": "code",
   "execution_count": 42,
   "id": "f387f69b",
   "metadata": {},
   "outputs": [
    {
     "data": {
      "text/plain": [
       "'VOLT'"
      ]
     },
     "execution_count": 42,
     "metadata": {},
     "output_type": "execute_result"
    }
   ],
   "source": [
    "K2440.mode('VOLT')\n",
    "K2440.mode()"
   ]
  },
  {
   "cell_type": "code",
   "execution_count": 43,
   "id": "09a8a36e",
   "metadata": {},
   "outputs": [
    {
     "name": "stdout",
     "output_type": "stream",
     "text": [
      "-3.696502e-06\n"
     ]
    }
   ],
   "source": [
    "K2440.output(1) # output on\n",
    "K2440.rangev(10)\n",
    "K2440.volt(0)\n",
    "K2440.compliancei(100e-3)\n",
    "sleep(1)\n",
    "v_read=DMM6500.amplitude()\n",
    "K2440.output(0) #output off\n",
    "print(v_read)"
   ]
  },
  {
   "cell_type": "markdown",
   "id": "105706bc",
   "metadata": {},
   "source": [
    "## TG 2400"
   ]
  },
  {
   "cell_type": "code",
   "execution_count": 44,
   "id": "cdc19f1b",
   "metadata": {},
   "outputs": [
    {
     "name": "stdout",
     "output_type": "stream",
     "text": [
      "-3.469602e-06\n"
     ]
    }
   ],
   "source": [
    "K2400.output(1) # output on\n",
    "K2400.rangev(22)\n",
    "K2400.volt(0)\n",
    "K2400.compliancei(100e-3)\n",
    "K2400.output(0) #output off\n",
    "sleep(1)\n",
    "v_read=DMM6500.amplitude()\n",
    "print(v_read)"
   ]
  },
  {
   "cell_type": "code",
   "execution_count": null,
   "id": "e971a620",
   "metadata": {},
   "outputs": [],
   "source": [
    "K2400.volt(1)\n",
    "K2400.output(0) #output off"
   ]
  },
  {
   "cell_type": "code",
   "execution_count": null,
   "id": "e284050c",
   "metadata": {},
   "outputs": [],
   "source": [
    "K2400.rangev(1)\n",
    "K2400.rangev()"
   ]
  },
  {
   "cell_type": "markdown",
   "id": "c676ccb5",
   "metadata": {},
   "source": [
    "#  Database initialisation"
   ]
  },
  {
   "cell_type": "code",
   "execution_count": 45,
   "id": "e09e380a",
   "metadata": {},
   "outputs": [
    {
     "data": {
      "text/plain": [
       "'c:\\\\Users\\\\quant\\\\OneDrive\\\\Documents\\\\GitHub\\\\QCoDeS_local\\\\init_database_v2.py'"
      ]
     },
     "execution_count": 45,
     "metadata": {},
     "output_type": "execute_result"
    }
   ],
   "source": [
    "def find_init_database_v2_py():\n",
    "    for root, dirs, files in os.walk(qcodes_local_dir):\n",
    "        if 'init_database_v2.py' in files:\n",
    "            return os.path.join(root, 'init_database_v2.py')\n",
    "    return None\n",
    "\n",
    "init_database_v2_py_path = find_init_database_v2_py()\n",
    "init_database_v2_py_path"
   ]
  },
  {
   "cell_type": "code",
   "execution_count": 46,
   "id": "7b665bc4",
   "metadata": {},
   "outputs": [
    {
     "name": "stdout",
     "output_type": "stream",
     "text": [
      "Creating a new database file:\n",
      "c:\\Users\\quant\\OneDrive\\Documents\\GitHub\\QCoDeS_local\\personal_scripts\\Hank\\Leo006\\Leo006_2024-12-13_02.db\n"
     ]
    }
   ],
   "source": [
    "reuse = False\n",
    "%run \"{init_database_v2_py_path}\" {reuse}"
   ]
  },
  {
   "cell_type": "markdown",
   "id": "6a8a2beb",
   "metadata": {},
   "source": [
    "\n",
    "# Scaled parameters"
   ]
  },
  {
   "cell_type": "code",
   "execution_count": null,
   "id": "e3b44b31",
   "metadata": {},
   "outputs": [],
   "source": []
  },
  {
   "cell_type": "markdown",
   "id": "ea4ff57a",
   "metadata": {},
   "source": [
    "## Defining scaled parameters"
   ]
  },
  {
   "cell_type": "code",
   "execution_count": 47,
   "id": "c8ca5b97",
   "metadata": {},
   "outputs": [
    {
     "data": {
      "text/plain": [
       "'Gain_L2'"
      ]
     },
     "execution_count": 47,
     "metadata": {},
     "output_type": "execute_result"
    }
   ],
   "source": [
    "Irange = Parameter('Irange', label='current range', unit='', set_cmd=None, get_cmd=None)\n",
    "Vrange = Parameter('Vrange', label='voltage range', unit='', set_cmd=None, get_cmd=None)\n",
    "TGrange = Parameter('TGrange', label='Top gate range', unit='', set_cmd=None, get_cmd=None)\n",
    "\n",
    "#division paraemtrs required for simplier update: they used as an argument for scaled paraemtrs of sorce instruments\n",
    "\n",
    "\n",
    "Irange_division = Parameter('Irange_division', \n",
    "                            label='scaled current range', unit='', \n",
    "                            set_cmd=None, get_cmd=lambda : 1 / Irange())\n",
    "\n",
    "Vrange_division = Parameter('Vrange_division', \n",
    "                            label='scaled voltage range', unit='', \n",
    "                            set_cmd=None, get_cmd=lambda : 1 / Vrange())\n",
    "\n",
    "TGrange_division = Parameter('TGrange_division', \n",
    "                             label='scaled Top gate range', unit='', \n",
    "                             set_cmd=None, get_cmd=lambda : 1 / TGrange())\n",
    "\n",
    "Irange_AC_division = Parameter('Irange_AC_division', \n",
    "                               label='scaled current range for lockin', unit='', \n",
    "                               set_cmd=None, get_cmd=lambda : 1 / Irange())\n",
    "\n",
    "Vrange_AC_division = Parameter('Vrange_AC_division', \n",
    "                               label='scaled voltage range for lockin', unit='', \n",
    "                               set_cmd=None, get_cmd=lambda : 1 / Vrange())\n",
    "\n",
    "Gain_K1 = Parameter('Gain_K1', label='Gain K1', unit='', set_cmd=None, get_cmd=None)\n",
    "Gain_K2 = Parameter('Gain_K2', label='Gain K2', unit='', set_cmd=None, get_cmd=None)\n",
    "Gain_L1 = Parameter('Gain_L1', label='Gain L1', unit='', set_cmd=None, get_cmd=None)\n",
    "Gain_L2 = Parameter('Gain_L2', label='Gain L2', unit='', set_cmd=None, get_cmd=None)\n",
    "\n",
    "#Add components\n",
    "station.add_component(Irange)\n",
    "station.add_component(Vrange)\n",
    "station.add_component(TGrange)\n",
    "\n",
    "station.add_component(Irange_division)\n",
    "station.add_component(Vrange_division)\n",
    "station.add_component(TGrange_division)\n",
    "\n",
    "station.add_component(Irange_AC_division)\n",
    "station.add_component(Vrange_AC_division)\n",
    "                             \n",
    "station.add_component(Gain_K1)\n",
    "station.add_component(Gain_K2)\n",
    "station.add_component(Gain_L1)\n",
    "station.add_component(Gain_L2)"
   ]
  },
  {
   "cell_type": "markdown",
   "id": "6d7ecebe",
   "metadata": {},
   "source": [
    "## Parameters - update here during measuerements"
   ]
  },
  {
   "cell_type": "code",
   "execution_count": 48,
   "id": "b0b09fcc",
   "metadata": {},
   "outputs": [],
   "source": [
    "Irange.set(1e-6) #Unit Amp V=IR, 1V= 1e-6 x 1MOhm=1e-7 x 10MOhm\n",
    "Vrange.set(10) ## need to be sync with K213 range #Unit Volt\n",
    "TGrange.set(1) #Unit Volt\n",
    "Gain_K1.set(100)\n",
    "Gain_K2.set(100)\n",
    "# Gain_K3.set(1e2)\n",
    "Gain_L1.set(Gain_K1())\n",
    "Gain_L2.set(Gain_K2())\n",
    "#division parameters are updated automatically"
   ]
  },
  {
   "cell_type": "markdown",
   "id": "cbe7bfa7",
   "metadata": {},
   "source": [
    "## DC parameters"
   ]
  },
  {
   "cell_type": "code",
   "execution_count": 49,
   "id": "6a8c7deb",
   "metadata": {},
   "outputs": [
    {
     "data": {
      "text/plain": [
       "'meas_current_K1'"
      ]
     },
     "execution_count": 49,
     "metadata": {},
     "output_type": "execute_result"
    }
   ],
   "source": [
    "# appl_current = ScaledParameter(lockin_1.sine_outdc, division = Irange_division, name = 'appl_current', unit = 'A')\n",
    "appl_current = ScaledParameter(K2440.volt, division = Irange_division, name = 'appl_current', unit = 'A')\n",
    "\n",
    "appl_TG = ScaledParameter(K2400.volt, division = TGrange_division, name = 'appl_TG', unit = 'V')\n",
    "\n",
    "meas_voltage_K1 = ScaledParameter(DMM6500.amplitude, division = Gain_K1, name = 'meas_voltage_K1', unit = 'V')\n",
    "# meas_voltage_K2 = ScaledParameter(DMM6500.amplitude, division = Gain_K2, name = 'meas_voltage_K2', unit = 'V')\n",
    "\n",
    "# meas_leakage = ScaledParameter(DMM6500.amplitude, division = Gain_K2, name = 'meas_leakage', unit = 'A')\n",
    "\n",
    "meas_current_K1 = ScaledParameter(DMM6500.amplitude, division = Gain_K1, name = 'meas_current_K1', unit = 'A')\n",
    "# meas_current_K2 = ScaledParameter(DMM6500.amplitude, division = Gain_K2, name = 'meas_current_K2', unit = 'A')\n",
    "\n",
    "station.add_component(appl_current)\n",
    "# station.add_component(appl_voltage)\n",
    "station.add_component(appl_TG)\n",
    "\n",
    "station.add_component(meas_voltage_K1)\n",
    "# station.add_component(meas_voltage_K2)\n",
    "\n",
    "# station.add_component(meas_leakage)\n",
    "\n",
    "station.add_component(meas_current_K1)\n",
    "# station.add_component(meas_current_K2)"
   ]
  },
  {
   "cell_type": "markdown",
   "id": "a23afd58",
   "metadata": {},
   "source": [
    "##  AC parameters"
   ]
  },
  {
   "cell_type": "code",
   "execution_count": null,
   "id": "769f6a51",
   "metadata": {},
   "outputs": [],
   "source": [
    "appl_current_AC = ScaledParameter(lockin_1.amplitude, division = Irange_AC_division, name = 'appl_current_AC', unit = 'A')\n",
    "appl_voltage_AC = ScaledParameter(lockin_1.amplitude, division = Vrange_AC_division, name = 'appl_voltage_AC', unit = 'V')\n",
    "\n",
    "station.add_component(appl_current_AC)\n",
    "station.add_component(appl_voltage_AC)\n",
    "\n",
    "meas_voltage_AC_L1 = ScaledParameter(lockin_1.X, division = Gain_L1, name = 'meas_voltage_Lockin1', unit = 'V')\n",
    "meas_current_AC_L1 = ScaledParameter(lockin_1.X, division = Gain_L1, name = 'meas_current_Lockin1', unit = 'A')\n",
    "meas_phase_AC_L1 = ScaledParameter(lockin_1.P, division = 1, name = 'meas_phase_Lockin1', unit = 'degree')\n",
    "\n",
    "\n",
    "# meas_voltage_AC_L2 = ScaledParameter(lockin_2.X, division = Gain_L2, name = 'meas_voltage_Lockin2', unit = 'V')\n",
    "# meas_current_AC_L2 = ScaledParameter(lockin_2.X, division = Gain_L2, name = 'meas_current_Lockin2', unit = 'A')\n",
    "# meas_phase_AC_L2 = ScaledParameter(lockin_2.P, division = 1, name = 'meas_phase_Lockin1', unit = 'degree')\n",
    "\n",
    "station.add_component(meas_voltage_AC_L1)\n",
    "station.add_component(meas_current_AC_L1)\n",
    "station.add_component(meas_phase_AC_L1)\n",
    "\n",
    "# station.add_component(meas_voltage_AC_L2)\n",
    "# station.add_component(meas_current_AC_L2)\n",
    "\n",
    "meas_voltage_AC_L1_R = ScaledParameter(lockin_1.R, division = Gain_L1, name = 'meas_voltage_R_Lockin1', unit = 'V')\n",
    "# meas_voltage_AC_L2_R = ScaledParameter(lockin_2.R, division = Gain_L2, name = 'meas_voltage_R_Lockin2', unit = 'V')\n",
    "\n",
    "station.add_component(meas_voltage_AC_L1_R)\n",
    "# station.add_component(meas_voltage_AC_L2_R)"
   ]
  },
  {
   "cell_type": "code",
   "execution_count": null,
   "id": "bcd10ed7",
   "metadata": {},
   "outputs": [],
   "source": [
    "meas_voltage_AC_L1_P = ScaledParameter(lockin_1.P, division = 1, name = 'meas_voltage_Lockin1_P', unit = 'degree')\n",
    "meas_current_AC_L1_P = ScaledParameter(lockin_1.P, division = 1, name = 'meas_current_Lockin1_P', unit = 'degree')\n",
    "\n",
    "# meas_voltage_AC_L2_P = ScaledParameter(lockin_2.P, division = 1, name = 'meas_voltage_Lockin2_P', unit = 'degree')\n",
    "# meas_current_AC_L2_P = ScaledParameter(lockin_2.P, division = 1, name = 'meas_current_Lockin2_P', unit = 'degree')\n",
    "\n",
    "station.add_component(meas_voltage_AC_L1_P)\n",
    "station.add_component(meas_current_AC_L1_P)\n",
    "\n",
    "# station.add_component(meas_voltage_AC_L2_P)\n",
    "# station.add_component(meas_current_AC_L2_P)"
   ]
  },
  {
   "cell_type": "markdown",
   "id": "8d9d6239",
   "metadata": {},
   "source": [
    "## Another useful example: magnet using dac (Janis)"
   ]
  },
  {
   "cell_type": "markdown",
   "id": "92e1f309",
   "metadata": {},
   "source": [
    ">2231.2 G per A => 0.22312 T per A<br>\n",
    "I source 10mA per V => 1e-5 A per 1mV<br>\n",
    "result: 0.22312 T/A * 1e-5 A/mV"
   ]
  },
  {
   "cell_type": "code",
   "execution_count": 50,
   "id": "6b2b657a",
   "metadata": {},
   "outputs": [
    {
     "ename": "ValueError",
     "evalue": "Run with run_id 1 does not exist in the database",
     "output_type": "error",
     "traceback": [
      "\u001b[1;31m---------------------------------------------------------------------------\u001b[0m",
      "\u001b[1;31mValueError\u001b[0m                                Traceback (most recent call last)",
      "Cell \u001b[1;32mIn[50], line 9\u001b[0m\n\u001b[0;32m      1\u001b[0m \u001b[38;5;66;03m# def get_R_from_IV(dataid):\u001b[39;00m\n\u001b[0;32m      2\u001b[0m \u001b[38;5;66;03m#     dataset = qc.load_by_id(dataid)\u001b[39;00m\n\u001b[0;32m      3\u001b[0m \u001b[38;5;66;03m#     voltage = dataset.get_parameter_data()['meas_voltage_K2']['meas_voltage_K2']\u001b[39;00m\n\u001b[1;32m   (...)\u001b[0m\n\u001b[0;32m      6\u001b[0m     \n\u001b[0;32m      7\u001b[0m \u001b[38;5;66;03m#     return fit_values[0]\u001b[39;00m\n\u001b[1;32m----> 9\u001b[0m dataset \u001b[38;5;241m=\u001b[39m \u001b[43mqc\u001b[49m\u001b[38;5;241;43m.\u001b[39;49m\u001b[43mload_by_id\u001b[49m\u001b[43m(\u001b[49m\u001b[38;5;241;43m1\u001b[39;49m\u001b[43m)\u001b[49m\n\u001b[0;32m     10\u001b[0m run_id\u001b[38;5;241m=\u001b[39m\u001b[38;5;241m1\u001b[39m\n\u001b[0;32m     11\u001b[0m \u001b[38;5;28;01mdef\u001b[39;00m \u001b[38;5;21mget_R_from_IV_2\u001b[39m(dataid):\n",
      "File \u001b[1;32mc:\\Users\\quant\\anaconda3\\envs\\qcodes\\Lib\\site-packages\\qcodes\\dataset\\data_set.py:1635\u001b[0m, in \u001b[0;36mload_by_id\u001b[1;34m(run_id, conn)\u001b[0m\n\u001b[0;32m   1633\u001b[0m     guid \u001b[38;5;241m=\u001b[39m get_guid_from_run_id(internal_conn, run_id)\n\u001b[0;32m   1634\u001b[0m     \u001b[38;5;28;01mif\u001b[39;00m guid \u001b[38;5;129;01mis\u001b[39;00m \u001b[38;5;28;01mNone\u001b[39;00m:\n\u001b[1;32m-> 1635\u001b[0m         \u001b[38;5;28;01mraise\u001b[39;00m \u001b[38;5;167;01mValueError\u001b[39;00m(\u001b[38;5;124mf\u001b[39m\u001b[38;5;124m\"\u001b[39m\u001b[38;5;124mRun with run_id \u001b[39m\u001b[38;5;132;01m{\u001b[39;00mrun_id\u001b[38;5;132;01m}\u001b[39;00m\u001b[38;5;124m does not exist in the database\u001b[39m\u001b[38;5;124m\"\u001b[39m)\n\u001b[0;32m   1636\u001b[0m     d \u001b[38;5;241m=\u001b[39m _get_datasetprotocol_from_guid(guid, internal_conn)\n\u001b[0;32m   1637\u001b[0m \u001b[38;5;28;01mfinally\u001b[39;00m:\n\u001b[0;32m   1638\u001b[0m     \u001b[38;5;66;03m# dataset takes ownership of the connection but DataSetInMem does not\u001b[39;00m\n",
      "\u001b[1;31mValueError\u001b[0m: Run with run_id 1 does not exist in the database"
     ]
    }
   ],
   "source": [
    "# def get_R_from_IV(dataid):\n",
    "#     dataset = qc.load_by_id(dataid)\n",
    "#     voltage = dataset.get_parameter_data()['meas_voltage_K2']['meas_voltage_K2']\n",
    "#     current = dataset.get_parameter_data()['meas_voltage_K2']['appl_current']\n",
    "#     fit_values = np.polyfit(current,voltage,1)\n",
    "    \n",
    "#     return fit_values[0]\n",
    "\n",
    "dataset = qc.load_by_id(1)\n",
    "run_id=1\n",
    "def get_R_from_IV_2(dataid):\n",
    "    dataset = qc.load_by_id(dataid)\n",
    "    voltage = dataset.get_parameter_data()['meas_voltage_K2']['meas_voltage_K2']\n",
    "    current = dataset.get_parameter_data()['meas_voltage_K2']['appl_current']\n",
    "    fit_values = np.polyfit(current,voltage,1)\n",
    "\n",
    "    return fit_values[0]\n",
    "\n",
    "def get_R_from_IV(dataid):\n",
    "    dataset = qc.load_by_id(dataid)\n",
    "    para_list = dataset.parameters.split(\",\")\n",
    "    voltage = dataset.get_parameter_data()[para_list[1]][para_list[1]]\n",
    "    current = dataset.get_parameter_data()[para_list[1]][para_list[0]]\n",
    "    fit_values = np.polyfit(current,voltage,1)\n",
    "    return fit_values[0]\n",
    "\n",
    "\n",
    "def get_R_from_IV_K2(dataid):\n",
    "    dataset = qc.load_by_id(dataid)\n",
    "    voltage = dataset.get_parameter_data()['meas_voltage_K2']['meas_voltage_K2']\n",
    "    current = dataset.get_parameter_data()['meas_voltage_K2']['appl_current']\n",
    "    fit_values = np.polyfit(current,voltage,1)\n",
    "    return fit_values[0]\n",
    "\n",
    "def autosave_plot_by_id(run_id, save_path):\n",
    "    fig, ax = plt.subplots()\n",
    "    plot_by_id(run_id, axes=ax)\n",
    "    plt.savefig(save_path)\n",
    "    plt.close()\n",
    "\n",
    "def get_detaset_info(dataset=dataset):\n",
    "    run_id = dataset.captured_run_id\n",
    "    exp_name = dataset.exp_name\n",
    "    sample_name = dataset.sample_name\n",
    "    name = dataset.name\n",
    "    description = dataset.description\n",
    "    sample_junction = extract_sample_junction(sample_name)\n",
    "    return run_id, exp_name, sample_name, sample_junction, name, description\n",
    "\n",
    "def extract_sample_junction(sample_name):\n",
    "    \"\"\"Extracts the complete sample junction from the provided sample name.\n",
    "\n",
    "    Args:\n",
    "      sample_name: The name of the sample containing the junction information.\n",
    "\n",
    "    Returns:\n",
    "      The extracted sample junction, or None if not found.\n",
    "    \"\"\"\n",
    "\n",
    "    delimiter = \"_J\"\n",
    "    if delimiter in sample_name:\n",
    "        # +3 to include \"_J\"\n",
    "        return sample_name[:sample_name.find(delimiter) + 3]\n",
    "    else:\n",
    "        return None\n",
    "\n",
    "def IV(run_id=1):\n",
    "    dataset = qc.load_by_id(run_id)\n",
    "    R = get_R_from_IV(run_id)\n",
    "    run_id, exp_name, sample_name, sample_junction, name, description = get_detaset_info(\n",
    "        dataset)\n",
    "    df = dataset.to_pandas_dataframe().reset_index()\n",
    "    para_list = dataset.parameters.split(\",\")\n",
    "\n",
    "    # Create a Plotly trace\n",
    "    trace = go.Scatter(x=df[para_list[0]], y=df[para_list[1]]*1e3, mode='lines', name='Voltage vs. Current')\n",
    "\n",
    "    # Create layout with micro-scale y-axis\n",
    "    layout = go.Layout(title=f'<b>#{run_id} {exp_name}</b> {sample_name}, R_fit={R:.4f} Ω', title_font=dict(size=28),\n",
    "                       xaxis=dict(title=para_list[0], tickfont=dict(size=16),title_font=dict(size=20)),\n",
    "                       yaxis=dict(title=f\"{para_list[1]} mV\", tickfont=dict(size=16),title_font=dict(size=20)), \n",
    "                       width=1080, height=960,\n",
    "                       margin=dict(l=10, r=10, t=50, b=10))\n",
    "\n",
    "    # Create the figure\n",
    "    fig = go.Figure(data=[trace], layout=layout)\n",
    "    \n",
    "    fig.show()\n",
    "\n",
    "def IV_diff(run_id=1):\n",
    "    import numpy as np\n",
    "    import plotly.graph_objs as go\n",
    "    from scipy.signal import find_peaks\n",
    "    dataset = qc.load_by_id(run_id)\n",
    "\n",
    "    df = dataset.to_pandas_dataframe().reset_index()\n",
    "    para_list = dataset.parameters.split(\",\")\n",
    "\n",
    "    current = df[para_list[0]].tolist()\n",
    "    voltage = df[para_list[1]].tolist()\n",
    "\n",
    "    # Compute differential of voltage with respect to current\n",
    "    differential_voltage = np.diff(voltage) / np.diff(current)\n",
    "\n",
    "    # Since the differential will have one less data point, adjust the current data\n",
    "    # to have the same length as the differential data\n",
    "    current = current[:-1]\n",
    "\n",
    "    # Find peaks in the differential signal\n",
    "    peaks, _ = find_peaks(differential_voltage)\n",
    "\n",
    "    # Extract peak current and peak differential voltage values\n",
    "    peak_current = [current[i] for i in peaks]\n",
    "    peak_voltage_diff = [differential_voltage[i] for i in peaks]\n",
    "\n",
    "    # Sort the peaks based on their values\n",
    "    sorted_peak_indices = np.argsort(peak_voltage_diff)[::-1]  # Sort in descending order\n",
    "    top_two_peak_indices = sorted_peak_indices[:2]  # Select the top two indices\n",
    "\n",
    "    # Extract the top two peaks\n",
    "    top_two_peak_current = [peak_current[i] for i in top_two_peak_indices]\n",
    "    top_two_peak_voltage_diff = [peak_voltage_diff[i] for i in top_two_peak_indices]\n",
    "\n",
    "    # Calculate the center points of the top two peaks\n",
    "    center_points = [(top_two_peak_current[i] + top_two_peak_current[i+1]) / 2 for i in range(len(top_two_peak_current) - 1)]\n",
    "\n",
    "    # Calculate the difference between the top two biggest peaks\n",
    "    peak_difference = abs(top_two_peak_current[0] - top_two_peak_current[1])\n",
    "\n",
    "    # Determine the appropriate unit for current\n",
    "    if peak_difference >= 1e-3:\n",
    "        unit = \"mA\"\n",
    "        conversion_factor = 1e3\n",
    "    elif peak_difference >= 1e-6:\n",
    "        unit = \"μA\"\n",
    "        conversion_factor = 1e6\n",
    "    else:\n",
    "        unit = \"nA\"\n",
    "        conversion_factor = 1e9\n",
    "\n",
    "    # Determine the appropriate unit for current\n",
    "    if peak_difference >= 1e-3:\n",
    "        unit = \"mA\"\n",
    "    elif peak_difference >= 1e-6:\n",
    "        unit = \"μA\"\n",
    "    elif peak_difference >= 1e-9:\n",
    "        unit = \"nA\"\n",
    "    else:\n",
    "        unit = \"pA\"\n",
    "\n",
    "    # Create a Plotly trace for the differential\n",
    "    trace_diff = go.Scatter(x=[c * conversion_factor for c in current], y=differential_voltage, mode='lines', name='d(Voltage)/d(Current)')\n",
    "    # Add markers for the top two peaks\n",
    "    trace_top_two_peaks = go.Scatter(x=[p * conversion_factor for p in top_two_peak_current], y=top_two_peak_voltage_diff, mode='markers', marker=dict(color='red'), name='Top Two Peaks')\n",
    "    # Add markers for the center points\n",
    "    trace_center_points = go.Scatter(x=center_points, y=[0]*len(center_points), mode='markers', marker=dict(color='blue', symbol='cross'), name='Center Points')\n",
    "\n",
    "    # Create layout\n",
    "    layout = go.Layout(title=f'Run #{id} I vs. dV/dI',\n",
    "                    xaxis=dict(title=f'Current ({unit})'),\n",
    "                    yaxis=dict(title='d(Voltage)/d(Current)'),\n",
    "                    legend=dict(orientation=\"h\", yanchor=\"top\", y=1.10, xanchor=\"center\", x=0.5),\n",
    "                    width=600, height=600  \n",
    "                    )\n",
    "\n",
    "    # Create the figure\n",
    "    fig = go.Figure(data=[trace_diff, trace_top_two_peaks, trace_center_points], layout=layout)\n",
    "\n",
    "    # Add annotation for the current value of center points\n",
    "    for i, center_point in enumerate(center_points):\n",
    "        fig.add_annotation(\n",
    "            x=center_point * conversion_factor,\n",
    "            y=0, #0.4 * max(differential_voltage),\n",
    "            text=f'Center Point: {center_point * conversion_factor:.3f}{unit} <br> Peak difference: {peak_difference*conversion_factor:.3f} {unit}',\n",
    "            showarrow=True,\n",
    "            arrowhead=2,\n",
    "            arrowsize=1,\n",
    "            arrowwidth=2,\n",
    "            arrowcolor='black',\n",
    "            ax=-100,\n",
    "            ay=-200 - 30 * i\n",
    "        )\n",
    "\n",
    "    # Plot the figure\n",
    "    fig.show()\n",
    "\n",
    "def get_Mag(show=True):\n",
    "    Mag_x = magnet_x.field()\n",
    "    Mag_y = magnet_y.field()\n",
    "    Mag_z = magnet_z.field()\n",
    "    if show:\n",
    "        print(f\"Mag_x: {Mag_x*1e3:.6f} mT\")\n",
    "        print(f\"Mag_y: {Mag_y*1e3:.6f} mT\")\n",
    "        print(f\"Mag_z: {Mag_z*1e3:.6f} mT\")\n",
    "    else: \n",
    "        return Mag_x, Mag_y, Mag_z"
   ]
  },
  {
   "cell_type": "code",
   "execution_count": null,
   "id": "934a7b70",
   "metadata": {},
   "outputs": [],
   "source": [
    "appl_current(0.5e-6)\n",
    "appl_current_AC(10e-9)"
   ]
  },
  {
   "cell_type": "code",
   "execution_count": null,
   "id": "e0040749",
   "metadata": {},
   "outputs": [],
   "source": [
    "df = dataset.to_pandas_dataframe().reset_index()\n",
    "df"
   ]
  },
  {
   "cell_type": "markdown",
   "id": "885e5c90",
   "metadata": {},
   "source": [
    "# Simple IVs"
   ]
  },
  {
   "cell_type": "markdown",
   "id": "cdb6884c",
   "metadata": {},
   "source": [
    "## IV"
   ]
  },
  {
   "cell_type": "code",
   "execution_count": 18,
   "id": "f6c71fe1",
   "metadata": {},
   "outputs": [],
   "source": [
    "K2440.output(1)\n",
    "DMM6500.averaging_count(5)\n",
    "DMM6500.averaging_enabled(True)\n",
    "DMM6500.averaging_enabled(False)\n",
    "K2440.output(0)"
   ]
  },
  {
   "cell_type": "code",
   "execution_count": 102,
   "id": "88a5c92b",
   "metadata": {},
   "outputs": [],
   "source": [
    "# Set current to 0\n",
    "K2440.output(0)\n",
    "appl_current(0e-6)"
   ]
  },
  {
   "cell_type": "code",
   "execution_count": null,
   "id": "af7949e7",
   "metadata": {},
   "outputs": [],
   "source": [
    "IV(3)"
   ]
  },
  {
   "cell_type": "code",
   "execution_count": 101,
   "id": "cfe88b04",
   "metadata": {},
   "outputs": [],
   "source": [
    "appl_TG(0)\n",
    "K2400.output(0)"
   ]
  },
  {
   "cell_type": "code",
   "execution_count": 100,
   "id": "94d8b3fa",
   "metadata": {},
   "outputs": [
    {
     "data": {
      "application/vnd.jupyter.widget-view+json": {
       "model_id": "b36a12f75ab6445599d4014240a878d6",
       "version_major": 2,
       "version_minor": 0
      },
      "image/png": "[encoded data removed]",
      "text/html": [
       "\n",
       "            <div style=\"display: inline-block;\">\n",
       "                <div class=\"jupyter-widgets widget-label\" style=\"text-align: center;\">\n",
       "                    Figure 1\n",
       "                </div>\n",
       "                <img src='data:image/png;base64,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' width=836.9999999999999/>\n",
       "            </div>\n",
       "        "
      ],
      "text/plain": [
       "Canvas(toolbar=Toolbar(toolitems=[('Home', 'Reset original view', 'home', 'home'), ('Back', 'Back to previous …"
      ]
     },
     "metadata": {},
     "output_type": "display_data"
    }
   ],
   "source": [
    "from IPython.display import clear_output\n",
    "RList = []\n",
    "TGList = np.linspace(-1, 2, 31)\n",
    "for TG in TGList:\n",
    "    I_range=0.8e-6\n",
    "    appl_TG(TG)\n",
    "    K2400.output(1)\n",
    "    K2440.output(1)\n",
    "    appl_current(-I_range) #Limit:1e-5 Amp(1MOhms risistor),1e-6 Amp(10MOhms risistor)\n",
    "    sleep(5)\n",
    "    # station.snapshot(update=True);\n",
    "    mVTG = int(TG*1000)\n",
    "    sample_Name=f'Leo006_16-17-27-26-37_G{mVTG}mV_SecondTrial'\n",
    "    exp = qc.new_experiment('I-V', sample_name=sample_Name)\n",
    "    dataid = do1d(appl_current, -I_range ,+I_range, 201, 0.03, meas_voltage_K1)\n",
    "    appl_current(0)\n",
    "    K2440.output(0)\n",
    "\n",
    "    # plot_by_id(dataid)\n",
    "    #save_path = r\"C:\\qcodes\\personal_scripts\\Albert\\104\\Plot\\104_{}.png\".format(dataid)  # Path to save the plot image\n",
    "    #autosave_plot_by_id(dataid, save_path)\n",
    "    print(f\"R = {get_R_from_IV(dataid)}\")\n",
    "    # dataset = qc.load_by_id(dataid)\n",
    "    IV(dataid)\n",
    "    IV_diff(dataid)\n",
    "    RList.append(get_R_from_IV(dataid))\n",
    "    clear_output(wait=True)\n",
    "plt.clf() \n",
    "plt.plot( TGList, RList)\n",
    "plt.xlabel('TGList')\n",
    "plt.ylabel('RList')\n",
    "plt.title('TGList vs RList')\n",
    "plt.grid(True)\n",
    "\n",
    "# Save the plot\n",
    "plt.savefig(\"TGList_vs_RList_-1Vto2V_secondtrial.jpg\")\n",
    "\n",
    "# Save the arrays\n",
    "np.save(\"TGList_-1Vto2V_secondtrial.npy\", TGList)\n",
    "np.save(\"RList_-1Vto2V_secondtrial.npy\", RList)\n",
    "\n",
    "plt.show()"
   ]
  },
  {
   "cell_type": "code",
   "execution_count": 79,
   "id": "aecf279c",
   "metadata": {},
   "outputs": [],
   "source": [
    "# Save the arrays\n",
    "np.save(\"TGList.npy\", TGList)\n",
    "np.save(\"RList.npy\", RList)"
   ]
  },
  {
   "cell_type": "code",
   "execution_count": 93,
   "id": "c7a3b681",
   "metadata": {},
   "outputs": [
    {
     "data": {
      "text/plain": [
       "array([ 2.   ,  1.925,  1.85 ,  1.775,  1.7  ,  1.625,  1.55 ,  1.475,\n",
       "        1.4  ,  1.325,  1.25 ,  1.175,  1.1  ,  1.025,  0.95 ,  0.875,\n",
       "        0.8  ,  0.725,  0.65 ,  0.575,  0.5  ,  0.425,  0.35 ,  0.275,\n",
       "        0.2  ,  0.125,  0.05 , -0.025, -0.1  , -0.175, -0.25 , -0.325,\n",
       "       -0.4  , -0.475, -0.55 , -0.625, -0.7  , -0.775, -0.85 , -0.925,\n",
       "       -1.   ])"
      ]
     },
     "execution_count": 93,
     "metadata": {},
     "output_type": "execute_result"
    }
   ],
   "source": [
    "np.linspace(2, -1, 41)"
   ]
  },
  {
   "cell_type": "code",
   "execution_count": 84,
   "id": "c70a855f",
   "metadata": {},
   "outputs": [
    {
     "data": {
      "text/plain": [
       "(21,)"
      ]
     },
     "execution_count": 84,
     "metadata": {},
     "output_type": "execute_result"
    }
   ],
   "source": [
    "np.shape(RList)"
   ]
  },
  {
   "cell_type": "code",
   "execution_count": 87,
   "id": "24fb4ba8",
   "metadata": {},
   "outputs": [
    {
     "data": {
      "application/vnd.jupyter.widget-view+json": {
       "model_id": "b36a12f75ab6445599d4014240a878d6",
       "version_major": 2,
       "version_minor": 0
      },
      "image/png": "[encoded data removed]",
      "text/html": [
       "\n",
       "            <div style=\"display: inline-block;\">\n",
       "                <div class=\"jupyter-widgets widget-label\" style=\"text-align: center;\">\n",
       "                    Figure 1\n",
       "                </div>\n",
       "                <img src='data:image/png;base64,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' width=640.0/>\n",
       "            </div>\n",
       "        "
      ],
      "text/plain": [
       "Canvas(toolbar=Toolbar(toolitems=[('Home', 'Reset original view', 'home', 'home'), ('Back', 'Back to previous …"
      ]
     },
     "metadata": {},
     "output_type": "display_data"
    }
   ],
   "source": [
    "plt.clf() \n",
    "plt.plot(TGList, RList)\n",
    "plt.xlabel('TGList')\n",
    "plt.ylabel('RList')\n",
    "plt.title('TGList vs RList')\n",
    "plt.grid(True)\n",
    "\n",
    "# Save the plot\n",
    "plt.savefig(\"TGList_vs_RList.jpg\")\n",
    "plt.show()"
   ]
  },
  {
   "cell_type": "code",
   "execution_count": null,
   "id": "ee32ef77",
   "metadata": {},
   "outputs": [],
   "source": [
    "get_R_from_IV(dataid)"
   ]
  },
  {
   "cell_type": "code",
   "execution_count": null,
   "id": "ae71124e",
   "metadata": {},
   "outputs": [],
   "source": [
    "dataset = qc.load_by_id(dataid)\n",
    "get_R_from_IV(dataid)\n",
    "IV(dataid)\n",
    "IV_diff(dataid)"
   ]
  },
  {
   "cell_type": "code",
   "execution_count": 32,
   "id": "795c08e0",
   "metadata": {},
   "outputs": [],
   "source": [
    "import plotly.graph_objs as go"
   ]
  },
  {
   "cell_type": "code",
   "execution_count": null,
   "id": "ea6a7850",
   "metadata": {},
   "outputs": [],
   "source": []
  },
  {
   "cell_type": "code",
   "execution_count": null,
   "id": "9ca53ea4",
   "metadata": {},
   "outputs": [],
   "source": [
    "for i in tqdm(range(1000)):\n",
    "    K2440.output(1)\n",
    "    I_range=1e-6\n",
    "    appl_current(-I_range) #Limit:1e-5 Amp(1MOhms risistor),1e-6 Amp(10MOhms risistor)\n",
    "    sleep(0.001)\n",
    "    # station.snapshot(update=True);\n",
    "    exp = qc.new_experiment('I-V', sample_name=f'103-03_J1_33-32-30-31_1M_F{i+1}')\n",
    "    dataid = do1d(appl_current, -I_range ,I_range, 101, 0.0001, meas_voltage_K2, meas_voltage_AC_L1,meas_voltage_AC_L1_P)\n",
    "    exp = qc.new_experiment('I-V', sample_name=f'103-03_J1_33-32-30-31_1M_B{i+1}')\n",
    "    dataid = do1d(appl_current, I_range ,-I_range, 101, 0.0001, meas_voltage_K2)\n",
    "    K2440.output(0)\n",
    "    clear_output(True)"
   ]
  },
  {
   "cell_type": "code",
   "execution_count": null,
   "id": "ffc1e4dd",
   "metadata": {},
   "outputs": [],
   "source": [
    "get_Mag()"
   ]
  },
  {
   "cell_type": "code",
   "execution_count": null,
   "id": "2908c940",
   "metadata": {},
   "outputs": [],
   "source": [
    "SGS.off()"
   ]
  },
  {
   "cell_type": "code",
   "execution_count": null,
   "id": "d82eb13a",
   "metadata": {},
   "outputs": [],
   "source": [
    "SGS.power(0)"
   ]
  },
  {
   "cell_type": "code",
   "execution_count": null,
   "id": "242d95fc",
   "metadata": {},
   "outputs": [],
   "source": [
    "DMM6500.averaging_count(5)\n",
    "DMM6500.averaging_enabled(True)"
   ]
  },
  {
   "cell_type": "code",
   "execution_count": null,
   "id": "e0c518ad",
   "metadata": {},
   "outputs": [],
   "source": [
    "for i in tqdm(range(21)):\n",
    "    I_range = round(round(0.55 + 5*i * 1e-4, 6)* 1e-6, 10)  # Round to 3 decimal places\n",
    "    print(I_range)\n"
   ]
  },
  {
   "cell_type": "code",
   "execution_count": null,
   "id": "78e3e90f",
   "metadata": {},
   "outputs": [],
   "source": []
  },
  {
   "cell_type": "code",
   "execution_count": null,
   "id": "0999a81b",
   "metadata": {},
   "outputs": [],
   "source": [
    "for i in tqdm(range(21)):\n",
    "    K2440.output(1)\n",
    "    I_range = round(round(0.55 + 5*i * 1e-4, 6)* 1e-6, 10) \n",
    "    appl_current(-I_range) #Limit:1e-5 Amp(1MOhms risistor),1e-6 Amp(10MOhms risistor)\n",
    "    sleep(2)\n",
    "    # station.snapshot(update=True);\n",
    "    exp = qc.new_experiment('I-V', sample_name=f'103-04_J1_24-25-05-04(06-07G)_1M_By@0mT_{-I_range}_201')\n",
    "    dataid = do1d(appl_current, -I_range ,I_range, 201, 0.00001, meas_voltage_K2)\n",
    "\n",
    "    appl_current(0)\n",
    "    K2440.output(0)\n",
    "\n",
    "\n",
    "    plot_by_id(dataid)\n",
    "    save_path = r\"D:\\data\\Albert\\103\\Plot\\104_{}.png\".format(dataid)  # Path to save the plot image\n",
    "    autosave_plot_by_id(dataid, save_path)\n",
    "    print(f\"ID:{dataid}\")\n",
    "    print(f\"R = {get_R_from_IV_2(dataid)}\")\n",
    "    dataset = qc.load_by_id(dataid)\n",
    "    IV(id=dataid)\n",
    "    IV_diff(id=dataid)"
   ]
  },
  {
   "cell_type": "code",
   "execution_count": null,
   "id": "e9ac98ca",
   "metadata": {},
   "outputs": [],
   "source": [
    "DMM6500.averaging_count(5)\n",
    "DMM6500.averaging_enabled(True)"
   ]
  },
  {
   "cell_type": "code",
   "execution_count": null,
   "id": "ad55deb3",
   "metadata": {},
   "outputs": [],
   "source": [
    "K2440.output(1)\n",
    "I_range = -6e-6\n",
    "appl_current(-I_range) #Limit:1e-5 Amp(1MOhms risistor),1e-6 Amp(10MOhms risistor)\n",
    "sleep(2)\n",
    "# station.snapshot(update=True);\n",
    "exp = qc.new_experiment('I-V', sample_name=f'103-03_J2_27-26-30-31M(32G-33G-28G-29G)_1M_By@0.1mT{-I_range}')\n",
    "dataid = do1d(appl_current, -I_range  ,I_range , 2601, 0.00001, meas_voltage_K2)\n",
    "appl_current(0)\n",
    "K2440.output(0)\n",
    "plot_by_id(dataid)\n",
    "save_path = r\"D:\\data\\Albert\\103\\Plot\\104_{}.png\".format(dataid)  # Path to save the plot image\n",
    "autosave_plot_by_id(dataid, save_path)\n",
    "print(f\"R = {get_R_from_IV_2(dataid)}\")\n",
    "dataset = qc.load_by_id(dataid)"
   ]
  },
  {
   "cell_type": "code",
   "execution_count": null,
   "id": "2b0e1832",
   "metadata": {},
   "outputs": [],
   "source": [
    "K2440.output(1)\n",
    "I_range = 6e-6\n",
    "appl_current(-I_range) #Limit:1e-5 Amp(1MOhms risistor),1e-6 Amp(10MOhms risistor)\n",
    "sleep(2)\n",
    "# station.snapshot(update=True);\n",
    "exp = qc.new_experiment('I-V', sample_name=f'103-03_J2_27-26-30-31M(32G-33G-28G-29G)_1M_By@0.1mT{-I_range}')\n",
    "dataid = do1d(appl_current, -I_range  ,I_range , 2601, 0.00001, meas_voltage_K2)\n",
    "appl_current(0)\n",
    "K2440.output(0)\n",
    "plot_by_id(dataid)\n",
    "save_path = r\"D:\\data\\Albert\\103\\Plot\\104_{}.png\".format(dataid)  # Path to save the plot image\n",
    "autosave_plot_by_id(dataid, save_path)\n",
    "print(f\"ID:{dataid}\")\n",
    "print(f\"R = {get_R_from_IV_2(dataid)}\")\n",
    "dataset = qc.load_by_id(dataid)\n",
    "# IV(id=dataid)\n",
    "# IV_diff(id=dataid)"
   ]
  },
  {
   "cell_type": "code",
   "execution_count": null,
   "id": "e90dc212",
   "metadata": {},
   "outputs": [],
   "source": [
    "25-05-06-07(04-24G)\n"
   ]
  },
  {
   "cell_type": "code",
   "execution_count": null,
   "id": "5c79e45a",
   "metadata": {},
   "outputs": [],
   "source": [
    "K2440.output(1)\n",
    "I_range=-7e-6\n",
    "appl_current(-I_range) #Limit:1e-5 Amp(1MOhms risistor),1e-6 Amp(10MOhms risistor)\n",
    "sleep(2)\n",
    "# station.snapshot(update=True);\n",
    "exp = qc.new_experiment('I-V', sample_name='103-03_J2_32-30-26-27_1M_By@0mT')\n",
    "dataid = do1d(appl_current, -I_range ,I_range, 1401, 0.0001, meas_voltage_K2)\n",
    "\n",
    "appl_current(0)\n",
    "K2440.output(0)\n",
    "\n",
    "\n",
    "plot_by_id(dataid)\n",
    "save_path = r\"D:\\data\\Albert\\103\\Plot\\104_{}.png\".format(dataid)  # Path to save the plot image\n",
    "autosave_plot_by_id(dataid, save_path)\n",
    "print(f\"ID:{dataid}\")\n",
    "print(f\"R = {get_R_from_IV_2(dataid)}\")\n",
    "dataset = qc.load_by_id(dataid)\n",
    "IV(id=dataid)\n",
    "IV_diff(id=dataid)"
   ]
  },
  {
   "cell_type": "code",
   "execution_count": null,
   "id": "8666f593",
   "metadata": {},
   "outputs": [],
   "source": [
    "K2440.output(1)\n",
    "I_range=7e-6\n",
    "appl_current(-I_range) #Limit:1e-5 Amp(1MOhms risistor),1e-6 Amp(10MOhms risistor)\n",
    "sleep(2)\n",
    "# station.snapshot(update=True);\n",
    "exp = qc.new_experiment('I-V', sample_name='103-03_J2_32-30-26-27_1M_By@0mT')\n",
    "dataid = do1d(appl_current, -I_range ,I_range, 1401, 0.0001, meas_voltage_K2)\n",
    "\n",
    "appl_current(0)\n",
    "K2440.output(0)\n",
    "\n",
    "\n",
    "plot_by_id(dataid)\n",
    "save_path = r\"D:\\data\\Albert\\103\\Plot\\104_{}.png\".format(dataid)  # Path to save the plot image\n",
    "autosave_plot_by_id(dataid, save_path)\n",
    "print(f\"ID:{dataid}\")\n",
    "print(f\"R = {get_R_from_IV_2(dataid)}\")\n",
    "dataset = qc.load_by_id(dataid)\n",
    "IV(id=dataid)\n",
    "IV_diff(id=dataid)"
   ]
  },
  {
   "cell_type": "code",
   "execution_count": null,
   "id": "4ce7045d",
   "metadata": {},
   "outputs": [],
   "source": [
    "# Set current to 0\n",
    "K2440.output(0)\n",
    "appl_current(0e-6)"
   ]
  },
  {
   "cell_type": "code",
   "execution_count": null,
   "id": "749b64e4",
   "metadata": {},
   "outputs": [],
   "source": [
    "K2440.output(1)\n",
    "appl_current(0.1e-7)"
   ]
  },
  {
   "cell_type": "code",
   "execution_count": null,
   "id": "9f4da299",
   "metadata": {
    "scrolled": true
   },
   "outputs": [],
   "source": [
    "runid=6\n",
    "print(get_R_from_IV_2(runid))"
   ]
  },
  {
   "cell_type": "markdown",
   "id": "3196b90e",
   "metadata": {},
   "source": [
    "## 加TG (1D)"
   ]
  },
  {
   "cell_type": "code",
   "execution_count": null,
   "id": "08a5e298",
   "metadata": {},
   "outputs": [],
   "source": [
    "K2440.output(1)\n",
    "appl_TG(0)"
   ]
  },
  {
   "cell_type": "code",
   "execution_count": null,
   "id": "a6f95af5",
   "metadata": {},
   "outputs": [],
   "source": [
    "K2440.output(1)\n",
    "K2440.output(1)\n",
    "appl_TG(-50)\n",
    "sleep(3)\n",
    "appl_current(-1.5e-8)\n",
    "sleep(1)\n",
    "\n",
    "# station.snapshot(update=True);\n",
    "exp = qc.new_experiment('IV', sample_name='TG21')\n",
    "\n",
    "#do1d(param_set, start, stop, num_points, delay, *param_meas)\n",
    "dataid = do1d(appl_current, -1.5e-8 ,1.5e-8, 101, 0.05, meas_voltage_K2)\n",
    "# dataid = do1d(appl_current, 6e-6 , -6e-6, 251, 0.01, meas_voltage_K1)\n",
    "# ivvi.set_dacs_zero()\n",
    "\n",
    "K2440.output(0)\n",
    "K2440.output(0)\n",
    "appl_current(0)\n",
    "plot_by_id(dataid)\n",
    "#print(get_R_from_IV(dataid))\n",
    "# print(get_R_from_IV_2(dataid))\n"
   ]
  },
  {
   "cell_type": "markdown",
   "id": "05b0d19b",
   "metadata": {},
   "source": [
    "## 歸零\n"
   ]
  },
  {
   "cell_type": "code",
   "execution_count": null,
   "id": "d8154670",
   "metadata": {},
   "outputs": [],
   "source": [
    "#K2440.output(1)\n",
    "K2440.output(1)\n",
    "\n",
    "appl_current(0)\n",
    "sleep(1)\n",
    "#appl_TG(0)\n",
    "sleep(5)\n",
    "\n",
    "#K2440.output(0)\n",
    "K2440.output(0)"
   ]
  },
  {
   "cell_type": "markdown",
   "id": "91795bf5",
   "metadata": {},
   "source": [
    "# Magnetic field"
   ]
  },
  {
   "cell_type": "markdown",
   "id": "c1b88abd",
   "metadata": {},
   "source": [
    "## IV vs Bx"
   ]
  },
  {
   "cell_type": "code",
   "execution_count": null,
   "id": "77c31bf1",
   "metadata": {},
   "outputs": [],
   "source": [
    "K2440.rangev()"
   ]
  },
  {
   "cell_type": "code",
   "execution_count": null,
   "id": "ea5d8a7d",
   "metadata": {},
   "outputs": [],
   "source": [
    "K2440.volt(0)\n",
    "K2440.output(1) #output off\n",
    "sleep(1)\n",
    "appl_current(1.5e-7)\n",
    "sleep(2)\n",
    "meas_voltage_K2()"
   ]
  },
  {
   "cell_type": "code",
   "execution_count": null,
   "id": "e083479a",
   "metadata": {},
   "outputs": [],
   "source": [
    "sleep(120)"
   ]
  },
  {
   "cell_type": "code",
   "execution_count": null,
   "id": "6c69dc40",
   "metadata": {},
   "outputs": [],
   "source": [
    "def get_Mag(show=True):\n",
    "    Mag_x = magnet_x.field()\n",
    "    Mag_y = magnet_y.field()\n",
    "    Mag_z = magnet_z.field()\n",
    "    if show:\n",
    "        print(f\"Mag_x: {Mag_x*1e3:.6f} mT\")\n",
    "        print(f\"Mag_y: {Mag_y*1e3:.6f} mT\")\n",
    "        print(f\"Mag_z: {Mag_z*1e3:.6f} mT\")\n",
    "    else: \n",
    "        return Mag_x, Mag_y, Mag_z\n",
    "get_Mag()"
   ]
  },
  {
   "cell_type": "code",
   "execution_count": null,
   "id": "582ee743",
   "metadata": {},
   "outputs": [],
   "source": [
    "get_Mag()"
   ]
  },
  {
   "cell_type": "code",
   "execution_count": null,
   "id": "9634bb97",
   "metadata": {},
   "outputs": [],
   "source": [
    "magnet_y.field()"
   ]
  },
  {
   "cell_type": "code",
   "execution_count": null,
   "id": "add54ae7",
   "metadata": {},
   "outputs": [],
   "source": [
    "for i in tqdm(range(23), desc=\"First loop\"):\n",
    "    value = (25 - i) * 1e-3 \n",
    "    value = float(f\"{value:.10f}\")\n",
    "    print(value)"
   ]
  },
  {
   "cell_type": "code",
   "execution_count": null,
   "id": "04c8a1e5",
   "metadata": {},
   "outputs": [],
   "source": [
    "from tqdm import tqdm\n",
    "import time\n",
    "\n",
    "from IPython.display import clear_output\n",
    "# First loop\n",
    "for i in tqdm(range(6), desc=\"First loop\"):\n",
    "    Mag_x = magnet_x.field()\n",
    "    value = (15 + i) * 1e-3\n",
    "    value = float(f\"{value:.10f}\")\n",
    "    magnet_x.field(value)\n",
    "    print(f\"magnet_x is {Mag_x:.8f} T\")\n",
    "    time.sleep(15)\n",
    "    clear_output(True)\n",
    "\n",
    "# Pause for 30 seconds\n",
    "time.sleep(60)\n",
    "\n",
    "# Second loop\n",
    "for i in tqdm(range(23), desc=\"First loop\"):\n",
    "    Mag_x = magnet_x.field()\n",
    "    value = (25 - i) * 1e-3 \n",
    "    value = float(f\"{value:.10f}\")\n",
    "    magnet_x.field(value)\n",
    "    print(f\"magnet_x is {Mag_x:.8f} T\")\n",
    "    time.sleep(15)\n",
    "    clear_output(True)\n",
    "\n",
    "# Pause for 180 seconds\n",
    "time.sleep(300)"
   ]
  },
  {
   "cell_type": "code",
   "execution_count": null,
   "id": "fc3e418b",
   "metadata": {},
   "outputs": [],
   "source": [
    "magnet_x.field(-20)"
   ]
  },
  {
   "cell_type": "code",
   "execution_count": null,
   "id": "07666294",
   "metadata": {},
   "outputs": [],
   "source": [
    "Mag = -20e-3\n",
    "I_range=2.5e-6\n",
    "K2440.output(1)\n",
    "sleep(2)\n",
    "magnet_x.field(Mag)\n",
    "sleep(10)\n",
    "appl_current(-I_range)\n",
    "sleep(3)\n",
    "direction = 'backward' if Mag > 0 else 'forward'\n",
    "\n",
    "\n",
    "# station.snapshot(update=True);\n",
    "exp = qc.new_experiment('IV vs Bx', sample_name=f'103-06_J2_12-13-18-19_1M_Bx_{direction}_By@0mT')\n",
    "\n",
    "dataid = do2d(magnet_x.field, Mag, -Mag, 76 , 0.7, appl_current, -I_range ,I_range, 101, 0.01, meas_voltage_K2)\n",
    "\n",
    "appl_current(0)\n",
    "K2440.output(0)\n",
    "# magnet_y.field(0)\n",
    "\n",
    "plot_by_id(dataid)\n",
    "autosave_plot_by_id(dataid, save_path)"
   ]
  },
  {
   "cell_type": "code",
   "execution_count": null,
   "id": "5f475874",
   "metadata": {},
   "outputs": [],
   "source": [
    "K2440.output(1)\n",
    "sleep(2)\n",
    "Mag = 10e-3\n",
    "I_range=2.5e-5\n",
    "\n",
    "magnet_x.field(Mag)\n",
    "sleep(30)\n",
    "appl_current(-I_range)\n",
    "sleep(3)\n",
    "direction = 'backward' if Mag > 0 else 'forward'\n",
    "\n",
    "\n",
    "# station.snapshot(update=True);\n",
    "\n",
    "exp = qc.new_experiment('IV vs Bx', sample_name=f'094-20IV_Bx_16-17-19-18_10M_{direction}')\n",
    "\n",
    "dataid = do2d(magnet_x.field, Mag, -Mag, 101 , 1.5, appl_current, -I_range ,I_range, 101, 0.05, meas_voltage_K2)#M:I Delay time 10:1\n",
    "\n",
    "\n",
    "appl_current(0)\n",
    "K2440.output(0)\n",
    "# magnet_x.field(0)\n",
    "\n",
    "plot_by_id(dataid)\n",
    "autosave_plot_by_id(dataid, save_path)"
   ]
  },
  {
   "cell_type": "code",
   "execution_count": null,
   "id": "bfdd8a07",
   "metadata": {},
   "outputs": [],
   "source": [
    "set_magnetic_field_stepwise(magnet=magnet_x, current_field=-40e-3, target_field=-18e-3, step_size=1e-3, delay=2.5)"
   ]
  },
  {
   "cell_type": "code",
   "execution_count": null,
   "id": "5eef089c",
   "metadata": {},
   "outputs": [],
   "source": [
    "def set_magnetic_field_stepwise(magnet=magnet_x, current_field=0, target_field=-10e-3, step_size=1e-3, delay=2.5):\n",
    "    \n",
    "    \"\"\"Set the magnetic field with anti-hysteresis mechanism witch will go to target magnetic field +/- 5mT, \n",
    "    if the target magnetic field is greater/less than the current magnetic field, \n",
    "    then slowly ramp back the magnetic field to the target magnetic field\n",
    "\n",
    "    Args:\n",
    "        magnet (_type_, optional): magnet_x,magnet_y,magnet_z. Defaults to magnet_x.\n",
    "        current_field (int, optional): _description_. Defaults to 0 T.\n",
    "        target_field (_type_, optional): _description_. Defaults to -10e-3 T.\n",
    "        step_size (_type_, optional): _description_. Defaults to 1e-3 T.\n",
    "        delay (float, optional): _description_. Defaults to 2 sec.\n",
    "    \n",
    "    \"\"\"\n",
    "    \n",
    "    from tqdm.notebook import tqdm\n",
    "    import math\n",
    "    # Calculate total steps for tqdm progress bar\n",
    "    total_steps = math.ceil(abs((target_field - current_field) / step_size)) * 2\n",
    "    progress_bar = tqdm(total=total_steps)\n",
    "\n",
    "    # Determine the intermediate target field\n",
    "    intermediate_target_field = target_field + 5e-3 if target_field > current_field else target_field - 5e-3\n",
    "    # Slowly ramp the magnetic field to the intermediate target field\n",
    "    while abs(intermediate_target_field - current_field) > step_size:\n",
    "        if intermediate_target_field > current_field:\n",
    "            current_field += step_size\n",
    "            magnet.field(current_field)\n",
    "        else:\n",
    "            current_field -= step_size\n",
    "            magnet.field(current_field)\n",
    "        time.sleep(delay)\n",
    "        progress_bar.update(1)  # Update progress bar\n",
    "    # Slowly ramp back the magnetic field to the target_field\n",
    "    while abs(target_field - current_field) > step_size:\n",
    "        if target_field > current_field:\n",
    "            current_field += step_size\n",
    "            magnet.field(current_field)\n",
    "        else:\n",
    "            current_field -= step_size\n",
    "            magnet.field(current_field)\n",
    "        time.sleep(delay)\n",
    "        progress_bar.update(1)  # Update progress bar\n",
    "    magnet.field(target_field)\n",
    "    progress_bar.n = total_steps  # Set progress bar to 100%\n",
    "    progress_bar.refresh()  # Refresh the progress bar to show the update\n",
    "    progress_bar.close()  # Close progress bar when done"
   ]
  },
  {
   "cell_type": "code",
   "execution_count": null,
   "id": "6d385381",
   "metadata": {},
   "outputs": [],
   "source": [
    "for i in range(6):\n",
    "    magnet_x.field((-10-i)*1e-3)\n",
    "    sleep(4)\n",
    "sleep(10)\n",
    "\n",
    "for i in range(16):\n",
    "    magnet_x.field((15+i)*1e-3)\n",
    "    sleep(4)\n",
    "sleep(10)"
   ]
  },
  {
   "cell_type": "code",
   "execution_count": null,
   "id": "83205742",
   "metadata": {},
   "outputs": [],
   "source": [
    "for i in range(25):\n",
    "    print(-24+i)"
   ]
  },
  {
   "cell_type": "code",
   "execution_count": null,
   "id": "fef193a7",
   "metadata": {},
   "outputs": [],
   "source": [
    "magnet_x.field(-19e-3)\n",
    "sleep(10)\n",
    "#magnet_x.field(e-3)\n",
    "#sleep(10)\n",
    "#magnet_x.field(12.8e-3)\n",
    "#sleep(10)"
   ]
  },
  {
   "cell_type": "markdown",
   "id": "6a6f3c0d",
   "metadata": {},
   "source": [
    "## IV vs By"
   ]
  },
  {
   "cell_type": "code",
   "execution_count": null,
   "id": "b823efb8",
   "metadata": {},
   "outputs": [],
   "source": [
    "get_Mag()"
   ]
  },
  {
   "cell_type": "code",
   "execution_count": null,
   "id": "9e236537",
   "metadata": {},
   "outputs": [],
   "source": [
    "magnet_y.field(0e-3)"
   ]
  },
  {
   "cell_type": "code",
   "execution_count": null,
   "id": "b4e8ec13",
   "metadata": {},
   "outputs": [],
   "source": [
    "for i in tqdm(range(21), desc=\"2nd loop\"):\n",
    "    \n",
    "    value = (-10 + i*0.5) * 1e-3 \n",
    "    value = float(f\"{value:.10f}\")\n",
    "    magnet_y.field(value)\n",
    "    get_Mag()\n",
    "    time.sleep(15)\n",
    "    clear_output(True)"
   ]
  },
  {
   "cell_type": "code",
   "execution_count": null,
   "id": "5dce7f89",
   "metadata": {},
   "outputs": [],
   "source": [
    "\n",
    "# First loop\n",
    "for i in tqdm(range(11), desc=\"First loop\"):\n",
    "    \n",
    "    value = (5 +i) * 1e-3\n",
    "    value = float(f\"{value:.10f}\")\n",
    "    magnet_y.field(value)\n",
    "    get_Mag()\n",
    "    time.sleep(15)\n",
    "    clear_output(True)\n",
    "\n",
    "# Pause for 30 seconds\n",
    "time.sleep(60)\n",
    "\n",
    "# Second loop\n",
    "for i in tqdm(range(11), desc=\"2nd loop\"):\n",
    "    \n",
    "    value = (-10 + i) * 1e-3 \n",
    "    value = float(f\"{value:.10f}\")\n",
    "    magnet_y.field(value)\n",
    "    get_Mag()\n",
    "    time.sleep(15)\n",
    "    clear_output(True)\n",
    "# Pause for 180 seconds\n",
    "time.sleep(300)"
   ]
  },
  {
   "cell_type": "code",
   "execution_count": null,
   "id": "46dc421a",
   "metadata": {},
   "outputs": [],
   "source": [
    "magnet_y.field()"
   ]
  },
  {
   "cell_type": "code",
   "execution_count": null,
   "id": "3a7fb763",
   "metadata": {},
   "outputs": [],
   "source": [
    "Mag =5e-3\n",
    "I_range=0.6e-6\n",
    "K2440.output(1)\n",
    "sleep(2)\n",
    "magnet_y.field(Mag)\n",
    "sleep(10)\n",
    "appl_current(-I_range)\n",
    "sleep(3)\n",
    "direction = 'backward' if Mag > 0 else 'forward'\n",
    "\n",
    "\n",
    "# station.snapshot(update=True);\n",
    "exp = qc.new_experiment('IV vs By', sample_name=f'103-03_J2_27-26-30-31M(32G-33G-28G-29G)_1M_By_{direction}_{-I_range}')\n",
    "\n",
    "dataid = do2d(magnet_y.field, Mag, -Mag, 201 , 0.5, appl_current, -I_range ,I_range,  201, 0.0001, meas_voltage_K2)\n",
    "\n",
    "appl_current(0)\n",
    "K2440.output(0)\n",
    "# magnet_y.field(0)\n",
    "\n",
    "plot_by_id(dataid)\n",
    "autosave_plot_by_id(dataid, save_path)"
   ]
  },
  {
   "cell_type": "code",
   "execution_count": null,
   "id": "a9c30858",
   "metadata": {},
   "outputs": [],
   "source": [
    "Mag =-5e-3\n",
    "I_range=5e-6\n",
    "K2440.output(1)\n",
    "sleep(2)\n",
    "magnet_y.field(Mag)\n",
    "sleep(10)\n",
    "appl_current(-I_range)\n",
    "sleep(3)\n",
    "direction = 'backward' if Mag > 0 else 'forward'\n",
    "\n",
    "\n",
    "# station.snapshot(update=True);\n",
    "exp = qc.new_experiment('IV vs By', sample_name=f'103-03_J2_27-26-30-31M(32G-33G-28G-29G)_1M_By_{direction}_{-I_range}')\n",
    "\n",
    "dataid = do2d(magnet_y.field, Mag, -Mag, 201 , 0.5, appl_current, -I_range ,I_range,  201, 0.0001, meas_voltage_K2)\n",
    "\n",
    "appl_current(0)\n",
    "K2440.output(0)\n",
    "# magnet_y.field(0)\n",
    "\n",
    "plot_by_id(dataid)\n",
    "autosave_plot_by_id(dataid, save_path)"
   ]
  },
  {
   "cell_type": "code",
   "execution_count": null,
   "id": "8ba8b69c",
   "metadata": {},
   "outputs": [],
   "source": [
    "32-"
   ]
  },
  {
   "cell_type": "code",
   "execution_count": null,
   "id": "7c2e8f1b",
   "metadata": {},
   "outputs": [],
   "source": [
    "\n",
    "# First loop\n",
    "for i in tqdm(range(6), desc=\"First loop\"):\n",
    "    Mag_x = magnet_y.field()\n",
    "    value = (1.5 +i) * 1e-3\n",
    "    value = float(f\"{value:.10f}\")\n",
    "    magnet_y.field(value)\n",
    "    print(f\"magnet_y is {Mag_x:.8f} T\")\n",
    "    time.sleep(15)\n",
    "    clear_output(True)\n",
    "\n",
    "# Pause for 30 seconds\n",
    "time.sleep(60)\n",
    "\n",
    "# Second loop\n",
    "for i in tqdm(range(6), desc=\"2nd loop\"):\n",
    "    Mag_x = magnet_y.field()\n",
    "    value = (6.5 - i) * 1e-3 \n",
    "    value = float(f\"{value:.10f}\")\n",
    "    magnet_y.field(value)\n",
    "    print(f\"magnet_y is {Mag_x:.8f} T\")\n",
    "    time.sleep(15)\n",
    "    clear_output(True)\n",
    "\n",
    "# Pause for 180 seconds\n",
    "time.sleep(300)"
   ]
  },
  {
   "cell_type": "code",
   "execution_count": null,
   "id": "8d736f1b",
   "metadata": {},
   "outputs": [],
   "source": [
    "Mag = 1.5e-3\n",
    "I_range=2.5e-6\n",
    "K2440.output(1)\n",
    "sleep(2)\n",
    "magnet_y.field(Mag)\n",
    "sleep(10)\n",
    "appl_current(-I_range)\n",
    "sleep(3)\n",
    "direction = 'backward' if Mag > 0 else 'forward'\n",
    "\n",
    "\n",
    "# station.snapshot(update=True);\n",
    "exp = qc.new_experiment('IV vs By', sample_name=f'103-06_J2_12-13-18-19_1M_By_{direction}_Bx@3mT')\n",
    "\n",
    "dataid = do2d(magnet_y.field, Mag, -Mag, 1001 , 0.4, appl_current, -I_range ,I_range, 151, 0.01, meas_voltage_K2)\n",
    "\n",
    "appl_current(0)\n",
    "K2440.output(0)\n",
    "# magnet_y.field(0)\n",
    "\n",
    "plot_by_id(dataid)\n",
    "autosave_plot_by_id(dataid, save_path)"
   ]
  },
  {
   "cell_type": "code",
   "execution_count": null,
   "id": "43eb5eb6",
   "metadata": {},
   "outputs": [],
   "source": [
    "Mag()"
   ]
  },
  {
   "cell_type": "code",
   "execution_count": null,
   "id": "721c43a1",
   "metadata": {},
   "outputs": [],
   "source": [
    "Mag = 1.5e-3\n",
    "I_range=1e-6\n",
    "K2440.output(1)\n",
    "sleep(2)\n",
    "magnet_y.field(Mag)\n",
    "sleep(10)\n",
    "appl_current(-I_range)\n",
    "sleep(3)\n",
    "direction = 'backward' if Mag > 0 else 'forward'\n",
    "\n",
    "\n",
    "# station.snapshot(update=True);\n",
    "exp = qc.new_experiment('IV vs By', sample_name=f'103-01_J1_21-20-23-22_1M_By_{direction}_Bx@0mT')\n",
    "\n",
    "dataid = do2d(magnet_y.field, Mag, -Mag, 151 , 0.9, appl_current, -I_range ,I_range, 201, 0.01, meas_voltage_K2)\n",
    "\n",
    "appl_current(0)\n",
    "K2440.output(0)\n",
    "# magnet_y.field(0)\n",
    "\n",
    "plot_by_id(dataid)\n",
    "autosave_plot_by_id(dataid, save_path)"
   ]
  },
  {
   "cell_type": "code",
   "execution_count": null,
   "id": "dadb617e",
   "metadata": {},
   "outputs": [],
   "source": [
    "from tqdm import tqdm\n",
    "import time\n",
    "\n",
    "# First loop\n",
    "for i in tqdm(range(6), desc=\"First loop\"):\n",
    "    value = (1.5 + i) * 1e-3 \n",
    "    magnet_y.field(value)\n",
    "    print(f\"magnet_y is {value:.8f} T\")\n",
    "    time.sleep(10)\n",
    "\n",
    "# Pause for 30 seconds\n",
    "time.sleep(30)\n",
    "\n",
    "# Second loop\n",
    "for i in tqdm(range(8), desc=\"First loop\"):\n",
    "    value = (7 - i) * 1e-3 \n",
    "    magnet_y.field(value)\n",
    "    print(f\"magnet_y is {value:.8f} T\")\n",
    "    time.sleep(10)\n",
    "\n",
    "# Pause for 180 seconds\n",
    "time.sleep(300)\n"
   ]
  },
  {
   "cell_type": "code",
   "execution_count": null,
   "id": "cceb780f",
   "metadata": {},
   "outputs": [],
   "source": [
    "def combined_loop(start=0, end=5 ):\n",
    "  for i in tqdm(range((end-start)+6), desc=\"First loop\"):\n",
    "    value = start + i\n",
    "    print(f\"{value* 1e-3:.5f}\")\n",
    "\n",
    "  for i in tqdm(range(6), desc=\"Second loop\"):\n",
    "    value = end+5 - i\n",
    "    print(f\"{value* 1e-3:.5f}\")\n",
    "\n",
    "combined_loop()\n"
   ]
  },
  {
   "cell_type": "code",
   "execution_count": null,
   "id": "7963ad50",
   "metadata": {},
   "outputs": [],
   "source": [
    "Mag = 3e-3\n",
    "I_range=1e-6\n",
    "K2440.output(1)\n",
    "sleep(2)\n",
    "magnet_y.field(Mag)\n",
    "sleep(10)\n",
    "appl_current(-I_range)\n",
    "sleep(3)\n",
    "direction = 'backward' if Mag > 0 else 'forward'\n",
    "\n",
    "\n",
    "# station.snapshot(update=True);\n",
    "exp = qc.new_experiment('IV vs By', sample_name=f'103-04_J2_04-05-06-07_1M_By_{direction}_Bx@0mT')\n",
    "\n",
    "dataid = do2d(magnet_y.field, Mag, -Mag, 101 , 1.5, appl_current, -I_range ,I_range, 101, 0.01, meas_voltage_K2)\n",
    "\n",
    "appl_current(0)\n",
    "K2440.output(0)\n",
    "# magnet_y.field(0)\n",
    "\n",
    "plot_by_id(dataid)\n",
    "autosave_plot_by_id(dataid, save_path)"
   ]
  },
  {
   "cell_type": "code",
   "execution_count": null,
   "id": "3d67f8ce",
   "metadata": {},
   "outputs": [],
   "source": [
    "from tqdm import tqdm\n",
    "import time\n",
    "\n",
    "# First loop\n",
    "for i in tqdm(range(6), desc=\"First loop\"):\n",
    "    magnet_y.field((-3 - i) * 1e-3)\n",
    "    time.sleep(15)\n",
    "\n",
    "# Pause for 30 seconds\n",
    "time.sleep(30)\n",
    "\n",
    "# Second loop\n",
    "for i in tqdm(range(7), desc=\"Second loop\"):\n",
    "    magnet_y.field((-8 + i) * 1e-3)\n",
    "    time.sleep(15)\n",
    "\n",
    "# Pause for 180 seconds\n",
    "time.sleep(300)"
   ]
  },
  {
   "cell_type": "code",
   "execution_count": null,
   "id": "af9e2a73",
   "metadata": {},
   "outputs": [],
   "source": [
    "magnet_y.field(-1.5e-3)\n",
    "print(\"By at -1.5 mT\")"
   ]
  },
  {
   "cell_type": "code",
   "execution_count": null,
   "id": "214aa45a",
   "metadata": {},
   "outputs": [],
   "source": [
    "Mag = -3e-3\n",
    "I_range=1e-6\n",
    "K2440.output(1)\n",
    "sleep(2)\n",
    "magnet_y.field(Mag)\n",
    "sleep(10)\n",
    "appl_current(-I_range)\n",
    "sleep(3)\n",
    "direction = 'backward' if Mag > 0 else 'forward'\n",
    "\n",
    "\n",
    "# station.snapshot(update=True);\n",
    "exp = qc.new_experiment('IV vs By', sample_name=f'103-04_J2_04-05-06-07_1M_By_{direction}_Bx@0mT')\n",
    "\n",
    "dataid = do2d(magnet_y.field, Mag, -Mag, 501 , 1, appl_current, -I_range ,I_range, 251, 0.01, meas_voltage_K2)\n",
    "\n",
    "appl_current(0)\n",
    "K2440.output(0)\n",
    "# magnet_y.field(0)\n",
    "\n",
    "plot_by_id(dataid)\n",
    "autosave_plot_by_id(dataid, save_path)"
   ]
  },
  {
   "cell_type": "code",
   "execution_count": null,
   "id": "da9891fc",
   "metadata": {},
   "outputs": [],
   "source": [
    "from tqdm import tqdm\n",
    "import time\n",
    "\n",
    "# First loop\n",
    "for i in tqdm(range(6), desc=\"First loop\"):\n",
    "    magnet_y.field((3 + i) * 1e-3)\n",
    "    time.sleep(10)\n",
    "\n",
    "# Pause for 30 seconds\n",
    "time.sleep(30)\n",
    "\n",
    "# Second loop\n",
    "for i in tqdm(range(6), desc=\"Second loop\"):\n",
    "    magnet_y.field((8 - i) * 1e-3)\n",
    "    time.sleep(10)\n",
    "\n",
    "# Pause for 180 seconds\n",
    "time.sleep(300)"
   ]
  },
  {
   "cell_type": "code",
   "execution_count": null,
   "id": "8c1e92c1",
   "metadata": {},
   "outputs": [],
   "source": [
    "Mag = 3e-3\n",
    "I_range=1e-6\n",
    "K2440.output(1)\n",
    "sleep(2)\n",
    "magnet_y.field(Mag)\n",
    "sleep(10)\n",
    "appl_current(-I_range)\n",
    "sleep(3)\n",
    "direction = 'backward' if Mag > 0 else 'forward'\n",
    "\n",
    "\n",
    "# station.snapshot(update=True);\n",
    "exp = qc.new_experiment('IV vs By', sample_name=f'103-04_J2_04-05-06-07_1M_By_{direction}_Bx@0mT')\n",
    "\n",
    "dataid = do2d(magnet_y.field, Mag, -Mag, 501 , 1, appl_current, -I_range ,I_range, 251, 0.01, meas_voltage_K2)\n",
    "\n",
    "appl_current(0)\n",
    "K2440.output(0)\n",
    "# magnet_y.field(0)\n",
    "\n",
    "plot_by_id(dataid)\n",
    "autosave_plot_by_id(dataid, save_path)"
   ]
  },
  {
   "cell_type": "code",
   "execution_count": null,
   "id": "5208f447",
   "metadata": {},
   "outputs": [],
   "source": [
    "magnet_y.field(5e-3)"
   ]
  },
  {
   "cell_type": "code",
   "execution_count": null,
   "id": "3e408864",
   "metadata": {},
   "outputs": [],
   "source": [
    "for i in range(9):\n",
    "    magnet_y.field((0+i)*1e-3)\n",
    "    sleep(4)\n",
    "sleep(10)\n",
    "\n",
    "for i in range(6):\n",
    "    magnet_y.field((8-i)*1e-3)\n",
    "    sleep(4)\n",
    "\n",
    "sleep(60)\n",
    "# magnet_y.field(21.5e-3)\n",
    "sleep(60)\n",
    "#magnet_y.field(0.48e-3)\n",
    "#sleep(5)"
   ]
  },
  {
   "cell_type": "code",
   "execution_count": null,
   "id": "2eb14a5d",
   "metadata": {},
   "outputs": [],
   "source": [
    "for i in range(4):\n",
    "    print(8-i)"
   ]
  },
  {
   "cell_type": "code",
   "execution_count": null,
   "id": "a1ebeefb",
   "metadata": {},
   "outputs": [],
   "source": [
    "K2440.output(1)\n",
    "sleep(2)\n",
    "Mag = -40e-3\n",
    "I_range=2e-8\n",
    "\n",
    "magnet_y.field(Mag)\n",
    "sleep(10)\n",
    "appl_current(-I_range)\n",
    "sleep(3)\n",
    "direction = 'backward' if Mag > 0 else 'forward'\n",
    "\n",
    "\n",
    "# station.snapshot(update=True);\n",
    "\n",
    "exp = qc.new_experiment('IV vs By', sample_name=f'094-20IV_By_16-17-19-18_10M_{direction}_Bx@-18.5mT')\n",
    "\n",
    "dataid = do2d(magnet_y.field, Mag, -Mag, 601 , 2, appl_current, -I_range ,I_range, 201, 0.1, meas_voltage_K2)\n",
    "\n",
    "\n",
    "appl_current(0)\n",
    "K2440.output(0)\n",
    "# magnet_y.field(0)\n",
    "\n",
    "plot_by_id(dataid)\n",
    "autosave_plot_by_id(dataid, save_path)"
   ]
  },
  {
   "cell_type": "code",
   "execution_count": null,
   "id": "effdb8bf",
   "metadata": {},
   "outputs": [],
   "source": [
    "for i in range(24):\n",
    "    print(45-i)"
   ]
  },
  {
   "cell_type": "code",
   "execution_count": null,
   "id": "4b523a44",
   "metadata": {},
   "outputs": [],
   "source": []
  },
  {
   "cell_type": "markdown",
   "id": "7dce8613",
   "metadata": {},
   "source": [
    "## IV vs Bz"
   ]
  },
  {
   "cell_type": "code",
   "execution_count": null,
   "id": "a4e6e5f7",
   "metadata": {
    "scrolled": true
   },
   "outputs": [],
   "source": [
    "K2440.output(1)\n",
    "sleep(2)\n",
    "magnet_z.field(-80e-3)\n",
    "sleep(60)\n",
    "appl_current(-2e-7)\n",
    "sleep(5)\n",
    "\n",
    "# station.snapshot(update=True);\n",
    "\n",
    "exp = qc.new_experiment('IV vs Bz', sample_name='IV_Bz_33_32_30_31_10M_forward')\n",
    "\n",
    "dataid = do2d(magnet_z.field,-80e-3,80e-3, 71 , 20, appl_current, -2e-7 ,2e-7, 101, 0.05, meas_voltage_K2)\n",
    "\n",
    "appl_current(0)\n",
    "\n",
    "K2440.output(0)\n",
    "# magnet_y.field(0)\n",
    "\n",
    "plot_by_id(dataid)"
   ]
  },
  {
   "cell_type": "code",
   "execution_count": null,
   "id": "e68136d1",
   "metadata": {},
   "outputs": [],
   "source": [
    "#magnet_z.field(20e-3)\n",
    "#sleep(5)\n",
    "magnet_z.field(-6.1e-3)\n",
    "sleep(5)"
   ]
  },
  {
   "cell_type": "code",
   "execution_count": null,
   "id": "571645ac",
   "metadata": {},
   "outputs": [],
   "source": []
  },
  {
   "cell_type": "markdown",
   "id": "02c81568",
   "metadata": {},
   "source": [
    "## IV w/ Bx"
   ]
  },
  {
   "cell_type": "code",
   "execution_count": null,
   "id": "b5229271",
   "metadata": {},
   "outputs": [],
   "source": [
    "K2440.output(1)\n",
    "sleep(2)\n",
    "magnet_x.field(0.23e-3)\n",
    "appl_current(-0.5e-6)\n",
    "sleep(10)\n",
    "\n",
    "# station.snapshot(update=True);\n",
    "exp = qc.new_experiment('I vs V', sample_name='IV_w/_Bx')\n",
    "\n",
    "#do1d(param_set, start, stop, num_points, delay, *param_meas)\n",
    "dataid = do1d(appl_current, -0.5e-6 ,0.5e-6, 101, 0.05, meas_voltage_K2)\n",
    "# dataid = do1d(appl_current, 6e-6 , -6e-6, 251, 0.01, meas_voltage_K1)\n",
    "# ivvi.set_dacs_zero()\n",
    "\n",
    "appl_current(0)\n",
    "plot_by_id(dataid)\n",
    "# print(get_R_from_IV(dataid))\n",
    "#print(get_R_from_IV_2(dataid))\n",
    "\n",
    "K2440.output(0)"
   ]
  },
  {
   "cell_type": "markdown",
   "id": "27ac85cd",
   "metadata": {},
   "source": [
    "## IV w/ By"
   ]
  },
  {
   "cell_type": "code",
   "execution_count": null,
   "id": "b7c3a84d",
   "metadata": {},
   "outputs": [],
   "source": [
    "K2440.output(1)\n",
    "DMM6500.averaging_count(30)\n",
    "#DMM6500.averaging_enabled(False)\n",
    "\n",
    "sleep(2)\n",
    "magnet_y.field(0e-3)\n",
    "appl_current(-2e-7)\n",
    "sleep(20)\n",
    "\n",
    "# station.snapshot(update=True);\n",
    "exp = qc.new_experiment('I vs V', sample_name='IV_w/_By@0mT_forward_Avg30')\n",
    "\n",
    "#do1d(param_set, start, stop, num_points, delay, *param_meas)\n",
    "dataid = do1d(appl_current, -2e-7 ,2e-7, 201, 0.05, meas_voltage_K2)\n",
    "# dataid = do1d(appl_current, 6e-6 , -6e-6, 251, 0.01, meas_voltage_K1)\n",
    "# ivvi.set_dacs_zero()\n",
    "\n",
    "appl_current(0)\n",
    "plot_by_id(dataid)\n",
    "# print(get_R_from_IV(dataid))\n",
    "#print(get_R_from_IV_2(dataid))\n",
    "\n",
    "K2440.output(0)"
   ]
  },
  {
   "cell_type": "markdown",
   "id": "1e7ed93d",
   "metadata": {},
   "source": [
    "## MR"
   ]
  },
  {
   "cell_type": "code",
   "execution_count": null,
   "id": "9db581e2",
   "metadata": {},
   "outputs": [],
   "source": [
    "K2440.output(1)\n",
    "sleep(2)\n",
    "magnet_y.field(-0.1)\n",
    "sleep(5)\n",
    "#K2440.output(1)\n",
    "appl_current(1e-7)\n",
    "sleep(5)\n",
    "\n",
    "# station.snapshot(update=True);\n",
    "\n",
    "exp = qc.new_experiment('I vs By_MR', sample_name='072_14IVf_25_24_29_29_By_+-0.1T_MR_for')\n",
    "\n",
    "dataid = do1d(magnet_y.field, -0.1, 0.1, 71 , 1, meas_voltage_K2)\n",
    "\n",
    "appl_current(0)\n",
    "K2440.output(0)\n",
    "#K2440.output(0)\n",
    "magnet_y.field(0)\n",
    "\n",
    "plot_by_id(dataid)"
   ]
  },
  {
   "cell_type": "markdown",
   "id": "55fd3a3b",
   "metadata": {},
   "source": [
    "## IV w/Bz"
   ]
  },
  {
   "cell_type": "code",
   "execution_count": null,
   "id": "e76653c7",
   "metadata": {},
   "outputs": [],
   "source": [
    "K2440.output(1)\n",
    "DMM6500.averaging_count(10)\n",
    "#DMM6500.averaging_enabled(False)\n",
    "\n",
    "sleep(2)\n",
    "magnet_z.field(0e-3)\n",
    "appl_current(-2e-7)\n",
    "sleep(30)\n",
    "\n",
    "# station.snapshot(update=True);\n",
    "exp = qc.new_experiment('I vs V', sample_name='IV_w/_f_Bz@0mT_forward_Avg10')\n",
    "\n",
    "#do1d(param_set, start, stop, num_points, delay, *param_meas)\n",
    "dataid = do1d(appl_current, -2e-7 ,2e-7, 201, 0.05, meas_voltage_K2)\n",
    "# dataid = do1d(appl_current, 6e-6 , -6e-6, 251, 0.01, meas_voltage_K1)\n",
    "# ivvi.set_dacs_zero()\n",
    "\n",
    "appl_current(0)\n",
    "plot_by_id(dataid)\n",
    "# print(get_R_from_IV(dataid))\n",
    "#print(get_R_from_IV_2(dataid))\n",
    "\n",
    "K2440.output(0)"
   ]
  },
  {
   "cell_type": "markdown",
   "id": "d0274abc",
   "metadata": {},
   "source": [
    "# Zero everything"
   ]
  },
  {
   "cell_type": "code",
   "execution_count": null,
   "id": "a0cc99f2",
   "metadata": {},
   "outputs": [],
   "source": [
    "appl_current(0)\n",
    "appl_TG(0)\n",
    "magnet_y.field(0)\n",
    "sleep(5)\n",
    "magnet_x.field(0)\n",
    "sleep(5)\n",
    "magnet_z.field(0)\n",
    "sleep(5)\n",
    "#appl_voltage_AC(0.004)\n",
    "#SGS.off()\n",
    "K2440.output(0)"
   ]
  },
  {
   "cell_type": "code",
   "execution_count": null,
   "id": "cb8bf175",
   "metadata": {},
   "outputs": [],
   "source": [
    "appl_current(0)"
   ]
  },
  {
   "cell_type": "markdown",
   "id": "6610bce1",
   "metadata": {},
   "source": [
    "# Gate simple sweeps"
   ]
  },
  {
   "cell_type": "markdown",
   "id": "c010fbad",
   "metadata": {},
   "source": [
    "## 加TG (2D)"
   ]
  },
  {
   "cell_type": "code",
   "execution_count": null,
   "id": "6d7e9bf6",
   "metadata": {},
   "outputs": [],
   "source": [
    "appl_current(0)\n",
    "sleep(1)\n",
    "appl_TG(0)\n",
    "sleep(5)"
   ]
  },
  {
   "cell_type": "code",
   "execution_count": null,
   "id": "be01663b",
   "metadata": {},
   "outputs": [],
   "source": [
    "magnet_x.field(-0.044e-3)\n",
    "sleep(10)\n",
    "magnet_y.field(-6.016e-3)\n",
    "sleep(10)"
   ]
  },
  {
   "cell_type": "code",
   "execution_count": null,
   "id": "5397630e",
   "metadata": {},
   "outputs": [],
   "source": [
    "K2440.output(1)\n",
    "K2440.output(1)\n",
    "appl_TG(-30)\n",
    "sleep(5)\n",
    "appl_current(-1.5e-8)\n",
    "sleep(1)\n",
    "\n",
    "exp = qc.new_experiment('I_vs_Vgate_up', sample_name='33_32_30_31_1M_TG21')\n",
    "dataid = do2d(appl_TG, -30, 30, 301, 0.5, appl_current, -1.5e-8, 1.5e-8, 101, 0.1, meas_voltage_K2)\n",
    "\n",
    "appl_TG(0)\n",
    "sleep(5)\n",
    "appl_current(0e-7)\n",
    "sleep(5)\n",
    "\n",
    "K2440.output(0)\n",
    "K2440.output(0)\n",
    "\n",
    "plot_by_id(dataid)"
   ]
  },
  {
   "cell_type": "markdown",
   "id": "5375fb6f",
   "metadata": {},
   "source": [
    "# RF"
   ]
  },
  {
   "cell_type": "markdown",
   "id": "596beaf8",
   "metadata": {},
   "source": [
    "## I vs RF_f"
   ]
  },
  {
   "cell_type": "markdown",
   "id": "a6df9a13",
   "metadata": {},
   "source": [
    "### sensitive check"
   ]
  },
  {
   "cell_type": "code",
   "execution_count": null,
   "id": "017ed644",
   "metadata": {},
   "outputs": [],
   "source": [
    "SGS.power()\n",
    "SGS.frequency()"
   ]
  },
  {
   "cell_type": "code",
   "execution_count": null,
   "id": "e0b8db4e",
   "metadata": {},
   "outputs": [],
   "source": [
    "SGS.on()"
   ]
  },
  {
   "cell_type": "code",
   "execution_count": null,
   "id": "cc145b47",
   "metadata": {},
   "outputs": [],
   "source": [
    "SGS.off()"
   ]
  },
  {
   "cell_type": "code",
   "execution_count": null,
   "id": "6141349d",
   "metadata": {},
   "outputs": [],
   "source": [
    "magnet_x.field(0.4e-3)\n",
    "sleep(10)\n",
    "magnet_y.field(2.53e-3)\n",
    "sleep(10)"
   ]
  },
  {
   "cell_type": "code",
   "execution_count": null,
   "id": "2fd35fd0",
   "metadata": {},
   "outputs": [],
   "source": [
    "DMM6500.averaging_count(5)\n",
    "DMM6500.averaging_enabled(False)"
   ]
  },
  {
   "cell_type": "markdown",
   "id": "2d27c6f3",
   "metadata": {},
   "source": [
    "### I vs RF_f (1D)"
   ]
  },
  {
   "cell_type": "code",
   "execution_count": null,
   "id": "c3ec00d7",
   "metadata": {
    "scrolled": false
   },
   "outputs": [],
   "source": [
    "SGS.off()\n",
    "exp = qc.new_experiment('I-RF_f', sample_name='103-06_J2_12-13-14-15_1M_@0mT')\n",
    "SGS.power(0)\n",
    "SGS.frequency(0.1e9)\n",
    "SGS.on()\n",
    "sleep(1)\n",
    "DMM6500.averaging_count(5)\n",
    "DMM6500.averaging_enabled(False)\n",
    "K2440.output(1)\n",
    "\n",
    "appl_current(0.4e-6)\n",
    "#appl_TG(10)\n",
    "# magnet_x.field(0.4e-3)\n",
    "# magnet_y.field(2.53e-3)\n",
    "\n",
    "dataid = do1d(SGS.frequency, 11.4e9, 12.2e9, 201, 0.1, meas_voltage_K2)\n",
    "appl_current(0)\n",
    "SGS.off()\n",
    "K2440.output(0)\n",
    "plot_by_id(dataid)\n"
   ]
  },
  {
   "cell_type": "markdown",
   "id": "3e250e53",
   "metadata": {},
   "source": [
    "### I vs RF_f (2D)"
   ]
  },
  {
   "cell_type": "code",
   "execution_count": null,
   "id": "3734095d",
   "metadata": {},
   "outputs": [],
   "source": [
    "SGS.off()"
   ]
  },
  {
   "cell_type": "code",
   "execution_count": null,
   "id": "ccc9ea2f",
   "metadata": {},
   "outputs": [],
   "source": [
    "SGS.off()\n",
    "SGS.power(0)\n",
    "SGS.frequency(0.1e9)\n",
    "SGS.on()\n",
    "DMM6500.averaging_count(1)\n",
    "DMM6500.averaging_enabled(False)\n",
    "K2440.output(1)\n",
    "\n",
    "I_range = 8e-6\n",
    "appl_current(-I_range)\n",
    "#appl_TG(-10)\n",
    "# magnet_x.field(0.4e-3)\n",
    "# magnet_y.field(2.53e-3)\n",
    "# sleep(1)\n",
    "\n",
    "# station.snapshot(update=True);\n",
    "exp = qc.new_experiment('IV-RF_f', sample_name=f'103-03_J2_27-26-30-31M(32G-33G-28G-29G)_1M_RF@0dBm_By@0.1mT')\n",
    "\n",
    "#do1d(param_set, start, stop, num_points, delay, *param_meas)\n",
    "dataid = do2d(SGS.frequency, 1e9, 20e9, 191, 0.0001, appl_current,-I_range ,I_range, 201, 0.0001, meas_voltage_K2)\n",
    "# dataid = do1d(appl_current, 6e-6 , -6e-6, 251, 0.01, meas_voltage_K1)\n",
    "# ivvi.set_dacs_zero()\n",
    "K2440.output(0)\n",
    "SGS.off()\n",
    "appl_current(0)\n",
    "plot_by_id(dataid)\n",
    "save_path = r\"D:\\data\\Albert\\103\\Plot\\104_{}.png\".format(dataid)  # Path to save the plot image\n",
    "autosave_plot_by_id(dataid, save_path)"
   ]
  },
  {
   "cell_type": "code",
   "execution_count": null,
   "id": "3426a3bd",
   "metadata": {},
   "outputs": [],
   "source": [
    "SGS.off()\n",
    "SGS.power(20)\n",
    "SGS.frequency(0.1e9)\n",
    "SGS.on()\n",
    "DMM6500.averaging_count(1)\n",
    "DMM6500.averaging_enabled(False)\n",
    "K2440.output(1)\n",
    "\n",
    "I_range = 6e-6\n",
    "appl_current(-I_range)\n",
    "#appl_TG(-10)\n",
    "# magnet_x.field(0.4e-3)\n",
    "# magnet_y.field(2.53e-3)\n",
    "# sleep(1)\n",
    "\n",
    "# station.snapshot(update=True);\n",
    "exp = qc.new_experiment('IV-RF_f', sample_name=f'103-03_J2_27-26-30-31M(32G-33G-28G-29G)_1M_RF@-10dBm_By@0.1mT')\n",
    "\n",
    "#do1d(param_set, start, stop, num_points, delay, *param_meas)\n",
    "dataid = do2d(SGS.frequency, 1e9, 20e9, 191, 0.0001, appl_current,-I_range ,I_range, 201, 0.0001, meas_voltage_K2)\n",
    "# dataid = do1d(appl_current, 6e-6 , -6e-6, 251, 0.01, meas_voltage_K1)\n",
    "# ivvi.set_dacs_zero()\n",
    "K2440.output(0)\n",
    "SGS.off()\n",
    "appl_current(0)\n",
    "plot_by_id(dataid)\n",
    "save_path = r\"D:\\data\\Albert\\103\\Plot\\104_{}.png\".format(dataid)  # Path to save the plot image\n",
    "autosave_plot_by_id(dataid, save_path)"
   ]
  },
  {
   "cell_type": "code",
   "execution_count": null,
   "id": "9f9dbd53",
   "metadata": {},
   "outputs": [],
   "source": [
    "SGS.off()\n",
    "SGS.power(20)\n",
    "SGS.frequency(5.9e9)\n",
    "SGS.on()\n",
    "DMM6500.averaging_count(1)\n",
    "DMM6500.averaging_enabled(False)\n",
    "K2440.output(1)\n",
    "\n",
    "I_range = 6e-6\n",
    "appl_current(-I_range)\n",
    "#appl_TG(-10)\n",
    "# magnet_x.field(0.4e-3)\n",
    "# magnet_y.field(2.53e-3)\n",
    "# sleep(1)\n",
    "\n",
    "# station.snapshot(update=True);\n",
    "exp = qc.new_experiment('IV-RF_f', sample_name=f'103-03_J2_27-26-30-31M(32G-33G-28G-29G)_1M_RF@20dBm_By@0.1mT')\n",
    "\n",
    "#do1d(param_set, start, stop, num_points, delay, *param_meas)\n",
    "dataid = do2d(SGS.frequency, 5.9e9, 6.0e9, 251, 0.0001, appl_current,-I_range ,I_range, 501, 0.0001, meas_voltage_K2)\n",
    "# dataid = do1d(appl_current, 6e-6 , -6e-6, 251, 0.01, meas_voltage_K1)\n",
    "# ivvi.set_dacs_zero()\n",
    "K2440.output(0)\n",
    "SGS.off()\n",
    "appl_current(0)\n",
    "plot_by_id(dataid)\n",
    "save_path = r\"D:\\data\\Albert\\103\\Plot\\104_{}.png\".format(dataid)  # Path to save the plot image\n",
    "autosave_plot_by_id(dataid, save_path)\n"
   ]
  },
  {
   "cell_type": "code",
   "execution_count": null,
   "id": "862b770b",
   "metadata": {},
   "outputs": [],
   "source": [
    "SGS.off()\n",
    "SGS.power(20)\n",
    "SGS.frequency(5.535e9)\n",
    "SGS.on()\n",
    "DMM6500.averaging_count(1)\n",
    "DMM6500.averaging_enabled(False)\n",
    "K2440.output(1)\n",
    "\n",
    "I_range = 6e-6\n",
    "appl_current(-I_range)\n",
    "#appl_TG(-10)\n",
    "# magnet_x.field(0.4e-3)\n",
    "# magnet_y.field(2.53e-3)\n",
    "# sleep(1)\n",
    "\n",
    "# station.snapshot(update=True);\n",
    "exp = qc.new_experiment('IV-RF_f', sample_name=f'103-03_J2_27-26-30-31M(32G-33G-28G-29G)_1M_RF@20dBm_By@0.1mT')\n",
    "\n",
    "#do1d(param_set, start, stop, num_points, delay, *param_meas)\n",
    "dataid = do2d(SGS.frequency, 5.535e9, 5.585e9, 251, 0.0001, appl_current,-I_range ,I_range, 501, 0.0001, meas_voltage_K2)\n",
    "# dataid = do1d(appl_current, 6e-6 , -6e-6, 251, 0.01, meas_voltage_K1)\n",
    "# ivvi.set_dacs_zero()\n",
    "K2440.output(0)\n",
    "SGS.off()\n",
    "appl_current(0)\n",
    "plot_by_id(dataid)\n",
    "save_path = r\"D:\\data\\Albert\\103\\Plot\\104_{}.png\".format(dataid)  # Path to save the plot image\n",
    "autosave_plot_by_id(dataid, save_path)\n"
   ]
  },
  {
   "cell_type": "code",
   "execution_count": null,
   "id": "d76f7ea2",
   "metadata": {},
   "outputs": [],
   "source": [
    "SGS.off()\n",
    "SGS.power(20)\n",
    "SGS.frequency(0.1e9)\n",
    "SGS.on()\n",
    "DMM6500.averaging_count(1)\n",
    "DMM6500.averaging_enabled(False)\n",
    "K2440.output(1)\n",
    "\n",
    "I_range = 6e-6\n",
    "appl_current(-I_range)\n",
    "SGS_power = SGS.power()\n",
    "#appl_TG(-10)\n",
    "# magnet_x.field(0.4e-3)\n",
    "# magnet_y.field(2.53e-3)\n",
    "# sleep(1)\n",
    "\n",
    "# station.snapshot(update=True);\n",
    "exp = qc.new_experiment('IV-RF_f', sample_name=f'103-03_J2_27-26-30-31M(32G-33G-28G-29G)_1M_RF@{SGS_power}dBm_By@0.1mT')\n",
    "\n",
    "#do1d(param_set, start, stop, num_points, delay, *param_meas)\n",
    "dataid = do2d(SGS.frequency, 3.9e9, 6.9e9, 301, 0.0001, appl_current,-I_range ,I_range, 251, 0.0001, meas_voltage_K2)\n",
    "# dataid = do1d(appl_current, 6e-6 , -6e-6, 251, 0.01, meas_voltage_K1)\n",
    "# ivvi.set_dacs_zero()\n",
    "K2440.output(0)\n",
    "SGS.off()\n",
    "appl_current(0)\n",
    "plot_by_id(dataid)\n",
    "save_path = r\"D:\\data\\Albert\\103\\Plot\\104_{}.png\".format(dataid)  # Path to save the plot image\n",
    "autosave_plot_by_id(dataid, save_path)"
   ]
  },
  {
   "cell_type": "code",
   "execution_count": null,
   "id": "28992f6f",
   "metadata": {},
   "outputs": [],
   "source": [
    "appl_current(0)\n",
    "#appl_TG(0)\n",
    "magnet_y.field(0)\n",
    "sleep(2)\n",
    "magnet_x.field(0)\n",
    "sleep(2)\n",
    "#appl_voltage_AC(0.004)\n",
    "SGS.off()"
   ]
  },
  {
   "cell_type": "markdown",
   "id": "65c9a40a",
   "metadata": {},
   "source": [
    "## IV vs RF_f"
   ]
  },
  {
   "cell_type": "markdown",
   "id": "b285efb3",
   "metadata": {},
   "source": [
    "### Shapiro steps "
   ]
  },
  {
   "cell_type": "code",
   "execution_count": null,
   "id": "3a180ee1",
   "metadata": {
    "scrolled": true
   },
   "outputs": [],
   "source": [
    "SGS.off()\n",
    "SGS.power(-10)\n",
    "SGS.frequency(11.725e9)\n",
    "SGS.on()\n",
    "DMM6500.averaging_count(5)\n",
    "DMM6500.averaging_enabled(False)\n",
    "K2440.output(1)\n",
    "\n",
    "appl_current(-2e-7)\n",
    "#appl_TG(-10)\n",
    "#magnet_x.field(0.23e-3)\n",
    "#magnet_y.field(1.41e-3)\n",
    "# sleep(1)\n",
    "\n",
    "# station.snapshot(update=True);\n",
    "exp = qc.new_experiment('IV-RF_f', sample_name=f'103-03_J2_27-26-30-31M(32G-33G-28G-29G)_1M_By@0.1mT{-I_range}')\n",
    "\n",
    "#do1d(param_set, start, stop, num_points, delay, *param_meas)\"\"\n",
    "dataid = do1d(appl_current,-2e-7 ,2e-7, 101, 0.05,  meas_voltage_K2)\n",
    "# dataid = do1d(appl_current, 6e-6 , -6e-6, 251, 0.01, meas_voltage_K1)\n",
    "# ivvi.set_dacs_zero()\n",
    "K2440.output(0)\n",
    "SGS.off()\n",
    "appl_current(0)\n",
    "plot_by_id(dataid)\n",
    "# print(get_R_from_IV(dataid))\n",
    "#print(get_R_from_IV_2(dataid))"
   ]
  },
  {
   "cell_type": "code",
   "execution_count": null,
   "id": "51fe069b",
   "metadata": {},
   "outputs": [],
   "source": [
    "SGS.off()\n",
    "SGS.power(0)\n",
    "SGS.frequency(3.87e9)\n",
    "SGS.on()\n",
    "DMM6500.averaging_count(5)\n",
    "DMM6500.averaging_enabled(False)\n",
    "K2440.output(1)\n",
    "\n",
    "appl_current(-1.2e-6)\n",
    "#appl_TG(-10)\n",
    "magnet_y.field(-10e-3)\n",
    "\n",
    "#magnet_y.field(1.41e-3)\n",
    "# sleep(1)\n",
    "\n",
    "# station.snapshot(update=True);\n",
    "exp = qc.new_experiment('Bx vs RF_f', sample_name='By vs RF_f_J2_3.87_-10dB')\n",
    "\n",
    "#do1d(param_set, start, stop, num_points, delay, *param_meas)\"\"\n",
    "dataid = do2d(magnet_y.field, -10e-3, 10e-3,701, 1, appl_current,-1.2e-6 ,1.2e-6, 101, 0.05,  meas_voltage_K2)\n",
    "# dataid = do1d(appl_current, 6e-6 , -6e-6, 251, 0.01, meas_voltage_K1)\n",
    "# ivvi.set_dacs_zero()\n",
    "K2440.output(0)\n",
    "SGS.off()\n",
    "appl_current(0)\n",
    "plot_by_id(dataid)\n",
    "# print(get_R_from_IV(dataid))\n",
    "#print(get_R_from_IV_2(dataid))"
   ]
  },
  {
   "cell_type": "code",
   "execution_count": null,
   "id": "5488e4c5",
   "metadata": {},
   "outputs": [],
   "source": [
    "appl_current(0)\n",
    "#appl_TG(0)\n",
    "magnet_y.field(0)\n",
    "sleep(10)\n",
    "magnet_x.field(0)\n",
    "sleep(10)\n",
    "#appl_voltage_AC(0.004)\n",
    "SGS.off()"
   ]
  },
  {
   "cell_type": "markdown",
   "id": "04e50dcd",
   "metadata": {},
   "source": [
    "## IV vs Power Dependence"
   ]
  },
  {
   "cell_type": "code",
   "execution_count": null,
   "id": "0368ef58",
   "metadata": {},
   "outputs": [],
   "source": [
    "SGS.off()"
   ]
  },
  {
   "cell_type": "code",
   "execution_count": null,
   "id": "3d6eab35",
   "metadata": {},
   "outputs": [],
   "source": [
    "SGS.power(-40)"
   ]
  },
  {
   "cell_type": "code",
   "execution_count": null,
   "id": "d760383a",
   "metadata": {},
   "outputs": [],
   "source": [
    "SGS.off()"
   ]
  },
  {
   "cell_type": "code",
   "execution_count": null,
   "id": "f0984a37",
   "metadata": {
    "scrolled": true
   },
   "outputs": [],
   "source": [
    "SGS.off()\n",
    "SGS.power(-20)\n",
    "SGS.frequency(5.9534e9)\n",
    "SGS_frequency = SGS.frequency()\n",
    "SGS.on()\n",
    "DMM6500.averaging_count(3)\n",
    "DMM6500.averaging_enabled(False)\n",
    "K2440.output(1)\n",
    "\n",
    "#magnet_x.field(15e-3)\n",
    "#sleep(5)\n",
    "I_range = 6e-6\n",
    "appl_current(-I_range)\n",
    "#appl_TG(-30)\n",
    "sleep(2)\n",
    "\n",
    "# station.snapshot(update=True);\n",
    "exp = qc.new_experiment('IV-RF_p', sample_name=f'103-03_J2_27-26-30-31M(32G-33G-28G-29G)_1M_RF@{SGS_frequency*1e-9:.4f}GHz_By@0.1mT')\n",
    "\n",
    "#do1d(param_set, start, stop, num_points, delay, *param_meas)\n",
    "\n",
    "dataid = do2d(SGS.power,10, 15, 51, 0.1, appl_current,-I_range ,I_range, 301, 0.00001, meas_voltage_K2)\n",
    "# dataid = do1d(appl_current, 6e-6 , -6e-6, 251, 0.01, meas_voltage_K1)\n",
    "# ivvi.set_dacs_zero()\n",
    "\n",
    "SGS.off()\n",
    "appl_current(0)\n",
    "K2440.output()\n",
    "plot_by_id(dataid)\n",
    "\n",
    "# print(get_R_from_IV(dataid))\n",
    "print(get_R_from_IV_2(dataid))"
   ]
  },
  {
   "cell_type": "code",
   "execution_count": null,
   "id": "de3fc621",
   "metadata": {},
   "outputs": [],
   "source": [
    "SGS.off()\n",
    "SGS.power(-25)\n",
    "SGS.frequency(5.226e9)\n",
    "SGS.on()\n",
    "DMM6500.averaging_count(5)\n",
    "DMM6500.averaging_enabled(True)\n",
    "K2440.output(1)\n",
    "\n",
    "magnet_y.field(-8e-3)\n",
    "sleep(60)\n",
    "appl_current(-2e-7)\n",
    "#appl_TG(-30)\n",
    "sleep(2)\n",
    "\n",
    "# station.snapshot(update=True);\n",
    "exp = qc.new_experiment('IV vs power dependence', sample_name='IV vs PD_5.226_By:-8mT')\n",
    "\n",
    "#do1d(param_set, start, stop, num_points, delay, *param_meas)\n",
    "\n",
    "dataid = do2d(SGS.power,-25, 10, 101, 20, appl_current,-2e-7 ,2e-7, 101, 0.05, meas_voltage_K2)\n",
    "# dataid = do1d(appl_current, 6e-6 , -6e-6, 251, 0.01, meas_voltage_K1)\n",
    "# ivvi.set_dacs_zero()\n",
    "\n",
    "SGS.off()\n",
    "appl_current(0)\n",
    "K2440.output()\n",
    "plot_by_id(dataid)\n",
    "\n",
    "# print(get_R_from_IV(dataid))\n",
    "print(get_R_from_IV_2(dataid))"
   ]
  },
  {
   "cell_type": "markdown",
   "id": "13e12840",
   "metadata": {},
   "source": [
    "### PD vs frequency_IV loop (not yet)"
   ]
  },
  {
   "cell_type": "code",
   "execution_count": null,
   "id": "8659ae09",
   "metadata": {
    "code_folding": []
   },
   "outputs": [],
   "source": [
    "frequencies = [3.248, 3.387, 5.677]\n",
    "power_levels = [-20, 0, 25]\n",
    "     \n",
    "SGS.off()\n",
    "SGS.power(-20)\n",
    "SGS.frequency(3.387e9)\n",
    "SGS.on()\n",
    "DMM6500.averaging_count(5)\n",
    "DMM6500.averaging_enabled(True)\n",
    "K2440.output(1)\n",
    "\n",
    "appl_current(-2e-6)\n",
    "#appl_TG(-10)\n",
    "sleep(1)\n",
    "\n",
    "for freq in frequencies:\n",
    "    SGS.frequency(freq)\n",
    "    for power_level in power_levels:\n",
    "        SGS.power(power_level)\n",
    "\n",
    "# station.snapshot(update=True);\n",
    "exp = qc.new_experiment('IV vs power dependence', sample_name='IV vs PD_J2_3.387_m20')\n",
    "dataid = do2d(SGS.power, 4, 8, 100, 2, appl_current, -1e-6, 1e-6, 101, 0.05, meas_voltage_K2)\n",
    "\n",
    " # 關閉設備，並在需要時列印或繪製結果\n",
    "SGS.off()\n",
    "appl_current(0)\n",
    "K2440.output()\n",
    "plot_by_id(dataid)\n",
    "    \n",
    "print(f\"頻率：{freq} Hz，功率水平：{power_level} dB\")\n",
    "print(get_R_from_IV_2(dataid))\n"
   ]
  },
  {
   "cell_type": "markdown",
   "id": "5c2101a5",
   "metadata": {},
   "source": [
    "## IV vs Vgate"
   ]
  },
  {
   "cell_type": "code",
   "execution_count": null,
   "id": "48eb3a89",
   "metadata": {},
   "outputs": [],
   "source": [
    "appl_current(0)\n",
    "appl_TG(0)\n",
    "magnet_y.field(0)\n",
    "sleep(10)\n",
    "magnet_x.field(0)\n",
    "sleep(10)\n",
    "appl_voltage_AC(0.004)\n",
    "SGS.off()"
   ]
  },
  {
   "cell_type": "code",
   "execution_count": null,
   "id": "5deaef19",
   "metadata": {},
   "outputs": [],
   "source": [
    "SGS.off()\n",
    "SGS.power(25)\n",
    "SGS.frequency(4.83e9)\n",
    "SGS.on()\n",
    "DMM6500.averaging_count(5)\n",
    "DMM6500.averaging_enabled(True)\n",
    "appl_current(-0.4e-7)\n",
    "appl_current_AC(0.1e-10)\n",
    "\n",
    "appl_TG(-10)\n",
    "sleep(1)\n",
    "\n",
    "# station.snapshot(update=True);\n",
    "exp = qc.new_experiment('IV vs Vgate', sample_name='IV vs Vg')\n",
    "\n",
    "dataid = do2d(appl_TG, -10, 10, 751, 0.5, appl_current, -0.4e-7, 0.4e-7, 101, 0.01, meas_voltage_AC_L1, meas_voltage_AC_L1_P, meas_voltage_K2)\n",
    "# dataid = do1d(appl_current, 6e-6 , -6e-6, 251, 0.01, meas_voltage_K1)\n",
    "# ivvi.set_dacs_zero()\n",
    "SGS.off()\n",
    "appl_current(0)\n",
    "plot_by_id(dataid)\n",
    "# print(get_R_from_IV(dataid))\n",
    "#print(get_R_from_IV_2(dataid))"
   ]
  },
  {
   "cell_type": "code",
   "execution_count": null,
   "id": "6bbd39fb",
   "metadata": {},
   "outputs": [],
   "source": [
    "appl_current(0)\n",
    "appl_TG(0)\n",
    "magnet_y.field(0)\n",
    "sleep(10)\n",
    "magnet_x.field(0)\n",
    "sleep(10)\n",
    "appl_voltage_AC(0.004)\n",
    "SGS.off()"
   ]
  },
  {
   "cell_type": "code",
   "execution_count": null,
   "id": "00d4b770",
   "metadata": {},
   "outputs": [],
   "source": [
    "import matplotlib.pyplot as plt\n",
    "import numpy as np\n",
    "\n",
    "# Constants\n",
    "k = 8.617333262145e-5  # Boltzmann constant in eV/K\n",
    "E_a = 0.5  # Example value for the activation energy in eV\n",
    "p_0 = 1.0  # Example value for p0\n",
    "\n",
    "# Create an array of temperatures from 100 to 1000 K\n",
    "temperatures = np.linspace(100, 1000, 50)\n",
    "\n",
    "# Calculate 1/T\n",
    "inverse_temperatures = 1 / temperatures\n",
    "\n",
    "# Calculate ln(p)\n",
    "ln_p = np.log(p_0) - (E_a / k) * inverse_temperatures\n",
    "\n",
    "# Plotting\n",
    "plt.figure(figsize=(8, 6))\n",
    "plt.plot(inverse_temperatures, ln_p, marker='o', linestyle='-')\n",
    "plt.xlabel('1/T (1/K)')\n",
    "plt.ylabel('ln(p)')\n",
    "plt.title('ln(p) vs 1/T for Hole Concentration')\n",
    "plt.grid(True)\n",
    "plt.show()\n"
   ]
  },
  {
   "cell_type": "code",
   "execution_count": null,
   "id": "f610e7bc",
   "metadata": {},
   "outputs": [],
   "source": []
  }
 ],
 "metadata": {
  "kernelspec": {
   "display_name": "qcodes",
   "language": "python",
   "name": "python3"
  },
  "language_info": {
   "codemirror_mode": {
    "name": "ipython",
    "version": 3
   },
   "file_extension": ".py",
   "mimetype": "text/x-python",
   "name": "python",
   "nbconvert_exporter": "python",
   "pygments_lexer": "ipython3",
   "version": "3.11.3"
  },
  "toc": {
   "base_numbering": 1,
   "nav_menu": {},
   "number_sections": true,
   "sideBar": false,
   "skip_h1_title": false,
   "title_cell": "Table of Contents",
   "title_sidebar": "Contents",
   "toc_cell": false,
   "toc_position": {
    "height": "783px",
    "left": "260px",
    "top": "67.125px",
    "width": "182px"
   },
   "toc_section_display": true,
   "toc_window_display": true
  }
 },
 "nbformat": 4,
 "nbformat_minor": 5
}
